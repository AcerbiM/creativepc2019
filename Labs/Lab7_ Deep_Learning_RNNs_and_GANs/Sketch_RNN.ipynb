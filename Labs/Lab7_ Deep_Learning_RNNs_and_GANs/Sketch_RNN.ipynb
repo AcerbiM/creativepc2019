{
  "nbformat": 4,
  "nbformat_minor": 0,
  "metadata": {
    "kernelspec": {
      "name": "python2",
      "display_name": "Python 2"
    },
    "colab": {
      "name": "Sketch_RNN.ipynb",
      "provenance": []
    }
  },
  "cells": [
    {
      "cell_type": "markdown",
      "metadata": {
        "id": "BD10qsS5M32C",
        "colab_type": "text"
      },
      "source": [
        "# Imports"
      ]
    },
    {
      "cell_type": "code",
      "metadata": {
        "id": "DjvOdYOjMZ_b",
        "colab_type": "code",
        "colab": {
          "base_uri": "https://localhost:8080/",
          "height": 63
        },
        "outputId": "f21dcfb7-bc8a-4f39-c349-7d03c8c61d81"
      },
      "source": [
        "# import the required libraries\n",
        "import numpy as np\n",
        "# save np.load\n",
        "np_load_old = np.load\n",
        "# modify the default parameters of np.load\n",
        "np.load = lambda *a,**k: np_load_old(*a, allow_pickle=True, **k)\n",
        "\n",
        "import time\n",
        "import random\n",
        "import  cPickle\n",
        "import codecs\n",
        "import collections\n",
        "import os\n",
        "import math\n",
        "import json\n",
        "import tensorflow as tf\n",
        "from six.moves import xrange"
      ],
      "execution_count": 1,
      "outputs": [
        {
          "output_type": "display_data",
          "data": {
            "text/plain": [
              "<IPython.core.display.HTML object>"
            ],
            "text/html": [
              "<p style=\"color: red;\">\n",
              "The default version of TensorFlow in Colab will soon switch to TensorFlow 2.x.<br>\n",
              "We recommend you <a href=\"https://www.tensorflow.org/guide/migrate\" target=\"_blank\">upgrade</a> now \n",
              "or ensure your notebook will continue to use TensorFlow 1.x via the <code>%tensorflow_version 1.x</code> magic:\n",
              "<a href=\"https://colab.research.google.com/notebooks/tensorflow_version.ipynb\" target=\"_blank\">more info</a>.</p>\n"
            ]
          },
          "metadata": {
            "tags": []
          }
        }
      ]
    },
    {
      "cell_type": "code",
      "metadata": {
        "id": "LGKq37TOM6f9",
        "colab_type": "code",
        "colab": {}
      },
      "source": [
        "# libraries required for visualisation:\n",
        "from IPython.display import SVG, display\n",
        "import PIL\n",
        "from PIL import Image\n",
        "import matplotlib.pyplot as plt\n",
        "\n",
        "# set numpy output to something sensible\n",
        "np.set_printoptions(precision=8, edgeitems=6, linewidth=200, suppress=True)\n",
        "\n",
        "!pip install -qU svgwrite\n",
        "import svgwrite # conda install -c omnia svgwrite=1.1.6\n"
      ],
      "execution_count": 0,
      "outputs": []
    },
    {
      "cell_type": "code",
      "metadata": {
        "id": "c_q3OxSWNBiD",
        "colab_type": "code",
        "colab": {}
      },
      "source": [
        "tf.logging.info(\"TensorFlow Version: %s\", tf.__version__)\n"
      ],
      "execution_count": 0,
      "outputs": []
    },
    {
      "cell_type": "code",
      "metadata": {
        "id": "VMLgywarNDuZ",
        "colab_type": "code",
        "colab": {}
      },
      "source": [
        "!pip install -q magenta\n"
      ],
      "execution_count": 0,
      "outputs": []
    },
    {
      "cell_type": "code",
      "metadata": {
        "id": "sM_NVKTNNHyy",
        "colab_type": "code",
        "colab": {
          "base_uri": "https://localhost:8080/",
          "height": 292
        },
        "outputId": "eac4bc08-b33c-4d30-a1fa-56b08b9def01"
      },
      "source": [
        "# import our command line tools\n",
        "from magenta.models.sketch_rnn.sketch_rnn_train import *\n",
        "from magenta.models.sketch_rnn.model import *\n",
        "from magenta.models.sketch_rnn.utils import *\n",
        "from magenta.models.sketch_rnn.rnn import *"
      ],
      "execution_count": 5,
      "outputs": [
        {
          "output_type": "stream",
          "text": [
            "WARNING: Logging before flag parsing goes to stderr.\n",
            "W1203 10:10:16.003983 139777534314368 module_wrapper.py:139] From /usr/local/lib/python2.7/dist-packages/magenta/music/note_sequence_io.py:60: The name tf.python_io.TFRecordWriter is deprecated. Please use tf.io.TFRecordWriter instead.\n",
            "\n",
            "W1203 10:10:16.008564 139777534314368 lazy_loader.py:50] \n",
            "The TensorFlow contrib module will not be included in TensorFlow 2.0.\n",
            "For more information, please see:\n",
            "  * https://github.com/tensorflow/community/blob/master/rfcs/20180907-contrib-sunset.md\n",
            "  * https://github.com/tensorflow/addons\n",
            "  * https://github.com/tensorflow/io (for I/O related ops)\n",
            "If you depend on functionality not listed there, please file an issue.\n",
            "\n",
            "W1203 10:10:16.489525 139777534314368 module_wrapper.py:139] From /usr/local/lib/python2.7/dist-packages/magenta/models/sketch_rnn/sketch_rnn_train.py:35: The name tf.logging.set_verbosity is deprecated. Please use tf.compat.v1.logging.set_verbosity instead.\n",
            "\n",
            "W1203 10:10:16.494225 139777534314368 module_wrapper.py:139] From /usr/local/lib/python2.7/dist-packages/magenta/models/sketch_rnn/sketch_rnn_train.py:35: The name tf.logging.INFO is deprecated. Please use tf.compat.v1.logging.INFO instead.\n",
            "\n"
          ],
          "name": "stderr"
        }
      ]
    },
    {
      "cell_type": "code",
      "metadata": {
        "id": "6MAXD1SVNOBb",
        "colab_type": "code",
        "colab": {}
      },
      "source": [
        "# little function that displays vector images and saves them to .svg\n",
        "def draw_strokes(data, factor=0.05, svg_filename = '/tmp/sketch_rnn/svg/sample.svg'):\n",
        "  tf.gfile.MakeDirs(os.path.dirname(svg_filename))\n",
        "  min_x, max_x, min_y, max_y = get_bounds(data, factor)\n",
        "  dims = (50 + max_x - min_x, 50 + max_y - min_y)\n",
        "  dwg = svgwrite.Drawing(svg_filename, size=dims)\n",
        "  dwg.add(dwg.rect(insert=(0, 0), size=dims,fill='white'))\n",
        "  lift_pen = 1\n",
        "  abs_x = 25 - min_x \n",
        "  abs_y = 25 - min_y\n",
        "  p = \"M%s,%s \" % (abs_x, abs_y)\n",
        "  command = \"m\"\n",
        "  for i in xrange(len(data)):\n",
        "    if (lift_pen == 1):\n",
        "      command = \"m\"\n",
        "    elif (command != \"l\"):\n",
        "      command = \"l\"\n",
        "    else:\n",
        "      command = \"\"\n",
        "    x = float(data[i,0])/factor\n",
        "    y = float(data[i,1])/factor\n",
        "    lift_pen = data[i, 2]\n",
        "    p += command+str(x)+\",\"+str(y)+\" \"\n",
        "  the_color = \"black\"\n",
        "  stroke_width = 1\n",
        "  dwg.add(dwg.path(p).stroke(the_color,stroke_width).fill(\"none\"))\n",
        "  dwg.save()\n",
        "  display(SVG(dwg.tostring()))\n",
        "\n",
        "# generate a 2D grid of many vector drawings\n",
        "def make_grid_svg(s_list, grid_space=10.0, grid_space_x=16.0):\n",
        "  def get_start_and_end(x):\n",
        "    x = np.array(x)\n",
        "    x = x[:, 0:2]\n",
        "    x_start = x[0]\n",
        "    x_end = x.sum(axis=0)\n",
        "    x = x.cumsum(axis=0)\n",
        "    x_max = x.max(axis=0)\n",
        "    x_min = x.min(axis=0)\n",
        "    center_loc = (x_max+x_min)*0.5\n",
        "    return x_start-center_loc, x_end\n",
        "  x_pos = 0.0\n",
        "  y_pos = 0.0\n",
        "  result = [[x_pos, y_pos, 1]]\n",
        "  for sample in s_list:\n",
        "    s = sample[0]\n",
        "    grid_loc = sample[1]\n",
        "    grid_y = grid_loc[0]*grid_space+grid_space*0.5\n",
        "    grid_x = grid_loc[1]*grid_space_x+grid_space_x*0.5\n",
        "    start_loc, delta_pos = get_start_and_end(s)\n",
        "\n",
        "    loc_x = start_loc[0]\n",
        "    loc_y = start_loc[1]\n",
        "    new_x_pos = grid_x+loc_x\n",
        "    new_y_pos = grid_y+loc_y\n",
        "    result.append([new_x_pos-x_pos, new_y_pos-y_pos, 0])\n",
        "\n",
        "    result += s.tolist()\n",
        "    result[-1][2] = 1\n",
        "    x_pos = new_x_pos+delta_pos[0]\n",
        "    y_pos = new_y_pos+delta_pos[1]\n",
        "  return np.array(result)"
      ],
      "execution_count": 0,
      "outputs": []
    },
    {
      "cell_type": "markdown",
      "metadata": {
        "id": "OuH9ZtjUNTaC",
        "colab_type": "text"
      },
      "source": [
        "Paths"
      ]
    },
    {
      "cell_type": "code",
      "metadata": {
        "id": "7H4yWOXvNRsX",
        "colab_type": "code",
        "colab": {}
      },
      "source": [
        "data_dir = 'http://github.com/hardmaru/sketch-rnn-datasets/raw/master/aaron_sheep/'\n",
        "models_root_dir = '/tmp/sketch_rnn/models'\n",
        "model_dir = '/tmp/sketch_rnn/models/aaron_sheep/layer_norm'"
      ],
      "execution_count": 0,
      "outputs": []
    },
    {
      "cell_type": "code",
      "metadata": {
        "id": "Lq1_wAScNVzX",
        "colab_type": "code",
        "colab": {
          "base_uri": "https://localhost:8080/",
          "height": 122
        },
        "outputId": "92d99d79-e33c-416c-fb2a-f38f1f411c79"
      },
      "source": [
        "download_pretrained_models(models_root_dir=models_root_dir)\n"
      ],
      "execution_count": 8,
      "outputs": [
        {
          "output_type": "stream",
          "text": [
            "W1203 10:10:16.588601 139777534314368 module_wrapper.py:139] From /usr/local/lib/python2.7/dist-packages/magenta/models/sketch_rnn/sketch_rnn_train.py:98: The name tf.gfile.MakeDirs is deprecated. Please use tf.io.gfile.makedirs instead.\n",
            "\n",
            "I1203 10:10:16.590281 139777534314368 sketch_rnn_train.py:102] /tmp/sketch_rnn/models/sketch_rnn.zip already exists, using cached copy\n",
            "I1203 10:10:16.591299 139777534314368 sketch_rnn_train.py:108] Unzipping /tmp/sketch_rnn/models/sketch_rnn.zip...\n",
            "I1203 10:10:18.529443 139777534314368 sketch_rnn_train.py:111] Unzipping complete.\n"
          ],
          "name": "stderr"
        }
      ]
    },
    {
      "cell_type": "code",
      "metadata": {
        "id": "qhpzDJY-O3PS",
        "colab_type": "code",
        "colab": {}
      },
      "source": [
        "def load_env_compatible(data_dir, model_dir):\n",
        "  \"\"\"Loads environment for inference mode, used in jupyter notebook.\"\"\"\n",
        "  # modified https://github.com/tensorflow/magenta/blob/master/magenta/models/sketch_rnn/sketch_rnn_train.py\n",
        "  # to work with depreciated tf.HParams functionality\n",
        "  model_params = sketch_rnn_model.get_default_hparams()\n",
        "  with tf.gfile.Open(os.path.join(model_dir, 'model_config.json'), 'r') as f:\n",
        "    data = json.load(f)\n",
        "  fix_list = ['conditional', 'is_training', 'use_input_dropout', 'use_output_dropout', 'use_recurrent_dropout']\n",
        "  for fix in fix_list:\n",
        "    data[fix] = (data[fix] == 1)\n",
        "  model_params.parse_json(json.dumps(data))\n",
        "  return load_dataset(data_dir, model_params, inference_mode=True)\n",
        "\n",
        "def load_model_compatible(model_dir):\n",
        "  \"\"\"Loads model for inference mode, used in jupyter notebook.\"\"\"\n",
        "  # modified https://github.com/tensorflow/magenta/blob/master/magenta/models/sketch_rnn/sketch_rnn_train.py\n",
        "  # to work with depreciated tf.HParams functionality\n",
        "  model_params = sketch_rnn_model.get_default_hparams()\n",
        "  with tf.gfile.Open(os.path.join(model_dir, 'model_config.json'), 'r') as f:\n",
        "    data = json.load(f)\n",
        "  fix_list = ['conditional', 'is_training', 'use_input_dropout', 'use_output_dropout', 'use_recurrent_dropout']\n",
        "  for fix in fix_list:\n",
        "    data[fix] = (data[fix] == 1)\n",
        "  model_params.parse_json(json.dumps(data))\n",
        "\n",
        "  model_params.batch_size = 1  # only sample one at a time\n",
        "  eval_model_params = sketch_rnn_model.copy_hparams(model_params)\n",
        "  eval_model_params.use_input_dropout = 0\n",
        "  eval_model_params.use_recurrent_dropout = 0\n",
        "  eval_model_params.use_output_dropout = 0\n",
        "  eval_model_params.is_training = 0\n",
        "  sample_model_params = sketch_rnn_model.copy_hparams(eval_model_params)\n",
        "  sample_model_params.max_seq_len = 1  # sample one point at a time\n",
        "  return [model_params, eval_model_params, sample_model_params]"
      ],
      "execution_count": 0,
      "outputs": []
    },
    {
      "cell_type": "code",
      "metadata": {
        "id": "5AnIPy4IO6Kn",
        "colab_type": "code",
        "colab": {
          "base_uri": "https://localhost:8080/",
          "height": 153
        },
        "outputId": "7e7155e2-caa7-4c3c-fd05-430f96953bef"
      },
      "source": [
        "[train_set, valid_set, test_set, hps_model, eval_hps_model, sample_hps_model] = load_env_compatible(data_dir, model_dir)"
      ],
      "execution_count": 10,
      "outputs": [
        {
          "output_type": "stream",
          "text": [
            "I1203 10:10:25.339520 139777534314368 sketch_rnn_train.py:133] Downloading http://github.com/hardmaru/sketch-rnn-datasets/raw/master/aaron_sheep/aaron_sheep.npz\n",
            "I1203 10:10:25.963542 139777534314368 sketch_rnn_train.py:143] Loaded 7400/300/300 from aaron_sheep.npz\n",
            "I1203 10:10:26.313822 139777534314368 sketch_rnn_train.py:160] Dataset combined: 8000 (7400/300/300), avg len 125\n",
            "I1203 10:10:26.318569 139777534314368 sketch_rnn_train.py:167] model_params.max_seq_len 250.\n"
          ],
          "name": "stderr"
        },
        {
          "output_type": "stream",
          "text": [
            "total images <= max_seq_len is 7400\n"
          ],
          "name": "stdout"
        },
        {
          "output_type": "stream",
          "text": [
            "I1203 10:10:27.153487 139777534314368 sketch_rnn_train.py:210] normalizing_scale_factor 18.5198.\n"
          ],
          "name": "stderr"
        },
        {
          "output_type": "stream",
          "text": [
            "total images <= max_seq_len is 300\n",
            "total images <= max_seq_len is 300\n"
          ],
          "name": "stdout"
        }
      ]
    },
    {
      "cell_type": "code",
      "metadata": {
        "id": "xTdHVQSbPy2G",
        "colab_type": "code",
        "colab": {
          "base_uri": "https://localhost:8080/",
          "height": 1000
        },
        "outputId": "19c0bd64-73ec-46e9-e887-296ca8c12c1d"
      },
      "source": [
        "# construct the sketch-rnn model here:\n",
        "reset_graph()\n",
        "model = Model(hps_model)\n",
        "eval_model = Model(eval_hps_model, reuse=True)\n",
        "sample_model = Model(sample_hps_model, reuse=True)"
      ],
      "execution_count": 11,
      "outputs": [
        {
          "output_type": "stream",
          "text": [
            "W1203 10:12:34.922580 139777534314368 module_wrapper.py:139] From /usr/local/lib/python2.7/dist-packages/magenta/models/sketch_rnn/sketch_rnn_train.py:63: The name tf.get_default_session is deprecated. Please use tf.compat.v1.get_default_session instead.\n",
            "\n",
            "W1203 10:12:34.924624 139777534314368 module_wrapper.py:139] From /usr/local/lib/python2.7/dist-packages/magenta/models/sketch_rnn/sketch_rnn_train.py:66: The name tf.reset_default_graph is deprecated. Please use tf.compat.v1.reset_default_graph instead.\n",
            "\n",
            "W1203 10:12:34.926450 139777534314368 module_wrapper.py:139] From /usr/local/lib/python2.7/dist-packages/magenta/models/sketch_rnn/model.py:81: The name tf.variable_scope is deprecated. Please use tf.compat.v1.variable_scope instead.\n",
            "\n",
            "I1203 10:12:34.939027 139777534314368 model.py:87] Model using gpu.\n",
            "I1203 10:12:34.950804 139777534314368 model.py:175] Input dropout mode = False.\n",
            "I1203 10:12:34.952382 139777534314368 model.py:176] Output dropout mode = False.\n",
            "I1203 10:12:34.953712 139777534314368 model.py:177] Recurrent dropout mode = True.\n",
            "W1203 10:12:34.954956 139777534314368 module_wrapper.py:139] From /usr/local/lib/python2.7/dist-packages/magenta/models/sketch_rnn/model.py:190: The name tf.placeholder is deprecated. Please use tf.compat.v1.placeholder instead.\n",
            "\n",
            "W1203 10:12:34.966897 139777534314368 deprecation.py:323] From /usr/local/lib/python2.7/dist-packages/magenta/models/sketch_rnn/model.py:100: bidirectional_dynamic_rnn (from tensorflow.python.ops.rnn) is deprecated and will be removed in a future version.\n",
            "Instructions for updating:\n",
            "Please use `keras.layers.Bidirectional(keras.layers.RNN(cell))`, which is equivalent to this API\n",
            "W1203 10:12:34.968065 139777534314368 deprecation.py:323] From /usr/local/lib/python2.7/dist-packages/tensorflow_core/python/ops/rnn.py:464: dynamic_rnn (from tensorflow.python.ops.rnn) is deprecated and will be removed in a future version.\n",
            "Instructions for updating:\n",
            "Please use `keras.layers.RNN(cell)`, which is equivalent to this API\n",
            "W1203 10:12:35.059765 139777534314368 module_wrapper.py:139] From /usr/local/lib/python2.7/dist-packages/magenta/models/sketch_rnn/rnn.py:287: The name tf.get_variable is deprecated. Please use tf.compat.v1.get_variable instead.\n",
            "\n",
            "W1203 10:12:35.257009 139777534314368 module_wrapper.py:139] From /usr/local/lib/python2.7/dist-packages/magenta/models/sketch_rnn/rnn.py:139: The name tf.rsqrt is deprecated. Please use tf.math.rsqrt instead.\n",
            "\n",
            "W1203 10:12:35.283328 139777534314368 deprecation.py:506] From /usr/local/lib/python2.7/dist-packages/magenta/models/sketch_rnn/rnn.py:301: calling dropout (from tensorflow.python.ops.nn_ops) with keep_prob is deprecated and will be removed in a future version.\n",
            "Instructions for updating:\n",
            "Please use `rate` instead of `keep_prob`. Rate should be set to `rate = 1 - keep_prob`.\n",
            "W1203 10:12:35.325196 139777534314368 deprecation.py:323] From /usr/local/lib/python2.7/dist-packages/tensorflow_core/python/ops/rnn.py:244: where (from tensorflow.python.ops.array_ops) is deprecated and will be removed in a future version.\n",
            "Instructions for updating:\n",
            "Use tf.where in 2.0, which has the same broadcast rule as np.where\n",
            "W1203 10:12:35.668344 139777534314368 module_wrapper.py:139] From /usr/local/lib/python2.7/dist-packages/magenta/models/sketch_rnn/model.py:207: The name tf.random_normal is deprecated. Please use tf.random.normal instead.\n",
            "\n",
            "W1203 10:12:36.512168 139777534314368 module_wrapper.py:139] From /usr/local/lib/python2.7/dist-packages/magenta/models/sketch_rnn/model.py:256: The name tf.nn.xw_plus_b is deprecated. Please use tf.compat.v1.nn.xw_plus_b instead.\n",
            "\n",
            "W1203 10:12:36.533224 139777534314368 deprecation.py:323] From /usr/local/lib/python2.7/dist-packages/magenta/models/sketch_rnn/model.py:266: div (from tensorflow.python.ops.math_ops) is deprecated and will be removed in a future version.\n",
            "Instructions for updating:\n",
            "Deprecated in favor of operator or tf.math.divide.\n",
            "W1203 10:12:36.547068 139777534314368 deprecation.py:506] From /usr/local/lib/python2.7/dist-packages/magenta/models/sketch_rnn/model.py:285: calling reduce_sum_v1 (from tensorflow.python.ops.math_ops) with keep_dims is deprecated and will be removed in a future version.\n",
            "Instructions for updating:\n",
            "keep_dims is deprecated, use keepdims instead\n",
            "W1203 10:12:36.549741 139777534314368 module_wrapper.py:139] From /usr/local/lib/python2.7/dist-packages/magenta/models/sketch_rnn/model.py:286: The name tf.log is deprecated. Please use tf.math.log instead.\n",
            "\n",
            "W1203 10:12:36.559406 139777534314368 deprecation.py:323] From /usr/local/lib/python2.7/dist-packages/magenta/models/sketch_rnn/model.py:295: softmax_cross_entropy_with_logits (from tensorflow.python.ops.nn_ops) is deprecated and will be removed in a future version.\n",
            "Instructions for updating:\n",
            "\n",
            "Future major versions of TensorFlow will allow gradients to flow\n",
            "into the labels input on backprop by default.\n",
            "\n",
            "See `tf.nn.softmax_cross_entropy_with_logits_v2`.\n",
            "\n",
            "W1203 10:12:36.614845 139777534314368 module_wrapper.py:139] From /usr/local/lib/python2.7/dist-packages/magenta/models/sketch_rnn/model.py:351: The name tf.train.AdamOptimizer is deprecated. Please use tf.compat.v1.train.AdamOptimizer instead.\n",
            "\n",
            "I1203 10:12:38.040405 139777534314368 model.py:87] Model using gpu.\n",
            "I1203 10:12:38.041435 139777534314368 model.py:175] Input dropout mode = 0.\n",
            "I1203 10:12:38.046705 139777534314368 model.py:176] Output dropout mode = 0.\n",
            "I1203 10:12:38.048229 139777534314368 model.py:177] Recurrent dropout mode = 0.\n",
            "I1203 10:12:38.413341 139777534314368 model.py:87] Model using gpu.\n",
            "I1203 10:12:38.414345 139777534314368 model.py:175] Input dropout mode = 0.\n",
            "I1203 10:12:38.417309 139777534314368 model.py:176] Output dropout mode = 0.\n",
            "I1203 10:12:38.420726 139777534314368 model.py:177] Recurrent dropout mode = 0.\n"
          ],
          "name": "stderr"
        }
      ]
    },
    {
      "cell_type": "code",
      "metadata": {
        "id": "1G2uMr9NP4-u",
        "colab_type": "code",
        "colab": {}
      },
      "source": [
        "sess = tf.InteractiveSession()\n",
        "sess.run(tf.global_variables_initializer())"
      ],
      "execution_count": 0,
      "outputs": []
    },
    {
      "cell_type": "code",
      "metadata": {
        "id": "qLEH7iLiP7Ir",
        "colab_type": "code",
        "colab": {
          "base_uri": "https://localhost:8080/",
          "height": 139
        },
        "outputId": "e7cf36c5-5ecf-434a-bd6e-9e28ead61062"
      },
      "source": [
        "# loads the weights from checkpoint into our model\n",
        "load_checkpoint(sess, model_dir)"
      ],
      "execution_count": 13,
      "outputs": [
        {
          "output_type": "stream",
          "text": [
            "W1203 10:13:00.892509 139777534314368 module_wrapper.py:139] From /usr/local/lib/python2.7/dist-packages/magenta/models/sketch_rnn/sketch_rnn_train.py:240: The name tf.train.Saver is deprecated. Please use tf.compat.v1.train.Saver instead.\n",
            "\n",
            "W1203 10:13:00.895051 139777534314368 module_wrapper.py:139] From /usr/local/lib/python2.7/dist-packages/magenta/models/sketch_rnn/sketch_rnn_train.py:240: The name tf.global_variables is deprecated. Please use tf.compat.v1.global_variables instead.\n",
            "\n",
            "I1203 10:13:00.975554 139777534314368 sketch_rnn_train.py:242] Loading model /tmp/sketch_rnn/models/aaron_sheep/layer_norm/vector.\n",
            "I1203 10:13:00.981115 139777534314368 saver.py:1284] Restoring parameters from /tmp/sketch_rnn/models/aaron_sheep/layer_norm/vector\n"
          ],
          "name": "stderr"
        }
      ]
    },
    {
      "cell_type": "markdown",
      "metadata": {
        "id": "1tVZOfkyP9iE",
        "colab_type": "text"
      },
      "source": [
        "We define two convenience functions to encode a stroke into a latent vector, and decode from latent vector to stroke.\n",
        "\n"
      ]
    },
    {
      "cell_type": "code",
      "metadata": {
        "id": "6a7qBUHqP_Mp",
        "colab_type": "code",
        "colab": {}
      },
      "source": [
        "def encode(input_strokes):\n",
        "  strokes = to_big_strokes(input_strokes).tolist()\n",
        "  strokes.insert(0, [0, 0, 1, 0, 0])\n",
        "  seq_len = [len(input_strokes)]\n",
        "  draw_strokes(to_normal_strokes(np.array(strokes)))\n",
        "  return sess.run(eval_model.batch_z, feed_dict={eval_model.input_data: [strokes], eval_model.sequence_lengths: seq_len})[0]"
      ],
      "execution_count": 0,
      "outputs": []
    },
    {
      "cell_type": "code",
      "metadata": {
        "id": "LukPhHL_QEIe",
        "colab_type": "code",
        "colab": {}
      },
      "source": [
        "def decode(z_input=None, draw_mode=True, temperature=0.1, factor=0.05):\n",
        "  z = None\n",
        "  if z_input is not None:\n",
        "    z = [z_input]\n",
        "  sample_strokes, m = sample(sess, sample_model, seq_len=eval_model.hps.max_seq_len, temperature=temperature, z=z)\n",
        "  strokes = to_normal_strokes(sample_strokes)\n",
        "  if draw_mode:\n",
        "    draw_strokes(strokes, factor)\n",
        "  return strokes"
      ],
      "execution_count": 0,
      "outputs": []
    },
    {
      "cell_type": "code",
      "metadata": {
        "id": "OW_D6cWPQHYi",
        "colab_type": "code",
        "colab": {
          "base_uri": "https://localhost:8080/",
          "height": 221
        },
        "outputId": "c336c8f8-1988-4867-e373-11868b94382d"
      },
      "source": [
        "# get a sample drawing from the test set, and render it to .svg\n",
        "stroke = test_set.random_sample()\n",
        "draw_strokes(stroke)"
      ],
      "execution_count": 39,
      "outputs": [
        {
          "output_type": "display_data",
          "data": {
            "text/plain": [
              "<IPython.core.display.SVG object>"
            ],
            "image/svg+xml": "<svg baseProfile=\"full\" height=\"200.109426379\" version=\"1.1\" width=\"356.698396504\" xmlns=\"http://www.w3.org/2000/svg\" xmlns:ev=\"http://www.w3.org/2001/xml-events\" xmlns:xlink=\"http://www.w3.org/1999/xlink\"><defs/><rect fill=\"white\" height=\"200.109426379\" width=\"356.698396504\" x=\"0\" y=\"0\"/><path d=\"M114.633690119,63.8772594929 m24.8382496834,-23.7583255768 l7.55946755409,0.0 10.7992386818,5.3996193409 l10.7992386818,2.15984791517 11.8791627884,8.63939166069 l1.07992395759,-2.15984791517 10.7992386818,-4.31969583035 l5.3996193409,-4.31969583035 10.7992386818,-3.23977172375 l15.1189351082,3.23977172375 6.47954344749,4.31969583035 l2.15984791517,6.47954344749 21.5984773636,-12.959086895 l6.47954344749,0.0 7.55946755409,3.23977172375 l10.7992386818,7.55946755409 2.15984791517,5.3996193409 l7.55946755409,-3.23977172375 7.55946755409,0.0 l9.71931517124,4.31969583035 8.63939166069,10.7992386818 l1.07992395759,5.3996193409 -7.55946755409,0.0 l14.0390110016,16.1988592148 1.07992395759,14.0390110016 l-6.47954344749,9.71931517124 -3.23977172375,2.15984791517 l9.71931517124,8.63939166069 -11.8791627884,16.1988592148 l-7.55946755409,4.31969583035 -17.2787833214,-4.31969583035 l-6.47954344749,4.31969583035 -23.7583255768,7.55946755409 l-11.8791627884,0.0 -14.0390110016,-9.71931517124 l-6.47954344749,1.07992395759 -6.47954344749,4.31969583035 l-7.55946755409,2.15984791517 -34.5575666428,1.07992395759 l-16.1988592148,-7.55946755409 -9.71931517124,-7.55946755409 l-18.3587062359,0.0 -17.2787833214,-4.31969583035 l-5.3996193409,-5.3996193409 -2.15984791517,-5.3996193409 l-19.4386303425,-7.55946755409 0.0,-4.31969583035 l7.55946755409,-7.55946755409 -4.31969583035,-17.2787833214 l0.0,-2.15984791517 3.23977172375,-2.15984791517 m20.5185556412,-19.4386303425 l-8.63939166069,-3.23977172375 -17.2787833214,-19.4386303425 l-16.1988592148,-12.959086895 -15.1189351082,0.0 l-9.71931517124,4.31969583035 -11.8791627884,14.0390110016 l-8.63939166069,17.2787833214 -1.07992395759,10.7992386818 l3.23977172375,5.3996193409 16.1988592148,1.07992395759 l10.7992386818,-3.23977172375 2.15984791517,-3.23977172375 l15.1189351082,-4.31969583035 14.0390110016,1.07992395759 l3.23977172375,3.23977172375 0.0,8.63939166069 m-26.9980978966,-53.9961957932 l4.31969583035,-4.31969583035 5.3996193409,1.07992395759 l0.0,15.1189351082 -9.71931517124,1.07992395759 l-2.15984791517,-7.55946755409 m0.0,1.07992395759 l-4.31969583035,-5.3996193409 m-6.47954344749,14.0390110016 l-5.3996193409,0.0 -1.07992395759,6.47954344749 l10.7992386818,0.0 -7.55946755409,-7.55946755409 m1.07992395759,3.23977172375 l-2.15984791517,6.47954344749 -2.15984791517,0.0 l0.0,-4.31969583035 3.23977172375,-1.07992395759 m2.15984791517,20.5185556412 l-10.7992386818,9.71931517124 -5.3996193409,0.0 m76.6745996475,-12.959086895 l-3.23977172375,-6.47954344749 -12.959086895,2.15984791517 l-2.15984791517,3.23977172375 0.0,7.55946755409 l3.23977172375,3.23977172375 -5.3996193409,1.07992395759 l-1.07992395759,4.31969583035 m49.6764993668,58.3158922195 l-1.07992395759,19.4386303425 -2.15984791517,5.3996193409 l-6.47954344749,6.47954344749 -6.47954344749,0.0 l-7.55946755409,-7.55946755409 -5.3996193409,0.0 l-2.15984791517,5.3996193409 0.0,2.15984791517 l12.959086895,4.31969583035 17.2787833214,1.07992395759 l9.71931517124,-5.3996193409 0.0,-33.4776425362 l2.15984791517,-2.15984791517 m117.711706161,16.1988592148 l-2.15984791517,16.1988592148 -20.5185556412,-1.07992395759 l-8.63939166069,3.23977172375 0.0,2.15984791517 l6.47954344749,2.15984791517 23.7583255768,0.0 l8.63939166069,-4.31969583035 -1.07992395759,-19.4386303425 m-149.029502869,-17.2787833214 l0.0,14.0390110016 -21.5984773636,1.07992395759 l0.0,3.23977172375 2.15984791517,2.15984791517 l21.5984773636,0.0 4.31969583035,-2.15984791517 l0.0,-14.0390110016 m106.912469864,15.1189351082 l-6.47954344749,4.31969583035 -22.6784014702,0.0 l-2.15984791517,5.3996193409 35.6374883652,0.0 l0.0,-7.55946755409 m82.0742225647,-56.1560440063 l4.31969583035,-3.23977172375 3.23977172375,1.07992395759 l1.07992395759,15.1189351082 -3.23977172375,2.15984791517 l-6.47954344749,0.0 0.0,-2.15984791517 l-2.15984791517,-1.07992395759 \" fill=\"none\" stroke=\"black\" stroke-width=\"1\"/></svg>"
          },
          "metadata": {
            "tags": []
          }
        }
      ]
    },
    {
      "cell_type": "markdown",
      "metadata": {
        "id": "cYN-qEpyQsdJ",
        "colab_type": "text"
      },
      "source": [
        "Let's try to encode the sample stroke into latent vector $z$\n",
        "\n"
      ]
    },
    {
      "cell_type": "code",
      "metadata": {
        "id": "QrDxcJZNQuJH",
        "colab_type": "code",
        "colab": {
          "base_uri": "https://localhost:8080/",
          "height": 221
        },
        "outputId": "b1a9e949-722b-431e-9cc4-4303e49805f6"
      },
      "source": [
        "z = encode(stroke)"
      ],
      "execution_count": 40,
      "outputs": [
        {
          "output_type": "display_data",
          "data": {
            "text/plain": [
              "<IPython.core.display.SVG object>"
            ],
            "image/svg+xml": "<svg baseProfile=\"full\" height=\"200.109426379\" version=\"1.1\" width=\"356.698396504\" xmlns=\"http://www.w3.org/2000/svg\" xmlns:ev=\"http://www.w3.org/2001/xml-events\" xmlns:xlink=\"http://www.w3.org/1999/xlink\"><defs/><rect fill=\"white\" height=\"200.109426379\" width=\"356.698396504\" x=\"0\" y=\"0\"/><path d=\"M114.633690119,63.8772594929 m0.0,0.0 l24.8382496834,-23.7583255768 7.55946755409,0.0 l10.7992386818,5.3996193409 10.7992386818,2.15984791517 l11.8791627884,8.63939166069 1.07992395759,-2.15984791517 l10.7992386818,-4.31969583035 5.3996193409,-4.31969583035 l10.7992386818,-3.23977172375 15.1189351082,3.23977172375 l6.47954344749,4.31969583035 2.15984791517,6.47954344749 l21.5984773636,-12.959086895 6.47954344749,0.0 l7.55946755409,3.23977172375 10.7992386818,7.55946755409 l2.15984791517,5.3996193409 7.55946755409,-3.23977172375 l7.55946755409,0.0 9.71931517124,4.31969583035 l8.63939166069,10.7992386818 1.07992395759,5.3996193409 l-7.55946755409,0.0 14.0390110016,16.1988592148 l1.07992395759,14.0390110016 -6.47954344749,9.71931517124 l-3.23977172375,2.15984791517 9.71931517124,8.63939166069 l-11.8791627884,16.1988592148 -7.55946755409,4.31969583035 l-17.2787833214,-4.31969583035 -6.47954344749,4.31969583035 l-23.7583255768,7.55946755409 -11.8791627884,0.0 l-14.0390110016,-9.71931517124 -6.47954344749,1.07992395759 l-6.47954344749,4.31969583035 -7.55946755409,2.15984791517 l-34.5575666428,1.07992395759 -16.1988592148,-7.55946755409 l-9.71931517124,-7.55946755409 -18.3587062359,0.0 l-17.2787833214,-4.31969583035 -5.3996193409,-5.3996193409 l-2.15984791517,-5.3996193409 -19.4386303425,-7.55946755409 l0.0,-4.31969583035 7.55946755409,-7.55946755409 l-4.31969583035,-17.2787833214 0.0,-2.15984791517 l3.23977172375,-2.15984791517 m20.5185556412,-19.4386303425 l-8.63939166069,-3.23977172375 -17.2787833214,-19.4386303425 l-16.1988592148,-12.959086895 -15.1189351082,0.0 l-9.71931517124,4.31969583035 -11.8791627884,14.0390110016 l-8.63939166069,17.2787833214 -1.07992395759,10.7992386818 l3.23977172375,5.3996193409 16.1988592148,1.07992395759 l10.7992386818,-3.23977172375 2.15984791517,-3.23977172375 l15.1189351082,-4.31969583035 14.0390110016,1.07992395759 l3.23977172375,3.23977172375 0.0,8.63939166069 m-26.9980978966,-53.9961957932 l4.31969583035,-4.31969583035 5.3996193409,1.07992395759 l0.0,15.1189351082 -9.71931517124,1.07992395759 l-2.15984791517,-7.55946755409 m0.0,1.07992395759 l-4.31969583035,-5.3996193409 m-6.47954344749,14.0390110016 l-5.3996193409,0.0 -1.07992395759,6.47954344749 l10.7992386818,0.0 -7.55946755409,-7.55946755409 m1.07992395759,3.23977172375 l-2.15984791517,6.47954344749 -2.15984791517,0.0 l0.0,-4.31969583035 3.23977172375,-1.07992395759 m2.15984791517,20.5185556412 l-10.7992386818,9.71931517124 -5.3996193409,0.0 m76.6745996475,-12.959086895 l-3.23977172375,-6.47954344749 -12.959086895,2.15984791517 l-2.15984791517,3.23977172375 0.0,7.55946755409 l3.23977172375,3.23977172375 -5.3996193409,1.07992395759 l-1.07992395759,4.31969583035 m49.6764993668,58.3158922195 l-1.07992395759,19.4386303425 -2.15984791517,5.3996193409 l-6.47954344749,6.47954344749 -6.47954344749,0.0 l-7.55946755409,-7.55946755409 -5.3996193409,0.0 l-2.15984791517,5.3996193409 0.0,2.15984791517 l12.959086895,4.31969583035 17.2787833214,1.07992395759 l9.71931517124,-5.3996193409 0.0,-33.4776425362 l2.15984791517,-2.15984791517 m117.711706161,16.1988592148 l-2.15984791517,16.1988592148 -20.5185556412,-1.07992395759 l-8.63939166069,3.23977172375 0.0,2.15984791517 l6.47954344749,2.15984791517 23.7583255768,0.0 l8.63939166069,-4.31969583035 -1.07992395759,-19.4386303425 m-149.029502869,-17.2787833214 l0.0,14.0390110016 -21.5984773636,1.07992395759 l0.0,3.23977172375 2.15984791517,2.15984791517 l21.5984773636,0.0 4.31969583035,-2.15984791517 l0.0,-14.0390110016 m106.912469864,15.1189351082 l-6.47954344749,4.31969583035 -22.6784014702,0.0 l-2.15984791517,5.3996193409 35.6374883652,0.0 l0.0,-7.55946755409 m82.0742225647,-56.1560440063 l4.31969583035,-3.23977172375 3.23977172375,1.07992395759 l1.07992395759,15.1189351082 -3.23977172375,2.15984791517 l-6.47954344749,0.0 0.0,-2.15984791517 l-2.15984791517,-1.07992395759 \" fill=\"none\" stroke=\"black\" stroke-width=\"1\"/></svg>"
          },
          "metadata": {
            "tags": []
          }
        }
      ]
    },
    {
      "cell_type": "markdown",
      "metadata": {
        "id": "HcegCcV-QxHI",
        "colab_type": "text"
      },
      "source": [
        "convert z back to drawing at temperature of 0.8\n"
      ]
    },
    {
      "cell_type": "code",
      "metadata": {
        "id": "K8NnRA9HQzKb",
        "colab_type": "code",
        "colab": {
          "base_uri": "https://localhost:8080/",
          "height": 220
        },
        "outputId": "9f835651-c685-474a-98d5-49412ac4b717"
      },
      "source": [
        "_ = decode(z, temperature=0.8) "
      ],
      "execution_count": 43,
      "outputs": [
        {
          "output_type": "display_data",
          "data": {
            "text/plain": [
              "<IPython.core.display.SVG object>"
            ],
            "image/svg+xml": "<svg baseProfile=\"full\" height=\"199.460834742\" version=\"1.1\" width=\"331.905702992\" xmlns=\"http://www.w3.org/2000/svg\" xmlns:ev=\"http://www.w3.org/2001/xml-events\" xmlns:xlink=\"http://www.w3.org/1999/xlink\"><defs/><rect fill=\"white\" height=\"199.460834742\" width=\"331.905702992\" x=\"0\" y=\"0\"/><path d=\"M100.885906789,59.1693386697 m24.2228722572,-23.4275460243 l6.94016158581,4.19087409973 0.998351052403,-2.04150959849 l20.1958298683,-4.9059548974 13.465436697,0.000929996167542 l11.1284387112,7.58052706718 2.75531291962,6.79223656654 l-8.87510736902e-06,0.84069788456 3.23172032833,-3.5877352953 l19.4147384167,-7.97290146351 16.623467207,0.000793123108451 l7.09273636341,9.91958260536 0.000739234747016,3.76361191273 l8.0521774292,-4.83598798513 8.79218041897,0.000407130319218 l8.24084579945,5.00493109226 3.85139614344,4.04826074839 l8.38617622852,13.82771492 -0.000529959252162,3.76554906368 l-4.25862044096,4.89286959171 -4.41830396652,1.71463593841 l27.4918723106,10.8370101452 4.53195512295,7.84328043461 l0.00175037232111,9.56066548824 -10.0539684296,7.32161819935 l-14.1425073147,2.12485283613 -8.05205523968,8.2848918438 l-9.63241040707,2.63437062502 -19.0849494934,-3.72532635927 l-7.2131472826,-7.41564929485 -9.66260194778,12.2000908852 l-13.117660284,6.97857499123 -11.389298439,3.04763942957 l-19.2168521881,0.989674404263 -9.03207540512,-7.98229813576 l-1.54584571719,-1.89352437854 -6.68330192566,7.03848898411 l-9.20606315136,4.25133794546 -14.5596826077,0.00057504450524 l-10.7784211636,-6.16096317768 -10.2032446861,3.12922924757 l-13.9348256588,-3.16032111645 -4.67969834805,-7.2126942873 l-2.90839582682,-11.770131588 0.00117461444461,-6.44121229649 l-4.11263674498,0.000714421694283 -6.74767911434,-4.23894435167 l-3.88627290726,-12.8387975693 6.21048271656,-4.74614083767 l-0.125303482637,-12.2392404079 3.98022830486,-2.40216717124 m34.5302534103,-9.77344989777 l-4.76589769125,-2.8535053134 -17.6121711731,-22.3692274094 l-8.39874744415,-5.78523159027 -16.2441861629,-6.97551488876 l-8.25952231884,4.00440335274 -6.83133602142,15.6587481499 l-5.0607663393,12.7934455872 -9.06339108944,9.4957369566 l-11.1438250542,19.0788948536 0.00232128921198,5.78196465969 l4.99594211578,5.75250089169 16.7216312885,10.6778466702 l16.4827537537,0.00168767030118 1.91285848618,-2.09250614047 l11.3462364674,-3.04252117872 4.02219265699,-9.73636746407 m-22.344930172,-46.61195755 l2.33771055937,1.44521906972 -1.81693702936,-2.69916027784 l1.10277399421,-2.91427701712 -0.000828437550808,0.033844015561 l0.0892545282841,-0.000842046865728 -3.11723858118,-3.66858094931 l2.15662658215,-0.000381061799999 4.42226231098,7.64167249203 l3.37223976851,-0.938388705254 -0.000333580974257,-2.00889468193 m-18.765925169,25.3049254417 l12.8956067562,-5.12793362141 -6.28869175911,3.09701114893 l0.000431777880294,2.90030986071 -5.90021789074,-1.37693077326 m-5.68003594875,9.60415422916 l5.33263087273,-0.00042687592213 m8.97896945477,-17.0079123974 l-1.05240322649,1.40578731894 0.670711100101,-0.240181721747 l-2.23172515631,-0.498005747795 2.08448454738,1.30394414067 l8.02686008683e-05,-0.23792764172 -0.89767627418,2.20362011305e-06 l2.32688605785,-0.000169939539774 -0.000807638134575,-0.475192666054 m-6.43488168716,-6.20754122734 l-1.91613644361,5.78714430332 6.5329092741,6.1044126749 m-30.1734018326,-6.26296460629 l8.84270370007,0.0017753825523 3.7235891819,3.77199411392 l0.000241407360591,-0.0547074899077 -5.17557740211,1.28094002604 l0.00108424108475,-1.27383992076 m95.5666637421,72.1058368683 l1.67133301497,34.2914795876 4.7773873806,-0.00019309194613 l7.18491375446,-4.44936305285 0.000788924735389,-28.0643153191 m14.5941627026,0.757059827447 l0.00290670985123,23.1687927246 8.01332771778,1.45397692919 l-0.36834333092,-0.000261528584815 -0.337579473853,-3.91989946365 l0.486810430884,-16.4201068878 -2.51885503531,-2.75680333376 m124.835128784,-9.10958886147 l5.40059089661,25.1059651375 0.00150897714775,12.8322529793 l1.95986732841,4.01524871588 3.08201909065,-0.000523584749317 l-1.75710305572,-34.8365688324 2.58912563324,-4.63814377785 l-3.14006775618,-4.39550697803 -1.44062370062,-4.6638700366 m-5.79424083233,5.1317948103 l0.0018717237981,5.50936162472 0.000523751041328,1.78925424814 l0.00131360371597,19.3845331669 14.7394168377,-0.708802565932 l3.79450768232,1.89514577389 0.00096327799838,-20.051202774 m-93.5962295532,-63.9099979401 l-8.34994018078,0.981612727046 -4.12743717432,7.96420872211 l-0.655949041247,12.1274518967 3.78176957369,6.66930317879 l13.6333024502,3.33046346903 10.5665457249,-2.70356833935 l1.00254274905,0.990466400981 23.1456303596,-0.334827750921 l3.94945919514,-3.15620362759 \" fill=\"none\" stroke=\"black\" stroke-width=\"1\"/></svg>"
          },
          "metadata": {
            "tags": []
          }
        }
      ]
    },
    {
      "cell_type": "markdown",
      "metadata": {
        "id": "crFAUO5NQ9Td",
        "colab_type": "text"
      },
      "source": [
        "Create generated grid at various temperatures from 0.1 to 1.0\n",
        "\n"
      ]
    },
    {
      "cell_type": "code",
      "metadata": {
        "id": "yQJCkNqIQ-2E",
        "colab_type": "code",
        "colab": {
          "base_uri": "https://localhost:8080/",
          "height": 279
        },
        "outputId": "95e058a5-aba1-42dd-fafd-1ad9604fdf23"
      },
      "source": [
        "stroke_list = []\n",
        "for i in range(10):\n",
        "  stroke_list.append([decode(z, draw_mode=False, temperature=0.1*i+0.1), [0, i]])\n",
        "stroke_grid = make_grid_svg(stroke_list)\n",
        "draw_strokes(stroke_grid)"
      ],
      "execution_count": 44,
      "outputs": [
        {
          "output_type": "display_data",
          "data": {
            "text/plain": [
              "<IPython.core.display.SVG object>"
            ],
            "image/svg+xml": "<svg baseProfile=\"full\" height=\"238.292390152\" version=\"1.1\" width=\"3220.50159172\" xmlns=\"http://www.w3.org/2000/svg\" xmlns:ev=\"http://www.w3.org/2001/xml-events\" xmlns:xlink=\"http://www.w3.org/1999/xlink\"><defs/><rect fill=\"white\" height=\"238.292390152\" width=\"3220.50159172\" x=\"0\" y=\"0\"/><path d=\"M25,42.2860771639 m0.0,0.0 m144.705585324,24.4595895887 l24.3394708633,-23.2458162308 8.17759513855,0.00122758923681 l8.37825834751,5.66196978092 9.0486395359,1.27381280065 l13.5301983356,-4.5786100626 7.70149171352,0.00056419561588 l7.60721623898,4.94567900896 5.2810126543,8.800522089 l9.23608660698,-6.9959205389 13.9041519165,-6.2305355072 l10.3240346909,0.000601559659117 9.36495423317,5.71610867977 l6.46184504032,9.76647257805 9.26226019859,-6.25982344151 l14.9389541149,0.000386956999137 10.8987641335,5.90728878975 l7.179864645,10.332801342 13.5370755196,1.59346684813 l8.83204519749,6.87571763992 5.00957787037,12.236045599 l0.000267658033408,11.0905563831 -7.03080117702,10.1213335991 l2.83881425858,13.2015073299 -3.75631183386,11.5326964855 l-10.8749449253,8.34520101547 -14.4606864452,3.03984254599 l-12.3172008991,0.0010125519475 -4.79723006487,-2.83937990665 l-14.2561888695,10.6930196285 -15.0255382061,3.84030967951 l-15.8536684513,-2.57971346378 -10.4491829872,-7.4999499321 l-7.32837677002,5.61919927597 -11.0452926159,3.79459828138 l-16.4186906815,-2.77127583104e-05 -13.8567066193,-5.886515975 l-8.83854746819,-9.01953816414 -7.84823954105,4.5624756813 l-16.08309865,0.00122367448057 -11.7124998569,-6.10279977322 l-7.3726350069,-9.38877522945 -3.65628242493,-11.3293063641 l-10.6852078438,-7.30904102325 -6.0489988327,-10.3030312061 l-0.646958872676,-11.9893848896 3.02377313375,-4.76780861616 l8.64213526249,-3.82941067219 4.84259456396,0.000695907365298 l-3.17823052406,-7.2228115797 0.722683519125,-5.80196917057 l4.35250252485,-3.35862338543 9.0591353178,0.000788312026998 m-20.9286379814,16.0043072701 l-5.61370432377,-5.83790957928 -18.4975349903,-7.01633632183 l-17.3826825619,4.02399539948 -10.2438116074,9.19951975346 l-5.65874040127,12.9875922203 -7.1861833334,4.22367602587 l-4.41598951817,7.33007133007 0.000225346138905,11.0142576694 l5.29096901417,6.17878854275 9.32936429977,4.21155482531 l22.0196342468,0.000902295651031 9.7469496727,-3.66796374321 l6.89693510532,-5.69593191147 m-28.245074749,-26.9339585304 l-0.282872579992,0.000881774540176 -0.145347518846,-2.14136138558 l-0.647468194366,0.000220580695895 0.662709847093,-1.06629058719 l0.212266966701,0.00019251176127 -0.102083738893,-0.992665812373 l0.318479351699,-0.311408825219 -0.228534862399,-0.428554788232 l-0.190110765398,-0.351053252816 -0.0717934127897,-0.201882701367 l-0.297969821841,-0.38454759866 -0.0162682903465,-0.203163288534 l-0.367361158133,-0.533881857991 -0.267287157476,0.0759390322492 l-0.115020014346,-0.564250722528 -0.635595247149,-0.00236021151068 l-0.347354784608,-0.0489765545353 -0.206994470209,-0.231340676546 l-0.457037612796,-0.115866670385 -0.0438290974125,-0.0734303705394 l-0.235663112253,-0.153354611248 -0.544763728976,0.0344372657128 l-0.000258113941527,0.421830788255 -0.425645560026,-0.52540730685 l-0.443219654262,0.157891102135 -0.247564576566,-0.185652021319 l-0.305792316794,0.0844953861088 -0.401284880936,-0.0947278272361 l-0.447145737708,-0.0756652047858 -0.000357586759492,0.564857237041 l0.000926662833081,-0.435745716095 -0.963295474648,0.0636032549664 l-0.204280093312,0.0553874811158 -0.204755961895,-0.134670911357 l-0.368186347187,0.236148629338 -0.438398718834,-0.114033771679 l-0.522708371282,-0.0787001289427 -0.266869161278,0.143953636289 l-0.356655754149,0.0950380507857 -0.392014496028,-0.0907929893583 l-0.444930046797,0.258393250406 -0.242645330727,-0.109609141946 l-0.520500540733,0.330424159765 -0.158521793783,-0.18319748342 l-0.74382327497,0.0472146645188 -0.332219675183,0.302506815642 l-0.429417602718,0.0322985253297 -0.362767800689,0.00461687188363 l-0.550461038947,0.0382218905725 -0.368099398911,0.291462708265 l-0.465121120214,-0.231381449848 -0.573683530092,0.187084414065 l-0.277628917247,0.240778643638 -0.374294444919,-0.0261513260193 l-0.68299241364,0.368957705796 -0.000639220670564,-0.719218030572 l-0.930348783731,0.384502336383 -0.000675425981171,0.0497566815466 l-0.657170787454,-0.0798808224499 -0.610767267644,0.42775221169 l-0.223613083363,-0.201766826212 -0.512758269906,-0.0176282878965 l-0.655989795923,0.356383733451 -0.388549864292,-0.0755189731717 l-0.537555292249,-0.0573060568422 -0.504932552576,-0.001968324068 l-0.41356921196,0.0104693253525 -0.571571327746,0.0370381097309 l-0.531211346388,-0.0349018722773 -0.531959347427,0.125474883243 l-0.373315624893,-0.00743728829548 -0.527633391321,0.0715113990009 l-0.51761072129,0.118493176997 -0.199288614094,0.161911752075 l-0.413861721754,-0.183545220643 -0.736733749509,0.0807137601078 l-0.344163104892,-0.00628300651442 -0.353585742414,0.0631679547951 l-0.536848008633,0.164321064949 -0.509470403194,-0.311559215188 l-0.685186088085,0.13228691183 -0.257475879043,0.108771920204 l-0.517167299986,-0.257506016642 -0.614226013422,0.0942326616496 l-0.281813573092,-0.225092750043 -0.636348351836,-0.0152703782078 l-0.404922366142,-0.0287080276757 -0.634051263332,0.070503144525 l-0.363085828722,-0.148139744997 -0.463971756399,-0.1405760739 l-0.600790977478,-0.0527960946783 -0.387712270021,0.0459371041507 l-0.490494370461,-0.332618393004 -0.597470775247,0.111801531166 l-0.18217548728,-0.139000527561 -0.582325160503,-0.20109359175 l-0.705820098519,0.223780106753 -0.216972399503,-0.157378204167 l-0.286058746278,-0.108351223171 -0.622661188245,-0.0274583348073 l-0.00122038334666,-0.614799559116 -1.03258371353,0.320023968816 l-0.255191456527,0.221138522029 -0.440110899508,-0.447256751359 l-0.712649747729,-0.171789284796 -0.530569516122,0.0235672178678 l-0.402676984668,-0.176667328924 -0.600675605237,0.139167010784 l-0.215325541794,-0.189139842987 -0.655172541738,-0.295378156006 l-0.618610978127,-0.0348236830905 -0.420387461782,-0.276494119316 l-0.382568128407,0.0277235358953 -0.430022925138,-0.0790179427713 l-0.59596631676,-0.171663165092 -0.57636346668,0.107443928719 l-0.314926020801,-0.163932293653 -0.520594008267,-0.145046161488 l-0.600635558367,0.0820287689567 -0.556955598295,-0.174299832433 l-0.34449711442,-0.0238080299459 -0.370015949011,-0.117395464331 l-0.584882572293,-0.0367689691484 -0.603645481169,0.0855499505997 l-0.345290862024,0.0613798294216 -0.354430638254,-0.33874116838 l-0.683000087738,0.19122119993 -0.475906506181,-0.245000552386 l-0.212196744978,-0.0474636722356 -0.426468402147,-0.314010716975 l-0.00143376761116,-0.50326436758 -1.01832762361,0.400303155184 l-0.00110896464321,-0.418073162436 -0.515617504716,-0.232190024108 l-0.730684176087,0.109460139647 -0.422743111849,-0.210949666798 l-0.514942035079,-0.0614023488015 -0.629582777619,-0.0422606337816 l-0.440577231348,-0.0689375447109 -0.479115284979,-0.165411531925 l-0.511458590627,0.0198248284869 -0.559488460422,-0.165091976523 l-0.396587029099,-0.0363161624409 -0.405594408512,-0.322653017938 l-0.43947711587,0.140006812289 -0.43927103281,-0.0151395308785 l-0.513826943934,-0.208347775042 -0.617767982185,-0.0867865048349 l-0.359652936459,-0.273342393339 -0.714907869697,0.312138311565 l-0.196824371815,-0.0248526199721 m62.2531604767,50.392241478 l-0.000431606022175,22.7766132355 -3.91441226006,15.1707792282 l-6.37986540794,11.6002881527 0.000691314489814,10.8572053909 l5.16966462135,-0.000997044262476 5.55890142918,-4.24306035042 l3.71271878481,-7.74920105934 2.74348527193,-29.172232151 l1.61832407117,-7.7147847414 m8.15573334694,3.78620892763 l0.000203169201995,31.3575410843 3.05358678102,7.69567370415 l3.74699383974,0.000254850274359 3.93319219351,-4.48725908995 l0.794883146882,-29.2807435989 -2.13995933533,-3.53101730347 m82.5853729248,8.72881531715 l-0.000198360921786,21.6802406311 2.76159405708,7.380220294 l4.79420900345,8.97978225112e-05 3.88870328665,-5.25889456272 l0.00015797722881,-19.6916127205 -3.36152553558,-6.36500418186 m11.3538050652,-2.91424036026 l0.00102339196019,20.5893325806 2.88363665342,7.68701970577 l4.72330987453,2.62318283319 4.46487277746,-2.43033245206 l4.82979066874e-05,-19.6391892433 -2.8754851222,-7.00586557388 m219.385198551,-97.5487297364 l24.120080471,-23.1335043907 8.83975207806,0.00160276700626 l10.8372080326,5.86787462234 5.9167355299,8.80488574505 l7.68675744534,-7.41209685802 15.3343999386,-7.55589962006 l7.72988319397,0.00105141436507 8.96503210068,5.92645466328 l3.29299032688,7.38835811615 10.1642453671,-6.74484014511 l16.9757568836,-5.28770446777 11.7842435837,0.000609548405919 l8.6470913887,6.88367307186 4.92335110903,10.8796203136 l7.71799862385,-5.42786836624 15.2898430824,-2.94793188572 l13.3143568039,3.74047011137 9.03520345688,9.50495183468 l3.15386652946,12.5852739811 10.8861064911,8.25694799423 l4.03300732374,11.6265380383 -3.52485209703,12.2943019867 l-11.0554087162,8.61393272877 0.449478179216,12.8134655952 l-6.45132422447,9.86896038055 -12.0041799545,5.802038908 l-13.4037077427,0.00053223411669 -10.751490593,-5.21649420261 l-13.1716907024,11.1085832119 -9.5675432682,4.1563090682 l-10.7272446156,-6.45642148811e-05 -13.1456518173,-6.40112280846 l-8.8327229023,-10.4826617241 -7.82642483711,6.4056712389 l-11.3115108013,5.13971924782 -15.0598967075,-4.13908946939e-05 l-12.2059452534,-6.28199994564 -8.61496925354,-10.5509030819 l-6.64510011673,5.08852303028 -12.5820863247,0.000175004606717 l-10.1238644123,-6.03649795055 -3.5086119175,-5.14429271221 l-0.00045575103286,-7.80667543411 -14.1041874886,-2.12521731853 l-8.90466213226,-7.01217830181 -4.7065910697,-11.6109752655 l0.00061704107793,-6.18668437004 6.10925197601,-6.03117704391 l9.75023210049,-2.66986340284 2.16498792171,0.000302505522995 l1.26425638795,-13.5838913918 3.34613382816,-4.06454086304 l10.291980505,-2.76189297438 9.40231263638,0.000496322718391 m-33.7708878517,10.9537005424 l-6.3822299242,-7.38430917263 -9.42081928253,-3.89428198338 l-14.2688989639,0.000998752584564 -9.90654587746,8.33871722221 l-6.33404314518,14.1443252563 -8.07505249977,4.52249079943 l-7.43239402771,11.6038894653 -0.322178415954,11.8633365631 l5.2194082737,6.62390887737 8.99370491505,3.90857249498 l23.0739712715,0.000769089019741 8.5338395834,-4.78439360857 l6.07912838459,-6.77074015141 m-28.0814599991,-29.5711445808 l-2.10074573755,0.00114237824164 5.69749499846e-05,5.18531501293 l3.02502244711,0.00015353456547 1.80762797594,-4.84964907169 l-2.46705368161,-1.06817401946 -0.0629656016827,-0.11459518224 l0.51218662411,-0.732115656137 -0.604978129268,-0.336271375418 l-0.000123306799651,2.24272787571 1.02588370442,-1.5930044651 l-1.78108647466,-0.326149538159 -0.000220133351831,1.92389190197 l1.58940151334,-1.38568371534 -1.85205563903,-0.344131030142 l-0.000145106714626,2.00656980276 1.23051933944,-1.26192256808 l-1.86979368329,-0.525313653052 0.497218631208,-0.0746146868914 l0.000222883736569,0.620011910796 -0.246948003769,-0.342022255063 l-0.139113022014,0.525525026023 0.123485643417,-0.419521927834 l-0.564667768776,-0.190059598535 0.936387628317,0.730199143291 l-0.930012464523,-0.744183957577 -0.00020302084522,0.452721342444 l-0.614235140383,-0.945839360356 -0.758796408772,0.947196930647 l0.737845376134,-0.176462698728 -0.262600556016,-0.27449535206 l-0.00019796714696,0.2870269306 -0.796526670456,-0.0994079187512 l-0.000193753548956,0.698718205094 0.405737794936,-0.58208912611 l-1.25447109342,-0.174075681716 -0.000348913526977,1.01318687201 l0.225144531578,-0.423212982714 -1.39855638146,-0.00238185297349 l-0.000385275088775,0.788761824369 0.182842426002,-0.464458763599 l-0.967751070857,0.408462658525 -0.000293425473501,-0.155870122835 l-0.0830532424152,0.151238022372 -0.202054996043,0.113699380308 l-0.000562243913009,-0.147050097585 -1.27359256148,-0.369055941701 l-0.27980113402,0.893134921789 0.257439166307,-0.417761839926 l-0.961857661605,0.103951711208 -0.00068364701292,0.610869787633 l-0.00066950400651,-0.429699607193 -0.69845892489,0.00728879007511 l-0.000682240934111,0.495781265199 -0.319015644491,-0.378377214074 l-1.24195531011,0.392510518432 -0.000757603702368,-0.320435240865 l-0.57515475899,0.0862224027514 -0.000498745721416,0.0682353368029 l-0.51321811974,0.270765330642 -0.150075452402,0.00282886554487 l-0.818288698792,0.184565782547 -0.108796451241,0.15996331349 m-17.2944939137,18.3532726765 l-0.210282187909,-0.00089072236733 1.61513909698,-1.25561118126 l1.53058350086,0.000896202109288 -2.14582189918,2.85369813442 l-0.54728616029,-0.126962186769 -0.124961193651,-0.778502821922 l-0.728952288628,0.486396513879 m90.2291488647,33.6620974541 l-3.66516828537,17.337346077 -9.30975854397,28.88453722 l0.00168759768712,13.6949515343 3.17743510008,6.7577624321 l8.95380377769,-0.000746635778341 6.44207775593,-4.98131155968 l5.90161204338,-44.3512153625 1.89729705453,-15.5888295174 m9.20604705811,2.8413900733 l0.329354591668,12.1369254589 -0.50820723176,41.2081432343 l3.01163345575,8.25256943703 5.38930177689,2.64946997166 l6.32520794868,-2.68320411444 4.28433001041,-7.89906978607 l0.000714834604878,-32.7685403824 -3.99530380964,-9.70407068729 m75.970249176,2.81774461269 l1.42535120249,33.3292865753 3.21405053139,11.3668012619 l4.83334839344,4.39102977514 5.31851649284,-0.754014849663 l4.83581900597,-5.94200015068 2.99869596958,-9.31117832661 l0.000508721386723,-24.2022538185 -3.64654153585,-8.56552779675 m11.7346835136,-4.3291631341 l4.52512741089,9.75757420063 15.4855251312,32.4678516388 l5.47513961792,6.77990317345 2.91683018208,-22.0692801476 l-6.68494164944,-29.478931427 -2.35874444246,-3.20047646761 m-77.2013711929,-30.9577512741 l0.58617554605,3.96877169609 2.41034135222,14.6136915684 l1.96621775627,17.379411459 4.09731715918,7.42585778236 l6.17569029331,3.38212817907 6.01973474026,0.000245497903961 l5.54827213287,-5.02562999725 3.53548437357,-8.4611928463 l0.000240594090428,-18.2091999054 m187.873175147,-57.1328022185 l24.4245266914,-23.2583189011 7.33157455921,0.000673264075886 l11.8091666698,7.82428383827 8.14570426941,-1.67456388474 l10.9885179996,-5.14195799828 8.25451910496,0.000790959820733 l5.93852341175,6.92982196808 8.42471897602,-5.09045183659 l9.78865146637,-8.90763840289e-05 9.00221347809,4.21511799097 l12.0759010315,-0.000233793762163 20.1485872269,-0.413332879543 l9.85694766045,3.72775226831 3.3556202054,5.30959188938 l10.0826239586,0.000640106445644 10.0044858456,5.57162106037 l12.017827034,12.7443826199 1.92608177662,12.1521961689 l10.4109323025,12.6899945736 -1.3134278357,5.82502543926 l-8.5290491581,5.72747468948 5.03071665764,14.2586624622 l-3.38426500559,4.0262016654 -18.8295090199,1.53044477105 l-5.40237307549,13.9888131618 -12.249096632,4.77228492498 l-11.2653279305,0.000261267105088 -3.80145013332,-2.52350896597 l-14.1794455051,7.8409075737 -11.8023729324,0.000164914472407 l-12.5624144077,-6.64256572723 -20.5782079697,6.54184758663 l-14.3162071705,0.00052717699873 -10.1744139194,-4.65439468622 l-3.49436789751,-4.16812747717 -24.6764159203,3.30054342747 l-11.027507782,-9.67390656471 -17.0440530777,-1.65718242526 l-6.16683483124,-6.78430974483 -2.14058890939,-17.0187044144 l-3.77391338348,-4.63940858841 -9.98588263988,-28.0994725227 l1.08927533031,-9.76454794407 6.94897472858,-7.4967944622 l6.84561550617,0.000998369432637 3.48847061396,-12.0491826534 l4.23673301935,-3.25364470482 6.78948700428,0.000121467510326 l6.40418469906,5.77074766159 m-32.5513625145,10.1299858093 l-13.5056829453,0.00073890623753 -8.01497519016,4.10710483789 l-6.40798449516,7.83401608467 -8.8133265308e-05,9.78553235531 l3.1984564662,6.04809105396 3.49705159664,2.15038791299 l11.0782277584,0.000937985460041 13.3010792732,-6.13296568394 l5.02957999706,-6.39520525932 -0.911560878158,-3.16863000393 m-25.2651405334,-10.8368003368 l0.00106424391561,-3.54951322079 4.05467450619,-4.48960006237 l9.33770000935,-2.65335798264 7.3520886898,0.000350666887243 l4.03791248798,11.2133443356 0.000485224190925,4.8256328702 l-6.49571597576,6.13712072372 -9.71663475037,0.000174640008481 l-3.05406421423,-2.92591094971 -0.000457564201497,-5.47404408455 l2.95570254326,-3.98295879364 0.102165071294,2.83917605877 m-11.7274641991,3.48213851452 l-3.08745086193,0.000562054447073 0.00126432190882,1.75187021494 l2.5135076046,-0.406173542142 -0.796568468213,-2.13616028428 l-0.693116933107,-6.63688160785e-05 m-6.38857126236,12.7674400806 l9.05538737774,-1.39241740108 -0.530711337924,-3.60597580671 l-3.55681210756,0.000189274633158 m1.33091926575,4.03827190399 l3.51601421833,0.000867695707711 m2.54610985518,-5.804464221 l8.03919920145e-05,3.46329033375 m-3.54262024164,-4.12297427654 l0.305754430592,3.28232795 3.84857356548,0.000602038744546 l1.00935034454,-2.49782413244 -3.33690077066,0.772172287107 l-0.000220394722419,2.985676229 0.641746819019,-1.61145329475 m-9.40709531307,6.3430929184 l2.34757959843,-0.421402677894 1.0404714942,-1.97977468371 m70.8146238327,56.581287384 l2.17314496636,29.6329951286 0.00366416003089,14.69363451 l5.33747911453,0.00088877757662 1.01894944906,-22.3021030426 l1.72670230269,-21.4451646805 1.91562071443,-2.56669253111 m8.68555128574,3.52771013975 l0.000593129261688,32.1912479401 6.44177794456,0.000419323478127 l-0.00122549303342,-19.1184055805 2.0003080368,-3.95882964134 m87.4146556854,-7.73892641068 l0.985211357474,27.2746491432 7.14893460274,5.78142821789 l0.753261521459,-10.6724202633 -2.69436776638,-18.800214529 l-0.00093649563496,-6.24036371708 m12.1788680553,-2.3521476984 l1.01240038872,25.5153441429 3.46257865429,7.46915578842 l3.17575454712,-15.5674242973 -2.46648997068,-6.83421969414 l-5.34516990185,-12.8694689274 m165.44807754,-86.4839753153 l24.3188905716,-23.3450818062 10.7970690727,0.291404332966 l4.64253008366,5.99251389503 4.2647126317,10.6551480293 l12.0174157619,-10.0119805336 22.0522809029,-8.49129915237 l5.01069009304,1.11997179687 3.46530258656,3.94731998444 l0.4927335307,6.12930595875 24.9046087265,-7.53153026104 l11.9759178162,0.00140550066135 9.63523089886,5.59185445309 l1.11705996096,7.31774866581 23.4949469566,-3.80511909723 l4.61278676987,5.93243837357 0.001314793044,7.59228587151 l-0.000346224042005,2.75431871414 19.6553838253,-0.829576700926 l9.71892535686,4.26802545786 7.29428648949,7.0091342926 l3.54518026114,9.19795751572 0.000417532901338,8.30355405807 l-8.02301585674,11.4519453049 -11.5749490261,4.31622207165 l3.07242423296,12.0881295204 -0.000191316885321,8.10556471348 l-6.27290964127,7.45594918728 -15.0752449036,5.16047954559 l-14.1545236111,-0.630432739854 -10.2989673615,-7.90960848331 l-7.07206308842,7.57469892502 -21.5477371216,4.45438861847 l-13.0513000488,-3.39506864548 -4.67771798372,-3.35543066263 l-7.14317262173,7.33233690262 -13.1675720215,3.8640871644 l-16.2687599659,-0.000289450581477 -11.0558950901,-7.00506269932 l-4.07094866037,-9.4192481041 -1.85780510306,3.3737513423 l-8.53352487087,4.26144719124 -13.3142066002,1.63789093494 l-13.7884795666,-3.79089474678 -7.23185479641,-7.79101490974 l-3.59935700893,-11.766602993 1.80810883641,-4.97369647026 l-10.9168612957,-1.66675046086 -7.76031136513,-8.93100380898 l-2.69303947687,-11.9176065922 1.633259058,-7.56503582001 l7.58418321609,-6.98351383209 5.31249523163,-1.82619079947 l3.48529964685,-10.1582610607 9.94338989258,-6.04434072971 l9.12570476532,0.00142086966662 m-21.5663504601,21.3051486015 l-5.20566344261,-5.1544880867 -18.1934654713,-6.41266822815 l-23.4282326698,5.29761016369 -8.76528978348,12.175475359 l6.62127315998,31.3251948357 4.17819440365,3.99022072554 l8.42432439327,3.04083019495 19.7844398022,-0.000210545258597 l7.15311288834,-4.08828347921 m-22.6741600037,-37.1371531487 l0.000575890335313,2.15614050627 2.56337016821,0.000260762426478 l-0.00026714451451,-0.00548989046365 -0.402729287744,-1.99144989252 l-1.47926837206,-1.08339861035 0.985222458839,-0.000105494327727 m-6.69346272945,11.8643939495 l7.18875467777,-3.59134078026 -2.15734854341,3.09822053168e-05 m-8.21073353291,-0.226027742028 l2.52215832472,-1.23050220311 1.0277377069,2.74671792984 l-1.7614351213,0.000774924701545 -0.741297602654,-1.88458144665 l1.050427109,1.05289511383 0.978602990508,0.198227614164 l-3.11155170202,-0.873292908072 0.903755426407,0.000578514882363 l-1.06652624905,0.000505188036186 -0.000611174982623,-0.872888118029 l0.885889977217,1.01599045098 -8.63143384322e-06,-1.09121978283 l-2.62450069189,0.000784548319643 5.50376216779e-05,1.18785075843 m-16.1410403252,15.0901699066 l7.84591913223,3.17588657141 4.94139492512,-0.000239233395405 m59.2719507217,24.3501424789 l-4.47588980198,2.93287366629 -9.42284464836,26.2772345543 l-11.4276850224,27.5609397888 0.00296191283269,10.3959512711 l5.07529675961,5.09875714779 10.7727718353,-0.000146633947224 l6.28892064095,-5.7549071312 7.81775355339,-48.2021331787 l5.27445554733,-14.0816283226 m9.08951282501,5.30083537102 l-1.37901231647,7.45939671993 -15.1941692829,37.2403740883 l-0.935372561216,15.9675383568 8.18023860455,6.40847802162 l8.26445817947,0.854718461633 4.51657742262,-4.48271781206 l6.55950248241,-50.7474184036 4.36219900846,-10.8170700073 m63.9846754074,11.7078578472 l-4.68425482512,29.5442867279 1.6962236166,11.9393527508 l5.21049261093,8.35732161999 6.51742577553,2.14946523309 l11.4710950851,-4.83756810427 0.000211234491871,-14.658908844 l-1.14661075175,-25.147151947 -4.46321696043,-7.63111352921 m11.4931488037,-3.207500875 l5.43795466423,23.4404015541 2.54549980164,5.03487169743 l8.91852378845,11.3678622246 5.68218767643,-1.70947611332 l3.77078741789,-11.1002218723 -0.000122104584079,-16.4690768719 l-5.33560037613,-11.0236334801 -3.83387506008,-1.69997885823 m-12.8199338913,-59.3984174728 l0.946489349008,-2.17957630754 8.52552592754,-3.58466088772 l12.4053895473,-9.48425167735e-05 17.0898675919,9.43257153034 l3.86051177979,5.51989495754 -1.1234152317,11.554466486 l-8.04870426655,9.20252978802 -13.492026329,5.72102963924 l-17.1398162842,-0.000656082702335 m19.5574831963,-34.0769481659 l-0.00103027443402,5.56225001812 6.64069056511,6.85992598534 l0.997551977634,-0.722465440631 1.3747882843,0.600013397634 l3.41209560633,-2.04971253872 -0.000443799181085,-5.02160906792 l-10.8153831959,-8.61298561096 -1.69908180833,1.35969623923 m135.924305962,-14.7382117129 l24.0911126137,-23.0469346046 8.42368662357,0.00170979896211 l9.35340881348,5.5688816309 7.17431604862,-0.302323065698 l16.0222125053,-6.3507860899 4.32086110115,0.000512130645802 l3.04692655802,2.31615051627 13.7203454971,-2.4104835093 l15.8638989925,2.13584825397 3.68687003851,3.07115763426 l10.6061351299,-4.18599814177 15.4255318642,0.000365866108041 l10.1305305958,4.82110053301 7.91841506958,10.454365015 l18.5631132126,-4.29792582989 23.2865405083,4.76352363825 l4.72768992186,3.75481545925 1.20267227292,3.4041684866 l-2.31435552239,8.61883759499 10.6409442425,6.25214219093 l7.44600474834,11.7555868626 -0.000322383166349,16.0024333 l-4.58934307098,4.14516538382 -14.3234562874,25.023162365 l-7.09435224533,6.8097537756 -9.76809322834,4.25546735525 l-13.4716844559,0.874590799212 -14.217761755,-7.71379888058 l-13.1806576252,5.89617729187 -10.5698001385,3.69545787573 l-10.2743661404,0.00024711169317 -26.2212777138,2.32826694846 l-13.4879684448,-3.79514783621 -4.01345819235,-3.25773328543 l-5.86832642555,3.37698400021 -16.3486289978,1.00301623344 l-13.6609780788,-4.1633400321 -9.89256560802,-9.57900285721 l-2.14309260249,-4.73258823156 -17.3308634758,1.28224372864 l-10.7127225399,-4.70973432064 -3.79082411528,-4.87612485886 l-0.812397524714,-9.34287905693 6.66183114052,-5.47561347485 l-6.18105649948,-7.64794111252 -2.76824176311,-8.16087245941 l1.51530906558,-6.74185752869 4.22944545746,-3.73388588428 l3.79726499319,0.000684297410771 -0.000994811489363,-9.9223780632 l3.5807672143,-3.30240815878 4.71518486738,-0.793582648039 l8.21160137653,3.73053044081 -0.000827745097922,1.30722716451 m-9.41080987453,13.4470379353 l0.19222041592,-2.19239845872 -0.877243801951,-0.000762768104323 l-0.304799098521,1.1555595696 -1.43666267395,0.4077520594 l0.566814728081,-2.07500174642 0.349932014942,0.607627667487 l0.333805717528,0.202240794897 0.382416695356,2.17359632254 l-1.05343721807,-0.668332874775 -0.0734525360167,-0.967281982303 m-18.2974112034,21.4138698578 l-0.99532969296,0.0286977272481 -2.18376636505,-0.353396981955 l-7.95708638179e-05,0.267694871873 1.43318578601,0.164326690137 l1.01252287626,0.943233445287 0.888261571527,-0.37580370903 l-1.12687364221,-1.10872581601 m0.22461540997,-0.605502463877 l-1.29355728626,0.000552414239792 m-2.16955035925,4.43733632565 l6.08428895473,-0.373572967947 0.000437575290562,1.14138320088 m-2.53581851721,3.52513760328 l-0.715060159564,0.814300402999 0.746846422553,0.905502960086 m-4.29322481155,5.09867191315 l3.9744836092,0.000931798567763 6.02466583252,-0.000646751868771 l13.9519321918,-5.2542245388 m3.57430458069,-35.2769994736 l-0.987563952804,-1.65363907814 0.228572431952,-3.83620142937 l5.66200971603,-5.11267662048 3.76874625683,0.00110449720523 l0.000214562387555,3.47967356443 -3.88834536076,3.69280040264 l-0.000694155751262,4.45693105459 -1.21055714786,0.623909719288 l0.000137723945954,0.28467150405 m38.7519097328,54.6264362335 l-2.54522830248,11.7022573948 -0.000756200824981,11.1181306839 l-4.46675926447,13.2473552227 0.00163144082762,7.58031904697 l2.71752655506,0.914911776781 6.62151515484,-12.1397578716 l0.000991232736851,-23.5873961449 4.28428828716,-7.63292729855 m11.1214101315,4.52094316483 l0.000371700807591,26.3394236565 -2.4872943759,11.8263065815 l3.31238716841,-6.16941497356e-05 2.38605514169,-1.72254741192 l1.92299097776,-28.781247139 1.24073326588,-16.0207974911 m80.314617157,11.3389384747 l-0.426878966391,31.7686152458 5.65740346909,5.97384095192 l4.83236819506,0.000166775298567 -0.457291863859,-30.380589962 l-0.237734764814,-13.7582111359 m11.2217497826,-0.411879494786 l2.06814065576,7.777146101 9.19530749321,34.6277189255 l0.00215124789975,2.75449037552 0.513340868056,-0.000486683602503 l2.90134817362,-6.63114607334 0.000704070043867,-17.6478016376 l-2.48859465122,-5.46513259411 0.000797940883785,-14.29666996 m-55.2382707596,-54.7716569901 l-2.75246679783,4.38866317272 -2.14048415422,10.0515162945 l3.47147375345,7.20340549946 12.5305342674,7.25797474384 l10.1383054256,-3.38926017284 5.74143230915,-10.4994368553 l-0.92291675508,-11.967972517 -3.68734300137,-3.72678250074 m-67.4633789062,15.2586948872 l0.000926809589146,6.0847556591 5.01822650433,4.1661259532 l9.1820192337,3.27874720097 7.9542952776,-0.903989523649 l0.931827649474,-6.95894122124 -3.03347706795,-5.75387835503 m214.871894102,-24.0229344562 l24.654173851,-23.4890317917 7.19762682915,0.00154325869516 l15.7090175152,2.92617172003 5.45604288578,7.98144996166 l3.38893055916,0.00164875003975 13.0616593361,-9.8507976532 l13.1661832333,-2.42861270905 11.9876050949,3.15817266703 l9.69341635704,11.1669003963 0.000368360051652,0.568855777383 l15.8962035179,-10.7758164406 22.162361145,-2.57948577404 l7.86767363548,4.94516074657 8.3065611124,15.5288958549 l28.0995893478,9.38788890839 0.00232054488151,10.0324749947 l-7.38731861115,9.10352349281 1.78883031011,0.424487628043 l12.9255735874,13.2330834866 6.01524055004,12.3482394218 l-0.000313555792673,8.18145215511 -7.04698562622,6.73206746578 l-22.4363327026,3.9878231287 -6.88749551773,0.000359006407962 l-4.64377909899,-3.57180207968 0.00172137879417,0.278703365475 l-2.75448620319,12.2988057137 -10.5594921112,7.77327656746 l-13.0620777607,4.55324232578 -17.1754288673,0.000883745669853 l-9.66222941875,-4.02088493109 -6.66382551193,4.81503516436 l-9.28070008755,-0.0310151721351 -10.3480279446,-1.78410574794 l-4.15026217699,-2.33818665147 -5.37014663219,-8.37660491467 l-1.48991629481,-5.5814063549 -8.08886766434,5.99978744984 l-11.617770195,3.98090809584 -16.0546195507,-0.00132428336656 l-8.90846908092,-4.17810410261 -3.77213060856,-4.73826885223 l-0.0010213751375,-4.94641780853 -8.49035322666,4.86699253321 l-13.6239159107,3.12120139599 -6.84762656689,-11.8316423893 l0.10615164414,-5.78200757504 -0.327254533768,-4.71197426319 l4.91709172726,-11.8593192101 7.94008553028,-3.81098568439 l-11.8138229847,-11.6643381119 -1.50071978569,-5.39415299892 l2.38887384534,-6.88078165054 4.29388791323,0.000295372083201 l0.00134521003929,-0.342642888427 1.38562336564,-2.29875355959 l0.000963922211668,-6.65049433708 4.67444717884,-3.46236199141 m26.982460022,0.721379369497 l-1.34685888886,-4.12083119154 1.58073946834,-4.51026707888 l8.45152854919,0.00110423010483 3.21024537086,4.0344747901 l1.61837935448,4.82905715704 4.86967951059,-3.17016214132 l0.00247574498644,-1.87762096524 m23.9655303955,15.3871262074 l5.22662878036,-4.5593547821 11.1824381351,-2.05088540912 l9.38838779926,0.000959163808147 4.94045168161,3.68097096682 l-0.000152332413563,4.02493864298 m5.86969971657,17.4873566628 l5.20449995995,4.65731024742 0.998842045665,6.1935544014 l-0.444495677948,6.09756290913 -0.526225194335,-0.000178060126927 l-0.369307398796,-1.65706783533 3.72459173203,3.00148159266 l1.05286389589,3.68692457676 m-1.85777291656,-26.3388395309 l-0.000227058953897,0.664649307728 0.366731435061,0.910877883434 l0.789706408978,1.33065536618 0.0922156777233,3.68678867817 l12.1332800388,7.8877055645 -0.000420881478931,4.31786179543 m1.27479255199,1.67238533497 l4.33581620455,-8.16387653351 m2.06356287003,-2.8561103344 l9.08507990971e-05,-2.19641014934 2.52843946218,-0.632014274597 l5.38946628571,5.75364351273 4.63800281286,1.03961147368 l0.000262322319031,4.75245505571 m-92.8255939484,19.4993317127 l-7.2858351469,1.18758402765 -8.20857405663,10.9654116631 l-0.10472050868,7.34366774559 2.72057563066,3.15426141024 l12.4151337147,4.3387234211 5.84226727486,-4.62742656469 l6.34230256081,-14.9622476101 m8.52500796318,-6.29747331142 l5.0519245863,-0.0015985108621 -0.000405640566896,0.48166513443 l4.19076114893,12.9352104664 5.83552718163,6.66611075401 l7.88788318634,2.44136184454 0.00109716049337,0.493483617902 l0.238443873823,-0.986119583249 -0.299078579992,-4.38182234764 l-5.30446529388,-5.8401954174 0.000385434977943,-7.70000934601 l-5.14420568943,-7.23704516888 m4.29148346186,2.13438481092 l3.03868144751,6.91731572151 0.705913975835,12.0067644119 l-3.92386853695,6.01273357868 1.61044478416,-1.84335112572 l4.64144706726,-1.31298154593 -0.334258489311,-8.46898972988 l-4.20831441879,-3.82729560137 m21.7381262779,-10.2281415462 l0.97979478538,27.0295381546 0.00182081828825,3.63575428724 l0.649141520262,0.000545214679732 1.33654564619,-3.63251358271 l4.25327986479,-12.6568472385 -0.18789101392,-10.3291761875 m15.5267941952,-12.2872722149 l7.04202413559,5.16315221786 1.36718913913,7.56783008575 l0.472954586148,1.02008752525 1.44727483392,1.39790669084 l8.9936375618,0.960634723306 1.85560211539,-5.67001879215 m-126.274900436,-82.5694942474 l-11.1786746979,4.27899211645 -4.60351794958,7.19168365002 l1.23907327652,4.14334744215 -1.80843606591,3.56178462505 l-8.25551331043,4.2944663763 -2.91324406862,6.53298079967 l3.82748842239,0.889303460717 17.3476648331,-0.873715132475 l13.3031177521,3.47573876381 13.1697845459,4.39640522003 m310.712720362,-30.5937343084 l24.8082399368,-23.5650157928 9.81368005276,0.00188997728401 l5.32567322254,5.7698816061 4.75329130888,10.9366762638 l13.3685159683,-11.0497903824 23.9000797272,-4.47210818529 l6.02064788342,9.14057672024 -0.304371807724,7.26659655571 l9.59101736546,-10.2661156654 10.6632649899,-6.05976700783 l5.3673350811,0.000461939089291 3.70792746544,4.14448916912 l6.05967819691,9.96509492397 9.70976412296,-6.13508045673 l13.3040821552,-1.32336959243 12.6887333393,2.40247815847 l3.52130681276,3.74662846327 2.32991725206,9.86167252064 l22.6409244537,3.5033595562 13.5678601265,16.6852772236 l0.000848579147714,6.7034393549 -11.5008032322,8.57467651367 l12.3092365265,12.6977431774 -3.56649249792,5.76852798462 l0.056337248534,18.4210598469 -4.79368567467,5.90629637241 l-9.13890004158,4.88623559475 -10.2699828148,3.37659448385 l-3.35442453623,1.02547302842 -4.89108681679,-1.04267604649 l-13.6229228973,10.3415572643 -12.5496256351,7.30790197849 l-22.2537183762,-11.2547242641 -3.23779404163,-4.12454128265 l-14.5605301857,9.60912883282 -14.5164179802,-2.87026227852e-05 l-11.4114677906,-7.8896021843 -3.64352822304,-10.3390705585 l-12.107219696,9.54068183899 -11.5737080574,2.74931550026 l-13.0700325966,2.84276336432 -5.21837711334,-2.36322239041 l-2.27407053113,-5.25571584702 -7.47618794441,-11.3850438595 l-24.8564887047,3.88023078442 -7.38990187645,-1.83924943209 l-6.94592237473,-13.9898967743 -16.2709891796,-12.5426030159 l-2.80499309301,-9.80174064636 2.74661630392,-12.4517905712 l9.75261688232,-8.40538144112 -2.79001951218,-17.6574504375 l0.00117776762636,-7.28845953941 4.5245629549,-2.50020027161 l7.85889089108,1.3303783536 4.88580286503,-4.38691139221 m-11.0986828804,16.1118996143 l-38.2766437531,-0.392807796597 -20.8360624313,7.4651914835 l-17.0313465595,12.4772298336 -3.01378905773,5.1323056221 l-0.000153094752022,6.30464851856 3.79539877176,3.05454641581 l38.4770417213,9.02954343474e-05 15.7937753201,-4.26751583815 l11.5384590626,0.0012880252325 5.18783628941,-0.00177532987436 m-36.8841195107,-22.8435969353 l0.000958238888416,-2.95333117247 m-16.0366106033,12.3996222019 l13.1772518158,0.00314348959364 4.1873678565,-3.44282925129 m-13.3880901337,-21.0194444656 l0.00145321086165,3.52163285017 4.10073101521,1.96650117636 l4.65914577246,0.000754990178393 -0.000315713768941,-4.39621776342 l-5.10222494602,-2.78422445059 -4.36959832907,1.18169613183 l-1.65395200253,6.57931447029 8.12765419483,0.000259604912571 l-0.000119742644529,-7.51477956772 -3.32159936428,-1.95544635062e-05 l-0.000758373062126,4.29385751486 3.68684411049,-0.000703560581314 l-1.54951199889,-1.84073314071 0.138089405373,-0.00165183475474 l-4.36333507299,0.924876853824 -0.000441683587269,0.872042998672 l1.72197327018,-0.602820217609 -0.985187217593,-1.99282109737 l-2.2492942214,-0.000858769490151 -0.000841972869239,2.47220501304 l4.21394795179,-0.776839256287 -0.000929849702516,-4.28265124559 l-2.78046578169,1.08179032803 -0.0315790995955,2.09838449955 l0.498760938644,-0.000311539952236 0.356753207743,-1.50411084294 m47.6175880432,66.7276906967 l-4.14374649525,30.0637841225 0.00163019707543,5.81980586052 l11.4166092873,7.86590695381 3.88468801975,-41.2631177902 l-2.75663614273,-2.73120373487 m14.666352272,5.38415133953 l-1.0192206502,37.4256110191 9.42774713039,0.00361100537702 l1.06314264238,-24.6978235245 m80.0942325592,-19.1391575336 l-2.71046519279,8.92935872078 0.00174936896656,22.9527926445 l2.95173287392,6.06945455074 3.63475769758,0.584360286593 l5.43763279915,-4.70707982779 0.000667152489768,-19.7081375122 l-5.4716783762,-10.9739840031 m10.5896925926,-0.0968841090798 l3.18536639214,13.2872569561 2.39644661546,3.49349439144 l1.81218400598,10.3807353973 9.15500104427,-0.000170260173036 l3.91076385975,-13.370360136 0.993912294507,-17.8249132633 l-3.86531680822,-5.46694636345 m-92.5859260559,-64.439406395 l-5.22843062878,-9.31618690491 -9.69177365303,-3.89307388104e-05 l-3.19873183966,1.77651643753 3.71412307024,5.08705377579 l12.5413763523,0.304303970188 -3.75174582005,4.91355359554 l-0.202180407941,15.3420269489 -4.31155920029,9.64063167572 l3.89915078878,1.06766276062 -2.20486089587,3.56317907572 l0.000169277991517,3.83030563593 m77.1012783051,-33.1802725792 l2.2732937336,1.11627407372 0.684545561671,6.95067644119 l-3.66284191608,5.83752989769 12.8973865509,14.1131901741 l-1.63627490401,1.936891675 -6.34413957596,5.08597671986 m19.9798774719,-47.4091768265 l0.00265000853688,3.93656641245 -0.09397033602,5.97759306431 l0.00145287529449,11.748405695 0.000266393344646,2.98376232386 l1.02594040334,5.1267427206 2.84298270941,2.66282558441 l14.9205732346,0.687255859375 0.000793626459199,0.36082431674 l-0.23515900597,0.392989851534 -0.369980856776,2.32392564416 m123.596894333,-44.5228765957 l24.0590763092,-23.1398820877 10.183993578,-3.19242030382 l15.2492833138,6.06229841709 3.88103306293,8.18166732788 l0.363029204309,5.47615468502 12.9784429073,-11.9574296474 l13.1289100647,-4.09113675356 23.9165306091,1.19404390454 l2.91414767504,3.44604671001 13.3732962608,1.46935582161 l3.67944985628,3.33441734314 11.0585796833,-2.03446239233 l18.1558179855,-0.000408788000641 0.000853050878504,5.97249627113 l4.38161581755,0.00029202141377 25.2626490593,3.15577030182 l10.7273077965,9.53029990196 2.48354956508,5.74312865734 l0.000879829240148,6.01697206497 -5.66635429859,2.4191506207 l13.4395003319,11.2282621861 0.000448529826826,4.67207401991 l-11.1106014252,20.6373667717 -6.19490087032,1.93439587951 l-0.962960794568,10.2617371082 -9.66616272926,8.15530896187 l-12.4968314171,3.96990567446 -7.42770791054,7.83673286438 l-14.6379768848,6.64410710335 -52.1612215042,1.09125174582 l-7.63667345047,-7.37780213356 -11.5387690067,6.98047161102 l-26.37799263,0.499531142414 -5.94635784626,-6.70142173767 l-17.6814413071,-0.0945841707289 -22.3618102074,-2.96689599752 l-7.41698861122,-10.1995754242 -2.46103674173,-12.4600684643 l-3.41456562281,0.000219194389501 -5.47818779945,0.000409887543356 l-4.76745337248,-3.52766662836 -0.822859406471,-8.60111296177 l3.90138536692,-5.25111079216 5.78322529793,-4.085277915 l-13.6171102524,-0.743347629905 -4.30487394333,-8.19975197315 l1.24689124525,-15.8696532249 7.73858547211,-8.53234112263 l4.38067764044,-3.10651898384 4.7612786293,0.00090859735792 l4.42750364542,0.00182891846634 m193.142700195,6.10417723656 l2.38822758198,0.0011108648323 17.8521120548,1.07883617282 l4.21314567327,2.69523113966 8.78150165081,0.00227240409004 l8.90903055668,7.51870214939 0.740483403206,3.50260674953 l6.46871507168,0.00128644416691 m-225.676212311,22.0097923279 l-2.82014876604,0.0041744284681 0.000830984135973,6.21115028858 l2.542719841,3.7635833025 8.07575404644,4.48277503252 l6.13066673279,0.00058227313275 9.28069651127,-5.60120224953 l-0.000630286813248,-2.52324581146 3.22576373816,-1.88401207328 m-9.70212101936,-5.33150196075 l4.0643414855,-2.28611379862 -0.000306006477331,-0.666043385863 l3.70482772589,-3.22251021862 9.53732609749,-2.83089011908 l2.9388988018,1.96837499738 m-3.52325707674,-10.6699192524 l2.96292543411,-1.23274378479 14.1313552856,2.48687803745 l1.07275657356,8.40264976025 -10.5742299557,0.985547974706 l-6.7138838768,-5.45580208302 0.469723939896,-4.11855697632 m-22.2108316422,8.05872142315 l0.229520052671,1.53276652098 0.000754088760004,-1.04160420597 l1.72663331032,0.000720930547686 6.60589148538e-05,1.60208076239 l3.09150010347,9.80317508947e-05 m-7.64688313007,6.72786712646 l14.8330354691,0.00122968980577 1.07351146638,4.68305319548 m-8.54306519032,-8.95317554474 l0.979448333383,0.00254866550677 5.86463153362,0.217122025788 l6.04730725288,3.42164158821 m82.955789566,62.8302764893 l-5.68965613842,18.3946073055 -5.90291082859,12.7098202705 l-4.74536389112,14.7191202641 -5.81578314304,7.87226676941 l14.296040535,-4.06332284212 4.86704796553,-22.3087906837 l3.4526693821,-24.9995779991 -5.08991360664,25.8960056305 m2.3136742413,-8.95646572113 l-3.89101862907,9.30893063545 -9.60102319717,22.7182292938 l7.83237099648,-5.27495205402 8.91440153122,-26.2093806267 l3.84025216103,-8.78242433071 m120.35402298,-7.14320242405 l0.000334022552124,28.2577610016 -3.72628331184,9.60653603077 l-0.00022472208002,3.74228328466 0.171014033258,1.01727344096 l-7.71670222282,2.20803871751 1.80868759751,-18.4493672848 l8.04011702538,-12.2227907181 m-29.0634775162,1.99728876352 l-1.08313180506,11.3814818859 -0.000384401937481,-0.857924371958 l-1.03300228715,3.54107946157 -2.12679505348,1.45048424602 l0.423074178398,-2.84060001373 3.67250233889,-10.017888546 l5.82049608231,-4.89686429501 m-9.94485497475,-48.9021492004 l-2.79327005148,-4.53227162361 -9.37682390213,-3.31629306078 l-10.1922619343,-0.5176872015 -6.48636758327,3.35382908583 l0.000675921037327,3.88883262873 -0.0481761386618,3.07509243488 l3.16459685564,6.13741934299 7.95640528202,6.27982079983 l4.8856946826,0.00225898140343 7.31698334217,-2.45528489351 m-15.2195346355,27.6558804512 l-0.992788597941,10.4925239086 5.70005834103,6.17893338203 l11.639701128,0.00030337507269 4.75481241941,-2.61005461216 l-0.952322110534,-12.7316319942 m24.2829465866,19.258402586 l5.46377420425,7.65255451202 7.89261698723,0.983778312802 l8.61016690731,-6.45910978317 3.04440587759,-7.85157322884 l-0.000361916063412,-6.30723834038 m131.488587068,-97.3806653114 l24.2308712006,-22.9761552811 12.1927154064,0.00244706228841 l0.00230412406381,7.10439920425 13.2657659054,-1.64405524731 l14.7096717358,-5.95087067268e-05 1.40359938145,7.46466755867 l1.10548190773,-1.09631188214 24.6752810478,-8.13835740089 l3.12740087509,1.95783868432 5.78761816025,0.0337394699454 l1.90791755915,8.8727915287 -2.03209042549,0.00149818035425 l35.2479791641,-6.19123220444 12.4541187286,0.984126999974 l4.92356300354,4.57484006882 14.540605545,8.31887364388 l0.00207171935472,3.21171611547 -9.51827824116,6.41947209835 l11.7690122128,-3.53956103325 18.9062440395,1.76366522908 l0.920133814216,10.4469001293 0.00116695409815,12.8903627396 l-7.15742111206,4.95690524578 -12.6109349728,2.75066792965 l4.03838574886,23.3274149895 -6.50917947292,5.85938990116 l-23.6766123772,5.31888484955 -7.34044790268,7.56728112698 l-8.5550993681,3.14276248217 -2.02040806413,-0.274340994656 l-2.98840969801,5.75272023678 -17.1516513824,0.000360337835446 l-44.9525880814,-12.8269648552 -12.8508877754,-5.46959996223 l-2.25821956992,-1.92316561937 -20.1381039619,1.25767439604 l-13.0957639217,-6.88320338726 -3.12159568071,-7.07984149456 l-5.16484498978,4.47829574347 -7.33061492443,0.0868805125356 l-12.7988231182,-12.7853167057 -0.49047164619,-1.66698276997 l-1.51260644197,-19.9716746807 16.2606680393,-11.4735794067 l-4.15349453688,-8.62182915211 1.46707370877,-4.90537375212 l6.26431405544,1.14913135767 8.18480372429,1.13586373627 l11.3885295391,-0.00197258530534 m-47.5320577621,-5.094653368 l1.05343639851,-2.93554395437 -4.00029689074,-7.17319309711 l-38.173956871,-6.51639819145 -20.8163332939,-0.00165035540704 l-13.1531381607,5.9392374754 -2.58995831013,7.08786189556 l1.10379129648,2.92701512575 4.25276607275,4.78697031736 l5.05418121815,2.59425371885 11.8168103695,3.80042493343 l25.5299782753,-0.0440341746435 11.2010765076,12.540948391 l16.9804406166,1.18260875344 1.17203369737,-8.10443937778 m-63.8481855392,-30.6596875191 l0.0119346391875,0.00194840118638 2.20255345106,-1.14734143019 l2.03485921025,0.000345102489518 0.434822253883,0.000356467171514 l-4.95650470257,1.69966176152 -1.33631467819,-2.63363271952 l4.10711377859,-0.67214615643 -0.000296124417218,3.18440914154 l-1.21059089899,1.65869042277 1.08059130609,-4.39778506756 m-9.94103550911,12.6816999912 l0.000129513409775,2.98606753349 1.1388528347,0.0349023845047 l0.000168131791725,-1.30387112498 -4.82604175806,-0.768974795938 l-0.00036230769183,1.40419185162 -0.000201184884645,-2.03730195761 l1.14735387266,1.64048880339 0.00136586953886,-1.60906359553 l-0.138206547126,1.76821619272 m80.2403736115,39.642636776 l-5.74163556099,2.98524856567 -3.5797059536,7.06367790699 l-4.9310746789,22.377166748 m37.4242663383,-20.9372138977 l9.80292379856,8.64593803883 6.80145561695,28.3706068993 m19.877153635,-48.4968233109 l-0.0627447338775,56.6111087799 2.48978063464,10.5712747574 m49.2677259445,-63.7949705124 l9.36961650848,2.12055400014 m7.64629542828,-6.0759562254 l8.45935940742,15.2159392834 11.975467205,17.3389840126 l10.6253564358,13.9208006859 m-127.405719757,-71.5590000153 l-2.58389174938,2.25927427411 6.11645877361,-2.47161120176 l6.74382328987,3.58513593674 1.02967873216,10.5121910572 l-16.3537430763,3.14077854156 -11.8597245216,-2.54426449537 m-9.05792117119,-26.0145831108 l4.67909932137,-0.17513372004 3.26324135065,6.53566479683 l-7.87738859653,6.10333442688 -5.02651154995,-0.334653668106 l3.05506169796,-9.61913585663 -6.71183443046e-05,2.2118614614 l1.87264829874,0.000964968785411 2.39577978849,-5.90959787369 l2.38296464086,-1.67786419392 2.05161586404,0.32884657383 l3.74866604805,5.23576796055 -0.00159325776622,3.26637864113 l-1.4840619266,4.9041134119 m-5.55832743645,-11.4450252056 l0.000772765051806,15.7605612278 8.54035377502,-5.8791577816 l-0.000783528230386,-15.4288613796 -8.18749785423,-0.00135308961035 l-0.000695793496561,7.65239179134 m36.3455319405,39.9057579041 l-3.01222413778,6.46302342415 -0.000863030654727,-2.14160710573 l5.02717316151,-10.3063380718 11.5045785904,6.13549172878 l4.97262716293,8.78507971764 -4.2787989974,-2.22395479679 l12.7502393723,-1.31996542215 m239.093260741,-63.5546332667 l24.4114875793,-23.0936670303 13.4655272961,-2.33073174953 l10.323677063,2.74533301592 4.64039623737,3.71283501387 l1.67003944516,10.9113228321 -1.44493669271,-0.00153045257321 l5.27087330818,-7.28249251842 38.1630373001,-13.8374602795 l18.7474036217,-5.16853511333 18.7241482735,1.70073732734 l5.05869328976,2.6515558362 7.17380046844,24.0837693214 l-14.2236030102,-3.48273605108 15.2357149124,0.243123658001 l21.3890957832,2.81174480915 3.02778422832,5.46669065952 l-8.19079041481,9.91803109646 -8.01992893219,4.15650874376 l22.0301961899,7.404692173 -1.08021698892,9.95095789433 l-5.02637803555,6.38687849045 -3.96236360073,2.78148204088 l7.05908358097,6.36944949627 0.00125015969388,14.9884736538 l-10.2210831642,8.35691928864 -15.138835907,2.10194543004 l-5.52254550712e-05,5.36294877529 -6.53297841549,9.38935816288 l-5.57608366013,1.81928440928 -12.8897500038,0.000153394157678 l-15.67948699,-6.23382627964 -2.0396900177,-3.14575761557 l-4.27532672882,7.31898546219 -19.01725173,2.80448168516 l-7.53935158253,-2.73411214352 -9.52424705029,-9.34953093529 l-0.368520654738,-2.63384997845 -16.2535643578,9.75773632526 l-8.8227045536,-5.17605125904 -9.54995572567,-10.8761107922 l-6.12682759762,1.3132981956 -24.2860102654,7.46406972408 l-9.47345972061,-11.413705349 -4.38736766577,-2.70321816206 l-9.58735346794,-3.54631841183 -5.98095595837,-7.32631862164 l1.60500407219,-11.2731707096 0.00030101307857,-8.42889606953 l5.41788876057,-3.78939390182 9.58028197289,-2.87423074245 l0.00234364852076,-12.0172357559 -1.89934417605,-3.63881856203 l1.02326959372,-8.52008402348 6.34855031967,-6.82206511497 l11.8244171143,-0.670702755451 1.21145702899,6.77213251591 m-7.7222853899,35.5770015717 l-0.000776038432377,1.77916169167 4.78322714567,0.00201027389267 l5.14302611351,-8.02015483379 -0.00111161876703,-2.6359090209 l-4.12270575762,0.0406800350174 m7.37704455853,9.29853618145 l2.19821348786,-0.000820918867248 -0.188262891024,-2.77163177729 l-3.28595012426,-0.00201464106794 1.70148491859,-1.60348698497 l-2.65026092529,0.000298189825116 -2.00096040964,2.4269926548 m8.10117721558,-2.7691257 l0.998731181026,-7.07246303558 2.28191331029,5.34917593002 l-2.87289351225,2.90610700846 m-31.9051980972,4.7514629364 l-0.00106054038042,6.35077893734 5.63511550426,1.06527946889 l1.85228407383,-2.3335300386 m-2.79560059309,-3.43399882317 l-0.00221639784286,8.97909581661 -5.52654147148,1.08547352254 l-5.56842148304,-3.99316728115 0.846609920263,2.73201316595 l3.57322543859,-0.882996022701 0.777864530683,1.54653206468 m19.8207354546,-29.8282361031 l9.39619898796,-0.640782788396 m7.94377446175,-0.648277774453 l13.1215834618,-0.688655823469 0.00116091461678,6.29229068756 l-6.93361878395,8.49970519543 -2.30918079615,0.000815294260974 l0.00057336397731,5.28651177883 m-20.5186104774,-17.176271677 l-19.5533895493,0.9938326478 -11.1075675488,9.16802946449e-05 l-7.50152230263,2.67455130816 -0.000701644239598,16.1476027966 l21.7739534378,-2.44388639927 1.16699576378,-4.67463821173 l9.46360290051,-0.0379725685343 1.03297367692,2.4148876965 l-3.89696478844,-0.000764912110753 m-6.99538946152,-12.8559052944 l0.00190398408449,-5.43996810913 m1.90706804395,7.21412956715 l-4.88450944424,0.00169973791344 m26.8116641045,47.0904397964 l-4.5950576663,14.3435430527 -4.92463707924,65.0367021561 l1.01018667221,-4.04650330544 8.84114146233,-0.00240806271904 l0.000115558550533,-17.0005500317 -5.64394593239,-14.8993253708 l0.980125814676,-30.2274417877 m10.8539009094,-1.21803440154 l0.00293611112284,19.8733782768 -0.327781401575,16.3125765324 l10.3424108028,24.6109056473 -0.00209130448638,-4.0789309144 m-1.03426255286,2.25747689605 l10.0961863995,0.0015446265752 0.000330994953401,-7.11105287075 l-7.23665177822,-9.78174686432 -2.92747288942,-15.2430605888 l9.55462496677e-06,-20.296754837 2.31700986624,-6.91340744495 l-1.8393355608,-2.80225723982 m96.9226646423,15.0115942955 l8.71315121651,39.7150063515 5.48267006874,10.1661419868 l11.5491187572,-2.20508158207 1.08331441879,-1.31832242012 l-0.000517677763128,-16.1071884632 -4.21101897955,-10.2086055279 l-8.83570492268,-15.5055069923 -3.48981887102,-1.70481562614 \" fill=\"none\" stroke=\"black\" stroke-width=\"1\"/></svg>"
          },
          "metadata": {
            "tags": []
          }
        }
      ]
    },
    {
      "cell_type": "markdown",
      "metadata": {
        "id": "74H_IWFIRGrc",
        "colab_type": "text"
      },
      "source": [
        "Latent space Interpolation between $z_0$ and $z_1$"
      ]
    },
    {
      "cell_type": "code",
      "metadata": {
        "id": "lRnVuSwkRMld",
        "colab_type": "code",
        "colab": {
          "base_uri": "https://localhost:8080/",
          "height": 223
        },
        "outputId": "cdb2b1f0-fbbb-4f9e-d97a-3d3d920f54e8"
      },
      "source": [
        "# get a sample drawing from the test set, and render it to .svg\n",
        "z0 = z\n",
        "_ = decode(z0)"
      ],
      "execution_count": 45,
      "outputs": [
        {
          "output_type": "display_data",
          "data": {
            "text/plain": [
              "<IPython.core.display.SVG object>"
            ],
            "image/svg+xml": "<svg baseProfile=\"full\" height=\"202.218100068\" version=\"1.1\" width=\"359.989592256\" xmlns=\"http://www.w3.org/2000/svg\" xmlns:ev=\"http://www.w3.org/2001/xml-events\" xmlns:xlink=\"http://www.w3.org/1999/xlink\"><defs/><rect fill=\"white\" height=\"202.218100068\" width=\"359.989592256\" x=\"0\" y=\"0\"/><path d=\"M124.766174676,48.2578206062 m24.2895579338,-23.2578206062 l8.52527141571,0.00131797423819 7.93012261391,5.20057976246 l9.15815114975,1.92148402333 13.8512814045,-5.34751951694 l8.01367044449,0.000824475791887 7.5252777338,4.61112380028 l5.24103224277,8.39479148388 8.84513914585,-6.4300018549 l13.5156226158,-5.62244772911 11.9781947136,0.000528195596416 l9.51229155064,5.8918184042 6.65732622147,9.87832307816 l8.84820640087,-5.75075268745 14.3414866924,-3.37713241577 l14.2123556137,2.26177990437 8.95595312119,8.14468979836 l5.12257814407,12.3925375938 12.7847707272,2.75455981493 l7.72531330585,8.01507472992 3.18981438875,13.6918854713 l-5.63643932343,10.9615576267 -11.3064849377,6.78723633289 l2.74368435144,13.4280061722 -3.43220829964,11.2445688248 l-10.8703231812,7.78955519199 -14.8060131073,2.89073944092 l-14.7442257404,-3.88742923737 -12.4651134014,9.25134539604 l-14.7729659081,3.69012475014 -14.6691858768,-0.000222762919293 l-12.5852274895,-5.96835196018 -8.359811306,-9.34937059879 l-8.85719299316,6.17441534996 -12.2388374805,3.90241205692 l-14.7755670547,9.07255252969e-05 -12.705821991,-6.16843879223 l-8.05545985699,-9.62758481503 -7.19635128975,4.35625970364 l-16.0376870632,0.000816090978333 -11.0514855385,-6.13599061966 l-4.06484335661,-5.42509555817 -2.84618705511,-10.6509459019 l-11.3211870193,-6.47965610027 -6.42382621765,-9.91655349731 l-0.899385288358,-6.80625021458 4.93623137474,-8.50807070732 l4.87796932459,-3.18111985922 4.13025200367,0.000691345339874 l-3.72975260019,-7.17380404472 -0.158707126975,-5.88534712791 l8.00347983837,-6.43208920956 11.8021261692,-1.5897500515 m-21.6442513466,18.4518802166 l-4.93320286274,-5.42717039585 -15.7228660583,-9.37546730042 l-17.6034736633,0.654528439045 -11.1966979504,7.97773241997 l-7.28574514389,13.0928730965 -1.60360649228,8.40868413448 l4.2478787899,10.8625793457 7.5962805748,6.79545342922 l19.4660031796,0.00118252974062 9.30531263351,-3.89268577099 l6.1702889204,-5.56467652321 m-25.6185317039,-24.1386938095 l-1.20447419584,0.000636379481875 -0.000317287885991,3.28978538513 l1.66368439794,-1.94979250431 -0.586464218795,-1.7930214107 l-0.413872599602,0.000363141189155 0.262900777161,-0.96458517015 l-0.362468995154,-0.324407704175 0.111472634599,-0.239176414907 l-0.267950594425,-0.430393181741 -0.134668676183,-0.225835461169 l-0.216719545424,0.0217288010754 -0.00017292533812,0.751488432288 l0.0106230168603,-1.54004111886 -1.1502109468,0.0002796928311 l-0.00015307978174,1.58917084336 0.759755298495,-1.14920265973 l-1.47735342383,-0.32344866544 -0.000275221518677,1.48936003447 l0.907293334603,-1.26893982291 -1.73897489905,0.0693611381575 l-0.000300075153064,1.2256283313 0.7344468683,-1.31907626987 l-1.33461043239,0.304795298725 -0.000394897870137,0.868795663118 l0.399856381118,-1.02556452155 -1.16925746202,0.381323732436 l-0.000192336065084,0.844041258097 0.350178219378,-0.928784385324 l-1.28245517612,0.0822888221592 -0.000297857750411,0.983353406191 l0.309977419674,-0.836508870125 -1.13654054701,0.154947377741 l-0.000392798356188,0.502888560295 0.145762190223,-0.69389551878 l-0.901131480932,0.384448245168 -0.000345046646544,0.391072668135 l0.0260082399473,-0.322276204824 -0.891531333327,0.0162311771419 l-0.000519728964719,0.280670374632 -0.269449744374,-0.260260552168 l-0.643813237548,0.114588998258 -0.260229632258,0.334432981908 l-0.0639334600419,-0.226311311126 -0.760811641812,0.117212142795 l-0.499988272786,0.342621654272 0.0758091686293,-0.25859804824 l-0.777958706021,0.174460727721 -0.00049001439038,-0.146646462381 l-0.651101469994,0.233696717769 -0.461884140968,0.21403785795 l-0.24514798075,0.0597485946491 -0.411021858454,0.0450513325632 l-0.408981777728,0.151851382107 -0.522776693106,0.102720325813 l-0.266659464687,0.139684937894 -0.528881177306,0.188265331089 l-0.183112490922,0.0089306832524 -0.538591220975,0.0629999069497 l-0.649867579341,0.335872992873 -0.194206088781,-0.150168826804 l-0.544284023345,0.204699952155 -0.539493486285,0.0179550936446 l-0.471248403192,0.218204837292 -0.301610846072,-0.194719750434 l-0.775505676866,-0.0826300308108 -0.492637939751,0.307044181973 l-0.255950745195,0.133301382884 -0.373987592757,-0.115958470851 l-0.717531815171,0.229556635022 -0.358042232692,0.0648937793449 l-0.526887401938,0.126240495592 -0.293604079634,-0.0594285363331 l-0.509061999619,0.105735594407 -0.574765279889,0.149509832263 l-0.447130836546,0.0590008543804 -0.521234348416,-0.15306616202 l-0.366589687765,-0.0217297207564 -0.440941639245,0.00413734611357 l-0.50861813128,0.150374984369 -0.453119501472,-0.0502513209358 l-0.535368435085,-0.0987547356635 -0.443081632257,0.114176766947 l-0.553444959223,-0.079071810469 -0.556872524321,-0.0365549279377 l-0.514049530029,0.138663006946 -0.283835045993,0.058172903955 l-0.536090917885,-0.336736924946 -0.606571286917,0.387713648379 l-0.225285328925,-0.232740808278 -0.439065620303,0.0599570944905 l-0.485898517072,0.0132677797228 -0.691926926374,0.0461463490501 l-0.275624915957,-0.141900358722 -0.401726774871,-0.100787924603 l-0.371327362955,-0.0682029454038 -0.537742823362,-0.114698102698 l-0.769485831261,0.269701145589 -0.000513864906679,-0.0737071456388 l-0.501470193267,-0.328349769115 -0.745115876198,0.324101783335 l-0.364981330931,-0.110136028379 -0.32941300422,-0.456098504364 l-0.787961408496,0.0692801270634 -0.386617332697,0.0302942818962 l-0.431276634336,-0.0836507789791 -0.358512401581,-0.0744269927964 l-0.476228557527,0.00482927891426 -0.636853650212,-0.0290896813385 l-0.565648674965,-0.207727681845 -0.426215939224,-0.0445020990446 l-0.444763749838,-0.0124380399939 -0.579935088754,0.012379961554 l-0.391965694726,-0.0722944736481 -0.242530647665,-0.0561916083097 l-0.627000629902,-0.160249490291 -0.459028966725,-0.0546094821766 l-0.341571457684,-0.173268280923 m67.0139551163,47.9252767563 l-0.00118291151011,22.3390293121 -4.70515072346,25.6487441063 l0.0023147178581,15.1763510704 2.70674943924,-0.000372591130144 l3.92007261515,-3.22091132402 2.84645557404,-38.4492874146 l0.777601823211,-13.228354454 m7.96932399273,4.20682758093 l-0.000272916477115,32.9212117195 2.83055067062,9.34283494949 l3.75893115997,0.000349755173374 3.83682250977,-4.23666477203 l0.000221589380089,-22.2596001625 -1.46483033895,-17.3104500771 m83.2097816467,7.80426025391 l9.36576816457e-05,29.0586733818 2.80307263136,7.67133653164 l4.37385827303,2.60166943073 4.37087625265,-2.52808183432 l0.00035510307498,-23.6695957184 -0.684935003519,-17.531914711 m9.66910302639,-1.56091853976 l-9.3033986559e-05,27.0916104317 2.95263290405,8.86656999588 l4.41778719425,3.5864546895 4.87262040377,-0.929329246283 l3.45009893179,-6.24131560326 0.000286568083538,-23.0619931221 l-3.36695253849,-8.5162883997 m-45.9357500076,-31.5339541435 l0.836846455932,3.40081840754 5.96608936787,13.9471209049 l5.67732989788,6.24319851398 9.65262591839,3.82817476988 l7.00279891491,-0.000169053855643 4.69455629587,-4.54278469086 l0.000184609361895,-11.7085945606 -7.20669388771,-11.757311821 \" fill=\"none\" stroke=\"black\" stroke-width=\"1\"/></svg>"
          },
          "metadata": {
            "tags": []
          }
        }
      ]
    },
    {
      "cell_type": "code",
      "metadata": {
        "id": "CxTpUeRORQ0v",
        "colab_type": "code",
        "colab": {
          "base_uri": "https://localhost:8080/",
          "height": 634
        },
        "outputId": "3f30cfec-ea50-4b19-8069-a64457ab6d53"
      },
      "source": [
        "stroke = test_set.random_sample()\n",
        "z1 = encode(stroke)\n",
        "_ = decode(z1)\n"
      ],
      "execution_count": 46,
      "outputs": [
        {
          "output_type": "display_data",
          "data": {
            "text/plain": [
              "<IPython.core.display.SVG object>"
            ],
            "image/svg+xml": "<svg baseProfile=\"full\" height=\"298.382501006\" version=\"1.1\" width=\"451.731701344\" xmlns=\"http://www.w3.org/2000/svg\" xmlns:ev=\"http://www.w3.org/2001/xml-events\" xmlns:xlink=\"http://www.w3.org/1999/xlink\"><defs/><rect fill=\"white\" height=\"298.382501006\" width=\"451.731701344\" x=\"0\" y=\"0\"/><path d=\"M229.105624557,35.7992395759 m0.0,0.0 l19.4386303425,-8.63939166069 12.959086895,-2.15984791517 l7.55946755409,0.0 21.5984773636,8.63939166069 l1.07992395759,8.63939166069 32.3977184296,-8.63939166069 l19.4386303425,0.0 15.1189351082,11.8791627884 l5.3996193409,16.1988592148 5.3996193409,0.0 l26.9980978966,8.63939166069 8.63939166069,5.3996193409 l2.15984791517,4.31969583035 0.0,11.8791627884 l-2.15984791517,8.63939166069 15.1189351082,10.7992386818 l6.47954344749,9.71931517124 0.0,4.31969583035 l-4.31969583035,8.63939166069 -11.8791627884,8.63939166069 l-1.07992395759,12.959086895 -8.63939166069,12.959086895 l-7.55946755409,5.3996193409 -8.63939166069,2.15984791517 l-4.31969583035,3.23977172375 -20.5185556412,-4.31969583035 l-3.23977172375,9.71931517124 -12.959086895,22.6784014702 l-12.959086895,10.7992386818 -33.4776425362,-12.959086895 l-7.55946755409,-1.07992395759 -47.5166511536,3.23977172375 l-10.7992386818,-3.23977172375 -10.7992386818,5.3996193409 l-17.2787833214,4.31969583035 -8.63939166069,-2.15984791517 l-5.3996193409,-4.31969583035 -6.47954344749,-12.959086895 l-2.15984791517,-1.07992395759 -24.8382496834,0.0 l-30.2378702164,-11.8791627884 0.0,-15.1189351082 l3.23977172375,-3.23977172375 -1.07992395759,-14.0390110016 l10.7992386818,-21.5984773636 1.07992395759,-5.3996193409 l-3.23977172375,-21.5984773636 2.15984791517,-6.47954344749 l10.7992386818,-17.2787833214 16.1988592148,-10.7992386818 l19.4386303425,-4.31969583035 28.0780220032,-11.8791627884 l3.23977172375,-7.55946755409 m-84.2340660095,45.3568029404 l-7.55946755409,-3.23977172375 -8.63939166069,2.15984791517 l-3.23977172375,4.31969583035 -6.47954344749,0.0 l-10.7992386818,-3.23977172375 -2.15984791517,2.15984791517 l-2.15984791517,10.7992386818 -8.63939166069,2.15984791517 l-14.0390110016,7.55946755409 -17.2787833214,19.4386303425 l-17.2787833214,10.7992386818 -5.3996193409,7.55946755409 l-3.23977172375,8.63939166069 0.0,12.959086895 l5.3996193409,9.71931517124 12.959086895,11.8791627884 l10.7992386818,3.23977172375 8.63939166069,0.0 l31.317794323,-7.55946755409 17.2787833214,-9.71931517124 l5.3996193409,-1.07992395759 m-35.6374883652,-53.9961957932 l-2.15984791517,1.07992395759 m-35.6374883652,24.8382496834 l-4.31969583035,9.71931517124 -6.47954344749,8.63939166069 m130.670795441,35.6374883652 l-5.3996193409,17.2787833214 -6.47954344749,32.3977184296 l-4.31969583035,11.8791627884 m19.4386303425,-58.3158922195 l33.4776425362,60.4757404327 m-53.9961957932,2.15984791517 l-1.07992395759,3.23977172375 m48.5965776443,-4.31969583035 l5.3996193409,5.3996193409 m126.351099014,-59.395813942 l-3.23977172375,24.8382496834 -5.3996193409,21.5984773636 l-5.3996193409,12.959086895 m15.1189351082,-45.3568029404 l22.6784014702,37.7973365784 2.15984791517,6.47954344749 m-144.709806442,2.15984791517 l-14.0390110016,-9.71931517124 -15.1189351082,-37.7973365784 l-2.15984791517,-2.15984791517 0.0,-3.23977172375 \" fill=\"none\" stroke=\"black\" stroke-width=\"1\"/></svg>"
          },
          "metadata": {
            "tags": []
          }
        },
        {
          "output_type": "display_data",
          "data": {
            "text/plain": [
              "<IPython.core.display.SVG object>"
            ],
            "image/svg+xml": "<svg baseProfile=\"full\" height=\"311.073377713\" version=\"1.1\" width=\"423.641273329\" xmlns=\"http://www.w3.org/2000/svg\" xmlns:ev=\"http://www.w3.org/2001/xml-events\" xmlns:xlink=\"http://www.w3.org/1999/xlink\"><defs/><rect fill=\"white\" height=\"311.073377713\" width=\"423.641273329\" x=\"0\" y=\"0\"/><path d=\"M205.869893845,36.2434205413 m19.5601940155,-8.82632255554 l14.3093347549,-2.41709798574 9.32168006897,0.000684393235133 l11.9812631607,8.06398391724 18.1307137012,2.54332780838 l19.2402625084,1.00119717419 12.7195632458,4.45178925991 l9.73793625832,8.37941527367 22.0567464828,4.27653998137 l11.5776503086,5.6917989254 9.25825595856,9.47914600372 l4.3693035841,11.8805336952 15.1371979713,10.8468544483 l7.05027759075,10.7821083069 -0.547401458025,7.61049747467 l8.8680523634,15.6892287731 0.000348969260813,11.2717318535 l-5.67070186138,9.31362748146 5.25649905205,16.0845434666 l-0.239385683089,11.0700714588 -6.56559348106,9.28349971771 l-15.3081965446,9.34939265251 -9.98423099518,11.9773244858 l-14.809191227,8.30696761608 -12.2640931606,0.000862516171765 l-24.801838398,8.21512699127 -14.2819428444,0.00179211012437 l-12.3658573627,-5.33505320549 -12.8781080246,0.00132845219923 l-29.9097394943,7.49252080917 -15.7136690617,0.00138077040901 l-13.1457090378,-4.70450848341 -15.9540307522,0.00045931978093 l-12.3852884769,-4.88694489002 -15.3842639923,0.000688894433551 l-12.8724658489,-5.43742179871 -10.1880967617,-9.12577569485 l-27.4263072014,-2.71785855293 -10.0004827976,-7.769728899 l-6.85844480991,-12.1443390846 -1.3919301331,-13.6953723431 l4.36263352633,-10.9620249271 8.20418894291,-8.89124214649 l0.00105700812128,-10.7115089893 4.22120213509,-11.1543631554 l8.07932078838,-9.98233616352 6.14082872868,-16.465716362 l7.64452397823,-9.97329652309 10.2479231358,-6.60938322544 l11.2904369831,-3.18054020405 10.8048474789,1.08915820718 l8.58817815781,-3.72413247824 6.93191587925,-6.75459563732 l11.8257534504,-4.52522367239 11.4737868309,0.0635277247056 l9.79290664196,-3.87761741877 15.4019725323,0.000143842280522 l9.42455053329,-4.8418289423 m-118.273916245,52.7527666092 l-6.61186814308,-3.61425220966 -7.18031525612,0.000994922593236 l-8.178383708,5.00496983528 -8.13996016979,7.89491713047 l-11.6843819618,16.2566351891 -14.4388580322,11.4824426174 l-25.4049944878,25.6660151482 -15.7396745682,25.3945946693 l-7.28187859058,24.1763162613 0.00191547122085,12.323923111 l4.3403929472,6.4364105463 8.35486650467,3.76092106104 l15.2219450474,-0.000371589121642 11.5663325787,-4.97459381819 l8.70265245438,-8.1618398428 13.4976005554,-8.11071932316 l8.30995440483,-9.20552790165 12.3281943798,-7.61032938957 m-49.7821569443,-28.3087015152 l-7.00559854507,0.000624361928203 m9.0999174118,4.76660788059 l0.000561194465263,7.2376781702 m97.9447174072,9.01966691017 l-3.40873718262,11.5544879436 -8.96655976772,16.2141382694 l-15.7429146767,37.0927476883 m40.1882362366,-53.5305500031 l-0.750883668661,12.986189127 3.66193294525,41.8418884277 l5.41310667992,10.8701050282 m117.925834656,-64.0830898285 l-4.31456267834,41.1965465546 -7.38560795784,34.7501659393 m33.1985092163,-77.3230648041 l5.5869114399,14.7423660755 14.5034778118,26.6653060913 l21.103386879,39.1565513611 m-133.980369568,-122.019853592 l1.00885376334,3.85301321745 0.537037737668,16.204097271 m-5.31483352184,-18.7242615223 l-0.00248593423748,2.7898478508 \" fill=\"none\" stroke=\"black\" stroke-width=\"1\"/></svg>"
          },
          "metadata": {
            "tags": []
          }
        }
      ]
    },
    {
      "cell_type": "markdown",
      "metadata": {
        "id": "1S02-H7-RTee",
        "colab_type": "text"
      },
      "source": [
        "Now we interpolate between sheep $z_0$ and sheep $z_1$\n",
        "\n"
      ]
    },
    {
      "cell_type": "code",
      "metadata": {
        "id": "qynMvVfPRVF-",
        "colab_type": "code",
        "colab": {}
      },
      "source": [
        "z_list = [] # interpolate spherically between z0 and z1\n",
        "N = 10\n",
        "for t in np.linspace(0, 1, N):\n",
        "  z_list.append(slerp(z0, z1, t))"
      ],
      "execution_count": 0,
      "outputs": []
    },
    {
      "cell_type": "code",
      "metadata": {
        "id": "idboV6YnRX9x",
        "colab_type": "code",
        "colab": {}
      },
      "source": [
        "# for every latent vector in z_list, sample a vector image\n",
        "reconstructions = []\n",
        "for i in range(N):\n",
        "  reconstructions.append([decode(z_list[i], draw_mode=False), [0, i]])"
      ],
      "execution_count": 0,
      "outputs": []
    },
    {
      "cell_type": "code",
      "metadata": {
        "id": "jsvT0BOIRd9N",
        "colab_type": "code",
        "colab": {
          "base_uri": "https://localhost:8080/",
          "height": 338
        },
        "outputId": "d5c6cb53-625d-44d4-e90b-517bd3ace4d5"
      },
      "source": [
        "stroke_grid = make_grid_svg(reconstructions)\n",
        "draw_strokes(stroke_grid)"
      ],
      "execution_count": 49,
      "outputs": [
        {
          "output_type": "display_data",
          "data": {
            "text/plain": [
              "<IPython.core.display.SVG object>"
            ],
            "image/svg+xml": "<svg baseProfile=\"full\" height=\"296.732318343\" version=\"1.1\" width=\"3292.36600116\" xmlns=\"http://www.w3.org/2000/svg\" xmlns:ev=\"http://www.w3.org/2001/xml-events\" xmlns:xlink=\"http://www.w3.org/1999/xlink\"><defs/><rect fill=\"white\" height=\"296.732318343\" width=\"3292.36600116\" x=\"0\" y=\"0\"/><path d=\"M25,63.4235389918 m0.0,0.0 m125.456280962,18.6806217954 l24.3201255798,-23.2237815857 8.28046619892,0.00106851897726 l8.18097114563,5.35190284252 6.41561567783,9.48277413845 l12.8290367126,-9.46784853935 14.5037102699,-6.02231681347 l6.88040137291,0.000782909919508 8.0814743042,6.05366706848 l5.64337253571,10.3924047947 9.33945715427,-7.53463387489 l14.1828858852,-5.85817992687 10.6359267235,0.000528961027157 l9.88352894783,6.2903791666 6.38162374496,10.0935924053 l8.59093129635,-5.84340631962 14.2100739479,-1.48484184592e-05 l10.8614730835,6.89711868763 6.77957236767,11.4301455021 l11.3203823566,3.48350197077 7.06447839737,8.89428377151 l2.15795308352,13.9049458504 -6.43824219704,10.3656804562 l-11.218392849,5.72911679745 5.18461585045,12.8325939178 l-0.434154979885,12.3410248756 -9.62339520454,9.00917410851 l-15.2825129032,4.45029824972 -12.7698028088,0.000930858659558 l-11.1048066616,-5.75756430626 -12.7278268337,10.7840132713 l-14.7133016586,4.28424865007 -13.5417342186,-1.34395384066e-05 l-12.8100144863,-6.2204760313 -8.2394438982,-9.70651328564 l-7.92200028896,6.26499652863 -11.1067509651,4.10440593958 l-15.2086794376,0.000134367173814 -12.4403488636,-6.55752003193 l-7.60351061821,-9.89727854729 -7.5775384903,4.73757445812 l-16.5602207184,0.000830996868899 -10.9231984615,-6.13739073277 l-6.64183616638,-10.2528357506 -8.10928577266e-05,-7.91098952293 l4.90461915731,-7.253241539 -10.0751936436,-10.1070547104 l-4.16268080473,-12.3705780506 1.63186743855,-5.64613759518 l8.0391150713,-5.81331193447 7.13263392448,0.00101216290204 l-3.65579366684,-5.86365461349 -0.0315583660267,-5.31663060188 l7.37550139427,-5.25124013424 9.0670478344,0.000770268816268 m-22.8457379341,14.7300934792 l-5.59239089489,-6.28722965717 -9.10900890827,-3.60796123743 l-14.9035382271,0.000627330300631 -11.0917150974,7.47276008129 l-6.39599263668,11.8276262283 -8.15865159035,3.95432084799 l-5.39631068707,6.79535388947 -2.1143810451,10.9171402454 l3.337495327,6.34385704994 7.59247303009,4.91247624159 l20.0264334679,0.000851406221045 9.30263459682,-3.73568892479 l6.7510676384,-5.3969424963 m-23.5707306862,-24.5795512199 l-0.520565696061,0.000954227871262 0.968894138932,-0.000201453913178 l-0.402082055807,-2.4588277936 -0.521450527012,0.000547838535567 l0.491921193898,-0.659237056971 -0.172361470759,-0.390320084989 l0.0940158218145,-0.53193539381 -0.239791423082,-0.0593282235786 l-0.0556121766567,-0.464210622013 -0.232391282916,-0.384492129087 l-0.162276159972,-0.563576556742 -0.520680807531,-0.0518624857068 l-0.0927776843309,-0.427267104387 -0.000160718809639,1.2378423661 l0.153657337651,-0.986281037331 -1.08637519181,-0.0797862373292 l-0.000328977621393,1.21387496591 0.519017763436,-0.995527207851 l-1.28169342875,-0.29952114448 -0.258035883307,-0.0211740098894 l0.0025207886938,-0.348298251629 -0.563089735806,-0.0178322009742 l-0.347354933619,0.0304397847503 -0.172315128148,-0.0489745335653 l-0.431107133627,-0.204548537731 -0.291383657604,0.240413490683 l-0.149367135018,-0.31846601516 -0.755024626851,0.0304152956232 l-0.000326410954585,0.663162097335 0.158340185881,-0.57386059314 l-1.18263371289,0.0978613831103 -0.000400767676183,0.858917534351 l0.248228982091,-0.72855733335 -1.35544076562,0.213483627886 l-0.00031671472243,0.857148915529 0.330732502043,-0.566336661577 l-0.858365595341,-0.137946233153 -0.000534778337169,0.726388394833 l-0.143123241141,-0.378585569561 -0.753252655268,0.0895342417061 l-0.288382023573,0.346524864435 -0.257410276681,-0.138950413093 l-0.000558319370612,-0.26532208547 -0.873350575566,0.403786189854 l-0.253651160747,0.038969530724 -0.321600809693,0.0289112352766 l-0.513670295477,0.216795597225 -0.345745943487,0.0831159576774 l-0.576761886477,-0.0350569328293 -0.458943396807,0.106927081943 l-0.388104692101,0.0844899285585 -0.369368456304,0.046929619275 l-0.490517020226,0.0871454365551 -0.540523007512,-0.0606601173058 l-0.503340139985,0.204951167107 -0.34086368978,0.0431579118595 l-0.442707277834,0.123355025426 -0.374102219939,-0.058276145719 l-0.581848621368,0.140575114638 -0.441827587783,0.203914809972 l-0.453402735293,-0.0944856368005 -0.612475499511,0.111612500623 l-0.576585717499,0.121427178383 -0.399715714157,0.135525539517 l-0.157234631479,-0.238461308181 -1.02921493351,0.209471415728 l-0.309640746564,0.335020013154 -0.254381969571,-0.296634621918 l-0.615924745798,0.175049640238 -0.664398595691,-0.13773930259 l-0.438133738935,0.141963912174 -0.00090394205472,-0.620561204851 l-0.95677241683,0.353044830263 -0.000864404501044,-0.373040251434 l-0.77851228416,0.217145066708 -0.00102211808553,-0.338516272604 l-1.03582397103,0.186587683856 -0.000992036584648,-0.158013515174 l-0.768406242132,-0.250373426825 -0.732749551535,0.582378804684 l0.0348284491338,-0.336077511311 -0.553810037673,-0.355450324714 l-0.887367650867,0.337641686201 -0.16712917015,-0.0938729289919 l-0.470381900668,-0.030519827269 -0.588598139584,-0.0194479885977 l-0.59516556561,-0.026429425925 -0.401973389089,-0.147256692871 l-0.437035486102,-0.0531832827255 -0.626650154591,-0.150383189321 l-0.542156621814,0.109552573413 -0.358036980033,0.0115578761324 l-0.386057272553,-0.340123213828 m69.1798830032,49.2557811737 l-2.94704705477,16.0259747505 -5.46115458012,14.1580426693 l-12.7977645397,22.6622700691 -16.0584449768,15.3909611702 l0.0665023177862,0.000673832473694 7.66012847424,-6.81321263313 l8.56179475784,-12.2128355503 12.1448719501,-32.1462202072 l7.95145094395,-14.3881130219 m13.3085680008,2.13382199407 l-0.440288521349,10.4558467865 -7.4182498455,41.5940570831 l-1.08619965613,11.8794500828 3.15262973309,-0.000452490567113 l4.05733734369,-3.97967666388 6.88747704029,-41.4669036865 l4.63224291801,-18.7915694714 m94.133644104,15.0548255444 l-0.16698403284,28.2687067986 2.99602985382,17.6774418354 l3.18413764238,6.25373899937 4.47083204985,1.40504032373 l0.799547806382,-35.9027194977 -1.85910642147,-21.4745664597 m9.96643364429,-1.07136972249 l4.21447694302,10.0911581516 11.638559103,34.5830726624 l4.06612455845,7.15638399124 4.87949877977,2.15374931693 l4.48181957006,-2.67304480076 1.4642085135,-14.4088697433 l-2.9178711772,-10.6952512264 -10.2631223202,-16.8554711342 l-6.97425365448,-7.63863563538 m-89.6016311646,-43.6088609695 l-1.10552102327,2.167763412 -0.414837822318,12.3008430004 l4.49883490801,7.09888517857 11.4876079559,5.57228982449 l15.0365185738,-2.29586586356 8.04934740067,-9.88111555576 m245.59062611,-79.8904442295 l28.3027386665,-24.1693973541 10.3881216049,-3.59955459833 l9.67388093472,0.00111470173579 9.58699464798,7.37018048763 l6.24325037003,11.3695538044 12.5352227688,-7.72034108639 l18.7265133858,-7.10215449333 9.59945201874,0.000570942211198 l8.75995755196,5.83790123463 6.24833464622,10.3679776192 l9.60883200169,-6.87410533428 15.4382348061,-5.53995192051 l11.7969346046,0.000495467756991 10.1411223412,6.50420188904 l7.01716184616,10.7375311852 8.23967993259,-4.86168116331 l13.4802377224,-0.000106498082459 10.3790676594,6.62728905678 l7.61165142059,12.8447306156 0.000130199814521,12.0145869255 l-4.52156931162,4.6318924427 11.3496470451,10.5974781513 l5.34153878689,13.8024199009 -2.4468486011,12.3982012272 l-10.207798481,8.85247468948 -15.5504000187,4.16363030672 l-4.4020691514,12.2163486481 -10.175974369,8.60862612724 l-15.312268734,4.10515338182 -14.9478423595,-3.12679499388 l-10.804463625,-8.33936870098 -16.3658094406,10.3761303425 l-11.6301393509,4.06399428844 -12.5387275219,-0.000164625980688 l-12.5090062618,-7.05784022808 -8.52290630341,-10.7548820972 l-9.51620578766,6.00218653679 -11.3836681843,3.78749400377 l-14.6300816536,7.33541082809e-05 -12.631187439,-6.25555038452 l-8.52887988091,-10.3045368195 -19.9575901031,4.68143224716 l-11.6708171368,-3.64933848381 -8.29980969429,-9.32652294636 l-4.08080399036,-12.7901160717 2.35983937979,-10.4920780659 l6.61758542061,-7.2950732708 -7.52782523632,-14.1090500355 l-0.653774738312,-7.38504707813 6.16085290909,-8.01281630993 l10.5619120598,-4.22317951918 7.84637331963,0.000949119639699 l7.94095635414,5.49829244614 m-31.3497281075,9.38492417336 l-7.30248212814,-7.38315224648 -8.49201023579,-3.40153455734 l-13.5472655296,0.000926524371607 -11.0811531544,8.14275026321 l-5.98679602146,12.2144603729 0.334249958396,12.5069451332 l4.4289585948,7.02737092972 8.09786319733,5.27083039284 l13.7231147289,0.00139376090374 8.13384234905,-3.75345677137 l5.36800682545,-5.86425662041 m-22.3284673691,-25.7435202599 l0.000614482487435,0.565416775644 0.0554459122941,-2.46585667133 l-0.216103140265,0.000493022089358 0.371343791485,-1.05497695506 l-0.32784037292,-0.564470626414 0.0333440722898,-0.382334701717 l-0.0485149305314,-0.560170039535 -0.489641949534,-0.393132716417 l0.10220291093,-0.164515227079 -0.152124501765,-0.56925598532 l-0.476004891098,0.137887597084 -0.000123755298773,0.787164717913 l-0.0270235794596,-1.07866488397 -0.842931345105,0.378972254694 l-0.0454314285889,-0.189105160534 -0.166615098715,-0.361275859177 l-0.444625467062,0.325144194067 -0.131280403584,-0.186646468937 l-0.323320068419,0.0732609722763 -0.302761718631,-0.0943369138986 l-0.528562963009,0.0539445132017 -0.067827180028,0.0932282209396 l-0.475998781621,-0.117735182866 -0.420028157532,0.162834711373 l-0.160329565406,0.0953893456608 -0.39626210928,0.0913251657039 l-0.375181883574,0.158093478531 -0.414113849401,0.179366935045 l-0.196844916791,0.14187564142 -0.400810614228,-0.0680120056495 l-0.235658865422,0.295105241239 -0.262666046619,-0.124216666445 l-0.556428954005,0.37654813379 -0.233813934028,0.0742100412026 l-0.423720143735,0.212182626128 -0.3046791628,0.203747153282 l-0.524585805833,-0.0345426076092 -0.330105721951,0.387049391866 l-0.0494019733742,0.0190462521277 -0.734642744064,-0.137900458649 l-0.560397058725,0.389056615531 -0.166250653565,0.34392260015 l-0.22314382717,-0.0548898009583 -0.826182290912,0.219825599343 l-0.39634976536,0.441291518509 0.0210440088995,0.0111295946408 l-0.864562094212,0.123274028301 -0.41702914983,0.420405045152 l-0.326400026679,-0.00238790438743 -0.594098605216,0.115352040157 l-0.489458739758,0.433617755771 -0.310260243714,-0.042295246385 l-0.634525865316,0.0745095824823 -0.753083303571,0.543491318822 l-0.125612160191,-0.0945463962853 -0.540079548955,0.237865447998 l-0.611299052835,0.281440503895 -0.470804721117,0.00991727109067 l-0.567341782153,0.169925745577 -0.596816763282,0.11623473838 l-0.658028125763,0.120766600594 -0.464566163719,0.336897708476 l-0.38305554539,-0.161055475473 -0.782752335072,0.285587403923 l-0.57244759053,0.0280306884088 -0.619794800878,0.222802981734 l-0.388876311481,0.0958813261241 -0.466995723546,-0.00576173246372 l-0.757420733571,0.169964116067 -0.493614338338,0.575882568955 l-0.23202015087,-0.197161883116 -0.638451650739,0.135768447071 l-0.506282560527,0.0427331728861 -0.533423647285,0.198339745402 l-0.554487854242,-0.122555587441 -0.545504875481,-0.0133576511871 l-0.570489875972,0.439289025962 -0.371263585985,-0.242126714438 l-0.856110826135,0.0146246876102 -0.547434203327,0.339479669929 l-0.289747789502,-0.207349676639 -0.623681098223,-0.0397033523768 l-0.735609903932,-0.0476488657296 -0.362260118127,0.0705105764791 l-0.509218610823,0.291797313839 -0.493867397308,-0.429005585611 l-0.841650441289,0.454689823091 -0.31628575176,-0.0328135187738 l-0.518799088895,-0.147797241807 -0.730992183089,0.299521684647 l-0.470338352025,-0.0750537356362 -0.484048500657,-0.0282473885454 l-0.518552549183,-0.0211264402606 -0.565017983317,-0.159117542207 l-0.65542511642,-0.0743572833017 -0.711048319936,0.29524911195 l-0.306748449802,0.0587404426187 -0.50493363291,-0.19597267732 l-0.651001706719,0.132916020229 -0.459910072386,-0.278356224298 l-0.762759596109,0.126307504252 -0.310089867562,0.0377536937594 l-0.356237255037,-0.0362728303298 -0.700100436807,-0.129756713286 l-0.716677382588,0.306787565351 -0.35625975579,-0.17699457705 l-0.511203669012,-0.064998883754 -0.553859099746,-0.0436660787091 l-0.660848096013,0.262574404478 -0.308343507349,-0.121307307854 l-0.580677390099,-0.101045100018 -0.545208901167,0.108169391751 l-0.38026239723,0.108545739204 -0.590300112963,-0.252918638289 l-0.605631247163,0.0627929065377 -0.461486205459,0.203514508903 l-0.23388909176,-0.204067602754 -0.792849957943,0.00942207407206 l-0.697172731161,0.0943725463003 -0.260655265301,-0.144165502861 l-0.577653385699,-0.0171535788104 -0.67473359406,0.0628194073215 l-0.553118288517,0.123494779691 m71.6155385971,48.8468122482 l-5.19914031029,17.6569128036 -7.3295211792,17.5969350338 l-17.2969758511,25.0068354607 -20.5893778801,18.7397491932 l0.00100478617242,3.79716485739 m58.6797618866,-57.0822143555 l-3.85949969292,34.4878602028 -9.41389560699,27.5128102303 l-3.78635257483,4.41980004311 m102.658100128,-55.0581073761 l0.123196747154,9.74336266518 -2.80777454376,35.1042532921 l-5.28427064419,14.0572214127 -7.34158694744,10.2446448803 l-9.67271327972,7.77402162552 m36.5667653084,-60.7334852219 l3.2913222909,9.33120071888 11.5323495865,18.3896076679 l12.5348818302,15.5378007889 0.000113067053462,11.0117614269 l2.64148622751,7.74772524834 2.72671997547,3.11726033688 m210.344440297,-180.436420872 l31.0604977608,-24.218916893 11.6819477081,-3.94675523043 l9.49137628078,0.00100003417174 10.2178037167,7.32914686203 l6.55683636665,11.2326049805 16.0424506664,-8.66974055767 l18.4687316418,-5.2007240057 13.3344507217,0.926745608449 l10.2621901035,6.5134459734 6.14291965961,9.5770829916 l8.4864449501,-5.42594134808 15.7308888435,-5.68320393562 l15.1299571991,0.285664126277 11.1771583557,6.68567657471 l7.22667992115,10.7665872574 15.7452750206,-0.155631517991 l10.6962168217,5.15189230442 7.40361511707,10.568523407 l1.60256907344,13.9223372936 -6.02938115597,9.79869306087 l7.47202694416,10.6082046032 2.80951142311,13.7455463409 l-4.95728462934,10.5018389225 -11.1710321903,6.79388821125 l-4.38599318266,12.1347749233 -9.35799539089,8.07127892971 l-13.9580357075,4.07283008099 -12.2128140926,0.000815075763967 l-4.86132711172,-2.54129171371 -17.5020122528,9.84824240208 l-16.0774040222,2.54577964544 -15.0045895576,-4.03532773256 l-10.4364836216,-8.57166171074 -9.22918379307,6.2433552742 l-12.7597045898,4.18512701988 -13.8147652149,4.55711096947e-05 l-14.4964385033,-6.3141644001 -10.2745842934,-9.4246506691 l-9.31727409363,4.99647349119 -17.2420430183,0.00127702223836 l-13.3179998398,-6.07221484184 -8.72394502163,-9.3405944109 l-4.85557049513,-12.0574164391 -15.8656072617,-4.50717031956 l-8.9154458046,-8.34431111813 -4.75562602282,-13.2171928883 l2.51429766417,-10.8437263966 7.43394672871,-7.82367706299 l9.64056611061,-4.17150855064 3.17305535078,0.000867265698616 l-2.87496268749,-9.0530538559 1.16973757744,-6.01704180241 l8.64564239979,-5.79735398293 10.7087361813,0.00102441874333 l8.47410857677,5.83027601242 1.05897672474,0.799172893167 m-44.5284366608,15.574349165 l-7.17029154301,-6.91336929798 -16.6720354557,-8.0069988966 l-17.7867662907,2.02853217721 -9.58393096924,9.65082585812 l-4.89141076803,14.5318675041 -7.21092522144,5.31494259834 l-6.55782163143,13.0199980736 0.000711685788701,12.0336544514 l4.96374994516,6.52622103691 8.43439400196,4.53430294991 l20.3254532814,0.000546999326616 18.1937599182,-7.39131808281 l7.3229521513,-5.84480881691 m-31.9995427132,-31.1380815506 l0.000483687581436,4.6626418829 0.362165719271,0.000548009520571 l0.85240714252,-3.89719486237 -1.90813228488,0.00103387188574 l1.21719717979,-0.683243125677 0.177222695202,-0.989486053586 l-0.656595602632,2.71974742413 0.63097409904,-2.23073467612 l-0.197009723634,0.000636411932646 -0.521874576807,-0.835394859314 l-0.286555830389,0.203101113439 0.237642358989,-0.724125504494 l-0.516822785139,-0.20906670019 -0.180208869278,-0.0121477851644 l-0.0111851957627,-0.401324182749 -0.731546655297,0.096390908584 l0.0562952412292,-0.152300978079 -0.407211966813,-0.150171462446 l-0.345672816038,-0.041067507118 -0.468608811498,0.246781781316 l0.10224766098,0.113561814651 -0.366865135729,-0.366872809827 l-0.803239047527,0.192878674716 0.285197626799,0.283002946526 l-0.445361323655,-0.317853018641 -0.707244873047,0.0258310046047 l-0.237880852073,0.265322495252 -0.0119633052964,0.265354011208 l-0.665265247226,0.0329363811761 -0.210555549711,0.237509366125 l-0.160510819405,-0.00542620371561 -0.481467880309,0.295800454915 l-0.190104171634,0.30529152602 -0.23381697014,-0.201407652348 l-0.573768466711,0.337573736906 -0.379716046154,0.093794548884 l-0.303661581129,0.159494560212 -0.287748221308,0.345137938857 l-0.330476388335,0.146838994697 -0.456128381193,-0.0895790662616 m-19.6422719955,21.6027188301 l2.98394858837,-0.00111656649096 5.72852015495,-3.96980434656 m100.703830719,55.0212955475 l-1.56248986721,41.6555547714 -3.00130426884,18.5002565384 l2.4341852963,0.528802759945 7.76163101196,-2.85232752562 l6.53954863548,-14.4261229038 0.00099573735497,-33.3287835121 m10.5050861835,-0.65833106637 l0.00143071054481,38.6250495911 2.00352072716,0.885458365083 l3.22477459908,-1.17270320654 2.92816787958,-36.4682245255 m91.1170482635,3.25425028801 l0.00081890320871,37.7226209641 2.7114507556,8.425963521 l4.64818775654,0.000277637627732 4.15127128363,-5.550339818 l0.000615795070189,-30.5803918839 0.650276020169,-18.6523389816 m12.2073411942,-0.859422385693 l0.00124205704196,33.9397716522 2.46504992247,9.95156884193 l4.18605983257,4.25419986248 4.71783459187,-0.683970078826 l1.90959990025,-38.7557792664 -0.79728141427,-19.9663448334 m146.045103865,-110.47349615 l32.5091362,-23.4974384308 11.8991661072,-4.00156408548 l10.4753565788,0.000946370055317 10.1687276363,6.75716638565 l7.52272963524,10.6451880932 17.7539384365,-7.50041127205 l23.8508415222,1.92643091083 10.0390481949,5.61502635479 l6.05824410915,9.00491893291 9.78974640369,-5.47345519066 l14.9421310425,0.0007949789142 11.9919347763,5.00337600708 l8.52374434471,8.47094833851 8.61275970936,-4.10996645689 l13.7993216515,5.91035404796e-05 11.348528862,5.19880354404 l7.69446015358,9.8441696167 2.95676082373,12.3186886311 l10.3483760357,7.50749289989 5.38980007172,10.0458848476 l0.150432679802,12.6127767563 -6.81449711323,8.76359403133 l1.81155875325,15.2855420113 -4.53233987093,9.4492906332 l-10.6369078159,7.04649448395 -6.25663340092,12.3830282688 l-10.2515304089,7.37041175365 -21.4701390266,0.966191664338 l-12.8304934502,-5.1467782259 -17.3243796825,8.83918046951 l-23.215034008,2.3730917275 -13.6553859711,-4.49101626873 l-8.47163915634,-8.43059957027 -11.4819502831,6.06631100178 l-12.8750252724,3.63436281681 -13.6165308952,0.000205556007131 l-12.3590934277,-6.04279875755 -8.62711310387,-9.11192178726 l-11.4900636673,4.5604968071 -19.0877604485,0.00168661877979 l-11.639701128,-5.8498197794 -8.57748329639,-9.97951090336 l-4.78644192219,-11.9700300694 -17.1266520023,-6.28659248352 l-8.81986618042,-9.59811747074 -3.58472794294,-13.0504620075 l2.67003923655,-11.6479146481 6.74133360386,-8.21057975292 l9.19682145119,-4.58166390657 0.408048406243,-19.1339039803 l2.99949496984,-4.45485383272 10.0784802437,-3.44477534294 l11.6641712189,0.000757535599405 8.61008584499,5.82770287991 l7.36747860909,-6.36937022209 5.99293887615,-0.949616581202 l8.60419929028,4.24934327602 6.93787634373,9.05237317085 l13.245279789,-4.21326011419 4.55079317093,2.85578936338 l3.80414068699,8.84244978428 12.383389473,4.48105692863 l3.83858263493,4.93968933821 m-113.949241638,6.78269684315 l-7.64504849911,-3.91562014818 -6.84556901455,1.22127853334 l-5.98775267601,5.23750305176 -3.27375471592,6.37437462807 l-9.40800726414,4.55340504646 -5.74007570744,6.00729763508 l-3.23493182659,6.38643741608 -7.80948936939,5.15330851078 l-5.25864183903,10.5085217953 1.8127939105,8.9542144537 l5.2112865448,4.08756822348 14.138969183,-0.000303893357341 l13.7245738506,-5.62536776066 10.1731932163,-7.77532696724 l7.46643662453,0.000229292600125 m-27.3599052429,-30.5021810532 l0.00139151714393,4.78335440159 -0.152404559776,0.000605203895248 l1.35670050979,-3.35335731506 -2.33882114291,0.0006127616507 l0.000638248457108,1.82030767202 1.73866227269,-2.1655228734 l-0.906229019165,-0.202333368361 -0.310751963407,-0.357454307377 l0.199103988707,-0.418463908136 -0.199066307396,-0.504836179316 l-0.560547858477,-0.0872515700758 -0.137870972976,-0.483134314418 m-15.0413441658,21.0444498062 l7.49783158302,-1.29726439714 2.33868032694,-3.23634445667 m105.751476288,58.0172252655 l0.00053699950513,29.6163487434 -5.65475463867,30.3946995735 l-2.06504151225,0.0457739923149 -2.68722236156,1.37236237526 l1.58031571118e-05,-2.69603610039 m20.0534749031,-48.1170749664 l0.0024198598112,34.5131373405 -2.72174745798,6.17920339108 l-10.1783573627,-0.000535795843462 m106.229562759,-42.3682355881 l0.00132446235511,38.7589097023 -7.18626916409,5.76748728752 l-13.1560313702,-0.000196736709768 -4.23049777746,2.56674438715 l-0.000827951735118,-0.904295369983 m41.2263154984,-47.0613002777 l0.00164524302818,28.2547807693 -4.82992082834,5.58764755726 l-12.7985477448,4.75298293168e-05 -4.54804480076,4.21231925488 m211.291413804,-170.05497013 l32.9323744774,-22.179338932 12.5602948666,-4.0218436718 l11.2260484695,0.000787073076935 10.9058153629,6.55400633812 l7.83517241478,10.2592468262 17.1195912361,-7.00742065907 l22.0113801956,-4.66499209404 14.0979301929,1.69292777777 l9.94311511517,6.96747362614 5.89357376099,10.0609350204 l10.8845889568,-5.22656679153 18.1276226044,0.000617709447397 l13.5812973976,5.49108505249 9.10163760185,9.24084424973 l4.22009170055,12.0991849899 15.3341281414,4.5079600811 l9.48525547981,7.60737240314 5.01939952374,11.3998961449 l0.000323121967085,6.53724551201 -6.50794625282,8.25159847736 l8.78261983395,14.8447430134 -0.000336007906299,11.3111341 l-7.06916332245,8.61891150475 -1.97319567204,15.0621902943 l-7.2051358223,8.26550781727 -11.9469094276,4.94171202183 l-9.58847224712,10.5262434483 -12.8893613815,4.53278690577 l-12.4560666084,0.000327119523718 -11.9382023811,-6.33318483829 l-21.6946768761,9.36562776566 -12.0085310936,0.00129716980155 l-12.0162057877,-6.49250745773 -26.2958073616,5.782969594 l-13.9954960346,0.00108236032247 -11.3855469227,-5.87520122528 l-8.77737820148,-9.28268611431 -13.345605135,5.23703157902 l-18.359900713,0.00149522398715 -12.3437643051,-5.61094760895 l-8.69171082973,-9.15380179882 -23.6620235443,0.25376515463 l-9.77067351341,-6.0100543499 -6.55178189278,-11.2311792374 l-7.62877198213e-05,-8.17375957966 4.87371444702,-9.27407026291 l-10.3729641438,-17.3602557182 -1.39511957765,-13.8734424114 l5.20101368427,-10.2842795849 8.42588365078,-6.62164390087 l3.78775298595,-19.1800320148 6.22073411942,-7.52755641937 l9.3089646101,-3.73034834862 10.6502950191,0.000502312395838 l8.54384660721,5.62534034252 18.8921511173,-12.9537284374 l13.6942148209,-1.13338589668 7.54169881344,6.12105369568 l11.6630804539,0.000640483558527 m-99.9034500122,35.978205204 l-4.46333408356,-5.94132423401 -9.79038178921,-4.43460851908 l-12.6533615589,2.45178490877 -7.87580311298,5.64001023769 l-8.82592797279,14.0501403809 -12.3342204094,5.99973857403 l-10.6535124779,13.5608923435 -11.504932642,6.3654255867 l-7.85576999187,13.4809803963 0.000364244260709,13.8955795765 l2.29770407081,4.17067617178 11.6061091423,6.0848236084 l20.7194209099,-1.80639585778e-05 20.7546401024,-6.68169856071 l15.7618975639,-8.18455934525 7.63823449612,-6.84925436974 m-46.1321640015,-23.4829330444 l-5.54326236248,0.00240446970565 m1.56493186951,1.20186604559 l-0.000731846084818,8.59890818596 m110.914011002,41.4279842377 l-5.00151455402,6.07958436012 -7.51305520535,21.6378760338 l-6.93956315517,15.7139658928 -8.81290018559,13.2892084122 l-9.55410182476,8.54026317596 m53.2684803009,-55.3903007507 l2.14391574264,10.6671905518 10.9528648853,30.0923085213 l12.0009827614,13.1952679157 m103.14953804,-52.0930480957 l-3.27237278223,9.10234689713 -15.3512120247,28.8287591934 l-11.5999031067,12.5154435635 -11.7108392715,7.75279581547 m54.8615932465,-54.8534917831 l4.65022861958,9.16702508926 13.5084819794,15.6114518642 l13.2866740227,20.1010918617 2.97623604536,9.40025806427 m-135.895423889,-129.105453491 l0.0411926861852,1.1720251292 -2.93370366096,4.27424520254 l-0.000332186791638,3.71830642223 2.27381959558,0.000466801757284 l-0.000205323540285,-3.36122900248 m253.744480565,-71.1622309041 l32.3461818695,-20.3194308281 12.6554095745,-4.07989799976 l11.8539655209,0.00100268611277 11.0202217102,6.26667499542 l9.02311384678,9.83842253685 18.3570361137,-6.55734062195 l17.5724065304,-1.84878095984 14.2903411388,2.73499011993 l10.0928139687,7.25746631622 22.6144051552,0.22213742137 l11.6522943974,4.432297647 8.12302350998,8.71001243591 l15.949280262,5.21859586239 8.67994427681,6.81430757046 l4.49951291084,10.6236517429 9.22855436802,10.355386734 l4.1351211071,11.5319061279 -0.000451783671451,5.04000008106 l-5.19848048687,7.26109623909 7.87234306335,14.5816898346 l-0.000272089455393,10.6801962852 -6.03521764278,8.29227209091 l1.13240927458,16.1695194244 -4.58787441254,9.47393357754 l-9.5173573494,6.28953874111 -8.58422994614,11.0157477856 l-12.3690783978,5.52260816097 -18.4719073772,7.84996211529 l-11.3439810276,0.000313900090987 -11.4287030697,-6.21508359909 l-10.5904471874,0.00083434584667 -24.2540025711,8.93701791763 l-11.9533550739,0.000758314927225 -11.7859590054,-5.80529808998 l-11.7809283733,0.000714786874596 -29.9427270889,6.46725654602 l-14.0264165401,0.000417291994381 -11.7611527443,-5.62871873379 l-8.77995610237,-9.04213607311 -16.3368046284,-0.000306499860017 l-11.2538123131,-5.70870637894 -8.3970785141,-9.70156490803 l-25.2534127235,-5.28237342834 -9.58249509335,-7.66138792038 l-5.45862495899,-13.0065786839 0.762777775526,-13.1209588051 l5.83658576012,-11.3596367836 8.2235789299,-7.8759264946 l4.80544686317,-18.4426343441 5.44541120529,-10.0260198116 l8.12395870686,-7.49049186707 10.1747012138,-3.66062343121 l11.9144046307,-14.3239247799 9.43840682507,-4.75933253765 l10.9940886497,-0.0763819087297 8.27758252621,-3.40711265802 l13.2646656036,-0.000511293001182 8.8143491745,-4.25128370523 l12.0742559433,-0.000363345570804 m-94.2493438721,43.4317445755 l-3.53646457195,-3.96948546171 -5.93255579472,-0.000212815848499 l-6.44017100334,4.9268874526 -5.8418315649,8.06976556778 l-12.8252267838,5.16786038876 -7.68284797668,7.31253027916 l-8.4602445364,14.5950782299 -11.1714994907,6.98365867138 l-9.6271443367,13.9602959156 -3.64296466112,9.06090915203 l-0.000577792488912,11.6707360744 6.9579076767,11.3134562969 l8.71284425259,5.25303125381 16.115322113,-0.000273907098745 l21.4390516281,-7.63424098492 16.5803170204,-9.29481983185 l7.38909900188,-7.05624461174 m-47.2328233719,-27.7709412575 l-7.6608812809,0.00146921898704 m4.72023099661,5.47290861607 l-0.000675942574162,6.05898439884 m94.849691391,32.6729273796 l-5.97025752068,5.01426279545 -10.3697621822,21.9389128685 l-14.3923819065,34.1847586632 -6.78479969501,13.4611487389 m52.1342039108,-63.0074214935 l-0.255705993623,10.6671559811 6.47014737129,35.1259231567 l5.73279798031,10.8291494846 m106.83380127,-56.7523193359 l-2.69671648741,10.217884779 -15.832965374,35.9107899666 l-5.81697225571,15.6396579742 m45.0329494476,-59.0808820724 l5.4441934824,10.4825770855 14.4335997105,17.7489101887 l5.27243256569,11.805961132 6.68412089348,7.11746096611 m-121.517724991,-112.311210632 l-0.593732744455,0.595999024808 -4.12111222744,4.49748843908 l-6.8205344677,10.3169584274 -1.38946041465,8.57708692551 l5.24914979935,8.73793959618 7.23992407322,3.78042578697 l16.0424458981,-2.07184895873 m238.16787988,-120.995689297 l30.5791378021,-17.8567743301 12.260119915,-3.66051077843 l13.0908679962,0.000770372571424 11.2638771534,5.62071442604 l8.17983567715,9.19290482998 27.9477643967,-6.08062326908 l15.591801405,0.931374579668 11.3766777515,5.6467717886 l8.45677375793,9.02023375034 22.7350831032,-0.773412808776 l13.1470179558,3.69588464499 9.40694332123,8.15358102322 l4.70273435116,10.71808815 16.4042460918,7.06210434437 l8.77178013325,7.59830474854 5.27008235455,10.996632576 l4.96508675951e-06,5.76775670052 -5.71387887001,7.20972299576 l10.5515420437,13.9876866341 -9.48224351305e-05,9.9747467041 l-6.58558189869,9.44280564785 1.62324264646,15.3699219227 l-3.89823585749,9.33440625668 -9.46461439133,7.13415801525 l-6.48165643215,12.0332610607 -10.4598653316,7.08489894867 l-20.2808022499,2.40641623735 -20.4255795479,8.10884952545 l-12.1469342709,0.000950328249019 -11.2555730343,-6.14983081818 l-27.5513911247,7.81576991081 -13.7141788006,0.00139050709549 l-11.3999426365,-5.61096906662 -12.9766273499,0.000847300616442 l-29.7567296028,5.72192788124 -15.1789820194,0.000737376831239 l-12.2517299652,-5.52334547043 -9.69161748886,-8.95042717457 l-31.0619258881,1.5526561439 -12.3294579983,-5.56164562702 l-8.52311730385,-9.64720368385 -4.48239266872,-12.5259244442 l1.17611214519,-11.7054331303 5.69226443768,-10.1516675949 l-9.46676194668,-18.601142168 -0.456912480295,-13.9476561546 l4.6306630969,-10.1256489754 7.72570610046,-7.64595687389 l6.46587848663,-13.9200854301 7.5451362133,-7.45154261589 l9.51000928879,-4.10891711712 9.71617102623,0.319378525019 l7.6098549366,-3.74763906002 10.4968523979,-0.423027090728 l7.81718194485,-4.85879421234 11.2600803375,-1.53126195073 l9.00126338005,3.87534469366 14.4940078259,-0.00011834936231 l8.35616230965,-4.80830460787 10.6666946411,0.000177348920261 m-110.340909958,44.9625444412 l-3.5292544961,-2.10292503238 -4.15279209614,-0.304284878075 l-6.11992657185,4.17114108801 -6.24645531178,7.54470944405 l-4.68140244484,8.78714025021 -11.7042183876,9.64642524719 l-6.58950746059,8.8779103756 -11.6636693478,9.46544528008 l-8.61590206623,14.1626036167 -8.34861218929,25.3524518013 l2.35319986939,23.3891654015 5.55717229843,7.15189814568 l8.73376786709,3.44686925411 11.0284113884,-0.508167929947 l10.0543010235,-4.77507352829 7.59165167809,-7.39788889885 l12.6590836048,-6.75997316837 7.3963290453,-7.86408901215 m-40.9457302094,-30.9139347076 l-7.38935649395,0.00107729378215 m0.499690175056,10.0155508518 l-3.02549540997,0.00276076520095 m100.096855164,29.4215226173 l-6.7265111208,16.978032589 -9.8271548748,18.7334680557 l-10.4256331921,15.7736468315 m38.8384962082,-43.7998390198 l0.875813066959,10.845836401 9.07664239407,35.2606630325 l6.14441752434,9.6382445097 m120.233287811,-56.0348272324 l-7.55954921246,33.3708620071 -7.42581427097,18.5166287422 m32.7396202087,-53.6863183975 l6.06455624104,10.6654953957 15.4467844963,19.2278265953 l5.69827437401,10.9400653839 m-138.209247589,-112.993488312 l-1.27209290862,0.880269482732 -5.63423335552,5.13822853565 l-3.39798480272,12.7227318287 -1.4434030652,10.675842762 l4.5223519206,9.94173109531 11.3158833981,7.72338867188 m278.360033526,-126.582222504 l27.6559257507,-14.9113023281 12.4237632751,-3.61499071121 l13.0171966553,0.000875070982147 11.5687203407,5.70276319981 l8.26505422592,8.88126850128 25.6515693665,-4.56654578447 l18.578659296,0.00187990895938 11.7466819286,5.17208516598 l8.30131411552,9.15360152721 22.1803665161,2.54273205996 l10.8375167847,5.49318134785 8.34021985531,9.42401528358 l0.096641741693,6.69748783112 18.5566174984,9.15536463261 l9.20914232731,8.28234732151 4.67743545771,11.2272763252 l4.46769900009e-05,6.17895841599 -5.94022870064,7.97707140446 l12.6185297966,15.4178452492 -0.26010280475,7.27613866329 l-6.50542259216,8.72809648514 2.58899211884,16.4809703827 l-3.21879148483,8.89032900333 -9.19232785702,6.88746392727 l-7.16482937336,13.326151371 -11.3796198368,7.77318298817 l-10.4255378246,0.000762156196288 -20.3116297722,9.0163320303 l-12.5238573551,0.00143394165207 -11.4633274078,-5.80228626728 l-25.6729364395,7.73278772831 -14.9852228165,0.00143663666677 l-12.4946129322,-4.99488979578 -12.6310956478,0.00123506019008 l-29.356033802,5.40117442608 -15.5268275738,0.000945829087868 l-11.5813612938,-5.11377394199 -8.93230855465,-8.99937331676 l-31.756734848,2.76025176048 -10.2366673946,-5.23456394672 l-7.76367545128,-9.94438350201 -10.8581256866,-3.87562692165 l-8.17070007324,-9.74455595016 -3.94127547741,-13.7951529026 l0.060133789666,-6.08269393444 5.39290368557,-9.12531137466 l0.000739947427064,-8.77340912819 4.53903585672,-10.5725240707 l5.78047275543,-16.3272094727 6.7207723856,-9.49885487556 l8.95898938179,-6.95421695709 7.44504570961,-9.84866559505 l10.0065886974,-6.35613799095 11.0487651825,-2.48864606023 l7.2902816534,-4.93482142687 10.969543457,-1.43414959311 l8.17601144314,-5.08375346661 14.2139077187,-0.000103228940134 l9.00133192539,-4.46601212025 13.1808638573,5.41264626008e-05 m-102.442836761,45.8839511871 l-3.96272003651,-2.96257346869 -5.6543213129,-0.000246466115641 l-6.95276558399,5.20211517811 -6.35121226311,8.47943127155 l-13.3671081066,5.52161574364 -8.20651233196,7.02520787716 l-6.16163134575,8.58915328979 -13.0678784847,6.85467481613 l-11.5600681305,12.956994772 -5.52955508232,9.32423293591 l-3.14427107573,13.5064077377 1.40116661787,7.98530340195 l5.07700383663,5.78871488571 8.90066623688,3.14866036177 l19.2008054256,-0.00048370242439 22.0753359795,-7.97572612762 l16.0688316822,-9.22797739506 m-49.1593503952,-26.1942815781 l-4.87092554569,1.17899901397e-05 m3.53552043438,2.31997236609 l-1.01376861039e-05,5.35443723202 m104.388999939,24.2827963829 l-6.96792244911,17.6260697842 -9.6067994833,19.3361890316 l-10.2536392212,16.8784308434 m44.2687034607,-47.1698713303 l0.21285045892,10.7928609848 8.05109143257,36.4225459099 l6.15535318851,9.47911679745 m127.76227951,-58.4776163101 l-8.00036668777,35.6959581375 -7.940081954,19.8164367676 m34.7409343719,-57.4497890472 l7.16423273087,12.2553741932 15.824662447,19.2296433449 l8.80245149136,18.1015086174 m-138.063097,-96.8129920959 l0.470554046333,2.1154730022 0.728453472257,7.9286301136 l-0.204672459513,15.1552915573 -6.01838111877,17.5222969055 m-13.192871809,-34.2031741142 l0.718453228474,4.00137603283 -2.54570275545,8.27261447906 m280.871933822,-125.157330288 l24.0001678467,-11.840031147 12.0171821117,-3.3597818017 l13.4514605999,0.000902843166841 11.6686463356,5.30241668224 l8.27266454697,8.75774562359 27.451004982,-3.61759573221 l16.7580544949,1.571572721 11.659719944,5.97614705563 l8.94008815289,9.77097690105 18.7805116177,3.09771031141 l11.782835722,5.62001645565 8.40528488159,9.15737271309 l3.99864554405,12.0638012886 13.7639677525,10.5585134029 l6.91279649734,10.9424507618 -0.690168365836,7.55643188953 l-6.48529112339,8.35508465767 12.7951788902,14.4114685059 l6.50946676731,12.259824276 0.462268814445,11.7424297333 l-6.40673339367,10.3882157803 -11.5452373028,7.16675639153 l-2.77453541756,14.4161951542 -7.5254547596,8.72094631195 l-12.9355072975,5.02181529999 -13.6484026909,0.00104819468106 l-21.4279437065,10.399671793 -12.771178484,0.00150993218995 l-12.5627529621,-6.18427395821 -27.8364539146,8.04114341736 l-17.2089982033,0.0014885859855 -12.6652383804,-5.00600636005 l-14.653441906,0.00104942635517 -14.1078650951,0.000427059349022 l-12.2134184837,-4.8815497756 -17.5851392746,0.000504301751789 l-12.4054813385,-5.61949014664 -9.44912016392,-9.04555797577 l-26.6759371758,-3.30133795738 -9.4208419323,-7.72371888161 l-6.13287389278,-11.8267142773 -7.0700489232e-05,-7.55745768547 l5.25594651699,-9.60809707642 0.000681693709339,-9.23742055893 l3.97789537907,-10.7541847229 3.36440682411,-17.2528159618 l5.62198162079,-11.1779284477 7.95579969883,-8.22439134121 l6.42265439034,-12.8170585632 8.56361627579,-7.60609269142 l10.8131980896,-4.09818559885 9.17767882347,-4.04963523149 l11.8885624409,-0.295974723995 8.56806755066,-4.51179325581 l13.8994812965,-2.51090204983e-05 9.6329665184,-4.93811786175 l14.2804992199,0.000135805466925 m-102.680110931,45.2406311035 l-3.17855119705,-3.73886674643 -5.3850787878,-0.000367872526112 l-6.18042588234,4.64626312256 -5.80225527287,7.68556237221 l-13.4368741512,5.57305812836 -8.03539633751,6.98413848877 l-5.76405286789,8.51356983185 -12.5778901577,7.01612353325 l-10.5165851116,12.5875997543 -13.9474773407,24.7482037544 l0.00226467745961,13.2438278198 3.88853937387,6.62778794765 l7.82991170883,4.50878918171 10.6694996357,1.37225702405 l11.2861216068,-2.70368337631 9.87417161465,-6.12034261227 l8.12597572803,-8.60372543335 12.212086916,-6.61455869675 m-40.8609724045,-27.2306156158 l-5.53620219231,0.000732884000172 m1.9448029995,6.04090750217 l-2.513281703,0.00245668139542 m123.017206192,26.71230793 l-4.4918012619,14.1311275959 -12.9093551636,40.633764267 l-5.52646875381,15.7420134544 m40.3130531311,-63.8863897324 l1.56147256494,11.9323015213 11.179677248,43.1206846237 l6.41936659813,10.5274617672 m106.500263214,-69.2256259918 l-4.82019454241,41.3531303406 -9.25074517727,36.9663190842 m27.4748563766,-78.2092952728 l6.21515274048,14.1350328922 18.8734149933,46.7459106445 l7.61966347694,11.1500692368 m-126.163539886,-135.972509384 l0.294972341508,0.998616740108 -0.624034591019,10.2523732185 l-1.55712291598,18.5482549667 -4.29670035839,18.290091753 l-6.10530078411,13.1601631641 m13.2427918911,-49.8811531067 l2.97221809626,5.202267766 2.32556819916,10.9876954556 m23.9483237267,-7.47111141682 l5.74433147907,6.54077172279 5.38898468018,16.6402578354 m234.31901914,-124.087406071 l19.6158790588,-8.8299369812 14.1904485226,-2.20731183887 l9.30808365345,0.000535807521373 11.3618075848,8.17667067051 l19.0467250347,2.26536884904 20.5662226677,1.49050444365 l10.9069299698,5.18463790417 8.98682653904,9.06203746796 l22.8925347328,3.1095251441 12.3345720768,5.80002844334 l9.06089246273,8.91418457031 4.99109148979,11.8242049217 l14.4835925102,11.3397157192 6.9938480854,11.2192630768 l-0.601538345218,7.46864080429 9.75473642349,15.029784441 l0.000125305687106,10.3022921085 -3.99837493896,6.3004809618 l4.90038394928,16.5641796589 -0.934984833002,10.2497029305 l-6.98416352272,8.28054666519 -3.31776082516,15.8334815502 l-7.63899087906,9.08564686775 -11.7544949055,4.69185054302 l-17.5091433525,10.8078205585 -12.9149985313,0.000638620476821 l-13.5836315155,-6.07932984829 -12.4500405788,0.00144441757584 l-27.7420568466,10.8953809738 -13.2340347767,0.00162006210303 l-12.0003914833,-5.17569124699 -12.0849454403,0.000690541055519 l-31.8995785713,6.94474279881 -16.4785838127,0.00105042527139 l-12.7983880043,-5.40040075779 -8.98339092731,-7.95472443104 l-31.310107708,1.26784369349 -11.1337053776,-5.44455230236 l-8.23960542679,-8.76036167145 -10.3219890594,-5.40682733059 l-7.85507142544,-10.382835865 -3.87617766857,-13.3759140968 l2.8068447113,-12.1450793743 7.79444873333,-10.5337107182 l0.00104710808955,-9.77486133575 5.00439107418,-11.1156201363 l8.32542598248,-9.02091145515 6.06422007084,-16.0550761223 l7.27845013142,-9.81519460678 10.7618093491,-7.52155601978 l11.5837752819,-4.12035942078 6.85322165489,-5.86212098598 l10.9788191319,-3.31152439117 7.87525355816,-6.10890746117 l12.0093858242,-2.52822697163 18.1865179539,5.76029242438e-05 l9.18383002281,-3.77587229013 14.4946396351,-0.00057582219597 m-114.979772568,48.1670808792 l-6.023837924,-3.54604035616 -7.88335323334,0.000691882014507 l-12.2442114353,10.777733326 -7.76557087898,9.73981320858 l-13.1291508675,5.66364526749 -14.0025663376,13.8838529587 l-14.3533909321,7.33302593231 -8.37089657784,7.87822306156 l-5.77275931835,8.53620231152 -5.13057887554,14.1566038132 l0.579821951687,12.6182198524 4.55159217119,6.80827915668 l8.59171628952,4.24684256315 21.1250090599,-0.000161782736541 l13.1870484352,-4.73465710878 9.7615480423,-6.93274974823 l7.55268156528,-8.60407412052 m-38.8325023651,-26.5129709244 l-5.53735792637,0.00140977397677 m3.51229250431,0.00430313899415 l-0.000654028481222,6.02066397667 m112.172603607,17.7207481861 l-3.59636098146,14.1580414772 -8.23285162449,18.3801710606 l-13.1903409958,31.408572197 m44.6417140961,-55.7002449036 l0.934196487069,12.8376936913 10.2783799171,40.94622612 l7.03033089638,11.3613629341 m113.148975372,-67.1792030334 l-3.05443435907,37.8978800774 -8.53737056255,34.495909214 m25.8814358711,-72.3293781281 l6.18216872215,13.1683146954 18.7403929234,44.0964221954 l8.31179201603,11.1560404301 m-157.561645508,-123.906993866 l0.383133366704,2.62526065111 -1.76241114736,11.4206159115 l-5.14669418335,18.8327264786 -6.67795181274,18.0119812489 m8.11927735806,-41.8228340149 l0.000242779733526,9.25262987614 m-4.25904691219,-5.66417455673 l-0.00148833292769,7.70306050777 \" fill=\"none\" stroke=\"black\" stroke-width=\"1\"/></svg>"
          },
          "metadata": {
            "tags": []
          }
        }
      ]
    },
    {
      "cell_type": "markdown",
      "metadata": {
        "id": "ekt1CBdSRkWm",
        "colab_type": "text"
      },
      "source": [
        "# Unconditional Generation\n",
        "\n",
        "We'll load the Flamingo model and try decoder-only generation"
      ]
    },
    {
      "cell_type": "code",
      "metadata": {
        "id": "i4Jv5q9vRr6A",
        "colab_type": "code",
        "colab": {}
      },
      "source": [
        "model_dir = '/tmp/sketch_rnn/models/flamingo/lstm_uncond'\n"
      ],
      "execution_count": 0,
      "outputs": []
    },
    {
      "cell_type": "code",
      "metadata": {
        "id": "CJR-TQuMRuD6",
        "colab_type": "code",
        "colab": {}
      },
      "source": [
        "[hps_model, eval_hps_model, sample_hps_model] = load_model_compatible(model_dir)\n"
      ],
      "execution_count": 0,
      "outputs": []
    },
    {
      "cell_type": "code",
      "metadata": {
        "id": "byGYcMarRvh8",
        "colab_type": "code",
        "colab": {
          "base_uri": "https://localhost:8080/",
          "height": 221
        },
        "outputId": "6f293dc8-a67b-48cc-a301-bfeccd2ced2e"
      },
      "source": [
        "# construct the sketch-rnn model here:\n",
        "reset_graph()\n",
        "model = Model(hps_model)\n",
        "eval_model = Model(eval_hps_model, reuse=True)\n",
        "sample_model = Model(sample_hps_model, reuse=True)"
      ],
      "execution_count": 52,
      "outputs": [
        {
          "output_type": "stream",
          "text": [
            "I1203 10:21:54.746284 139777534314368 model.py:87] Model using gpu.\n",
            "I1203 10:21:54.752806 139777534314368 model.py:175] Input dropout mode = False.\n",
            "I1203 10:21:54.754125 139777534314368 model.py:176] Output dropout mode = False.\n",
            "I1203 10:21:54.755220 139777534314368 model.py:177] Recurrent dropout mode = False.\n",
            "I1203 10:21:56.029931 139777534314368 model.py:87] Model using gpu.\n",
            "I1203 10:21:56.031121 139777534314368 model.py:175] Input dropout mode = 0.\n",
            "I1203 10:21:56.032072 139777534314368 model.py:176] Output dropout mode = 0.\n",
            "I1203 10:21:56.037170 139777534314368 model.py:177] Recurrent dropout mode = 0.\n",
            "I1203 10:21:56.177078 139777534314368 model.py:87] Model using gpu.\n",
            "I1203 10:21:56.178407 139777534314368 model.py:175] Input dropout mode = 0.\n",
            "I1203 10:21:56.179454 139777534314368 model.py:176] Output dropout mode = 0.\n",
            "I1203 10:21:56.180218 139777534314368 model.py:177] Recurrent dropout mode = 0.\n"
          ],
          "name": "stderr"
        }
      ]
    },
    {
      "cell_type": "code",
      "metadata": {
        "id": "cBAB9nT1Rx2D",
        "colab_type": "code",
        "colab": {}
      },
      "source": [
        "sess = tf.InteractiveSession()\n",
        "sess.run(tf.global_variables_initializer())"
      ],
      "execution_count": 0,
      "outputs": []
    },
    {
      "cell_type": "code",
      "metadata": {
        "id": "X33o2btURzgN",
        "colab_type": "code",
        "colab": {
          "base_uri": "https://localhost:8080/",
          "height": 51
        },
        "outputId": "b39e120c-6774-404f-f77e-27422f484ed4"
      },
      "source": [
        "# loads the weights from checkpoint into our model\n",
        "load_checkpoint(sess, model_dir)"
      ],
      "execution_count": 54,
      "outputs": [
        {
          "output_type": "stream",
          "text": [
            "I1203 10:22:00.578574 139777534314368 sketch_rnn_train.py:242] Loading model /tmp/sketch_rnn/models/flamingo/lstm_uncond/vector.\n",
            "I1203 10:22:00.583749 139777534314368 saver.py:1284] Restoring parameters from /tmp/sketch_rnn/models/flamingo/lstm_uncond/vector\n"
          ],
          "name": "stderr"
        }
      ]
    },
    {
      "cell_type": "code",
      "metadata": {
        "id": "ezntCdLzR4I8",
        "colab_type": "code",
        "colab": {}
      },
      "source": [
        "# randomly unconditionally generate 10 examples\n",
        "N = 10\n",
        "reconstructions = []\n",
        "for i in range(N):\n",
        "  reconstructions.append([decode(temperature=0.5, draw_mode=False), [0, i]])"
      ],
      "execution_count": 0,
      "outputs": []
    },
    {
      "cell_type": "code",
      "metadata": {
        "id": "x2iPuPruR5wP",
        "colab_type": "code",
        "colab": {
          "base_uri": "https://localhost:8080/",
          "height": 408
        },
        "outputId": "799dc2bb-72d6-45fd-aa32-0b346e46f167"
      },
      "source": [
        "stroke_grid = make_grid_svg(reconstructions)\n",
        "draw_strokes(stroke_grid)"
      ],
      "execution_count": 56,
      "outputs": [
        {
          "output_type": "display_data",
          "data": {
            "text/plain": [
              "<IPython.core.display.SVG object>"
            ],
            "image/svg+xml": "<svg baseProfile=\"full\" height=\"367.294536953\" version=\"1.1\" width=\"3169.60032504\" xmlns=\"http://www.w3.org/2000/svg\" xmlns:ev=\"http://www.w3.org/2001/xml-events\" xmlns:xlink=\"http://www.w3.org/1999/xlink\"><defs/><rect fill=\"white\" height=\"367.294536953\" width=\"3169.60032504\" x=\"0\" y=\"0\"/><path d=\"M25,83.6303721757 m0.0,0.0 m151.724309524,55.192804914 l-3.37153553963,0.633110925555 -5.43745756149,4.37848716974 l-5.89291751385,7.06401348114 -8.41767370701,19.3171215057 l0.557907670736,23.6854314804 3.24337899685,8.14316928387 l5.84885716438,7.70408511162 5.60568332672,4.08896684647 l6.41304433346,3.12555730343 7.73318350315,1.85917645693 l11.3473880291,0.728805288672 28.5787773132,-4.61250960827 l6.94459915161,-3.62079828978 2.8515791893,-2.59005337954 l4.54347789288,-18.8300669193 -2.28507295251,-13.7253928185 l-2.56863325834,-4.97001498938 -4.81846153736,-5.2065384388 l-15.3308355808,-9.50517952442 -13.5815739632,-5.07913887501 l-21.3630247116,-2.51549690962 -3.37838232517,0.282216388732 l-2.89333432913,2.14755862951 m16.0498476028,71.8604469299 l-1.45188987255,9.3537825346 -1.42399519682,52.5015974045 l-1.76347851753,12.9258596897 -0.104446532205,11.6345119476 l-1.13008864224,0.435487926006 m20.2688312531,-88.5260677338 l0.524196512997,14.7090578079 7.02943921089,56.596827507 l0.233109183609,7.75655806065 1.94423183799,6.369561553 m-19.8409938812,-151.592197418 l0.00228538003284,-19.1663300991 -0.736812874675,-13.2568538189 l0.000981647026492,-18.8079714775 -1.49013310671,-12.493134737 l-5.87570309639,-17.6352572441 -3.7884670496,-6.72303080559 l-8.13426852226,-6.43582165241 -6.22835576534,-2.34312102199 l-10.2809524536,7.46324712964e-05 -10.9955573082,5.07889688015 l-8.06641817093,8.00400316715 -4.58561331034,7.69330263138 l-4.23823386431,13.2967543602 -0.986470431089,8.84752631187 l1.13678373396,11.4827787876 1.57909497619,5.12670397758 l2.58286863565,-1.59656852484 4.62450802326,-9.25828576088 l4.96759921312,-8.55498790741 5.39694666862,-6.03517115116 l10.8230137825,-7.05963551998 7.57948994637,-3.32146465778 l5.24537682533,-0.00077819917351 7.65179157257,3.19314599037 l4.97908324003,6.04496538639 4.65922236443,26.9343566895 l0.90441711247,21.7391562462 -0.598614625633,8.3448433876 m226.897975898,-59.7809848606 l5.96719205379,-4.08285886049 12.1168148518,-6.41944766045 l12.0094001293,-2.59669423103 14.8798978329,0.00389038410503 l5.77967226505,1.02381452918 11.4651739597,5.16905605793 l6.4389872551,5.70633530617 3.8921636343,5.23117005825 l8.32116007805,16.6534698009 2.86650717258,12.6547896862 l1.67918860912,11.4712893963 0.000745651195757,12.6773524284 l-11.7303669453,44.7126531601 0.000672126552672,11.3216674328 l3.07543694973,9.73741829395 4.23820644617,5.42812287807 l7.22425460815,4.95339095592 17.6663076878,3.99829268456 l23.0796980858,1.02632947266 41.0595846176,-1.25946909189 l17.485537529,-2.22521662712 10.6149578094,-4.26326960325 l6.20578765869,-5.28282165527 5.89778602123,-10.4460024834 l1.5615862608,-9.65986609459 0.000690765518812,-9.98977899551 l-8.05379927158,-16.1375272274 -10.7784986496,-9.64005589485 l-15.8841705322,-7.02715337276 -31.7787504196,-5.62465131283 l-18.9858531952,-1.09089359641 -9.93957281113,0.953902453184 l-11.2559962273,-2.0798330009 -3.63703101873,-2.95407056808 l-4.27055865526,-9.91092860699 -5.4308962822,-53.0466747284 l-4.48035418987,-14.8697459698 -4.41961705685,-8.01839232445 l-5.4500067234,-5.90265214443 -15.594753027,-6.71101629734 l-8.58370125294,-1.33776307106 -14.629650116,0.479716584086 l-12.2398626804,2.68200695515 -16.9544768333,7.37245857716 l-7.27767348289,5.26004493237 -12.0536899567,12.5889492035 l-3.70399743319,6.81528031826 -4.42821353674,14.550538063 l-0.656347796321,13.2124197483 2.51913368702,2.97194927931 l5.09351611137,1.53938382864 6.80949449539,0.0666547054425 l19.4758117199,-5.39180994034 7.82456696033,-3.20282548666 m83.5514259338,128.694543839 l-0.526261590421,15.4623329639 1.45610958338,17.2207570076 l0.380703918636,28.2007622719 -4.2742651701,26.4502668381 l-2.6629447937,2.49280467629 -7.36290991306,2.02900696422e-05 m40.0011444092,-91.3277435303 l0.421327054501,55.1253938675 1.34837061167,19.801325798 l-0.676763504744,9.70813512802 m278.006743138,-286.587751906 l-3.13083708286,0.0337926018983 -5.27413547039,2.43968680501 l-1.77555322647,1.04837194085 -2.02595695853,2.39432170987 l-7.74643778801,10.2431333065 -3.61256837845,7.8994512558 l-1.87582835555,6.90465092659 -1.22706063092,10.7349705696 l1.28645300865,9.03293669224 2.65829563141,5.16907930374 l3.7408208847,4.08157199621 5.55707037449,2.98453956842 l4.28378224373,1.18300452828 9.19999063015,0.000121634038805 l5.02614140511,-1.20478913188 3.17815721035,-1.39132246375 l13.1755530834,-14.7799599171 3.02269786596,-6.57435178757 l1.35923042893,-8.16671431065 -0.988678261638,-7.00676500797 l-4.34849143028,-8.95063459873 -3.4607848525,-3.94458711147 l-3.83749306202,-2.58761197329 -4.19927537441,-1.41701489687 l-3.02652359009,0.443670041859 -3.62916469574,1.92515432835 m16.2413215637,1.21888898313 l2.59604692459,-2.00018793344 3.34384799004,-0.951675027609 l8.43117773533,-0.833731591702 3.05845201015,1.00860066712 l-0.460561402142,2.82450795174 -3.1253105402,2.12747395039 l-4.99075949192,2.65617609024 -8.49649488926,2.92547732592 m-23.3668136597,47.3845672607 l-0.510477684438,19.3204247952 -1.08253270388,9.20374512672 l-1.45520539263e-05,29.8411798477 -1.14237375557,10.6366610527 l0.552419275045,10.3734445572 -0.822077319026,5.85219144821 l-1.9907438755,2.54059940577 -3.75093430281,10.2720654011 l-2.49328270555,4.12057608366 -0.510570220649,3.41475695372 l-2.47852489352,4.68216568232 -6.32736623287,14.5556056499 l-3.21241348982,4.37433868647 8.22998299554e-05,3.50502192974 l-1.3374863565,2.5796610117 -5.41058123112,7.72580742836 l-3.31221967936,7.63089179993 3.21737252307e-05,8.39669764042 l-1.32449835539,6.59709572792 0.000111930648927,4.92972195148 l-1.45757079124,11.0489439964 -2.02548608184,5.44897377491 l0.000555305887247,4.3151807785 -1.72231480479,3.13659399748 l0.000448923274234,10.1429581642 -1.6817329824,3.55656296015 l0.000465384437121,5.84045827389 2.5011780858,8.95734369755 l0.776387900114,2.58941739798 2.93176472187,2.4976529181 l2.48957276344,4.88329559565 3.20250242949,2.10958093405 l1.39556467533,4.06932622194 1.4619320631,5.17275512218 l-0.0351396994665,4.27998244762 -1.40528187156,1.83805480599 l9.54872484726e-05,-0.7472884655 0.322474874556,-2.41708442569 l1.81981340051,-2.42690235376 1.8691894412,-4.9782538414 l2.73810267448,-2.12427809834 1.03457435966,-5.42575180531 l2.57903665304,-2.02213510871 5.0648868084,-1.0257140547 l7.07661390305,-1.57531812787 4.86381620169,1.95464298129 l8.35440993309,-1.71507447958 m245.336536772,-181.921797269 l4.5349034667,1.49119868875 5.77064573765,6.78429603577 l2.85093724728,2.46606662869 5.01711249352,7.3387336731 l3.88204455376,3.1882083416 7.26683557034,3.51038515568 l12.3017394543,1.23828969896 10.4432630539,8.31923534861e-05 l10.7639014721,-0.681356415153 28.8691449165,-0.000171956271515 l3.93658429384,-1.09463438392 5.02339541912,-3.74484777451 l3.63150686026,-6.81006371975 2.12341338396,-13.3345556259 l0.646280273795,-11.7027199268 0.000705024285708,-15.8506298065 l1.29321947694,-3.87296944857 6.7399841547,-13.8711810112 l4.62123811245,-6.17076814175 7.93088376522,-7.55835354328 l6.94769203663,-4.26821321249 10.6213915348,-0.000964243881754 l10.6656396389,5.47352790833 4.74333524704,7.57571458817 l2.26396977901,5.54972052574 3.21030050516,12.3445570469 l5.04711260874e-05,9.87306535244 -1.4490622282,6.0568010807 l-3.94443869591,5.38191258907 -6.50067269802,4.3549233675 l-7.58011221886,2.41741865873 -16.0505878925,1.89607590073e-05 l-4.83446389437,-1.2239228934 -5.53274810314,-5.01780033112 l-5.67102372646,-4.4502004981 -3.89530807734,-3.04565042257 l-6.09519183636,-2.64681100845 -4.37300831079,4.45932507515 l-1.905772686,6.35534763336 0.000345721819031,9.10421848297 l2.24036470056,11.3624918461 0.000750372200855,17.7584052086 l-9.67131137848,26.2865209579 -5.62009572983,7.70857274532 l-6.24472439289,5.26154458523 -12.2547197342,5.70323288441 l-11.7579746246,3.3447945118 -12.5221312046,1.082874313 l-8.38733434677,-0.000230888963415 -13.3230483532,-1.94015488029 l-9.39564108849,-2.9254835844 -6.01700007915,-3.0252546072 l-5.48265039921,-4.04982894659 -7.33427524567,-7.76491880417 l-5.2917265892,-8.79876673222 -3.0528280139,-9.62707698345 l-1.19986586273,-9.15705144405 0.724056363106,-4.15326803923 l4.13298368454,-5.69343805313 4.01386648417,-3.4888446331 l4.45417463779,-2.46455907822 3.97930473089,1.07765294611 l5.90327203274,4.6222999692 4.06625181437,5.66084563732 m20.4576134682,49.4048690796 l1.93716272712,33.0184435844 -0.272280033678,20.6735038757 l-1.27983748913,7.90657043457 -4.00233000517,11.740860939 l-2.14301452041,2.7523240447 8.95644187927,-0.652314573526 l12.7985322475,1.40313237906 -3.51236671209,-0.104060648009 l-10.0597727299,-0.118925673887 -8.43037724495,2.71935462952 l3.06602865458,2.30603039265 3.58318090439,-0.334906354547 m310.759379782,-249.800456902 l4.47786569595,-4.05952632427 11.0586071014,-7.91797220707 l11.6261506081,-3.67670565844 10.6976270676,-1.18483148515 l9.5537519455,7.94670403004 3.77969890833,27.1901273727 l-1.43500626087,18.6935210228 -2.26811155677,11.1777484417 l-3.99699538946,22.1231770515 -1.40241771936,27.0045638084 l3.01942229271,11.6488611698 2.83403366804,4.11282688379 l7.84961342812,6.01944625378 11.195152998,5.14634847641 l18.3448302746,3.53662729263 19.5140886307,-0.00021018417101 l19.9160003662,-7.24744915962 7.9546970129,-0.452960915864 l5.87693214417,3.48143935204 2.69350171089,8.94523739815 l-0.000176026860572,21.884572506 -2.02195003629,9.19710218906 l-6.80911004543,13.8646697998 -4.22864854336,11.2417209148 l-9.02726829052,12.6362609863 -6.16507530212,5.82513451576 l-8.49349856377,5.31182408333 -15.3221511841,4.44069564342 l-13.7788271904,1.03270202875 -17.7302360535,-2.63049572706 l-15.1896882057,-7.97365128994 -6.77668213844,-5.09538829327 l-5.73340654373,-5.84337115288 -3.34563732147,-4.90195930004 l-5.02802252769,-12.406373024 -3.91138136387,-32.5202035904 l0.311195123941,-14.2138040066 2.40860313177,-14.3725800514 l8.90022277832,-28.1423711777 4.44488048553,-25.5345535278 l-0.411720313132,-36.695625782 -5.88186740875,-11.4991652966 l-7.43933618069,-5.69615364075 -8.79078567028,-2.59681880474 l-11.7989134789,4.06291007996 -5.69620966911,4.99293655157 m8.3505320549,-0.356624685228 l-10.69850564,5.18322587013 -19.0307128429,17.0792341232 l-8.91686916351,10.3777050972 18.874399662,-14.2985737324 m87.938337326,180.179195404 l-1.5395526588,10.2580440044 0.000320093713526,29.6977138519 l-1.75676688552,12.0851886272 -5.07984638214,9.41337525845 l-9.82605874538,9.14252758026 -1.85240283608,-1.70897081494 l2.64195472002,-4.64073240757 m14.1665816307,-15.2655529976 l-0.77029235661,12.4184703827 1.58510714769,3.69475722313 m2.40984886885,-16.8441772461 l8.42049062252,9.7881180048 4.60730224848,3.50471943617 m234.205562499,-242.62501237 l2.55967140198,0.0324598187581 3.25220882893,3.61805677414 l3.40786099434,3.02196443081 3.06097000837,5.6533741951 l1.53722122312,7.46355772018 2.93667972088,6.88375353813 l-0.000252492209256,16.3123452663 1.09042935073,4.36361461878 l0.000371614551113,13.6272275448 -5.12916564941,23.4938573837 l-0.700571909547,8.58156442642 2.76772350073,12.0579361916 l3.89781713486,5.25174081326 5.08282065392,4.79423075914 l11.6211616993,7.10260868073 7.98483073711,2.23391070962 l11.4375567436,1.30954608321 22.8811788559,2.72759280051e-05 l8.20736289024,-1.80213436484 7.17819750309,-2.88240045309 l4.98798966408,-2.9844006896 2.42954820395,-2.50730007887 l3.77292603254,-6.52824938297 3.08134049177,-9.231351614 l0.774122029543,-7.02673733234 -0.768957138062,-4.61608588696 l-5.44533312321,-6.89841330051 -5.62536180019,-4.38154280186 l-7.50036418438,-4.16158944368 -10.4553341866,-4.14879411459 l-18.5342872143,-4.9757027626 -12.5343513489,-1.25457137823 l-14.5736932755,-0.00060653554101 -10.2885866165,1.40060603619 l-11.5442788601,4.43326532841 -4.02949124575,0.242483578622 l-4.58727180958,-2.31268152595 -2.36435681581,-4.16942924261 l-2.0634432137,-9.18627083302 0.000514095372637,-10.089828968 l3.09027642012,-12.4081647396 4.13172364235,-8.11885237694 l8.58012855053,-10.0708079338 11.8060350418,-8.92965614796 l3.12312930822,-1.4366517961 4.24209713936,0.336937643588 l5.91198027134,7.34188437462 2.72980719805,9.26519036293 l0.368786863983,9.17747855186 -0.610105246305,5.09440898895 l-1.65564060211,4.03368264437 -3.03956359625,3.28584551811 m17.6988875866,90.1982879639 l-1.10033489764,24.2818951607 1.06338195503,15.1555669308 l2.79329031706,13.6645364761 1.2356043607,17.93851614 l-0.351058989763,6.6792601347 -8.66376161575,0.843841359019 l-11.1139631271,-1.72005802393 6.76144361496,0.303608532995 m27.5101828575,-82.0791530609 l-2.16011598706,3.38799506426 0.000613302618149,12.9959475994 l-0.81958308816,8.65500450134 -5.08138000965,32.6169848442 l0.805108100176,3.10734808445 1.28191113472,1.41676709056 l1.83719292283,1.02168910205 5.52091777325,-0.000291498854494 l6.2718129158,-3.94145041704 13.058359623,-9.50861990452 l7.68442809582,-8.03353071213 2.8067407012,-4.33583557606 l1.8088260293,-3.65484237671 m200.986304655,84.5322441733 l-0.134608261287,-5.22885024548 1.16716258228,-43.1012296677 l2.28582933545,-44.3385648727 1.52295291424,-17.3285889626 l1.49866610765,-14.3243479729 m17.1320033073,2.55690723658 l-0.980609059334,13.0174636841 1.79065942764,20.3366398811 l4.74200665951,20.9011387825 6.66072368622,20.4720807076 l1.82768538594,9.65461075306 0.000360979720426,15.4511034489 l-1.47599086165,7.62194156647 -2.9841247201,6.17867350578 m-29.0791130066,-171.052913666 l1.64336562157,8.60477864742 4.61107373238,9.66514348984 l7.79250741005,11.4418542385 7.96464622021,7.79019474983 l10.5956971645,7.37143218517 12.5147652626,4.97810840607 l6.8811327219,1.70575782657 12.3162591457,-0.0476557156071 l6.96733295918,-3.78186792135 4.53427612782,-5.8452129364 l6.33161365986,-19.7713291645 0.000191002454812,-18.8186609745 l-4.0462192893,-16.3220834732 -5.21640956402,-16.9825005531 l-0.000446177946287,-17.7689182758 1.16761736572,-8.20191919804 l2.52018243074,-6.98682963848 3.29856365919,-5.56604087353 l13.505563736,-7.27489054203 7.28104770184,-1.29094287753 l4.46002662182,0.504289492965 5.85346162319,3.12111258507 l4.65208888054,4.61396753788 2.98402935266,4.59472477436 l4.13251936436,11.6377007961 5.09241402149,8.92784953117 l4.53059792519,-3.53255450726 2.87849783897,-5.83361387253 l1.43521428108,-9.50381696224 -0.533161349595,-10.3469657898 l-2.48534709215,-9.63926911354 -4.00868445635,-7.86413967609 l-4.18779522181,-4.3403801322 -4.74947661161,-3.38025510311 l-5.1827943325,-2.13921234012 -20.4402351379,-4.37577426434 l-7.10049211979,-0.0003091634062 -11.8925130367,3.16944658756 l-7.8922444582,4.12075698376 -9.09826755524,7.06588566303 l-7.21129596233,8.38489532471 -7.89469301701,16.8667447567 l-1.56075298786,6.14457070827 -0.535319745541,9.39742743969 l1.68366611004,10.9235870838 4.81977969408,10.7602870464 l1.47991016507,6.7668235302 3.83433490992,10.9797596931 l1.31020978093,7.25988388062 0.187046825886,7.06410765648 l-1.14848740399,5.30620574951 -2.7323064208,4.34634268284 l-6.25953137875,5.22286772728 -6.4986294508,2.87561774254 l-6.32005870342,1.26456350088 -19.1020917892,-0.0943620502949 l-9.16406869888,-3.06004136801 -9.92297947407,-6.56316161156 l-6.9409096241,-7.9377502203 -3.07770371437,-8.74085605145 l-0.786941424012,-7.79791295528 1.07802130282,-7.5059992075 l2.537368536,-5.34234464169 4.13209855556,-5.15144109726 m310.03053315,-56.1803287315 l-2.9822820425,2.14761227369 -6.01918637753,7.15336740017 l-6.22993528843,11.9429028034 -3.08795422316,10.2561223507 l5.66432237625,-3.4615278244 7.01870501041,-5.81237316132 l10.7965552807,-4.18629616499 9.65049028397,-0.636218935251 l-3.18504393101,-5.36947667599 -6.09810352325,-9.02074337006 l-1.31822928786,-7.12363064289 4.0585282445,-9.18279051781 l4.23344016075,-4.67240780592 13.767169714,-7.13131844997 l7.07496881485,-1.18242114782 10.6499326229,1.28574177623 l6.715259552,3.49579662085 5.27621686459,5.22469460964 l4.33143496513,7.79506921768 1.23714119196,8.11967670918 l-0.610970668495,6.00923717022 -1.61372348666,4.8311689496 l-12.4934196472,18.64610672 -6.81448638439,6.52969181538 l-5.4178583622,7.94278919697 -9.61056768894,9.89650249481 l-10.9566438198,13.3305060863 -6.01291120052,11.7726361752 l-4.71026808023,13.6752724648 -0.946306958795,33.6819767952 l2.6634901762,8.61311614513 2.99277454615,4.84752953053 l3.24221402407,2.57701158524 5.30586719513,1.67573615909 l8.00373494625,-2.84701645374 3.81837844849,-2.91025221348 l8.27014446259,-9.43765282631 12.684584856,-18.386490345 l4.39289361238,-4.47585582733 15.0246119499,-9.88182783127 l10.1549804211,-3.63853722811 14.7662973404,-2.83191233873 l17.8298306465,-0.209903959185 13.9227056503,1.83843255043 l18.755646944,6.02258265018 8.4164172411,4.4771617651 l6.2528026104,4.79268699884 5.59722959995,7.11316347122 l5.03733932972,11.1799311638 0.981582850218,9.99577701092 l-1.82499349117,11.604847908 -4.43733721972,11.9915688038 l-4.10482317209,6.63557231426 -8.843780756,8.36152732372 l-15.1966190338,9.25224423409 -12.3764002323,5.54935097694 l-11.196616888,3.01332354546 -19.3165314198,2.1707046032 l-20.4652285576,0.281838215888 -23.127310276,-2.66790539026 l-16.2051844597,-4.22862321138 -27.598502636,-14.9815618992 l-12.9357147217,-14.2187154293 -0.405196584761,-8.73352944851 l1.90559059381,-17.0672297478 4.02196615934,-12.7473604679 l11.932708025,-23.9511704445 10.3250515461,-14.7779643536 l6.8444108963,-7.32474327087 13.1409204006,-16.1531639099 l5.43267786503,-13.8467657566 1.12734548748,-12.412571907 l-2.06706568599,-10.0273025036 -2.80171602964,-4.30245488882 l-6.64361834526,-4.62671667337 -6.34943842888,-2.13385984302 l-4.97622013092,-0.268598087132 -6.90156698227,2.6814070344 m71.740694046,176.633319855 l0.251905564219,44.8112344742 -2.65575528145,35.6485414505 l-0.0486845383421,2.87584871054 -2.26729512215,1.96670562029 l-7.79012680054,0.758182778955 -4.23169136047,4.00502204895 l4.99366015196,2.31143087149 7.65474140644,0.000507167314936 l3.32131803036,-1.85212850571 0.576629638672,-5.62480330467 m-11.2703216076,-84.4629192352 l-3.09197187424,11.7836225033 -4.4500502944,9.39972758293 l-5.06275236607,14.4754612446 -9.29063737392,23.0449080467 l18.68663311,-6.47596657276 15.1379954815,-4.51215296984 l11.3650083542,0.495694987476 11.2444269657,2.76017308235 l12.5357353687,6.81112110615 0.802252367139,1.26873478293 l-15.0403189659,2.70822167397 m282.561949127,-222.25144666 l0.525126606226,3.83428633213 5.80907225609,18.1806242466 l14.7515904903,49.1423511505 7.1616011858,27.9218196869 l1.94980487227,5.29514908791 -2.08479061723,-2.49652534723 l-10.0332784653,-5.07438361645 -8.30720603466,-5.63161075115 l-7.94247984886,-3.04478526115 -23.2696294785,-8.22515428066 l-21.4502978325,-7.33604252338 -5.0169557333,0.000228226490435 l-3.27062934637,2.31501951814 -5.83286166191,9.16173636913 l-2.87620544434,9.99693036079 -1.15941829979,11.5348768234 l4.28099691868,19.5434355736 9.2201000452,10.2402245998 l5.60700953007,4.55106496811 12.7999269962,6.34182214737 l12.155302763,2.74879097939 13.624676466,0.655512809753 l17.9496753216,4.31205035056e-05 20.1834654808,-2.3885281384 l8.45706820488,-1.87307685614 18.7519562244,-8.86869251728 l6.66926801205,-5.26127159595 3.08978617191,-4.47306752205 l2.25176692009,-6.12581312656 0.00747415469959,-9.03670251369 l-2.12870150805,-4.2029222846 -11.4683508873,-9.93943154812 l-7.96860635281,-4.12342518568 -22.5738215446,-6.72331511974 l-12.0210373402,-4.62303578854 -14.1047263145,-5.06419301033 l-4.37187373638,-4.07350867987 -3.13391536474,-7.37026512623 l-0.834675654769,-12.4183595181 3.16631674767,-41.3827562332 l6.54433250427,-21.0967469215 3.89407902956,-19.8738074303 l3.14530134201,-3.34715604782 2.13467791677,2.63127297163 l5.37574291229,10.1448202133 2.97752022743,11.768784523 l0.000858207422425,14.2328476906 -4.1591963172,12.3981916904 l-3.92163783312,8.07315468788 -10.2944672108,13.1243491173 m-10.0792145729,110.676307678 l-3.04153740406,8.36580097675 -4.75882261992,36.3987898827 l-0.126379681751,15.3828859329 -1.96584522724,13.9444971085 l0.203195083886,3.37966412306 5.2583438158,-0.000373249058612 l10.412555933,0.535402223468 m9.81755673885,-77.7716875076 l-0.765940770507,6.39981269836 -2.44109600782,37.1872186661 l0.00111316978291,7.89906322956 2.43664234877,11.3914382458 l5.90292870998,16.3694941998 2.23286867142,2.95730739832 l2.49241933227,1.13564446568 m278.735373568,-264.454326996 l-3.17182838917,0.413057953119 -11.8342101574,10.2125680447 l-2.78933674097,3.44845443964 -1.9175042212,4.59008455276 l0.0620655482635,2.96919047832 2.45817422867,4.55511718988 l3.9707916975,2.75555819273 3.19339454174,0.559308864176 l8.45723390579,-1.54059335589 2.40172997117,-1.92354664207 l1.70818343759,-3.19752335548 -0.336980223656,-12.9040563107 l-5.42384564877,-7.14292764664 -2.92389214039,-0.969136655331 m-13.8077676296,9.4220072031 l-7.29105949402,1.39108791947 -7.81368911266,4.57499802113 l-11.6136968136,10.5712771416 -6.79855525494,10.4416072369 l-4.34449017048,12.6901602745 -0.750042274594,5.60255408287 l5.83989024162,-10.6907474995 10.8747410774,-12.0379638672 l6.97782695293,-5.58044970036 4.42047357559,-2.32825517654 l5.97486257553,-1.80913880467 5.36299526691,-0.488923154771 m19.2050731182,1.06744021177 l-0.832395330071,5.15012323856 2.94347435236,31.633143425 l3.07278931141,13.1663906574 1.86115667224,20.7326865196 l3.13550174236,15.2677416801 1.54817819595,3.6647105217 l5.76794981956,6.16354465485 13.2342922688,7.09408342838 l7.08502233028,6.15406572819 5.62959909439,3.07562947273 l12.3073649406,2.96533375978 13.6740970612,0.452147386968 l25.7710242271,-5.1627612114 7.39587724209,-3.0014783144 l2.11990460753,-3.34799766541 2.17460751534,-7.49363660812 l-0.457745566964,-14.5284616947 -4.96420383453,-12.3290741444 l-8.81457746029,-10.3387355804 -5.71997463703,-3.65617543459 l-12.2046387196,-5.32661259174 -14.3434739113,-2.06972748041 l-18.7652671337,1.00872278214 -12.5834846497,2.23765775561 l-7.95077681541,2.96262353659 -8.91163468361,4.71279025078 l-8.13036799431,8.84927928448 -3.12731921673,6.02888345718 m49.0522670746,42.8017473221 l0.000632527880953,36.7169094086 -2.98897743225,32.5652313232 l-1.27656430006,41.6029214859 -3.78357678652,2.62553632259 l-4.52695250511,-1.59809648991 m24.2688417435,-116.333045959 l1.34914085269,31.1922025681 -1.56039237976,31.6189360619 l-4.23975974321,29.2983913422 -2.32880890369,9.57563877106 l-3.87748360634,9.79511022568 4.00516569614,-3.16369056702 \" fill=\"none\" stroke=\"black\" stroke-width=\"1\"/></svg>"
          },
          "metadata": {
            "tags": []
          }
        }
      ]
    },
    {
      "cell_type": "markdown",
      "metadata": {
        "id": "ZtMHOVBCSEyD",
        "colab_type": "text"
      },
      "source": [
        "Let's load the owl model, and generate two sketches using two random IID gaussian latent vectors\n",
        "\n"
      ]
    },
    {
      "cell_type": "code",
      "metadata": {
        "id": "rBPrIv8vSGsW",
        "colab_type": "code",
        "colab": {}
      },
      "source": [
        "model_dir = '/tmp/sketch_rnn/models/owl/lstm'\n"
      ],
      "execution_count": 0,
      "outputs": []
    },
    {
      "cell_type": "code",
      "metadata": {
        "id": "Gj1D_xClSJM0",
        "colab_type": "code",
        "colab": {
          "base_uri": "https://localhost:8080/",
          "height": 255
        },
        "outputId": "5cb24cdd-ea32-4f13-e50b-8fd484b0c893"
      },
      "source": [
        "[hps_model, eval_hps_model, sample_hps_model] = load_model_compatible(model_dir)\n",
        "# construct the sketch-rnn model here:\n",
        "reset_graph()\n",
        "model = Model(hps_model)\n",
        "eval_model = Model(eval_hps_model, reuse=True)\n",
        "sample_model = Model(sample_hps_model, reuse=True)\n",
        "sess = tf.InteractiveSession()\n",
        "sess.run(tf.global_variables_initializer())\n",
        "# loads the weights from checkpoint into our model\n",
        "load_checkpoint(sess, model_dir)"
      ],
      "execution_count": 60,
      "outputs": [
        {
          "output_type": "stream",
          "text": [
            "I1203 10:22:51.910104 139777534314368 model.py:87] Model using gpu.\n",
            "I1203 10:22:51.916874 139777534314368 model.py:175] Input dropout mode = False.\n",
            "I1203 10:22:51.918045 139777534314368 model.py:176] Output dropout mode = False.\n",
            "I1203 10:22:51.919104 139777534314368 model.py:177] Recurrent dropout mode = False.\n",
            "I1203 10:22:54.271380 139777534314368 model.py:87] Model using gpu.\n",
            "I1203 10:22:54.272778 139777534314368 model.py:175] Input dropout mode = 0.\n",
            "I1203 10:22:54.275655 139777534314368 model.py:176] Output dropout mode = 0.\n",
            "I1203 10:22:54.277205 139777534314368 model.py:177] Recurrent dropout mode = 0.\n",
            "I1203 10:22:54.615103 139777534314368 model.py:87] Model using gpu.\n",
            "I1203 10:22:54.616302 139777534314368 model.py:175] Input dropout mode = 0.\n",
            "I1203 10:22:54.618345 139777534314368 model.py:176] Output dropout mode = 0.\n",
            "I1203 10:22:54.619525 139777534314368 model.py:177] Recurrent dropout mode = 0.\n",
            "I1203 10:22:55.138679 139777534314368 sketch_rnn_train.py:242] Loading model /tmp/sketch_rnn/models/owl/lstm/vector.\n",
            "I1203 10:22:55.140903 139777534314368 saver.py:1284] Restoring parameters from /tmp/sketch_rnn/models/owl/lstm/vector\n"
          ],
          "name": "stderr"
        }
      ]
    },
    {
      "cell_type": "code",
      "metadata": {
        "id": "l3iwhHm2SNfv",
        "colab_type": "code",
        "colab": {
          "base_uri": "https://localhost:8080/",
          "height": 337
        },
        "outputId": "b00fefeb-9458-4ad9-b292-afdc45f3be73"
      },
      "source": [
        "z_0 = np.random.randn(eval_model.hps.z_size)\n",
        "_ = decode(z_0)"
      ],
      "execution_count": 61,
      "outputs": [
        {
          "output_type": "display_data",
          "data": {
            "text/plain": [
              "<IPython.core.display.SVG object>"
            ],
            "image/svg+xml": "<svg baseProfile=\"full\" height=\"315.818012692\" version=\"1.1\" width=\"203.902568338\" xmlns=\"http://www.w3.org/2000/svg\" xmlns:ev=\"http://www.w3.org/2001/xml-events\" xmlns:xlink=\"http://www.w3.org/1999/xlink\"><defs/><rect fill=\"white\" height=\"315.818012692\" width=\"203.902568338\" x=\"0\" y=\"0\"/><path d=\"M34.7614636252,44.4095832296 m5.90026497841,-7.08977282047 l4.15729522705,-4.27193164825 1.63810223341,-4.20107603073 l2.42544665933,-3.67439031601 3.00504386425,-0.172412414104 l6.35478317738,9.35462534428 6.50787651539,9.32578265667 l13.7362039089,-0.253055673093 32.9926371574,0.00756249122787 l12.7680170536,2.19141051173 18.7208378315,3.31906050444 l12.8069829941,-20.4677200317 6.53802931309,-0.292101372033 l9.12478029728,28.7569379807 3.89354616404,13.8333785534 l3.57089489698,14.8108291626 0.000362440878234,23.1472873688 l-3.44727963209,14.1731882095 -5.75394034386,11.7358398438 l-8.07189702988,10.5797111988 -10.252623558,8.76055777073 l-19.2374229431,8.91754984856 -16.3446068764,3.06879550219 l-21.9759273529,-0.00342105922755 -16.7282986641,-3.54433566332 l-14.1281735897,-6.69861018658 -11.2949466705,-8.8581264019 l-8.80828559399,-10.6142652035 -6.04589045048,-11.7590117455 l-4.28813576698,-13.9371240139 -2.17868566513,-15.1459610462 l0.00153703702381,-21.8798971176 2.48013705015,-12.7113008499 l3.36275488138,-10.0712931156 2.98342049122,-6.29706323147 m28.7831115723,18.7992537022 l-4.88416731358,3.15793335438 -4.83505964279,8.0460858345 l-1.54857993126,5.20876407623 0.00128372586914,12.1657419205 l5.50905823708,7.59621858597 4.42516475916,2.98714607954 l6.57649338245,1.86064213514 8.60503733158,0.000164277644217 l6.30441486835,-2.58836835623 4.81181949377,-5.4285877943 l2.90422201157,-7.78614759445 0.00175567285623,-11.3241767883 l-4.74094986916,-7.30001866817 -7.01185047626,-5.42304694653 l-8.22792768478,-3.37958604097 -7.63820886612,0.000416763868998 l-1.68629661202,1.53101995587 m63.8465213776,4.2256423831 l-5.75454890728,1.24046891928 -5.57146728039,4.42168653011 l-5.39387226105,9.10599112511 -1.1853621155,4.84364807606 l0.00139694573591,9.5180439949 2.78992682695,5.80183506012 l8.17646324635,6.3976418972 8.2275557518,2.21358835697 l8.33153367043,-0.000870809672051 5.75374186039,-4.45896834135 l3.42600286007,-7.13159024715 1.22542716563,-9.22224223614 l0.00168774146005,-10.5889523029 -2.94326156378,-7.3939371109 l-5.2768355608,-5.65475523472 -6.78690850735,-3.48012536764 l-7.37778961658,-0.000744282733649 -6.06911838055,2.45951980352 m-24.7716164589,46.1775922775 l1.41762658954,8.61310184002 1.54523476958,9.19541656971 l2.32014834881,0.152179738507 5.09942889214,-11.8728160858 l2.68525719643,-6.18432998657 m-59.6570205688,34.8176503181 l-4.30084705353,6.47845506668 -7.48573601246,20.006608963 l-4.16209876537,18.7429141998 -2.2947627306,27.4201822281 l0.00143058932736,26.9374608994 3.01395148039,15.4080402851 l4.77130800486,11.8855559826 5.79540669918,8.49351525307 l7.21234381199,5.91809213161 3.5735309124,1.34375870228 l12.2293436527,0.000526316252945 m86.420841217,-139.862775803 l4.93877768517,13.952767849 7.01463937759,23.013522625 l2.72752672434,19.3686890602 0.00075265619671,28.8835930824 l-1.95568576455,10.1080274582 -8.01103293896,18.6730837822 l-7.50019431114,10.8428394794 -8.54948103428,7.89235055447 l-10.248862505,5.87466716766 -11.5674471855,3.66471499205 l-18.8684463501,0.000715799833415 -20.3765273094,0.00334699871019 l-15.9703683853,-3.58009278774 -4.78720635176,-1.55032277107 m6.0630607605,-121.21219635 l0.00073295464972,13.913834095 -4.23741966486,18.7725198269 l-12.949243784,41.7366313934 -5.91049909592,10.5189979076 l-5.69866716862,6.95683419704 -5.8012342453,4.29726809263 l-8.67166221142,2.10375353694 m109.533691406,-98.2717323303 l0.000937121512834,19.4986069202 4.66702848673,22.6261401176 l8.24928402901,21.3136076927 8.39047372341,13.3064711094 l9.11607563496,9.20853197575 3.65366339684,2.12195664644 l5.90673446655,5.15780210495 \" fill=\"none\" stroke=\"black\" stroke-width=\"1\"/></svg>"
          },
          "metadata": {
            "tags": []
          }
        }
      ]
    },
    {
      "cell_type": "code",
      "metadata": {
        "id": "q6n9j93PSOpj",
        "colab_type": "code",
        "colab": {
          "base_uri": "https://localhost:8080/",
          "height": 325
        },
        "outputId": "560e8b61-7893-49be-f26f-61c84cc86224"
      },
      "source": [
        "z_1 = np.random.randn(eval_model.hps.z_size)\n",
        "_ = decode(z_1)\n"
      ],
      "execution_count": 63,
      "outputs": [
        {
          "output_type": "display_data",
          "data": {
            "text/plain": [
              "<IPython.core.display.SVG object>"
            ],
            "image/svg+xml": "<svg baseProfile=\"full\" height=\"304.088535207\" version=\"1.1\" width=\"192.044677734\" xmlns=\"http://www.w3.org/2000/svg\" xmlns:ev=\"http://www.w3.org/2001/xml-events\" xmlns:xlink=\"http://www.w3.org/1999/xlink\"><defs/><rect fill=\"white\" height=\"304.088535207\" width=\"192.044677734\" x=\"0\" y=\"0\"/><path d=\"M61.3199815154,184.392919705 m-9.42866027355,-4.10395860672 l-7.38665938377,-4.34563696384 -9.0961843729,-8.96271348 l-5.55300891399,-8.99367809296 -3.38440775871,-9.49180185795 l-1.47106081247,-14.3363535404 2.38974049687,-15.5739760399 l7.36127853394,-16.7862474918 10.2433335781,-14.1832971573 l12.663526535,-11.7984688282 13.8528800011,-8.62217187881 l15.2245688438,-5.56304693222 15.953874588,-2.35359549522 l18.7097227573,0.00103425496491 12.7104735374,3.10321688652 l11.0800457001,5.87385714054 10.0981867313,9.16309535503 l6.84231519699,11.4300239086 3.76629590988,13.4141457081 l1.14843532443,14.9320542812 -2.86426156759,23.4339928627 l-5.04551112652,13.564684391 -7.60251820087,12.2716867924 l-9.44361150265,9.4315212965 -11.0766947269,6.68263733387 l-12.1354615688,4.1257840395 -13.1792771816,2.2275288403 l-13.389108181,0.220698658377 -12.4598896503,-2.28994563222 l-10.2672851086,-4.64942395687 -3.5139927268,-2.93558955193 m-1.30478143692,-81.2810325623 l-3.88660907745,-2.21808478236 -5.14144122601,-6.40968561172 l-4.4832226634,-9.78469491005 -2.13059902191,-9.02738928795 l-0.286006852984,-8.13157200813 1.42686590552,-7.50290513039 l4.60399329662,-8.87891411781 5.82313299179,-6.91393136978 l6.74090206623,-5.34330189228 10.1489639282,-4.94267225266 l12.3484909534,-3.16100090742 13.3877789974,-0.68379111588 l11.728322506,2.1139472723 11.3143742085,5.01036286354 l9.79117929935,7.59324491024 5.20501434803,6.2415510416 l4.37196314335,9.28847491741 1.8491128087,10.5782532692 l-0.764417424798,10.4722690582 -3.81153970957,9.39279317856 l-6.04005038738,7.9242426157 -7.47458040714,5.65920710564 l-9.12326514721,3.65494638681 -10.244820118,1.79034471512 l-11.2872004509,-0.139487478882 -10.898733139,-2.49396026134 l-9.93329763412,-5.14452695847 -3.2854154706,-3.11164081097 l-5.01137852669,-8.22145521641 m3.32343697548,-35.6527662277 l-1.96636989713,-3.49671304226 7.8931425378e-05,-9.0460819006 l5.42243480682,-3.48921984434 3.70776444674,1.42863228917 l3.30356687307,7.36892163754 -1.09153084457,5.73754310608 l-3.23808670044,2.51224130392 -3.930952847,-1.85347676277 l-0.755067318678,-5.02414762974 3.18123370409,-2.74835944176 m43.368639946,8.82288455963 l-2.25445047021,-4.59347128868 1.91364690661,-3.69498878717 l3.50355654955,-2.1113049984 4.32238250971,0.0121205940377 l1.39527931809,3.53858500719 -0.640601292253,3.627358675 l-3.41976970434,2.09453225136 -3.01433742046,-1.39628767967 l-2.07452207804,-3.84801089764 m-31.7066407204,26.0389780998 l3.93259435892,8.99739205837 3.45676273108,2.04649716616 l7.51842141151,-11.7328226566 2.90945112705,-3.75252664089 m-53.044757843,77.3197412491 l-6.90457582474,7.33704030514 -6.87145113945,11.9173526764 l-5.50987005234,13.8939678669 -3.24381679296,14.0401268005 l-0.986573249102,13.2514369488 1.42770707607,10.5688738823 l3.97196114063,8.71103644371 6.0799497366,6.99592649937 m101.329021454,-85.6988048553 l5.61949014664,10.373955965 4.159758389,14.9429547787 l1.02358527482,16.0579681396 -1.98256418109,16.0875380039 l-4.55227196217,13.277053833 -5.67647576332,10.0815749168 l-7.11446344852,8.01596105099 -8.21204781532,5.94043672085 m-74.7408294678,-8.62267076969 l0.64592063427,3.59290838242 4.63594973087,6.07803165913 l8.83063077927,6.66826248169 10.9139096737,4.27633523941 l13.1805276871,2.11024209857 15.2513945103,0.00173717955477 l13.2780861855,-2.7004724741 11.85516119,-5.02345323563 l4.16569977999,-2.90946543217 3.82193148136,-5.22315502167 m-64.5982599258,12.0123040676 l-9.66568768024,9.72585022449 -4.19330745935,6.10964536667 m58.4923410416,-15.876916647 l3.77102941275,11.2724649906 3.71610432863,10.1082766056 m-67.619638443,-5.52686572075 l-11.3522994518,3.6167088151 -9.4541567564,2.44687139988 m23.0746531487,-5.12256979942 l1.8846552074,7.33731806278 1.11917711794,6.22893095016 m0.0896605383605,-13.0471324921 l7.75780141354,6.16712987423 \" fill=\"none\" stroke=\"black\" stroke-width=\"1\"/></svg>"
          },
          "metadata": {
            "tags": []
          }
        }
      ]
    },
    {
      "cell_type": "markdown",
      "metadata": {
        "id": "aVHoKEwiSYLY",
        "colab_type": "text"
      },
      "source": [
        "Let's interpolate between the two owls $z_0$ and $z_1$\n",
        "\n"
      ]
    },
    {
      "cell_type": "code",
      "metadata": {
        "id": "0ColaqjpSXUP",
        "colab_type": "code",
        "colab": {}
      },
      "source": [
        "z_list = [] # interpolate spherically between z_0 and z_1\n",
        "N = 10\n",
        "for t in np.linspace(0, 1, N):\n",
        "  z_list.append(slerp(z_0, z_1, t))\n",
        "# for every latent vector in z_list, sample a vector image\n",
        "reconstructions = []\n",
        "for i in range(N):\n",
        "  reconstructions.append([decode(z_list[i], draw_mode=False, temperature=0.1), [0, i]])"
      ],
      "execution_count": 0,
      "outputs": []
    },
    {
      "cell_type": "code",
      "metadata": {
        "id": "5lOAzl4_SdlP",
        "colab_type": "code",
        "colab": {
          "base_uri": "https://localhost:8080/",
          "height": 369
        },
        "outputId": "c245927e-466e-48c9-e747-8fbf9ee4234e"
      },
      "source": [
        "stroke_grid = make_grid_svg(reconstructions)\n",
        "draw_strokes(stroke_grid)"
      ],
      "execution_count": 65,
      "outputs": [
        {
          "output_type": "display_data",
          "data": {
            "text/plain": [
              "<IPython.core.display.SVG object>"
            ],
            "image/svg+xml": "<svg baseProfile=\"full\" height=\"327.50368098\" version=\"1.1\" width=\"3153.75805464\" xmlns=\"http://www.w3.org/2000/svg\" xmlns:ev=\"http://www.w3.org/2001/xml-events\" xmlns:xlink=\"http://www.w3.org/1999/xlink\"><defs/><rect fill=\"white\" height=\"327.50368098\" width=\"3153.75805464\" x=\"0\" y=\"0\"/><path d=\"M25,71.6866647181 m0.0,0.0 m111.587699075,-20.3971202708 l5.90733170509,-7.18831121922 4.22504842281,-4.55612391233 l1.50856941938,-4.07521665096 2.313978374,-4.03520584106 l3.36395412683,0.847506448627 7.12816894054,10.3407025337 l6.59067153931,8.97183120251 6.27577245235,5.52048027515 l16.3976621628,-0.586467944086 31.2928032875,0.00560828251764 l23.3332657814,-0.0491583580151 7.00615525246,-9.94800388813 l7.11073696613,-7.86050796509 4.64577764273,-0.128186736256 l9.47661578655,25.2187275887 4.54377174377,10.959880352 l4.0005633235,12.4696850777 0.00108692671347,25.4277229309 l-3.74490052462,14.1951179504 -6.23561501503,12.2816693783 l-8.02350461483,10.3390073776 -10.1856791973,8.32971811295 l-12.1194243431,5.91174602509 -14.9637031555,3.60944867134 l-22.2955965996,-0.00637475692201 -22.146551609,-0.00782328716014 l-15.993874073,-2.79780238867 -12.344263792,-5.10446429253 l-10.3834700584,-7.9302161932 -7.64401912689,-9.92476701736 l-5.79315900803,-12.2982132435 -3.4542876482,-13.6032569408 l0.00171394392964,-21.0338306427 2.44100496173,-13.7089574337 l4.56773430109,-13.2128965855 4.10691797733,-9.73778069019 l3.92255723476,-6.2882322073 m25.2000546455,24.2964982986 l-5.19807398319,2.98055052757 -3.61530035734,4.55239057541 l-2.89080947638,7.46711671352 0.00107449603092,11.1981964111 l5.7596963644,7.06749200821 7.21442639828,3.33659499884 l8.78131151199,0.00123922014609 9.14221763611,-4.35375750065 l2.75752395391,-2.95204281807 2.64319121838,-6.24276101589 l0.00183243842912,-10.156211853 -4.62056547403,-6.87913119793 l-6.63492202759,-3.94341915846 -10.9178209305,-1.67413696647 l-6.70649290085,-0.00291587173706 m70.2817869186,3.39736402035 l-6.00825607777,0.622050613165 -8.61882507801,5.44481217861 l-4.2015978694,5.65288007259 -2.46947020292,8.83027493954 l0.00139034193126,7.6206433773 3.00825417042,5.34722149372 l5.74508070946,4.00300145149 7.73308813572,2.04470545053 l9.33111071587,-0.000194028998521 6.37667775154,-4.4915163517 l3.88884544373,-7.00192451477 1.27846866846,-8.53674709797 l0.0016946735559,-9.12649095058 -2.82338827848,-6.49597644806 l-5.41813790798,-5.09771585464 -6.85799658298,-2.56667673588 l-7.62090265751,-0.00190631762962 m-32.3812890053,45.9479236603 l1.56533181667,8.52175414562 4.33076918125,5.41102707386 l3.35459887981,-1.52407899499 3.65799486637,-9.14345681667 l1.69658780098,-4.85108435154 m-60.4602527618,33.6291122437 l-7.63676166534,13.44004035 -5.11255562305,14.594142437 l-4.54422980547,25.5988287926 0.00138737086672,31.6135215759 l3.07608634233,16.5731275082 5.15003085136,13.7057101727 l6.717466712,11.3753545284 7.5891494751,7.93282568455 l9.11714792252,5.49916803837 10.9260356426,3.26199799776 l13.2488179207,-0.000572604476474 26.8628692627,-8.69428217411 l10.7012176514,-7.56087362766 12.8962993622,-15.6221961975 l7.63432979584,-15.4960286617 4.84247535467,-17.8968369961 l2.74701505899,-28.5127353668 0.00169923732756,-26.6388130188 l-1.32286965847,-5.90864062309 -5.84397375584,-11.5954422951 m-97.6419258118,9.20245587826 l-2.45431378484,11.406443119 -5.92849612236,17.6959776878 l-11.1802423,38.3045578003 -5.21105527878,11.2950885296 l-4.29806232452,7.31057405472 -4.54458087683,5.02289891243 l-4.19336974621,2.8654846549 -4.50710892677,-0.808404833078 l-2.97324359417,-8.82604837418 -1.74462795258,-24.0147280693 l2.17334270477,-18.7580597401 4.17049825191,-18.2629489899 l5.81427872181,-18.9190685749 6.35328888893,-14.5749723911 l6.11901462078,-10.4297697544 6.03293299675,-7.33522593975 m115.670433044,28.6486792564 l1.7503798008,11.7079496384 4.98376071453,18.6189031601 l11.0749220848,40.1250314713 5.44157445431,12.3339641094 l2.30890497565,2.76304841042 2.6011544466,0.593014657497 l1.58449813724,-2.99967288971 0.000863769600983,-15.6109380722 l-5.78102350235,-33.1896686554 -4.61424797773,-15.7217097282 l-4.70375478268,-13.3669650555 -6.79775238037,-18.0261552334 l-2.27060690522,-5.50882160664 m187.182610235,-93.8584976251 l4.4813734293,-7.70403325558 3.22319567204,-4.74348306656 l1.45172014832,-7.45481848717 2.12950602174,-6.67380392551 l2.06888899207,-2.39011704922 6.5933573246,8.57172071934 l6.77009224892,10.3190457821 6.60102725029,7.07680881023 l17.0520150661,-0.937476232648 33.3734488487,0.00400582153816 l13.9843666553,1.57488256693 20.564827919,-20.2587032318 l5.92957139015,-2.71289229393 6.21139526367,19.3546366692 l4.9686434865,11.6552245617 4.08350229263,11.6168820858 l4.3688544631,14.3395531178 1.87634497881,13.9314079285 l0.000337268902513,24.0214920044 -3.5288053751,13.201944828 l-5.86848139763,11.6299569607 -8.19300174713,10.3411090374 l-15.7198500633,11.9549155235 -14.816609621,6.33068323135 l-16.2451195717,3.27851772308 -21.2837433815,-0.00474536442198 l-16.7894136906,-3.52729737759 -14.9491155148,-6.87282502651 l-11.4697742462,-8.79178643227 -12.1119439602,-16.312110424 l-5.48613965511,-12.82371521 -4.44039791822,-21.1906480789 l0.00133543871925,-22.4845838547 2.10428118706,-13.5099220276 l3.50683838129,-11.115128994 3.41682374477,-7.77539789677 m29.9407458305,19.060510397 l-4.69969660044,2.09548577666 -5.01242280006,6.61105751991 l-2.82576799393,8.06370079517 0.00111706809548,11.4825928211 l3.00773769617,6.57065749168 5.48355102539,5.09634375572 l7.14888453484,2.95538634062 8.60239744186,0.00032107840525 l6.04212224483,-2.72069394588 4.97417122126,-5.69592475891 l3.0306866765,-8.18675041199 0.00160103300004,-11.3577127457 l-4.63099002838,-7.24292635918 -6.34613037109,-4.3679818511 l-7.83686935902,-2.6638302207 -7.65191316605,-1.66128677392e-05 l-1.5583114326,1.53996899724 m67.2573137283,2.19949483871 l-6.27815008163,0.0085001863772 -6.40945017338,2.85750985146 l-5.19136548042,5.49800813198 -3.29287558794,6.95964872837 l0.00107686886622,9.69749450684 3.0108577013,6.04154884815 l5.55994570255,4.78565007448 7.36604750156,2.99576699734 l8.8629090786,0.000274373851425 5.80189347267,-2.53822296858 l4.91302400827,-5.27211606503 2.92479336262,-7.27470040321 l0.00162018084666,-10.4104232788 -4.23924058676,-6.49249315262 l-6.74197614193,-4.98940259218 -7.98021137714,-2.88897693157 l-7.0542627573,0.00115522561828 m-25.3786444664,41.0485172272 l0.882468447089,8.64787757397 0.708100795746,8.69491517544 l2.37108319998,0.377260558307 5.41271150112,-11.2464368343 l2.32825517654,-5.48615574837 m-59.2856693268,36.1936378479 l-8.17160725594,12.1847140789 -5.88316857815,14.6600961685 l-5.44960916042,25.0707507133 -2.02587798238,19.0883302689 l0.00107072999526,26.6254544258 3.03327530622,15.104136467 l4.78027194738,11.1983478069 6.40400588512,8.64620745182 l2.92833119631,1.95788249373 m110.635995865,-133.466596603 l4.91162329912,12.3887109756 7.45553791523,21.8511867523 l3.10487896204,19.0412116051 0.000832258156152,27.2144722939 l-1.88117623329,10.6122088432 -4.77221161127,13.4711647034 l-6.27899110317,11.5148603916 -7.00066804886,8.29033613205 l-8.65337431431,6.70908629894 -10.1341915131,4.6740180254 l-12.5554251671,2.89077401161 -21.6831731796,-0.000231982994592 l-22.9478955269,0.000549173782929 -20.9453392029,-3.47875982523 l-11.6315960884,-3.75422209501 -3.72638940811,-2.36691236496 m24.9195170403,-119.021949768 l0.000604512097198,7.56498634815 -0.00106932937342,24.3695187569 l-4.59194362164,21.3975524902 -4.27853137255,11.1588561535 l-4.33998882771,9.32885169983 -4.14853006601,7.07585930824 l-3.04393470287,5.33550441265 m92.9141044617,-84.4812393188 l-1.12171307206,14.4993281364 -1.56621009111,24.8163104057 l0.00211623279029,25.2561545372 1.56967356801,9.13925766945 l4.35743689537,10.9426271915 5.97867369652,8.38227391243 l7.14938998222,5.70653557777 m193.929604298,-199.340235501 l2.972484231,-7.93482422829 2.08729311824,-5.30006766319 l0.828047990799,-10.1230275631 0.000656392658129,-13.9696860313 l1.54503554106,-5.99100291729 4.125174582,-0.537285022438 l8.82795810699,10.2857065201 8.27363908291,10.1796782017 l6.6667509079,5.79218387604 19.4797897339,-1.53124287724 l34.7566127777,0.00608681642916 14.9429154396,1.29242509604 l19.2961978912,-1.43851846457 8.08019459248,-9.05649423599 l7.88728296757,-8.0615568161 11.7719757557,-10.7561767101 l0.924251973629,2.89740711451 0.00201994116651,21.3595223427 l-0.765114203095,19.2634308338 -2.20382586122,39.4888782501 l-4.31617856026,22.4363613129 -5.48990309238,14.3221759796 l-7.16592788696,11.5599131584 -9.05663967133,9.01361167431 l-11.5322554111,7.06250667572 -13.9761650562,4.68337833881 l-16.3922905922,2.19048604369 -21.6661906242,-0.00446474703494 l-16.4912176132,-3.23631942272 -13.9547324181,-6.11317813396 l-10.9295392036,-8.37968289852 -7.93417870998,-9.90413784981 l-5.89708268642,-11.7455482483 -5.73508858681,-21.0536384583 l-2.53516435623,-13.9954054356 0.00105831990368,-18.0315494537 l2.84864991903,-11.1239135265 3.86120319366,-6.68158590794 m36.1003398895,7.78904676437 l-6.00016176701,4.07410860062 -3.65112215281,5.00455200672 l-3.96475464106,11.2117433548 0.000774852160248,10.0953149796 l2.80118376017,6.48959815502 5.45198321342,5.02910971642 l7.43698060513,2.90297716856 8.60303759575,-0.000135498712552 l9.24480199814,-4.38071131706 2.87495523691,-2.85313457251 l3.36387336254,-6.44805908203 0.0013608323934,-12.8288018703 l-4.52173113823,-8.28337490559 -6.18858158588,-5.16219317913 l-7.43636071682,-3.18629652262 -7.5550276041,0.00088205873908 m66.9862318039,2.97784924507 l-5.81097245216,0.573714934289 -8.7226498127,5.52950263023 l-6.83898985386,9.05737638474 -2.05645307899,7.07176685333 l0.00112039684609,8.60991716385 2.85639464855,5.52934527397 l5.658249259,4.49203342199 7.7811563015,2.66949892044 l9.07061994076,0.000178490772669 6.31112992764,-2.64850318432 l5.20025253296,-5.30495345592 3.3695718646,-7.45151162148 l0.00156227659318,-11.716953516 -4.01014715433,-6.66027009487 l-5.64850866795,-4.20801699162 -7.17595398426,-2.63465881348 l-6.64960026741,0.000126753411678 m-29.1914629936,39.3305873871 l-0.377883799374,7.89744198322 -0.724559277296,8.55291545391 l2.49948918819,0.910541936755 5.40272414684,-9.08523738384 l2.50093966722,-5.74149310589 0.736055746675,-3.10718774796 m-60.8201885223,38.7014937401 l-7.68305957317,10.9776747227 -6.00203633308,13.518153429 l-6.11496090889,24.5374155045 -2.52786874771,18.9495003223 l0.00100075383671,24.5777487755 2.85690158606,14.361332655 l5.14886617661,12.2448778152 6.3733702898,8.4657651186 l2.95141577721,1.96351125836 m114.190988541,-132.370500565 l4.8516356945,13.0813992023 7.15674459934,22.0808386803 l2.93347775936,18.6831641197 0.000757736197556,28.6293101311 l-3.8655602932,16.8063592911 -8.8394099474,19.2310380936 l-7.74765372276,10.3868436813 -7.91757285595,6.78753077984 l-9.25368964672,4.76505994797 -11.331154108,3.01477015018 l-20.8932328224,0.00350970891304 -22.7320623398,-0.000969059328781 l-21.3879227638,-4.21330571175 -14.0548503399,-4.9652838707 l-5.37669062614,-3.03688317537 m32.3457717896,-116.149225235 l-0.767391175032,13.1810688972 -4.90229427814,18.0293369293 l-14.3472015858,41.9587850571 -6.67763710022,11.050516367 l-6.3601654768,6.59251511097 -6.25390470028,3.21871727705 m97.3935127258,-96.3977718353 l-0.000286545237032,23.4467625618 1.30679681897,26.8134093285 l2.07054957747,10.9364712238 5.24494469166,13.0913543701 l7.29162752628,10.8044540882 8.37993621826,7.70687997341 l9.13468658924,4.93640244007 m188.269845725,-138.774210644 l1.4344137907,-7.91917681694 0.832125842571,-5.46958684921 l0.00281630345853,-11.0745275021 0.000629404676147,-18.3131873608 l1.71646520495,-12.009421587 4.33264493942,-12.7653539181 l6.9013607502,-10.9184408188 10.5124521255,-10.3006923199 l13.5209298134,-7.9710239172 16.6153228283,-5.57675302029 l17.8261554241,-2.61172354221 38.1311178207,4.62655037642 l15.8055281639,10.5752539635 8.44565749168,10.576864481 l6.24419927597,13.3824157715 3.65315943956,15.605956316 l0.000713430345058,30.1237988472 -4.28345888853,22.4065732956 l-10.1973569393,31.1628079414 -4.34897989035,14.9707484245 l-2.89411127567,16.4765751362 6.28332873021e-05,19.0128481388 l1.64438053966,12.9735684395 2.54691153765,8.87734115124 l2.7530708909,6.43331468105 3.32472324371,3.85695189238 l3.41368705034,1.28071710467 4.69964683056,-2.17647969723 l4.31556433439,-7.7820545435 3.81310641766,-12.1895170212 l2.65004366636,-24.7243642807 0.0015681014338,-24.3265533447 l-4.29759293795,-29.5519900322 -4.48250412941,-14.1774451733 l-6.51961803436,-12.4616706371 -3.48970383406,-3.67826491594 l-6.33029580116,-2.83602684736 m-116.766872406,-10.1296174526 l-5.42285382748,8.69469046593 -3.39165002108,7.87632763386 l-11.0221195221,37.2311329842 -3.44076514244,18.9047825336 l-1.67340308428,17.9128336906 0.00107784158899,23.9506816864 l2.42579862475,12.6453781128 2.68484383821,6.66748464108 l4.5753288269,6.33918642998 6.67112052441,4.72298622131 l8.25283169746,2.44524881244 8.76402556896,-0.13438904658 l7.95529842377,-3.64840447903 7.9446041584,-7.93915092945 l5.43696284294,-8.96188616753 4.66569274664,-13.5287058353 l2.62242019176,-17.3123824596 0.000381373938581,-23.0123972893 l-5.19975841045,-25.8094954491 -5.02161383629,-12.5707948208 l-9.38182651997,-15.4981803894 -4.96083438396,-5.58054447174 l-3.81358027458,-2.7221673727 -5.93993723392,-2.1857611835 m33.7521505356,-37.9394316673 l-4.69481110573,5.87835490704 -2.27028921247,5.87996244431 l0.00123663354316,9.43471431732 5.52785634995,5.28542995453 l7.3912268877,1.94533407688 6.78494155407,-0.00120259108371 l5.42950987816,-2.47705638409 3.82632106543,-5.29806375504 l1.8472930789,-7.47858524323 0.00130228421767,-7.12826788425 l-2.68335700035,-5.95458686352 -5.55964112282,-5.21599829197 l-6.92897796631,-2.98250675201 -6.53900027275,0.00310674193315 l-5.35070002079,2.53994256258 -2.4871134758,2.84061342478 m60.0089263916,3.20853531361 l-4.79732602835,2.5197789073 -3.99572998285,5.5963242054 l-1.97623163462,6.72437012196 0.000975107541308,9.10248875618 l2.78841078281,5.15609443188 5.22520422935,3.39382916689 l6.58310413361,1.43844112754 6.78808927536,0.000248563846981 l5.6826031208,-2.39951714873 4.40793544054,-5.00907182693 l2.4424110353,-7.23368287086 0.000975697403192,-9.312890172 l-1.23108141124,-3.82924318314 -4.19372320175,-5.14180600643 l-6.89809381962,-4.06961113214 -8.09319734573,-1.85275420547 l-8.67854893208,0.000920048551052 m-21.0805034637,41.6658449173 l0.229471530765,9.9149286747 -0.420134291053,8.54054987431 l2.58889853954,0.846360772848 6.22242689133,-10.0626552105 l3.45282018185,-6.58210873604 1.44204154611,-3.64901602268 m-64.3038225174,39.8274517059 l-6.46320998669,8.80696833134 -9.52470004559,22.2493815422 l-4.83743399382,18.077236414 -3.14260274172,25.2710843086 l0.00139066789416,20.7414579391 1.07189930975,4.77192729712 l3.58529686928,5.24840056896 5.83619654179,4.27029132843 l3.32266747952,0.918451175094 5.29999673367,-0.887950956821 l6.78217530251,-4.57729160786 3.119315207,-4.03729498386 l9.08496856689,-23.5555911064 3.88734787703,-17.9294848442 l0.00117497467727,-20.9477925301 -3.4580296278,-16.7967116833 l-2.60448724031,-8.98205041885 -4.87977802753,-8.04067671299 m84.2758274078,14.1583848 l0.294270310551,12.4782907963 -2.26924598217,27.8719878197 l-1.79013818502,23.2190752029 0.828822553158,14.3507540226 l2.87697702646,9.48778986931 4.50146019459,6.52754664421 l5.67911565304,3.69440644979 5.82987904549,0.0024762423709 l5.19866526127,-3.93231987953 4.8838147521,-9.16784703732 l2.77632564306,-10.1952219009 0.000868843271746,-24.7767472267 l-7.05714762211,-29.5364952087 -3.54696363211,-11.1937332153 l-4.88801985979,-9.55127894878 -2.59890586138,-2.46918320656 m-89.2096138,94.0995025635 l0.00115410432045,14.0042161942 -2.28548318148,12.5088953972 l0.000115573111543,10.6347239017 m61.0808706284,-36.5151000023 l3.08360934258,31.9350481033 0.111228777096,8.77347111702 m217.344550924,-101.114354153 l-0.101819662377,-7.61232376099 -0.720102638006,-5.67443490028 l-3.19658488035,-12.088637352 0.000417467090301,-17.9850149155 l1.23190201819,-6.95489227772 4.60496217012,-11.6711127758 l8.3857434988,-12.6920974255 11.8880152702,-11.5613949299 l14.5797300339,-8.93644154072 16.2916755676,-5.66351354122 l17.7753829956,-2.83569693565 26.6015625,0.00091925401648 l27.498831749,9.99061703682 7.607883811,5.97267925739 l7.55644142628,10.0365996361 5.10633647442,13.3580350876 l2.41078615189,15.5089187622 0.00043276388169,25.32143116 l-3.6004036665,13.8320183754 -9.56754267216,19.395596981 l-8.78386855125,11.5801310539 -10.3164184093,8.96005213261 l-12.4654090405,6.87974512577 -14.8925101757,4.44633603096 l-16.6539609432,1.7930097878 -17.2557616234,-1.50901392102 l-15.4207146168,-5.1420968771 -12.5197076797,-7.81095147133 l-9.57775533199,-9.07263994217 -7.19034314156,-10.5005776882 l-1.70736059546,-4.59621191025 0.000179599355761,-10.527266264 l1.37326851487,-5.28545320034 m25.6941914558,-48.9142084122 l-2.35864475369,-2.36787378788 -3.79740864038,-5.54567754269 l-6.34417653084,-12.2404158115 -2.47740119696,-9.93766665459 l-0.021931512747,-9.4677054882 3.26378017664,-9.04293656349 l4.79460060596,-6.60105466843 8.15393388271,-6.63612604141 l10.2430105209,-4.48463320732 11.2107050419,-2.3727452755 l18.9523303509,0.00229731682339 12.5708520412,3.1471568346 l15.1664090157,8.38462650776 8.38197946548,8.68119776249 l5.46519875526,9.72408950329 2.46499955654,10.5584621429 l2.9305656426e-05,11.9656705856 -1.67951151729,5.25632679462 l-4.62796628475,6.19173467159 -6.69276833534,4.87101227045 l-8.61847937107,3.29300314188 -10.3980112076,1.72691568732 l-17.5893414021,-0.00313859025482 -16.9112205505,-4.37360227108 l-12.752571106,-4.71734851599 -4.38276439905,-3.08558166027 m6.84398949146,-43.1195735931 l-1.92105531693,-1.07326805592 -2.28125974536,-3.6367765069 l-1.96601971984,-4.31710988283 -1.75307661295,-6.97032630444 l-0.0828592013568,-5.27073144913 2.60821700096,-8.38339567184 l3.75258654356,-5.63413023949 8.04896652699,-6.45199716091 l4.14571225643,-1.57284393907 8.64198327065,0.200654957443 l7.3034876585,3.59502494335 4.39289689064,4.79697704315 l3.2643455267,7.8998363018 0.863046273589,9.40912306309 l0.00048411613534,10.2881097794 -3.04839223623,7.92613327503 l-5.42341053486,5.8241546154 -6.66555762291,3.47414433956 l-7.66838252544,1.47540047765 -7.61521756649,-0.662017986178 l-2.49592423439,-1.40356704593 -2.28012159467,-4.32886242867 m55.5706548691,0.19093638286 l-3.31996053457,-0.976342856884 -4.39868301153,-5.85948884487 l-2.63815879822,-8.61442744732 0.000863570094225,-11.6180193424 l1.43033966422,-4.64908987284 4.59124267101,-6.3367420435 l4.96442496777,-3.75058054924 6.74289643764,-2.11260437965 l7.02637910843,0.514175444841 6.05145037174,3.6722433567 l4.97417360544,6.92487597466 2.36575230956,8.47685277462 l0.00020327652237,11.1647772789 -3.18101257086,7.47982025146 l-8.46036672592,8.47724199295 -7.76365101337,3.16077619791 l-8.00771832466,0.941588506103 -6.60531401634,-1.51843041182 m-12.7084112167,-1.32519960403 l0.484767518938,8.42230141163 -0.0948291551322,8.09539020061 l2.90161848068,-4.66319233179 3.12356829643,-7.84350514412 l2.00061380863,-4.74845707417 m-60.5548143387,98.1622982025 l-0.833012163639,13.6200845242 -4.38739985228,21.4131975174 l-5.15207231045,18.6382067204 -4.88604575396,9.87731993198 l-5.55017530918,7.3117172718 -5.48901319504,4.48616236448 m19.1711223125,-32.9159045219 l-0.00113555375719,18.0039322376 -1.36115580797,15.2176702023 l-1.07100270689,6.20243787766 m6.31726205349,-32.7905678749 l5.70960104465,15.543473959 5.77503800392,14.845110178 l2.41944670677,3.09989780188 m55.3309440613,-55.4032707214 l-1.64109990001,16.8839371204 -3.89362722635,20.3774285316 l-3.07348400354,12.512011528 0.00142593373312,6.7520314455 m6.09379291534,-31.812069416 l4.06810820103,14.2640936375 2.76295989752,15.3525424004 m-3.10865461826,-29.4919323921 l8.30783843994,12.5313401222 7.88631618023,11.131721735 l3.15731287003,2.55251467228 m212.073713735,-22.1882841413 l-1.71030879021,-7.049061656 -1.9765111804,-5.66148579121 l-4.17366534472,-11.3470649719 -2.7551189065,-14.6846091747 l0.000432469860243,-20.3514814377 3.65272432566,-15.136333704 l7.26051449776,-15.1470434666 10.056964159,-13.230484724 l13.3857262135,-11.6689157486 14.7221791744,-8.75336110592 l16.6166341305,-5.66839873791 17.746104002,-2.56898641586 l25.3272843361,0.000838020132505 15.4786670208,7.67311036587 l9.64894354343,9.48866665363 7.94589519501,13.1303501129 l4.73067343235,15.4502236843 2.06302046776,17.2427785397 l0.000389559572795,28.9727783203 -3.24709504843,16.604373455 l-5.32498836517,14.0717899799 -6.6683024168,10.7957828045 l-8.649533391,9.13390576839 -10.4668629169,6.85768306255 l-13.3492493629,4.97803896666 -16.005667448,2.83188641071 l-16.5246248245,0.249393358827 -16.2646269798,-2.80642986298 l-14.5487976074,-5.89847445488 -11.3649475574,-7.72891461849 l-3.85063767433,-3.91598552465 -6.4847433567,-10.4790794849 l-1.49864509702,-4.70362603664 m23.6763691902,-85.6502437592 l-2.67095863819,-1.75412341952 -2.95826375484,-3.06464850903 l-6.67809009552,-8.52874040604 -4.42846506834,-9.58429217339 l-2.16806635261,-11.009978056 0.000663788086968,-12.8031849861 l3.30535024405,-10.7595944405 4.93398368359,-8.17630171776 l8.21616768837,-7.74426817894 11.0541474819,-6.2219440937 l13.4219944477,-4.18899804354 14.0565955639,-2.05277517438 l14.0007734299,0.204546265304 12.681415081,2.70968258381 l11.6125714779,5.23760020733 9.72291052341,7.5793325901 l7.3200660944,9.40143883228 3.06648284197,6.764985919 l2.57401764393,14.6517658234 -0.000109620677904,12.2699534893 l-3.17592829466,10.3455471992 -5.45137584209,8.41823339462 l-7.02918589115,6.49376273155 -8.49517941475,4.50624883175 l-15.8310985565,4.05723184347 -13.8509011269,1.02753117681 l-16.906734705,-0.00730792293325 -16.2926650047,-4.44806456566 l-3.98023933172,-2.55500167608 -4.16919469833,-5.52279174328 m5.96570432186,-58.8153505325 l-3.58572781086,-0.876098945737 -4.29258704185,-1.90806776285 l-8.15074265003,-4.1638147831 -3.62754672766,-3.52015942335 l-5.09243667126,-7.66148030758 -2.86045670509,-8.23216021061 l0.00125414007925,-8.9340877533 3.27301055193,-8.69728267193 l2.87847906351,-3.91053766012 6.43411457539,-4.95457500219 l10.0248765945,-4.01499181986 12.318726778,-2.03914403915 l12.6069319248,0.209848582745 10.7178676128,2.76099294424 l9.78030920029,6.05475306511 5.4019588232,5.69842815399 l4.42957520485,8.98685634136 1.56571805477,9.88265037537 l0.000260231809079,10.5377960205 -3.29974710941,8.34938585758 l-5.73989629745,6.15993440151 -7.5008058548,4.15533542633 l-8.92605185509,2.25860074162 -12.6118767262,0.00116256749607 l-10.1318109035,-0.000575069534534 m61.0689640045,-3.73085528612 l-3.62319082022,-1.17623500526 -5.71931421757,-5.12420594692 l-4.73557084799,-6.85942590237 -2.69748419523,-6.98805570602 l0.000129410818772,-11.2914943695 1.46723076701,-4.63534653187 l4.96921598911,-6.6913163662 5.57563722134,-4.25075829029 l5.93038856983,-2.5886169076 7.86442279816,-1.13068155944 l11.2879753113,2.39652752876 5.40120542049,3.78956794739 l4.92666423321,7.05826163292 2.43075236678,8.75016987324 l0.0001430856355,10.2624821663 -3.11384290457,8.09879720211 l-5.87965428829,7.01708376408 -7.53376126289,4.65702652931 l-8.74934136868,2.84090906382 -8.1798428297,0.59404566884 m-20.0122952461,-13.6796069145 l0.000230909809034,2.27969095111 -1.89789488912,8.10859143734 l-2.61571824551,6.76352202892 1.15712396801,-2.72820144892 l3.99951308966,-6.40199840069 2.87600815296,-2.79700040817 l1.74500212073,-1.8765860796 m-61.5749931335,79.7691106796 l-1.32152810693,13.7876629829 -5.26916503906,23.837146759 l-6.56806111336,21.7308664322 -5.63086628914,10.4111111164 l-5.82653164864,6.00369870663 m113.93447876,-77.9611110687 l0.48770159483,15.6794583797 0.899813622236,29.5655322075 l2.94585675001,17.6597726345 5.16773045063,13.7326133251 l2.47996106744,3.86386394501 4.62290287018,3.5216858983 m-104.723434448,12.5041949749 l-0.749937072396,12.3419976234 -4.02206987143,13.2317912579 m69.3022584915,-25.4506826401 l2.22689017653,14.2290210724 0.663152113557,13.3308637142 m231.520264666,-35.5115469622 l-3.35653364658,-6.36934578419 -3.1087192893,-5.71098029613 l-5.10452628136,-11.3446450233 -3.55951279402,-14.4850254059 l0.000337785277225,-17.1886372566 3.38809162378,-15.9360253811 l6.65702581406,-15.6163334846 9.60008203983,-14.9610245228 l12.6443457603,-13.2138872147 14.8141348362,-10.6181573868 l15.8121943474,-6.91186368465 16.9908595085,-3.74877750874 l24.0055775642,-0.632973760366 15.9314060211,7.07775056362 l10.6867134571,9.18863892555 8.11885595322,11.7850124836 l5.86324989796,15.1539540291 3.0277633667,17.2413349152 l0.000240594417846,24.5065999031 -3.1667381525,16.1387681961 l-5.49923419952,15.6632220745 -6.96520984173,12.4430954456 l-7.90258347988,8.88441443443 -9.86201167107,6.88792228699 l-12.1320533752,4.90708231926 -21.6395759583,3.87058407068 l-24.2099070549,-0.0067788985325 -22.2475290298,-6.80085003376 l-7.77848422527,-4.07841831446 -7.34898269176,-6.649081707 l-2.11189761758,-3.76076191664 m21.5629434586,-95.800409317 l-3.34464102983,-1.61093473434 -5.82183241844,-5.25986671448 l-8.85180771351,-13.8274741173 -1.82329207659,-5.70707082748 l-0.499850586057,-8.96436572075 2.55361229181,-10.7113301754 l4.490480721,-8.47536206245 8.31254780293,-9.10214066505 l10.7708644867,-6.78388118744 13.0079138279,-4.81807887554 l14.1776132584,-2.60808169842 19.2031621933,0.00141856682603 l12.5264060497,3.02515178919 11.5148508549,5.60704410076 l9.25676465034,7.68627822399 6.7284733057,9.46537673473 l3.61281454563,10.3834879398 0.823645293713,10.5440187454 l-2.1148647368,10.4826593399 -5.05728363991,8.63910019398 l-7.18853473663,7.23709642887 -8.87412548065,5.22878527641 l-10.4640328884,3.35525304079 -11.6802692413,1.62497550249 l-16.2058079243,-0.0067799212411 -18.755095005,-3.83461803198 l-12.8260076046,-5.62347590923 -3.47421109676,-2.93915301561 m9.91020083427,-47.2981929779 l-3.37547779083,-1.49109438062 -3.48863810301,-3.00663053989 l-3.7227410078,-4.27823781967 -4.88409698009,-8.19512963295 l-2.46071502566,-6.4417797327 -1.03395298123,-5.71953296661 l1.29368901253,-10.0288188457 3.23108553886,-7.22245872021 l6.36369645596,-6.77564322948 8.83476257324,-4.80810344219 l10.229152441,-2.35530152917 10.4005765915,0.0659840274602 l9.99330699444,2.80590176582 8.80496740341,6.2051576376 l6.4279460907,9.03315186501 2.90867716074,10.0476694107 l-0.000178608861461,10.172162056 -3.51950377226,9.08979892731 l-6.28461182117,7.01823294163 -7.91709899902,4.71951514482 l-8.99584233761,2.69937872887 -9.54109609127,0.861839652061 l-8.58520448208,-1.38829991221 -2.82890915871,-1.9479341805 m60.2431964874,0.27941102162 l-3.70586246252,-1.18077814579 -5.39649307728,-5.45961499214 l-3.68576467037,-6.68325185776 -2.214499861,-7.34632432461 l-0.000131216793307,-11.5304636955 1.32293373346,-4.88261818886 l4.75712776184,-7.2498267889 5.38709044456,-4.610414505 l7.85178363323,-3.38661462069 7.27260529995,-1.19915284216 l7.65914440155,1.47399097681 6.63671910763,4.94692027569 l4.73717808723,7.81596183777 2.02926561236,9.3282020092 l-0.000158161637955,10.8585989475 -3.1406006217,8.46345901489 l-5.88493943214,7.17110276222 -7.27491140366,4.71682399511 l-8.49844157696,2.69493579865 -8.44205737114,0.433075390756 l-3.45158696175,-1.81145012379 m-15.7389104366,-10.7434463501 l0.639313235879,9.61185932159 -0.811022818089,7.7661383152 l1.38841435313,-4.91311043501 3.04889082909,-7.22272396088 l2.50031471252,-3.71702253819 m-59.6403932571,79.7412014008 l-6.7629545927,11.3016998768 -15.7979333401,39.0061497688 l-6.8035954237,14.4802510738 -3.98904800415,12.1678090096 l-2.68231749535,14.020935297 0.000367859429389,9.41668331623 m123.416099548,-100.558366776 l4.62739676237,10.7655894756 9.12921071053,22.8298330307 l4.40425157547,18.4375286102 1.91159501672,17.3432695866 l0.000274949397863,19.7133111954 -2.14312106371,11.9540858269 m-94.2925262451,-116.247549057 l-9.40870523453,22.0590019226 -8.75878930092,17.4726974964 l-8.41596662998,23.3982491493 -5.3005862236,23.6794090271 l-1.43571957946,21.2776851654 -0.000104460168586,13.7293708324 m95.5837154388,-116.040582657 l5.31871557236,11.5739905834 8.32392752171,21.762304306 l4.2405384779,19.4278049469 1.62185519934,19.1691505909 l0.000356499949703,23.7049126625 -2.18782961369,14.4420361519 l-3.80946666002,11.2347590923 m232.453941832,-97.2025259742 l-5.15134811401,-5.59405207634 -4.54921483994,-5.14559805393 l-6.43583536148,-10.7027924061 -3.99531662464,-10.8518898487 l-2.43127256632,-14.9816548824 0.000341887935065,-17.8196823597 l4.03070539236,-16.9636392593 8.05810749531,-16.2033045292 l11.2527668476,-14.9396204948 13.505563736,-11.9292140007 l15.5876469612,-9.30260062218 17.0562565327,-5.96632122993 l16.6863262653,-2.58900403976 19.2361474037,0.000847169721965 l12.5398933887,3.04808318615 11.075937748,5.98649680614 l9.93898808956,9.51978027821 7.23986923695,12.3985135555 l4.34615671635,15.108281374 1.7351295054,16.7662775517 l6.72672604196e-05,23.5213470459 -3.11203032732,16.873216629 l-5.44796705246,14.445618391 -7.19576001167,12.0479476452 l-8.88764560223,9.70225870609 -10.6045424938,7.67247796059 l-12.6958167553,5.48535168171 -14.6599245071,3.27024132013 l-15.4787683487,1.05851620436 -15.9974718094,-1.48522377014 l-19.6626079082,-6.39315605164 -13.2593381405,-7.5030040741 l-3.50930869579,-3.34310770035 m20.1176857948,-103.972616196 l-4.89142000675,-0.0147712929174 -6.01050555706,-0.570009090006 l-11.3824892044,-0.777299329638 -5.56419670582,-0.667893737555 l-6.45181596279,-0.549074038863 -10.4728555679,-0.569399148226 l-4.8779925704,-0.0717999227345 -8.48748028278,0.713456720114 l-4.64992493391,1.40140071511 -7.63419210911,5.19333839417 l-5.21674752235,7.08350658417 -3.12724649906,8.45284581184 l7.77896639192e-05,8.62551867962 2.99284249544,8.0960226059 l6.45982265472,7.4204158783 9.38237726688,5.80874621868 l8.03434431553,2.62168228626 12.316993475,1.60860851407 l13.8358032703,0.00156827969477 11.5077018738,-2.35657602549 l9.68018293381,-4.61074888706 8.27968239784,-6.84615314007 l5.24911046028,-7.04350650311 3.85341703892,-9.64218378067 l1.14024735987,-9.81988608837 0.000845148606459,-7.29547977448 l-1.72054454684,-5.55361866951 -4.41598385572,-4.94711130857 l-7.43966400623,-3.466989398 -6.80125772953,0.00339599617291 l-8.52296769619,2.25301146507 m92.7511119843,1.60379767418 l-9.35518085957,-3.36863994598 -9.90270137787,0.0109792407602 l-9.67810869217,2.74958848953 -10.3347599506,6.27064883709 l-7.88083791733,7.44595706463 -5.4389166832,8.46975386143 l-2.7465698123,8.64589095116 0.000341857557942,8.91300022602 l3.13470959663,7.52398431301 6.44132435322,6.40805542469 l9.259532094,4.67649579048 11.8824517727,2.44731649756 l12.4171924591,-0.000729861858417 10.7264912128,-2.56417155266 l9.69975590706,-5.26600301266 7.95442819595,-7.46438622475 l5.5424618721,-9.45501029491 2.66785025597,-11.1276137829 l0.000648206623737,-8.87891054153 -1.97595670819,-6.79306745529 l-3.49436342716,-5.24686634541 -6.76526606083,-5.24997353554 l-8.7069863081,-3.04408490658 -10.4168581963,-0.864092037082 l-9.2398160696,1.59623518586 m-30.6633591652,49.8811388016 l-2.42586612701,9.58082616329 -4.31696623564,9.67327535152 l-0.279623363167,4.33054387569 4.15175914764,-2.60590106249 l5.73439598083,-7.71943688393 4.26675260067,-5.71707546711 l2.26882264018,-3.17872613668 m-69.9249792099,25.5205392838 l-8.59070599079,5.24307847023 -9.49386239052,9.83106136322 l-8.68634104729,12.4909460545 -9.83528733253,21.6660952568 l-4.89829719067,18.0890548229 -2.76512920856,24.7829031944 l0.000383279948437,17.2771477699 0.939637422562,4.17698472738 m156.691417694,-110.832834244 l6.31626069546,8.71586441994 6.11890256405,14.8107385635 l3.42471837997,18.2461106777 0.875023603439,19.8480463028 l0.00059519399656,27.4512672424 -2.08572566509,16.2233066559 l-1.4370200038,4.05849456787 m-122.222518921,-90.0466156006 l-7.87435054779,11.0789954662 -6.64998948574,14.8876309395 l-11.1590325832,39.8890829086 -3.92273753881,26.788649559 l0.000656660704408,9.2183971405 m121.656923294,-101.057271957 l4.23137515783,10.9259462357 7.55085349083,22.4200820923 l3.40615391731,20.137565136 0.709840580821,18.8673055172 l-1.81889802217,15.2256274223 -3.71131449938,12.0139837265 l-4.91704136133,9.34479355812 m-80.6460094452,-122.372646332 l-3.27501654625,9.246763587 -5.84384739399,15.1943683624 l-13.2335531712,38.4722471237 -4.03076082468,17.7813148499 l-2.34794288874,22.8131961823 0.000352592978743,14.3560492992 m91.5176582336,-112.141838074 l3.18075567484,11.4877521992 5.91720402241,22.8851723671 l6.26316070557,47.281498909 -0.000873669487191,19.6105587482 l-2.77829527855,13.7206733227 m222.190310961,-86.4074819027 l-7.17731416225,-4.89499330521 -6.01041197777,-4.98930484056 l-7.75213778019,-9.9571877718 -2.99770742655,-6.14546120167 l-3.01393210888,-11.8328070641 8.71599786478e-05,-17.7911698818 l4.2937207222,-16.8560743332 8.49152863026,-16.582942009 l11.0825300217,-13.9386928082 13.7943434715,-11.9747138023 l14.9282860756,-8.69710385799 16.5503847599,-5.67894101143 l16.406942606,-2.36518323421 14.1649782658,0.890232771635 l11.5059757233,3.64945352077 15.4172301292,10.1063835621 l9.66867566109,11.5752351284 6.01329863071,13.3211672306 l2.98886746168,15.2749752998 -2.78938546217e-05,20.3086137772 l-3.41109544039,15.2313709259 -5.95324575901,13.9080500603 l-8.03652524948,11.8879938126 -14.7937750816,13.6105263233 l-12.5657892227,6.77867949009 -13.7199795246,3.9949887991 l-15.5513453484,1.883225739 -14.4312250614,-0.722175911069 l-12.723044157,-3.45382869244 -9.01105523109,-4.32843983173 l-3.33321660757,-2.88200199604 -4.86869007349,-7.9916459322 m13.6960911751,-81.5746974945 l-4.30859774351,-0.397495999932 -4.98225659132,-3.25398802757 l-8.37063968182,-11.0775482655 -1.9993840158,-5.4037374258 l-0.637347772717,-8.79692435265 2.84544408321,-10.1602876186 l4.69235032797,-8.10236215591 5.85425078869,-6.53808176517 l9.11613166332,-6.42819941044 11.2118208408,-4.43814069033 l11.8542551994,-2.17226877809 12.1898376942,0.0282441172749 l11.5825033188,2.62123227119 10.8671748638,5.51215291023 l8.94437551498,7.95163333416 5.98532795906,9.31918621063 l3.19741994143,10.3260147572 0.557675138116,10.3223145008 l-2.42761313915,9.47778403759 -4.93077278137,7.51722455025 l-6.90963745117,5.7638412714 -9.04543936253,3.958081007 l-10.9690999985,2.34092593193 -11.938341856,0.482084676623 l-10.9876203537,-1.92761138082 -9.76702272892,-4.61462706327 l-7.62345731258,-6.54702782631 -2.42857187986,-3.68630021811 m3.92464131117,-32.8178930283 l-0.781833678484,-2.77485460043 2.19897344708,-2.92670190334 l4.87162381411,-2.30334028602 3.78252416849,-0.00780564092565 l1.36668905616,3.2844543457 -3.11043053865,3.55388402939 l-4.59030002356,-0.366533696651 -1.46755903959,-3.40076506138 l2.97581225634,-1.15489311516 m44.5450258255,5.91221630573 l0.674059614539,-3.88813197613 4.00364428759,-0.983984768391 l0.454958900809,3.33925664425 -3.87428373098,1.31152272224 l-1.32076099515,-3.59294354916 2.66120493412,-0.632026344538 l-1.26202583313,2.16130495071 m-34.3661594391,23.5055756569 l4.43590342999,7.70658135414 5.93078970909,2.54156380892 l6.81316196918,-10.1445245743 3.45053613186,-4.87714618444 m-56.5267419815,60.3043365479 l-6.90545618534,6.86425745487 -7.73562014103,12.1670687199 l-6.44228458405,14.3959987164 -6.14238142967,22.7472496033 l-1.94296896458,16.5039038658 0.000356272721547,14.5655715466 l2.45447441936,10.8988273144 2.06507951021,3.59111905098 l4.52083021402,3.18958610296 m114.113073349,-101.903734207 l5.75212657452,9.3518447876 5.34310042858,14.7370016575 l2.55168408155,16.9974219799 0.0138744188007,17.9907894135 l-3.03808897734,16.7012572289 -5.06368041039,13.6778783798 l-3.67626577616,6.23430430889 -6.08248591423,6.51529610157 m-96.1814689636,-1.5688367188 l2.00307682157,2.8943130374 8.51246654987,5.1122546196 l13.0372858047,3.83653730154 14.6180045605,1.41468167305 l15.1540338993,-0.743781924248 14.1435968876,-3.1477612257 l12.2151899338,-5.05152404308 9.41325902939,-6.05504691601 l3.00346165895,-3.23531985283 m-70.0336360931,19.2281281948 l-10.3068876266,11.9287621975 -7.30971395969,11.2646257877 m64.8416948318,-25.6647181511 l3.88846248388,12.166018486 2.66615837812,12.9694831371 m-76.252822876,-1.37207150459 l-9.89633142948,1.44583448768 -8.84223997593,1.51160165668 m22.5093507767,-2.88230121136 l1.16323642433,5.78579425812 0.504958853126,6.23230457306 m2.67007350922,-11.8518006802 l6.69859170914,4.68755453825 m319.077485396,-98.4441112321 l-9.40662741661,-4.10124927759 -7.46274769306,-4.15389209986 l-12.2465419769,-12.4481415749 -3.52092295885,-5.8199685812 l-2.50880688429,-7.15104818344 -1.28535509109,-12.8835308552 l2.38208606839,-15.1572692394 10.9195971489,-24.2832970619 l11.8451881409,-15.3277289867 12.8061497211,-11.1028420925 l14.0997827053,-8.01374137402 15.4852676392,-4.87615287304 l15.7860887051,-1.86602130532 17.592818737,0.000828572519822 l12.1302628517,2.91412085295 11.0273039341,5.87439656258 l9.43266034126,9.06114220619 6.94302260876,12.0273017883 l3.6179536581,13.7040185928 0.801532045007,14.9422836304 l-2.20964252949,15.3462827206 -5.10146915913,14.5189273357 l-11.7492723465,19.7061216831 -10.0439846516,10.0256574154 l-11.9469416142,7.48590648174 -12.7963376045,4.44900810719 l-14.1348850727,2.38189816475 -14.5422625542,0.280268862844 l-12.7138841152,-2.30980321765 -9.60929691792,-4.54146981239 l-3.37828606367,-2.99756109715 m1.51888743043,-81.8544197083 l-2.86491543055,-0.366567857563 -4.08743083477,-3.70254695415 l-4.57190603018,-7.56226241589 -2.4907591939,-7.56525754929 l-0.762064605951,-7.36814856529 2.01580733061,-9.69759345055 l3.89459222555,-7.7149116993 4.87797051668,-6.14281237125 l5.93301892281,-4.8824390769 6.7763787508,-3.71280938387 l9.99371886253,-2.93009281158 11.5928959846,-0.908195227385 l10.9814810753,1.5526124835 10.2571284771,4.51276600361 l8.70126783848,7.43036091328 5.76667070389,9.03278470039 l2.96106904745,10.135910511 0.271808058023,9.99798953533 l-2.74079591036,9.41696822643 -5.10739684105,7.50761568546 l-7.13679909706,5.96328258514 -8.75571966171,4.00165200233 l-10.839574337,2.29533240199 -11.4068543911,0.245090927929 l-9.68698441982,-2.12183579803 -8.18359196186,-4.64173734188 l-5.37102878094,-4.98425900936 -3.62920284271,-6.7720925808 l-1.43185645342,-6.63193762302 m16.9559621811,-18.606543541 l-0.348777733743,1.4086663723 3.29723954201,1.5022687614 l3.36124867201,0.231385212392 1.40410512686,-3.20600181818 l-3.31205129623,-1.81434005499 -3.29752981663,0.780495032668 l-1.11185841262,3.16927999258 3.35095107555,1.48717537522 l3.40912014246,-0.754922479391 1.04727625847,-3.25050592422 l-3.4066516161,-1.54398083687 -2.66228199005,1.66248947382 l-0.620188973844,3.03577631712 m44.5507097244,-1.66111558676 l-2.30244219303,1.95373862982 3.64092856646,1.4380338788 l3.5350060463,-1.08623564243 0.766103938222,-3.61631155014 l-3.6376914382,-1.7314954102 -3.35011959076,1.44726991653 l-1.09488606453,3.25615376234 3.53942424059,1.30575820804 l2.17559665442,-3.42563092709 -3.09342622757,-1.54438093305 l-2.58810162544,1.9306665659 m-29.162812233,21.1976265907 l2.81497389078,9.30765688419 5.07273316383,1.74117386341 l7.08004593849,-10.256550312 3.01239490509,-4.62850004435 m-56.7927217484,76.237449646 l-8.6155807972,10.2570450306 -7.55875766277,13.3080387115 l-7.88302600384,21.7718625069 -2.7538305521,14.5168507099 l1.03627303361e-05,13.2355475426 2.61223375797,9.67032968998 l5.3130710125,8.06860923767 m107.089300156,-92.5948524475 l5.43591082096,10.6777274609 2.96832442284,9.86885011196 l2.20808625221,16.2685501575 -2.48238816857,39.1769123077 l-4.13962006569,13.7168061733 -5.24366796017,8.88081550598 m-83.7362194061,-79.9704504013 l-6.24044418335,9.34800386429 -5.64366996288,13.6898028851 l-3.73725146055,15.6711685658 -1.3943003118,21.5265154839 l2.18670278788,12.7829658985 1.90080985427,3.9417681098 l4.11851555109,3.65268200636 6.91166996956,2.44959816337 m80.8255672455,-87.2159004211 l5.31799018383,12.4641728401 2.27728262544,10.6109678745 l0.811744630337,15.8193719387 -2.13002726436,15.5971872807 l-4.64583694935,13.2580733299 -5.69706499577,9.9815517664 l-6.71043395996,7.04934895039 -8.34011375904,5.33944547176 m-52.9206895828,1.90603643656 l-0.925224050879,4.28741306067 -1.76554009318,10.9426653385 l-2.55782604218,7.32929766178 -7.03004181385,6.17066979408 m55.6050729752,-31.5745019913 l2.09472239017,12.5145292282 3.0313667655,7.77451455593 l5.05954742432,8.01508128643 \" fill=\"none\" stroke=\"black\" stroke-width=\"1\"/></svg>"
          },
          "metadata": {
            "tags": []
          }
        }
      ]
    },
    {
      "cell_type": "markdown",
      "metadata": {
        "id": "fW8VSS5dSjCc",
        "colab_type": "text"
      },
      "source": [
        "Let's load the model trained on both cats and buses! catbus!\n",
        "\n"
      ]
    },
    {
      "cell_type": "code",
      "metadata": {
        "id": "gaOl4icISkqY",
        "colab_type": "code",
        "colab": {}
      },
      "source": [
        "model_dir = '/tmp/sketch_rnn/models/catbus/lstm'\n"
      ],
      "execution_count": 0,
      "outputs": []
    },
    {
      "cell_type": "code",
      "metadata": {
        "id": "Irgrw9TDSmNW",
        "colab_type": "code",
        "colab": {
          "base_uri": "https://localhost:8080/",
          "height": 255
        },
        "outputId": "2abce1e1-3af4-4b73-d496-0cca6ad1b410"
      },
      "source": [
        "[hps_model, eval_hps_model, sample_hps_model] = load_model_compatible(model_dir)\n",
        "# construct the sketch-rnn model here:\n",
        "reset_graph()\n",
        "model = Model(hps_model)\n",
        "eval_model = Model(eval_hps_model, reuse=True)\n",
        "sample_model = Model(sample_hps_model, reuse=True)\n",
        "sess = tf.InteractiveSession()\n",
        "sess.run(tf.global_variables_initializer())\n",
        "# loads the weights from checkpoint into our model\n",
        "load_checkpoint(sess, model_dir)"
      ],
      "execution_count": 67,
      "outputs": [
        {
          "output_type": "stream",
          "text": [
            "I1203 10:25:26.196032 139777534314368 model.py:87] Model using gpu.\n",
            "I1203 10:25:26.202446 139777534314368 model.py:175] Input dropout mode = False.\n",
            "I1203 10:25:26.203388 139777534314368 model.py:176] Output dropout mode = False.\n",
            "I1203 10:25:26.204492 139777534314368 model.py:177] Recurrent dropout mode = False.\n",
            "I1203 10:25:28.790637 139777534314368 model.py:87] Model using gpu.\n",
            "I1203 10:25:28.791748 139777534314368 model.py:175] Input dropout mode = 0.\n",
            "I1203 10:25:28.796082 139777534314368 model.py:176] Output dropout mode = 0.\n",
            "I1203 10:25:28.798355 139777534314368 model.py:177] Recurrent dropout mode = 0.\n",
            "I1203 10:25:29.104335 139777534314368 model.py:87] Model using gpu.\n",
            "I1203 10:25:29.106400 139777534314368 model.py:175] Input dropout mode = 0.\n",
            "I1203 10:25:29.107614 139777534314368 model.py:176] Output dropout mode = 0.\n",
            "I1203 10:25:29.108628 139777534314368 model.py:177] Recurrent dropout mode = 0.\n",
            "I1203 10:25:29.626749 139777534314368 sketch_rnn_train.py:242] Loading model /tmp/sketch_rnn/models/catbus/lstm/vector.\n",
            "I1203 10:25:29.630227 139777534314368 saver.py:1284] Restoring parameters from /tmp/sketch_rnn/models/catbus/lstm/vector\n"
          ],
          "name": "stderr"
        }
      ]
    },
    {
      "cell_type": "code",
      "metadata": {
        "id": "LNZlGDRKSqmI",
        "colab_type": "code",
        "colab": {
          "base_uri": "https://localhost:8080/",
          "height": 230
        },
        "outputId": "7afb78f5-25b1-4a41-ecfc-c0f91cb453de"
      },
      "source": [
        "z_1 = np.random.randn(eval_model.hps.z_size)\n",
        "_ = decode(z_1)"
      ],
      "execution_count": 68,
      "outputs": [
        {
          "output_type": "display_data",
          "data": {
            "text/plain": [
              "<IPython.core.display.SVG object>"
            ],
            "image/svg+xml": "<svg baseProfile=\"full\" height=\"208.603367805\" version=\"1.1\" width=\"283.884891582\" xmlns=\"http://www.w3.org/2000/svg\" xmlns:ev=\"http://www.w3.org/2001/xml-events\" xmlns:xlink=\"http://www.w3.org/1999/xlink\"><defs/><rect fill=\"white\" height=\"208.603367805\" width=\"283.884891582\" x=\"0\" y=\"0\"/><path d=\"M38.2877425975,106.59320085 m-0.961470380425,46.8858623505 l4.28360760212,1.01089030504 8.61505329609,-0.465497709811 l26.2127327919,-2.85766661167 38.571972847,-3.89076679945 l48.7944412231,-3.17677766085 92.0274925232,-3.90592128038 l2.54189997911,-6.68697714806 0.51141910255,-44.1379022598 l-1.19396403432,-37.9761004448 -2.43010446429,-21.0584187508 l-2.95718461275,-3.55121165514 -5.0925052166,-1.78269863129 l-32.6786088943,-1.4553827441e-05 -26.3209676743,1.05640299618 l-47.3523759842,3.98450881243 -44.7173547745,6.56340539455 l-32.9843616486,7.79122710228 -13.7828159332,4.35841172934 l-9.31451737881,6.24292850494 -9.34101760387,14.3240571022 l-3.5275220871,9.90740060806 -2.19135314226,22.9708814621 l-0.000238133143284,20.9455037117 2.34001472592,7.27601766586 l5.45606195927,8.49076509476 m42.5752401352,-10.6450736523 l-4.96594637632,1.24721385539 -3.76314222813,4.31106716394 l-3.25113654137,6.56461536884 -2.31253400445,18.4483933449 l-8.5985966507e-05,12.7798497677 3.77906501293,6.40816748142 l5.72467088699,3.93243163824 7.26169347763,1.64519265294 l9.09027278423,-0.00025023426133 6.84421002865,-5.76596975327 l4.8271599412,-8.2431012392 3.72288942337,-14.2312705517 l-0.000109984657684,-13.7935900688 -4.16487783194,-5.53601801395 l-7.12243914604,-2.71301448345 -9.73178684711,-0.000275502334262 m133.946056366,-8.7759321928 l-11.3326907158,7.27919638157 -5.19354879856,5.9647667408 l-5.26806473732,10.8658075333 -1.91561475396,8.58312606812 l8.37134302856e-05,12.2643256187 4.47396337986,6.0960495472 l6.73833191395,3.82880300283 7.91110038757,1.56626164913 l9.57795143127,-0.000279644518741 7.36495912075,-5.19845128059 l5.51317512989,-7.19429910183 3.46992373466,-8.19322347641 l1.73320502043,-11.9353878498 -3.26436132193,-7.81085014343 l-7.30531394482,-5.75925171375 -8.42547357082,-2.30521023273 m-159.734735489,-70.509428978 l0.133632570505,17.3144423962 1.1924752593,18.771071434 l1.06691360474,15.5183231831 1.7288954556,10.9514784813 \" fill=\"none\" stroke=\"black\" stroke-width=\"1\"/></svg>"
          },
          "metadata": {
            "tags": []
          }
        }
      ]
    },
    {
      "cell_type": "code",
      "metadata": {
        "id": "7QrzuCKFStdc",
        "colab_type": "code",
        "colab": {
          "base_uri": "https://localhost:8080/",
          "height": 262
        },
        "outputId": "1a09b169-c1ef-4d11-ca1a-be0402007744"
      },
      "source": [
        "z_0 = np.random.randn(eval_model.hps.z_size)\n",
        "_ = decode(z_0)"
      ],
      "execution_count": 69,
      "outputs": [
        {
          "output_type": "display_data",
          "data": {
            "text/plain": [
              "<IPython.core.display.SVG object>"
            ],
            "image/svg+xml": "<svg baseProfile=\"full\" height=\"241.004273928\" version=\"1.1\" width=\"303.857304454\" xmlns=\"http://www.w3.org/2000/svg\" xmlns:ev=\"http://www.w3.org/2001/xml-events\" xmlns:xlink=\"http://www.w3.org/1999/xlink\"><defs/><rect fill=\"white\" height=\"241.004273928\" width=\"303.857304454\" x=\"0\" y=\"0\"/><path d=\"M131.604960195,76.521075964 m-4.73234325647,-3.82598400116 l-5.16099631786,-8.21352481842 -16.0882377625,-21.7680215836 l-7.6677531004,-9.50949430466 -7.96787083149,-8.20405125618 l-2.14113235474,6.63389921188 -0.000602815416642,25.0875020027 l3.87868046761,32.2202515602 -0.00119837146485,14.4974911213 m110.098342896,-26.1913323402 l14.8759412766,-16.237654686 16.3592886925,-20.5436372757 l12.2184467316,-11.3169157505 3.05032640696,6.00241661072 l-0.00138856572448,22.737288475 1.00879155099,14.0210223198 l-0.00182492964086,15.4378211498 0.456174239516,6.77533388138 m-132.454214096,-2.90144324303 l4.71064388752,-4.81573790312 8.95646214485,-3.5515794158 l22.2982645035,-0.000806414391263 12.1666228771,3.15223395824 l15.794852972,7.73913025856 11.989774704,9.59283232689 l9.35123026371,11.9205307961 m-117.507181168,-10.4673612118 l-5.63327431679,9.14181292057 -5.15581548214,12.9106104374 l-1.86246797442,10.1998209953 -0.000603359985689,20.6872987747 l1.6945463419,7.15878129005 13.5163831711,19.6592342854 l18.1378614902,14.3099093437 24.3732738495,11.0201478004 l26.3243484497,6.12537264824 36.3378620148,-0.000409269741795 l12.8028404713,-4.63297188282 26.0063004494,-18.671810627 l6.27304673195,-7.41990506649 11.7904782295,-25.0039696693 l1.41660124063,-39.2239236832 -4.34275209904,-8.95420491695 l-6.59927725792,-4.34246063232 m-111.251211166,34.8053026199 l1.95059254766,-0.000366024432878 1.51084676385,-0.000571474665776 l1.64679303765,-0.00023838450943 0.69317214191,-6.87247666065e-05 m44.326748848,0.200127214193 l6.01508259773,9.75985585683e-06 14.1749489307,-1.2358202639e-05 l32.9818415642,-1.86681985855 21.5999770164,0.000258636282524 l21.3576436043,0.000158244765771 m-89.3052959442,19.9924814701 l24.8735260963,-3.92716356146e-05 50.329284668,6.05504751205 l17.7799415588,-0.000777804089012 m-88.2383346558,8.74948143959 l41.7132997513,15.7811546326 25.5165052414,9.30797100067 l8.11491429806,-0.00202032359084 m-161.53881073,-58.1693124771 l-15.7372891903,-1.58685922623 -31.7183756828,-5.45352349945e-05 l-23.5598826408,3.21105837822 -8.40933084488,2.4550794065 m76.6561746597,12.7301943302 l-8.47457230091,1.8938626349 -19.5533216,4.18460011482 l-32.9102492332,9.64014291763 -9.2903059721,3.20665061474 m77.1419000626,-4.4243696332 l-7.34644472599,3.39446753263 -16.8935656548,6.65901899338 l-29.3451189995,12.6271605492 -13.2101082802,4.67600464821 l-9.19580876827,2.36946180463 m101.853265762,-74.9473333359 l-1.2255962193,5.19830703735 3.27074408531,0.368272401392 l1.72674223781,-4.29445922375 -3.02783817053,0.265652574599 \" fill=\"none\" stroke=\"black\" stroke-width=\"1\"/></svg>"
          },
          "metadata": {
            "tags": []
          }
        }
      ]
    },
    {
      "cell_type": "code",
      "metadata": {
        "id": "3De4P4WmSz5m",
        "colab_type": "code",
        "colab": {}
      },
      "source": [
        "z_list = [] # interpolate spherically between z_1 and z_0\n",
        "N = 10\n",
        "for t in np.linspace(0, 1, N):\n",
        "  z_list.append(slerp(z_1, z_0, t))\n",
        "# for every latent vector in z_list, sample a vector image\n",
        "reconstructions = []\n",
        "for i in range(N):\n",
        "  reconstructions.append([decode(z_list[i], draw_mode=False, temperature=0.15), [0, i]])"
      ],
      "execution_count": 0,
      "outputs": []
    },
    {
      "cell_type": "code",
      "metadata": {
        "id": "HxlReoYvS2oR",
        "colab_type": "code",
        "colab": {
          "base_uri": "https://localhost:8080/",
          "height": 330
        },
        "outputId": "9d6d76ff-3e4a-43f3-9765-6d128bc4253f"
      },
      "source": [
        "stroke_grid = make_grid_svg(reconstructions)\n",
        "draw_strokes(stroke_grid)"
      ],
      "execution_count": 71,
      "outputs": [
        {
          "output_type": "display_data",
          "data": {
            "text/plain": [
              "<IPython.core.display.SVG object>"
            ],
            "image/svg+xml": "<svg baseProfile=\"full\" height=\"288.916168627\" version=\"1.1\" width=\"3229.46947575\" xmlns=\"http://www.w3.org/2000/svg\" xmlns:ev=\"http://www.w3.org/2001/xml-events\" xmlns:xlink=\"http://www.w3.org/1999/xlink\"><defs/><rect fill=\"white\" height=\"288.916168627\" width=\"3229.46947575\" x=\"0\" y=\"0\"/><path d=\"M25,25 m0.0,0.0 m39.435231738,160.0095762 l-0.966406241059,47.9821014404 2.72929012775,3.31013351679 l16.6412341595,7.4732542038 15.0914287567,2.11163714528 l37.7580022812,0.000750981198507 47.4022722244,-5.45235693455 l58.7577152252,-14.3022036552 40.0546646118,-17.7457046509 l29.1719841957,-48.6049604416 -0.00134351663291,-16.6482007504 l-8.18103730679,-19.6417462826 -8.38079452515,-8.90447854996 l-17.3275864124,-10.2722549438 -22.3508143425,-7.91714727879 l-41.1925506592,-6.29730343819 -34.8655343056,0.000244218008447 l-43.8808250427,8.28658998013 -32.6856970787,12.2215759754 l-15.3147125244,8.41529905796 -19.2939639091,15.2472043037 l-6.4361935854,11.3668167591 -4.17226552963,14.553334713 l-0.000327902380377,15.9111154079 3.78985285759,14.2430865765 l2.63634592295,4.88958328962 6.59425497055,6.81154608727 l3.91091704369,2.03877821565 m34.4907617569,-8.51299762726 l-4.68864917755,9.61118400097 -2.37339809537,14.0599620342 l-8.75968908076e-05,16.7806875706 2.89687246084,7.34694719315 l4.76005017757,6.2210303545 6.03831112385,4.27964866161 l6.9161772728,1.9903729856 8.65922868252,-0.000392484726035 l5.9234726429,-5.63268005848 4.17019695044,-8.42650473118 l3.08750987053,-14.1830182076 0.000131519054776,-13.8310945034 l-3.13962042332,-5.45763134956 -5.77971100807,-3.17145377398 m103.261156082,-9.64982926846 l-4.93721932173,13.9298963547 -1.54475793242,9.40628409386 l0.0004002876085,13.5471510887 1.98752179742,8.0970954895 l5.74793696404,8.56923818588 6.49895370007,4.5205706358 l7.34109818935,1.65626838803 7.68019020557,-0.000381386707886 l6.30968809128,-5.40210425854 6.01145982742,-12.7057242393 l1.56039893627,-10.5069875717 0.000309800052491,-13.7478411198 l-3.47592741251,-7.21198797226 -5.36127746105,-4.45955902338 l-9.70896542072,-4.51607942581 m-168.311367035,-63.432469368 l0.655294433236,16.7237710953 1.87556266785,21.867184639 l1.47172704339,13.0572342873 2.09124043584,11.343972683 l1.47560462356,5.75725734234 m-0.364798121154,-67.3628330231 l21.7695260048,-3.59059810638 3.82477402687,2.54451692104 l2.30857983232,39.3052649498 2.5151219964,24.5359945297 m268.847091402,-22.7445961679 l-1.4953841269,43.9986562729 3.3969655633,1.07816174626 l8.25926482677,-0.408141538501 26.1403870583,-1.90843984485 l39.0963220596,-3.66487145424 92.3262405396,-3.77241015434 l53.5618591309,-4.61539119482 1.21658332646,-29.8022651672 l-2.37587317824,-40.5250883102 -1.5078933537,-27.2367048264 l-3.61396551132,-15.9694588184 -3.26195806265,-3.46913456917 l-4.86982166767,-1.63970425725 -31.0033345222,-0.409202389419 l-54.4126939774,4.81673359871 -47.2073125839,6.46048605442 l-38.1100177765,6.55919671059 -17.0012485981,3.52465391159 l-20.1548099518,5.73879241943 -3.19247454405,3.70377242565 l-0.11126334779,35.4465579987 0.682790577412,12.1055817604 l-0.00036359182559,21.4676976204 1.10754422843,17.4748897552 m35.4703378677,-10.7697272301 l-6.29825353622,7.15947389603 -3.09046626091,7.08023667336 l-3.09315890074,19.3181431293 -0.000274775047728,14.1358423233 l4.47337657213,6.44528508186 6.77968025208,3.69658321142 l7.95879602432,0.939020290971 9.89696204662,-0.000457668029412 l7.48365044594,-5.50104439259 5.27375102043,-7.63100326061 l3.06467086077,-8.31346988678 0.000198920351977,-14.5322692394 l-4.49487388134,-7.54643619061 -7.74909973145,-4.72346991301 l-14.841645956,-2.67324239016 -9.64797735214,-0.000478539404867 m146.506738663,-7.4900841713 l-12.4761152267,9.98248577118 -5.22122979164,7.21892595291 l-3.47421377897,7.44509518147 -1.41348272562,16.9959163666 l4.09693390131,6.91961228848 6.44927561283,4.85194981098 l7.69607186317,2.62018710375 10.4853177071,-0.000197884019144 l7.75410890579,-5.43063521385 4.77663308382,-8.68195831776 l2.48850926757,-9.43731129169 0.000190867849597,-13.4327924252 l-5.08833944798,-7.3097383976 -6.19494915009,-4.96465206146 l-7.98070251942,-2.21621930599 m-150.117578506,-75.8581352234 l0.140918409452,22.6053023338 1.25336259604,17.1527719498 l1.3312497735,15.4474759102 1.84359192848,13.0880951881 l2.06941664219,9.56895768642 m-0.856225565076,-75.5120325089 l23.8820171356,-2.00340047479 4.45503562689,3.57463091612 l2.40389674902,45.2284955978 2.18181326985,21.475481987 m258.521347375,-14.3634000829 l-1.85364827514,37.4212479591 2.84788966179,2.24411427975 l20.8045172691,6.44014120102 12.7638602257,1.61170467734 l35.1570224762,0.000674543189234 42.6732826233,-3.90040397644 l44.0783929825,-5.95706582069 46.4326858521,-12.9852497578 l29.5961236954,-59.6810150146 -0.00127126535517,-19.7143220901 l-5.5771946907,-23.441119194 -9.29856240749,-13.5905241966 l-12.2346329689,-5.03237783909 -22.6430773735,-3.76501739025 l-48.5938310623,-2.4674718082 -50.8953094482,1.61800935864 l-46.9745588303,8.33913624287 -16.6636133194,4.85147535801 l-22.0751190186,11.2797248363 -8.08107376099,8.23119401932 l-7.95264482498,18.2397460938 -4.88107204437,29.4220685959 l-0.000628220732324,25.6643939018 2.20658794045,9.64385926723 l8.76875162125,17.0469558239 6.33461773396,7.10647702217 l10.1621317863,5.69062054157 11.9293868542,1.6265809536 m11.0473120213,-53.0335092545 l-4.95815902468e-05,18.7453472614 0.804401934147,20.6807899475 l1.32332906127,16.8144488335 2.15262323618,11.9495344162 l2.92000949383,8.20879876614 3.66696983576,1.94377020001 l8.83036315441,-0.000644456667942 6.27589166164,-4.95994389057 l2.48965680599,-4.74286794662 2.28595331311,-18.7875115871 l-3.72632980347,-26.1390519142 -5.2868938446,-12.5909161568 l-5.62204420567,-5.81655144691 m108.252229691,-1.80393382907 l-2.34131366014,22.1772408485 -0.000445581172244,24.7429728508 l3.36453706026,7.89456248283 7.88570642471,7.24093258381 l7.39366054535,2.52331614494 7.92427539825,-0.000283570225292 l5.26276111603,-7.02097177505 3.38689029217,-9.49494123459 l2.12400451303,-15.6479215622 0.000222719336307,-19.7788250446 l-3.76280814409,-6.69695794582 -6.34681522846,-4.48018461466 l-8.8402235508,-1.87052845955 m-165.109539032,-58.3166790009 l-0.00100636825664,14.8420631886 0.86381547153,13.8120079041 l1.51315823197,17.4700319767 1.59679368138,10.688368082 l2.22917094827,9.84965026379 2.02630981803,6.82226896286 l2.22137078643,2.74381369352 m4.39014673233,-73.9778375626 l21.036901474,-2.16321691871 4.16511625051,2.91847854853 l2.52340167761,36.5900373459 1.74161285162,27.251791954 l1.14711277187,16.4898002148 m283.638430191,11.0522844882 l-2.28029191494,27.0468044281 2.6197296381,2.83899992704 l15.6578421593,16.250193119 11.0112929344,7.50435948372 l44.7368860245,-0.456852018833 33.8701415062,-6.07454657555 l47.7494812012,-14.8954749107 40.8859491348,-21.6499376297 l1.84810727835,-36.5593409538 -3.58940958977,-26.4307427406 l-8.12142252922,-18.1115365028 -11.9732320309,-14.0646111965 l-12.2835719585,-6.57456159592 -38.6599326134,-6.43431842327 l-47.4730205536,0.761225298047 -45.9379529953,13.4228086472 l-15.9434366226,7.31733202934 -21.5696263313,19.4741046429 l-13.4558415413,25.826177597 -4.4412368536,20.1190757751 l-0.000966654770309,18.2040631771 4.15557205677,17.0827662945 l8.13562989235,13.849285841 11.1201202869,11.3598370552 l5.44654369354,3.35344940424 9.15369153023,-0.000458069989691 m-1.1531612277,-130.168218613 l-4.04959052801,-12.4712848663 -9.69565033913,-23.4612703323 l-14.1399288177,-32.7199816704 -9.9674475193,-24.4357180595 l9.87919807434,7.65654146671 29.4968390465,24.8651218414 l19.0706241131,17.2238111496 16.2360012531,14.8884057999 l4.92711782455,3.43742132187 m82.9378986359,-1.14878505468 l16.426678896,-14.2069852352 33.8595962524,-27.6616430283 l28.2699847221,-22.7019643784 0.908537507057,6.41888856888 l-5.56892752647,15.8520126343 -11.6281056404,29.6549725533 l-13.2652544975,29.5983934402 -4.18291032314,11.3893914223 l-2.03723862767,6.90664112568 m-116.342277527,37.0404338837 l-1.56949564815,-0.000954900096986 3.63451719284,1.34898781776 l2.83722102642,-1.16466537118 -0.090580964461,-1.65900498629 l-2.15099200606,-0.000194112144527 0.0578149501234,0.200414396822 l0.900601372123,-1.28345862031 -1.54750734568,0.129848001525 m39.0999412537,-4.95621144772 l5.28059780598,-1.29199534655 33.8342523575,-6.49765908718 l19.8347365856,-4.86334860325 31.9193863869,-7.88560628891 m-78.7658643723,36.7121267319 l5.83729863167,0.639882087708 32.6244497299,-0.000443306671514 l25.969350338,-1.72690704465 m136.765672786,-73.8056067792 l-3.11320483685,19.1792607307 0.00296063546557,1.01673163474 l-3.05586546659,18.0842339993 -2.22675099969,27.4701547623 l-0.809292048216,20.9434294701 4.95096832514,1.77309796214 l48.609046936,-1.82021813089e-05 49.2381334305,-3.0579957366 l91.6305351257,-5.08889853954 2.80863702297,-33.1454014778 l2.77931302786,-40.2993679047 3.85262399912,-28.9816784859 l-0.0010989108705,-20.4751086235 -3.08780223131,-3.5661765933 l-23.2575082779,-4.00629005526e-05 -31.5490627289,2.06174090505 l-48.7506055832,5.6976467371 -27.5032663345,3.03669124842 l-36.9822597504,6.83335244656 -15.0788664818,3.20617347956 l-9.82140541077,4.37549620867 -8.95016670227,7.06701934338 l-0.000432745327998,16.9244205952 1.08478821814,5.96844851971 m40.5156803131,55.9300613403 l-2.42245867848,4.52219873667 -0.000654484538245,19.2650198936 l3.36533308029,8.14839720726 8.4814953804,7.72898852825 l8.03783416748,3.31781864166 11.0999333858,-0.000421321710746 l15.1157593727,-27.3224329948 -4.10805881023,-16.4258432388 l-10.9189963341,-7.0306956768 -10.6463956833,-0.000487604011141 l-4.18124824762,3.19853633642 m107.60725975,0.589502342045 l-6.67873561382,10.4211449623 -2.74848848581,8.10485363007 l0.00031430467061,14.5796430111 22.1127152443,11.6151154041 l12.0680403709,-6.07749164104 4.98479783535,-9.16628956795 l0.000427084560215,-14.658228159 -5.17882466316,-7.55935907364 l-9.09902513027,-5.36342918873 -9.68268215656,-1.74909040332 m-145.190563202,-61.5794992447 l0.523975118995,16.3322114944 1.74930661917,17.2540009022 l1.67623236775,13.3180439472 2.47836887836,10.4043018818 l2.77286559343,8.22866439819 2.87933260202,5.05777180195 l3.30173194408,1.05668634176 18.0434083939,-0.000243563808908 l22.8820633888,-4.53552603722 25.2720332146,-4.83538299799 l26.1231923103,-4.40495312214 24.1632723808,-4.24126416445 l22.4260687828,-0.000107730838863 18.193808794,-2.42308139801 l14.0632379055,-3.82903248072 3.89151513577,-2.50234276056 l0.000405518403568,-21.8279194832 -5.55745720863,-24.1973972321 l-4.02362883091,-6.16441845894 -61.6973495483,-1.56242012978 l-23.7173271179,1.56937792897 -29.666185379,0.000544537324458 l-49.086523056,1.33735656738 -10.0034892559,1.46337613463 m309.109914411,23.1776934214 l-4.20541256666,8.66616368294 0.00345871056197,-0.512127690017 l-3.18803101778,4.88158762455 -7.49561190605,25.2690076828 l1.18734814227,34.13585186 20.303440094,21.814031601 l24.7455048561,-0.000124924235934 14.5893847942,-3.53667885065 l40.3941249847,-9.28481817245 44.4714593887,-13.4314191341 l36.599407196,-17.2241830826 27.8214740753,-22.4869132042 l-0.000964750506682,-20.9315466881 -31.3273119926,-32.3880529404 l-60.5111598969,-8.66521596909 -47.1912717819,0.000698113071849 l-19.1438508034,3.29311996698 -26.5859436989,10.5786335468 l-10.5410909653,6.57486081123 -7.29974865913,7.47273266315 l-8.71555328369,14.3039631844 -0.000391179564758,8.24276745319 l2.43902921677,5.56854724884 10.6235396862,12.0504415035 m138.069019318,-67.5974321365 l8.27053666115,-9.683624506 24.8010420799,-26.121866703 l16.9885826111,-12.7308750153 15.3914356232,-8.12464535236 l2.64057785273,6.72055125237 -0.000602906256972,29.7264289856 l-3.18555444479,16.9942069054 -9.44813907146,29.2187428474 l-9.18458640575,18.2780325413 -3.30701261759,3.34157735109 m-146.412687302,-9.39037501812 l-5.42227804661,-9.35891091824 -8.90809118748,-12.5069856644 l-23.038110733,-31.1302876472 -21.723818779,-29.2885971069 l-2.5943171978,6.05018854141 -0.000236339619732,26.226940155 l5.28720378876,41.0966444016 3.70830208063,14.0532910824 l7.73746430874,20.75299263 3.09017568827,4.32407587767 m73.2239484787,10.0708258152 l-1.88434511423,0.000493108927913 -11.0657906532,13.2902216911 l-0.622821040452,5.20519852638 4.93418157101,1.79434925318 l14.0997111797,-0.000175902769115 8.28636884689,-9.4839155674 l2.0205026865,-5.93447804451 1.10494181514,-1.13089576364 l1.17680191994,0.795333608985 0.990693494678,0.449952408671 l-0.877218395472,-1.69523596764 -5.12358903885,-1.4043533802 m-43.6067438126,-19.2173349857 l0.747218579054,0.00104207254481 m67.1731948853,-8.28690171242 l0.440406389534,0.000190109694813 m-55.0990152359,37.631278038 l2.8129324317,9.8478281498 3.82002204657,9.47615027428 l7.34892606735,8.63134264946 12.0604503155,5.98056972027 l15.0496780872,1.72723069787 17.7943396568,0.000197885601665 l9.77353870869,-5.10320425034 6.8224555254,-7.13177680969 m204.290087229,-75.217203674 l-4.3812635541,2.8647634387 -1.81722760201,-3.51026684046 l-5.68177938461,-13.201918602 -8.2652336359,-35.1841664314 l-0.823859497905,-37.3758554459 5.60802698135,-0.21880351007 l51.386756897,35.0672388077 14.1693091393,5.66062271595 l15.6441116333,8.46055328846 19.7914791107,0.000232848797168 l18.7510764599,-25.2219486237 24.4434094429,-25.0752902031 l26.028740406,-19.4901227951 4.21724736691,23.827753067 l5.29399335384,36.0363006592 -0.0014708560775,17.3980045319 l1.92801699042,4.40548419952 3.6102449894,4.28229302168 l9.43179666996,21.2693476677 -1.83469757438,32.7247953415 l-10.2450799942,12.1947348118 -27.8951334953,16.6713535786 l-41.3079786301,10.7766091824 -38.2563257217,2.75056868792 l-37.7604961395,-5.3311419487 -27.9100489616,-13.6105573177 l-8.45129191875,-10.2497828007 -4.45542931557,-9.32222127914 l0.000303350770992,-20.5765008926 5.16855716705,-8.43120992184 l12.1866083145,-9.93987381458 5.99568605423,-2.66850471497 m36.3926458359,32.5669288635 l-26.0595297813,2.60006785393 -43.9194011688,8.19700598717 l-15.1280832291,3.80490720272 -15.6940746307,6.90553069115 m102.384910583,-7.96040832996 l-8.74883532524,4.04684573412 -59.4471502304,31.3369250298 l-15.022033453,8.26202690601 -8.3332747221,4.1909840703 m174.512653351,-71.2556791306 l35.0853729248,8.15573394299 45.4078960419,10.7243895531 l10.7404124737,4.01740133762 4.94652628899,3.57918083668 m-98.9114665985,-3.43364715576 l16.8555986881,7.46457576752 37.9213428497,16.861063242 l15.3163337708,8.59603583813 15.5947268009,10.2686691284 m-157.269792557,-85.8052825928 l-0.765979960561,0.000380385463359 1.9081056118,1.89077526331 l3.17143112421,-0.131532168016 -0.358311347663,-4.02733176947 l-5.16385316849,2.09027394652 1.47321611643,1.46356314421 m66.2733840942,-6.08062386513 l-1.39609515667,3.43508154154 4.00853008032,-1.48340091109 l-2.23624795675,-2.82173573971 -3.89382809401,0.000161829884746 l-0.000155193029059,3.26722919941 3.28720003366,-2.24346369505 m220.826547676,-5.15294887859 l-5.68259000778,0.756093785167 -4.21609729528,-4.76016670465 l-7.88319170475,-8.42457473278 -20.1878929138,-25.8532142639 l-16.0650098324,-26.3509249687 4.97545480728,-11.0710954666 l17.2259497643,-0.56230802089 37.3810791969,16.2652432919 l12.3687708378,10.0364291668 19.0522789955,20.4675960541 l7.72222518921,0.351303108037 15.1884937286,-4.1615998745 l31.6016864777,1.8110823703e-05 9.25356864929,-8.10444414616 l20.4811358452,-29.1692304611 20.2057003975,-23.6328744888 l2.93607115746,6.70454323292 -0.000200116046472,44.751329422 l-0.491611659527,13.553467989 0.636594295502,33.8976979256 l-2.36189305782,10.2076244354 -20.0794792175,30.5126214027 l-42.6387119293,25.1790142059 -17.8908395767,3.66458654404 l-35.276594162,-0.00110126740765 -28.4341526031,-10.669080019 l-10.42496562,-9.44448173046 -6.21793270111,-8.76255095005 l-8.87896120548,-24.2766213417 0.000179429789569,-16.4288008213 l5.61447203159,-7.28689432144 11.1813354492,-8.16300392151 l7.20327317715,-0.000477618232253 m37.995967865,33.7182188034 l-15.1643466949,1.44661396742 -40.3128051758,6.28129243851 l-38.7942528725,9.97268974781 -8.85179400444,3.31577241421 m101.878738403,-8.45741629601 l-22.2497677803,10.0497412682 -34.5567393303,17.3225283623 l-31.1131811142,16.9943392277 -6.47189974785,2.87833958864 m157.965106964,-64.7592973709 l39.6852827072,6.6247856617 46.2311649323,10.7127261162 l8.87896060944,3.55149298906 m-99.6250152588,-0.233176779002 l6.57476902008,3.30870568752 31.2818098068,18.8293504715 l22.8338623047,15.0780534744 30.3769898415,19.2215228081 m-139.138708115,-88.8935565948 l-2.62135803699,0.000516295258421 -0.000467191675853,1.95370748639 l6.03795468807,1.40260890126 2.79616951942,-1.61248788238 l-3.34307044744,-2.07052022219 -5.20379424095,-0.000423199526267 l-0.000265460694209,3.92913758755 4.08049881458,-0.421738550067 l-0.413867868483,-1.13558553159 -2.77477741241,-5.67887127545e-05 l-0.931140929461,3.63868862391 4.39973324537,-0.49426458776 l0.525696054101,-1.11258894205 -2.54220277071,1.46690815687 m-21.85587883,-2.31088355184 l3.67023527622,0.000916987628443 4.664324224,2.9715052247 l4.28985863924,2.72507101297 3.46118509769,0.73806963861 l4.51979100704,0.59020165354 5.41909277439,-0.000164674838743 l1.54726117849,-1.82686686516 m286.888977719,-65.3630756991 l-5.6801879406,-1.36359915137 -5.38391768932,-5.80393910408 l-9.95831668377,-7.64595508575 -20.2397418022,-15.0601530075 l-24.6647930145,-14.0158569813 -1.90255731344,4.04559880495 l-0.00104604681837,29.1919016838 5.16961932182,34.0369200706 l6.99135303497,18.1370091438 3.63425135612,5.3547334671 l9.51241493225,8.3214622736 m123.995199203,-55.5895996094 l11.8476235867,-12.6334440708 25.9628486633,-23.1860733032 l17.2831475735,-10.8324146271 3.05717855692,6.27636134624 l-0.00128442188725,31.8952775002 -2.18918785453,14.6880674362 l-9.48634982109,29.6831274033 -5.00221371651,9.12635862827 l-5.38229644299,5.32482266426 m-152.057628632,-16.329498291 l1.54032096267,-5.38883507252 5.41507482529,-5.66107749939 l22.1169757843,-13.3415901661 20.5164384842,-5.92668056488 l22.7709794044,-0.00070423418947 13.8687348366,2.88669347763 l18.5471916199,8.00988137722 5.18789291382,3.82601052523 l7.95355379581,9.93480563164 11.2472808361,20.0800013542 m-137.506170273,-8.95836949348 l6.04792739978e-05,14.1216206551 -0.938526988029,11.5627622604 l-0.000762576673878,23.4892392159 3.07941555977,11.8634712696 l8.58828723431,14.359921217 24.7687911987,18.5607290268 l25.3329205513,8.83978009224 41.3433504105,3.28086465597 l29.3018889427,-8.36833775043 39.8353099823,-39.1074371338 l3.96125257015,-28.9234352112 -0.000776079614297,-21.1194300652 l-4.45732116699,-6.39088928699 -6.08362972736,-2.83438026905 m-118.971881866,25.8467769623 l-8.63728225231,-0.00045494922233 -22.0688033104,-0.000779780602898 l-31.2480163574,0.771047472954 -31.1299657822,3.9448428154 m85.035200119,11.2213075161 l-9.2627364397,2.14695632458 -56.2097787857,16.2770271301 l-12.3809206486,4.24182116985 m81.2740325928,-7.10710585117 l-8.04278671741,4.2104947567 -26.636557579,15.5888175964 l-28.7629246712,17.0151627064 -9.62335348129,4.47812229395 m154.059762955,-70.4428005219 l14.2605149746,0.0785156525671 27.4826955795,-2.41843178868 l27.1475124359,-2.34089106321 17.7649199963,-0.000134659394462 l14.1428351402,-0.000399844248022 m-96.2817287445,23.5069084167 l23.3390855789,4.24508422613 39.5543503761,8.3616143465 l10.3528535366,3.32562536001 5.13524711132,3.16804796457 m-86.5845394135,3.28972190619 l17.708646059,7.55880534649 23.2850503922,9.87727105618 l34.0627336502,14.2271256447 11.1693787575,3.19918125868 l7.19364583492,1.01617045701 m182.606261669,-142.376972965 l-5.11810779572,-3.85156214237 -5.83725631237,-8.06788086891 l-16.4521503448,-18.3897161484 -9.25538539886,-9.50979530811 l-7.6871752739,-7.62982666492 -1.73179700971,6.74080133438 l-0.000858574130689,27.9320025444 3.67211043835,21.2435460091 l-0.00125066231703,12.1458339691 m108.95570755,-21.5347933769 l14.8200333118,-15.8946812153 15.8261847496,-20.3595733643 l8.54517936707,-8.32436025143 3.54280352592,6.06196343899 l-0.00132926710648,29.3011069298 0.798715800047,11.3627791405 l-0.00165882200236,10.8616030216 m-132.592830658,1.45154908299 l3.21621954441,-5.21380543709 7.57048726082,-3.83201479912 l18.0281126499,-0.000638944256934 12.8253936768,2.9933065176 l6.24948680401,2.685341537 18.6157310009,11.3960111141 l12.2823870182,11.2679505348 15.0723803043,17.5669670105 l9.01979923248,15.3013980389 5.78460454941,15.4288697243 l-0.00195020504179,15.2573764324 -11.3841915131,18.9643204212 l-9.06437158585,7.81869769096 -15.6277513504,8.10347855091 l-28.5686421394,6.66442573071 -32.9788136482,-0.00165375866345 l-13.5027480125,-5.23415386677 -24.9711322784,-18.1801760197 l-8.76418173313,-12.2276031971 -10.1455640793,-28.959941864 l-1.68231710792,-14.6449017525 7.20009666111e-05,-22.2363567352 l5.19697546959,-7.54944741726 11.3715147972,-8.11845123768 l6.05592668056,-2.47169524431 m35.1589870453,47.808265686 l-9.76751804352,0.000745978759369 m45.1384305954,-1.74735322595 l1.91511794925,0.00121378412587 m-33.5496330261,20.6969070435 l10.5536735058,0.00136542541441 21.9867801666,-0.000109765769594 l17.2365498543,-1.274151057 m-63.3050870895,-4.8778924346 l-12.744371891,1.1574473232 -35.0567865372,3.80833059549 l-37.2038936615,7.22820699215 -14.8316121101,-0.00195801039808 l-8.29969465733,-0.00140161049785 m105.863485336,0.402353331447 l-9.55940723419,3.10594707727 -31.1661243439,11.6060400009 l-35.5911159515,14.2563867569 -11.7734706402,3.49138468504 m156.969232559,-44.6144628525 l15.4077100754,-0.0324953813106 42.6482200623,3.14240425825 l23.2752561569,0.718890279531 18.3118355274,0.477267019451 l13.0287230015,0.532649233937 m-114.3080616,11.0497844219 l19.5398569107,5.6150072813 40.90528965,13.7357246876 l13.9202392101,2.71338313818 31.4992594719,6.56546652317 l10.2042388916,-0.000451403393527 m-134.583826065,-56.463766098 l5.97346007824,0.000111495619421 5.53487718105,1.8150947988 l1.4465379715,2.38358974457 -0.00134236426675,4.93154168129 l-6.209846735,3.77700388432 -8.28801810741,0.518874004483 l-3.90504360199,-3.97626578808 1.82115927339,-4.98661786318 l5.49272954464,-2.8554391861 \" fill=\"none\" stroke=\"black\" stroke-width=\"1\"/></svg>"
          },
          "metadata": {
            "tags": []
          }
        }
      ]
    },
    {
      "cell_type": "markdown",
      "metadata": {
        "id": "LyEiR2-IS54g",
        "colab_type": "text"
      },
      "source": [
        "Why stop here? Let's load the model trained on both elephants and pigs!!!\n",
        "\n"
      ]
    },
    {
      "cell_type": "code",
      "metadata": {
        "id": "_XFnOGaHS79V",
        "colab_type": "code",
        "colab": {}
      },
      "source": [
        "model_dir = '/tmp/sketch_rnn/models/elephantpig/lstm'"
      ],
      "execution_count": 0,
      "outputs": []
    },
    {
      "cell_type": "code",
      "metadata": {
        "id": "qCzyeIpSTARR",
        "colab_type": "code",
        "colab": {
          "base_uri": "https://localhost:8080/",
          "height": 255
        },
        "outputId": "070c9837-ab6c-4acb-d041-a528ae262143"
      },
      "source": [
        "[hps_model, eval_hps_model, sample_hps_model] = load_model_compatible(model_dir)\n",
        "# construct the sketch-rnn model here:\n",
        "reset_graph()\n",
        "model = Model(hps_model)\n",
        "eval_model = Model(eval_hps_model, reuse=True)\n",
        "sample_model = Model(sample_hps_model, reuse=True)\n",
        "sess = tf.InteractiveSession()\n",
        "sess.run(tf.global_variables_initializer())\n",
        "# loads the weights from checkpoint into our model\n",
        "load_checkpoint(sess, model_dir)"
      ],
      "execution_count": 73,
      "outputs": [
        {
          "output_type": "stream",
          "text": [
            "I1203 10:27:15.194580 139777534314368 model.py:87] Model using gpu.\n",
            "I1203 10:27:15.200742 139777534314368 model.py:175] Input dropout mode = False.\n",
            "I1203 10:27:15.201831 139777534314368 model.py:176] Output dropout mode = False.\n",
            "I1203 10:27:15.202905 139777534314368 model.py:177] Recurrent dropout mode = False.\n",
            "I1203 10:27:17.504401 139777534314368 model.py:87] Model using gpu.\n",
            "I1203 10:27:17.508071 139777534314368 model.py:175] Input dropout mode = 0.\n",
            "I1203 10:27:17.509780 139777534314368 model.py:176] Output dropout mode = 0.\n",
            "I1203 10:27:17.511321 139777534314368 model.py:177] Recurrent dropout mode = 0.\n",
            "I1203 10:27:17.814203 139777534314368 model.py:87] Model using gpu.\n",
            "I1203 10:27:17.815340 139777534314368 model.py:175] Input dropout mode = 0.\n",
            "I1203 10:27:17.816406 139777534314368 model.py:176] Output dropout mode = 0.\n",
            "I1203 10:27:17.818046 139777534314368 model.py:177] Recurrent dropout mode = 0.\n",
            "I1203 10:27:18.336096 139777534314368 sketch_rnn_train.py:242] Loading model /tmp/sketch_rnn/models/elephantpig/lstm/vector.\n",
            "I1203 10:27:18.339314 139777534314368 saver.py:1284] Restoring parameters from /tmp/sketch_rnn/models/elephantpig/lstm/vector\n"
          ],
          "name": "stderr"
        }
      ]
    },
    {
      "cell_type": "code",
      "metadata": {
        "id": "QBUVt5McTC3V",
        "colab_type": "code",
        "colab": {
          "base_uri": "https://localhost:8080/",
          "height": 253
        },
        "outputId": "183aa150-c7a0-4ae0-fbbf-8177081a9f43"
      },
      "source": [
        "z_0 = np.random.randn(eval_model.hps.z_size)\n",
        "_ = decode(z_0)"
      ],
      "execution_count": 79,
      "outputs": [
        {
          "output_type": "display_data",
          "data": {
            "text/plain": [
              "<IPython.core.display.SVG object>"
            ],
            "image/svg+xml": "<svg baseProfile=\"full\" height=\"231.730092956\" version=\"1.1\" width=\"361.148361582\" xmlns=\"http://www.w3.org/2000/svg\" xmlns:ev=\"http://www.w3.org/2001/xml-events\" xmlns:xlink=\"http://www.w3.org/1999/xlink\"><defs/><rect fill=\"white\" height=\"231.730092956\" width=\"361.148361582\" x=\"0\" y=\"0\"/><path d=\"M62.6272293449,103.985191267 m-4.09446120262,-2.9685357213 l-1.74723520875,-0.247641652822 -5.01061022282,1.39794051647 l-16.4874243736,12.9856681824 -6.88256859779,10.0012183189 l-3.40464711189,10.5391967297 -0.000282627388515,16.0401451588 l4.43362474442,8.36557805538 10.2173697948,10.1240670681 l14.5590019226,5.64990282059 12.7053487301,1.7834161222 l19.1384279728,-0.000538066888112 11.5166044235,-3.96131813526 l12.1573483944,-7.9768037796 6.06088221073,-7.60430514812 l4.94767040014,-11.7045891285 2.06274747849,-15.0137579441 l0.0010002435738,-12.6688468456 -3.88533562422,-8.72199833393 l-6.40270769596,-6.57481372356 -8.22563707829,-4.63265568018 l-14.8873758316,-4.42043423653 -19.2940449715,-0.000849349671626 l-8.21412086487,2.78671056032 -5.76941788197,4.26083266735 l-6.07775449753,7.43025958538 m-0.182977542281,11.9111335278 l-1.89497336745,0.734062418342 -2.45142996311,3.19663971663 l-0.000431539301644,5.496134758 4.65705633163,3.45482379198 l5.64882338047,0.000244754301093 2.24405437708,-2.36910298467 l0.000166622921824,-6.31264388561 -2.10953101516,-2.41692915559 l-3.53030711412,-1.03767164052 m40.3550004959,-3.31222563982 l-4.13076162338,4.94271337986 -0.85846491158,5.14575600624 l1.43681675196,2.60623216629 4.74836051464,0.00026040172088 l2.30336263776,-2.25730195642 -1.33730480911e-06,-6.39462947845 l-2.12145254016,-2.29659572244 -3.9000454545,-7.09757784989e-06 m-42.7799081802,-15.6676185131 l-1.20020367205,-5.15192091465 -2.71375030279,-14.7976863384 l-0.000301540167129,-15.6962549686 3.98189514875,-7.04171061516 l5.30922353268,-5.35116195679 9.85048651695,-5.81963121891 l9.07114326954,-3.12130719423 15.6685400009,-0.00046893273975 l7.76828587055,3.56205999851 9.96369302273,8.75291109085 l5.77012062073,7.78808712959 5.41497766972,13.1688261032 l2.46301487088,16.403734684 -0.000510000390932,15.6648862362 l-1.32927760482,4.59991008043 -5.50554394722,8.0493080616 l-6.03816330433,4.44196492434 -6.48662149906,2.17300072312 l-10.5678892136,-0.000994828005787 m-40.1736211777,-61.0594129562 l-1.80654898286,-3.83839786053 -2.23281651735,-5.88518917561 l-4.70233291388,-13.2205092907 -2.80098617077,-9.94872272015 l-0.000205031283258,-9.82227742672 3.04769068956,-3.1248024106 l8.23008358479,-0.000554377547815 7.48848378658,5.35491764545 l10.6669509411,16.9337797165 3.0183494091,7.20491826534 m32.0903801918,4.85448628664 l1.22545056045,-3.42905342579 3.85861247778,-5.33322751522 l13.2684075832,-11.8362057209 5.59710681438,-2.8396782279 l2.35305309296,1.94532245398 1.16286687553,8.76695752144 l-0.000635390606476,17.8376817703 -2.49357074499,9.18979108334 l-2.09687665105,3.32813471556 m3.19353044033,17.1486759186 l14.7548770905,-6.36599838734 11.788932085,-3.45221281052 l33.9509940147,-5.24120032787 28.4835100174,-0.00134538233397 l12.1248173714,3.13927143812 14.6475887299,6.66163682938 l13.171633482,9.18767929077 9.98534977436,10.5448305607 l6.79193556309,11.4706325531 3.4076744318,9.40005600452 l2.03832089901,14.1362762451 -0.000649417415843,17.8409707546 l-3.38756978512,10.0544548035 -5.97058296204,9.20400261879 l-7.88397848606,7.47819662094 -15.0455629826,8.63365054131 l-20.5026388168,6.43056452274 -24.9652838707,3.48212659359 l-26.7054533958,-0.000682107784087 -15.1174736023,-2.47785821557 l-20.367846489,-6.34909927845 -12.2170102596,-5.9159886837 l-13.1953346729,-9.89421546459 -3.76758038998,-4.36427175999 l-4.88852649927,-9.64161634445 -0.000438809584011,-8.92178535461 l1.33714944124,-3.52657526731 m159.863348007,-36.5909337997 l5.28990387917,-6.5758651495 4.85601186752,-5.30962586403 l4.22006815672,-3.97964149714 8.43193113804,-6.28908157349 l5.57735741138,-3.26247811317 5.98772823811,-2.64848291874 l5.95597505569,-2.09455698729 5.27393698692,-1.44236728549 l5.61241030693,-0.700876191258 5.79481601715,0.671874135733 l5.67499577999,3.20212244987 4.96452331543,6.35918259621 l2.3890222609,8.56596827507 -0.000194216754608,8.59531462193 l-2.45305240154,5.23429214954 -4.37706947327,3.75690966845 l-5.25366485119,1.58113390207 -10.0815689564,-0.000206532513403 l-3.60778927803,-1.65446728468 -4.80571329594,-5.76976597309 l-0.712057352066,-8.63387107849 1.98890849948,-3.93162786961 l3.69659930468,-3.12309861183 8.27963292599,-3.12988787889 \" fill=\"none\" stroke=\"black\" stroke-width=\"1\"/></svg>"
          },
          "metadata": {
            "tags": []
          }
        }
      ]
    },
    {
      "cell_type": "code",
      "metadata": {
        "id": "Q2z_xWiWTEga",
        "colab_type": "code",
        "colab": {
          "base_uri": "https://localhost:8080/",
          "height": 249
        },
        "outputId": "a085038f-8ac3-4887-e1e3-cee468a6313b"
      },
      "source": [
        "z_1 = np.random.randn(eval_model.hps.z_size)\n",
        "_ = decode(z_1)"
      ],
      "execution_count": 82,
      "outputs": [
        {
          "output_type": "display_data",
          "data": {
            "text/plain": [
              "<IPython.core.display.SVG object>"
            ],
            "image/svg+xml": "<svg baseProfile=\"full\" height=\"228.407878899\" version=\"1.1\" width=\"270.112310049\" xmlns=\"http://www.w3.org/2000/svg\" xmlns:ev=\"http://www.w3.org/2001/xml-events\" xmlns:xlink=\"http://www.w3.org/1999/xlink\"><defs/><rect fill=\"white\" height=\"228.407878899\" width=\"270.112310049\" x=\"0\" y=\"0\"/><path d=\"M25.9324661928,165.673832023 m0.743031576276,-14.8574459553 l-0.9470988065,-11.0068941116 4.8776859045,-13.7711393833 l7.7782869339,-13.7962245941 11.0897421837,-13.2452881336 l14.0249633789,-12.0447349548 16.3574504852,-9.89449679852 l18.5068273544,-7.40701556206 19.2698800564,-4.639287889 l19.0190339088,-1.9034293294 17.4963498116,0.68324059248 l15.8441770077,3.10689419508 13.7221109867,5.58959186077 l11.5533733368,7.3876529932 9.32048618793,9.08645570278 l6.64495944977,10.0964200497 4.08331304789,10.977294445 l1.57542362809,11.6152393818 -0.778832063079,11.7257535458 l-3.34608972073,11.554671526 -5.78138649464,11.0649883747 l-8.25584053993,10.7316768169 -10.4273414612,9.87307190895 l-12.7850079536,8.89561057091 -14.8376262188,7.43905425072 l-16.194498539,5.46307861805 -17.4586510658,3.47844451666 l-17.7411723137,1.53086423874 -17.2834336758,-0.211199950427 l-16.2022101879,-2.18110442162 -14.8574209213,-4.17618781328 l-12.5788879395,-5.69365680218 -9.94563281536,-6.94116353989 l-7.12657392025,-7.83497154713 -4.42525327206,-8.83725106716 l-1.86607152224,-9.63736534119 -0.000531999976374,-10.3714299202 m75.6642436981,-7.40346610546 l-0.419454053044,-4.89272087812 4.32883381844,-5.6757068634 l7.06722974777,-5.97674131393 8.72216582298,-5.11011362076 l9.68842744827,-3.73589813709 10.0189781189,-2.19415038824 l10.1263535023,-0.61250846833 9.1354060173,0.961689278483 l8.19190263748,2.76372104883 6.48549079895,4.15565550327 l4.63069170713,5.28565526009 2.49402552843,5.99272489548 l0.459399484098,6.44675314426 -1.68283060193,6.5057259798 l-6.0143840313,6.49532914162 -9.87722873688,4.96355891228 l-18.7049710751,4.09676134586 -18.2676339149,-0.00137734052259 l-10.8602297306,-2.95238733292 -8.88338267803,-4.60068434477 l-6.26076996326,-5.24467408657 -3.81205677986,-5.70344209671 l-0.000774804939283,-5.76450526714 2.28638350964,-5.51807641983 m28.1676959991,6.01088404655 l-0.00108156658825,-0.000758922033128 m22.4743676186,-1.73021405935 l-0.00639041070826,-7.71065151639e-05 m-19.3736982346,-0.375645384192 l-0.0100196781568,-0.000541597910342 m20.8807444572,0.179624911398 l0.000164973916981,-0.000853661258589 m-67.8665924072,-47.0052957535 l-2.10977599025,-2.14546635747 -0.0705930776894,-3.31921547651 l3.92034709454,-2.58129805326 6.4212012291,-0.00122034281958 l2.77075856924,3.65929692984 -3.89887541533,4.47824209929 l-5.75356900692,-1.41012936831 -1.64801314473,-5.43152391911 l3.03900390863,-2.76046156883 3.4124237299,-0.0013985633268 m71.7322826385,3.83113503456 l-0.467577166855,-4.76246476173 5.45643806458,-0.366278290749 l-1.47334605455,4.09649431705 -4.26945656538,-2.05914258957 l3.67719560862,-3.71182262897 2.4558223784,4.34061765671 l-7.08446621895,-0.99120311439 m-97.5794506073,24.1422629356 l-2.53301858902,-3.97792160511 -4.46147143841,-13.6700463295 l-0.928348824382,-8.55442106724 0.618629455566,-9.67871785164 l2.66684263945,-9.53923881054 4.28252190351,-8.35157513618 l5.48250973225,-6.97593867779 6.37429773808,-5.49663186073 l7.05252110958,-4.03765946627 7.50308871269,-2.58163392544 l7.8504639864,-1.06624782085 8.19136202335,0.573862306774 l7.90258228779,2.43558868766 7.25191473961,4.31871891022 l6.08620941639,5.84274530411 4.33929294348,6.79121017456 l4.33156132698,12.1570289135 1.42152875662,10.3218650818 m34.8235535622,-9.76894378662 l-0.23458769545,-6.24034643173 3.95158469677,-7.5186175108 l6.64671063423,-7.93813169003 8.38427126408,-6.82205855846 l9.03128683567,-4.70484256744 8.80787491798,-2.40516424179 l10.5430841446,-0.00109879372758 8.80283892155,2.21369311213 l7.50712811947,4.43779557943 5.68787992001,6.2217348814 l3.60464513302,7.25153028965 1.81219547987,8.3123254776 l-0.000670220470056,13.0334794521 -3.32397669554,10.6518220901 l-5.95826148987,9.49031770229 -7.53570020199,7.18260288239 m-128.888425827,33.2703089714 l3.33254218102,3.1967368722 4.07530009747,3.03910046816 l6.95301175117,0.81054598093 4.18312013149,-3.76540243626 l-2.72394150496,-5.03062009811 -4.89848911762,-1.61461532116 m53.4299182892,-3.97449016571 l1.26387625933,3.26796650887 6.97970986366,-0.37541821599 l2.33774155378,-4.17411774397 -3.91677111387,-2.41486057639 m-65.8120298386,54.7597408295 l5.24974584579,8.33752989769 6.6084754467,4.6980085969 l8.14167916775,3.44770014286 16.1639344692,2.87394165993 l16.0790765285,0.299346856773 14.9941706657,-2.22166731954 l13.1847906113,-4.50956344604 11.3114964962,-5.86233556271 l8.8886988163,-6.56792163849 6.61434829235,-7.19888091087 \" fill=\"none\" stroke=\"black\" stroke-width=\"1\"/></svg>"
          },
          "metadata": {
            "tags": []
          }
        }
      ]
    },
    {
      "cell_type": "markdown",
      "metadata": {
        "id": "24Fc7bRXTGpN",
        "colab_type": "text"
      },
      "source": [
        "Tribute to an episode of South Park: The interpolation between an Elephant and a Pig\n",
        "\n"
      ]
    },
    {
      "cell_type": "code",
      "metadata": {
        "id": "YYdd4gDeTHhI",
        "colab_type": "code",
        "colab": {}
      },
      "source": [
        "z_list = [] # interpolate spherically between z_1 and z_0\n",
        "N = 10\n",
        "for t in np.linspace(0, 1, N):\n",
        "  z_list.append(slerp(z_0, z_1, t))\n",
        "# for every latent vector in z_list, sample a vector image\n",
        "reconstructions = []\n",
        "for i in range(N):\n",
        "  reconstructions.append([decode(z_list[i], draw_mode=False, temperature=0.15), [0, i]])"
      ],
      "execution_count": 0,
      "outputs": []
    },
    {
      "cell_type": "code",
      "metadata": {
        "id": "QqdIr9pgTJP6",
        "colab_type": "code",
        "colab": {}
      },
      "source": [
        "stroke_grid = make_grid_svg(reconstructions, grid_space_x=25.0)\n"
      ],
      "execution_count": 0,
      "outputs": []
    },
    {
      "cell_type": "code",
      "metadata": {
        "id": "UYg1xbDWTKVf",
        "colab_type": "code",
        "colab": {
          "base_uri": "https://localhost:8080/",
          "height": 108
        },
        "outputId": "b06ea34b-0198-434a-9bbb-034a016811b8"
      },
      "source": [
        "draw_strokes(stroke_grid, factor=0.3)\n"
      ],
      "execution_count": 85,
      "outputs": [
        {
          "output_type": "display_data",
          "data": {
            "text/plain": [
              "<IPython.core.display.SVG object>"
            ],
            "image/svg+xml": "<svg baseProfile=\"full\" height=\"86.9242269261\" version=\"1.1\" width=\"868.794281075\" xmlns=\"http://www.w3.org/2000/svg\" xmlns:ev=\"http://www.w3.org/2001/xml-events\" xmlns:xlink=\"http://www.w3.org/1999/xlink\"><defs/><rect fill=\"white\" height=\"86.9242269261\" width=\"868.794281075\" x=\"0\" y=\"0\"/><path d=\"M25,29.3176165453 m0.0,0.0 m37.9225304654,13.8255649117 l-0.670895775159,-0.488629937172 -0.197760115067,-0.000300401394876 l-0.742398649454,0.3116684407 -1.46807720264,1.90113325914 l-1.06436342001,2.69586881002 -0.193349259595,3.21413258711 l0.559468368689,1.50922397772 1.66744788488,1.54867122571 l2.24990288417,0.714224328597 3.29442421595,-0.000164423775762 l1.78921063741,-0.673306385676 1.84858898322,-1.30767852068 l0.850869516532,-1.19674464067 0.812072455883,-2.08737293879 l0.284172693888,-2.47163613637 0.000141238184976,-1.97873771191 l-0.57915960749,-1.30536317825 -0.965308248997,-0.988573431969 l-1.32328579823,-0.627089291811 -2.32323348522,-0.485294262568 l-2.75571227074,-0.000124643168723 -1.57254387935,0.76861684521 l-0.754457960526,0.810105403264 -0.391055941582,0.916907787323 m0.999311010043,2.74117529392 l-0.0713182240725,1.67699714502 0.504644215107,0.971784094969 l0.891206264496,0.408261294166 0.399657736222,-0.358034248153 l0.137160109977,-1.1734598875 -4.00065649349e-05,-1.23273730278 l-0.457281519969,-0.771296819051 -0.595858693123,-0.330397933722 l-0.716855277618,1.61813113664e-05 m3.95736058553,0.068100442489 l-0.190162857374,1.91185951233 0.674486209949,1.40536268552 l0.541007121404,0.233428403735 0.48282528917,-0.318117390076 l0.247102404634,-0.550618420045 -2.63812095606e-05,-1.65369083484 l-0.285893852512,-0.558895369371 -0.604871859153,-0.445297658443 l-0.912876625856,-3.0766944595e-05 m-5.67035237948,-7.3168071111 l-0.334838777781,-0.472177416086 -1.42233441273,-1.21651560068 l-1.44542177518,-0.797403951486 -2.19680527846,-0.758701612552 l-2.40217824777,-8.08917927012e-05 -1.49994144837,0.777432819208 l-1.06861889362,1.08664542437 -1.25284423431,2.13664968808 l-0.359357496103,1.04339241982 -6.55550987479e-05,2.84819622835 l0.474978039662,1.15425119797 1.26493314902,1.46513779958 l1.2348763148,0.864328245322 1.92062020302,0.713370293379 l1.6079561909,0.211043059826 2.24710285664,-0.178475230932 m13.5878705978,-7.67338991165 l1.83197577794,-1.53720686833 1.6119218866,-0.823933978875 l2.46401011944,-0.609444379807 2.44384249051,-7.14526746985e-05 l1.43068959316,0.690346558889 1.01835846901,1.10044211149 l1.02668424447,1.88444455465 0.577632089456,2.34791755676 l-1.9248574669e-05,2.52247273922 -0.628083248933,1.43610258897 l-0.887867907683,1.02135499318 -1.93739374479,1.16522481044 l-2.55923430125,0.680753787359 -2.67309586207,-9.57690159945e-05 l-0.829499065876,-0.223229154944 -1.48131996393,-0.875178774198 l-0.425165891647,-0.514439990123 m-11.8109679222,-6.10308726629 l0.758081426223,-0.507113337517 1.00957244635,-0.206082835793 l1.29880527655,-0.000129041921658 1.12809906403,0.305564552546 l1.45616283019,0.876345833143 0.755116691192,0.76690380772 l0.644310613473,1.18577172359 0.24918196102,1.4272381862 l-8.21848516352e-05,1.50262574355 -0.491257508596,1.09156916539 l-0.876317520936,0.861168603102 -1.15042666594,0.59409280618 l-2.14692453543,0.503165572882 -2.06446846326,-8.16925300266e-05 l-1.28040949504,-0.413325130939 -1.04042261839,-0.889980693658 l-1.01580599944,-1.70546511809 -0.474749157826,-1.53088142474 l-3.70470600804e-05,-2.04762379328 0.548557788134,-1.02560569843 l1.24028335015,-1.17989728848 1.09760363897,-0.648885120948 l2.16884195805,-0.594447006782 1.06177469095,-8.11819518276e-05 m-2.20154086749,4.23832058907 l0.0127567459519,1.5331864357 -0.0696848332882,1.61819954713 l-0.0259012294312,1.34798576434 -0.193458870053,1.33508016666 l-0.54959744215,1.70632302761 -0.741596718629,1.1603636543 l-1.04783634345,0.997039576372 -1.18900885185,0.680956641833 l-2.00561126073,0.627170304457 -1.8533072869,-5.18808519701e-05 l-1.3553271691,-0.627448062102 -1.04730625947,-1.0228061676 l-1.5848582983,-2.7209075292 -0.468971530596,-2.47523109118 l-0.000143833288651,-2.42808918158 0.649788031975,-1.80640816689 l1.46276344856,-1.96533103784 1.38267109791,-1.20123674472 l3.21817358335,-1.63953393698 1.27573519945,-0.382018908858 l1.55989915133,3.68102701032e-05 m72.8752803537,7.14182455084 l-0.443349083265,-0.750037928422 0.248782585065,-0.42386824886 l0.148835058014,-0.380440404018 0.28368887802,-0.377923722068 l1.15105042855,-0.170570674042 5.89906096458,2.05923338731 l2.46052086353,1.30393097798 1.19193732738,1.57210876544 l0.389068722725,1.8407779932 -7.28538058562e-05,2.34984457493 l-0.598645905654,1.46198064089 -0.943357050419,1.12434585889 l-2.07654575507,1.4142242074 -2.71807889144,0.862420300643 l-1.95160428683,0.213584080338 -3.26105078061,-9.92879843883e-05 l-1.59960150719,-0.425408532222 -1.41830255588,-0.838274260362 l-1.49962405364,-1.49715811014 -0.920122067134,-1.57342642546 l-0.646417587996,-2.24602063497 1.51674339577e-05,-3.05946171284 l0.970751742522,-2.13594754537 0.935047666232,-0.990155438582 l1.62475436926,-1.01372132699 1.11597677072,-0.257322763403 l1.38027985891,-9.4256617255e-05 m-0.482347458601,4.77656284968 l0.103415691604,1.71629985174 0.118612324198,1.44953072071 l0.14203004539,0.834646026293 0.0381734749923,0.507478415966 l-0.00956558311979,0.555324951808 -0.149856110414,0.555987854799 l-0.355361551046,0.34521954755 -1.44595980644,0.267674500744 l-0.848527550697,-0.583514422178 -0.514518668254,-1.42147153616 l-0.000142568630205,-2.05329100291 0.492770522833,-0.832171787818 l0.632330129544,-0.533889283737 0.767109841108,0.000104878975738 m4.78320916494,-0.102527588606 l-0.150396190584,2.87264744441 -0.274205431342,1.82798842589 l-0.236072267095,0.538079341253 -0.797962745031,0.149086726209 l-0.775068004926,-0.813403874636 -0.401696041226,-1.47535781066 l0.355942348639,-1.98857009411 0.457659016053,-0.554965088765 m-3.82157444954,-8.11972061793 l0.333041499058,-1.36811763048 m8.07923952738,0.450130502383 l-0.00393183009389,-0.000345788745714 m-7.94347604116,2.57638692856 l-0.728211502234,-0.777204086383 -0.763840675354,-1.122871538 l-1.34115358194,-2.38518059254 -0.236890986562,-1.21046900749 l-8.5517961755e-05,-1.68252229691 0.47749598821,-0.903608600299 l0.798108081023,-0.790480573972 1.62829468648,-0.969836811225 l1.54872735341,-0.564717898766 2.55631188552,-0.468419641256 l3.49946538607,-0.000169098930201 1.6366503636,0.412316570679 l2.18539535999,1.04284803073 1.9419892629,1.49106472731 l1.03698790073,1.17835531632 0.945874452591,1.86565756798 l0.414336348573,1.57904754082 1.76549868532e-05,1.96759720643 l-0.448699146509,1.47319118182 -0.788501451413,1.26322617133 l-1.70930504799,1.50643299023 -1.48017317057,0.751399944226 l-2.21479078134,0.537615418434 -1.99133515358,-0.000191375390083 m5.87774674098,-11.7398635546 l0.366135686636,-0.650857686996 1.91331485907,-1.68084124724 l1.42495065928,-0.828249255816 2.38639612993,-0.900903443495 l2.92696376642,-0.618965526422 3.61004034678,-0.000171920922488 l1.96768025557,0.423422058423 2.59025116762,1.07580433289 l1.55711263418,0.91804732879 2.10949798425,1.70036713282 l1.70892516772,2.05061793327 0.871049960454,1.4638826251 l0.915322701136,2.43548711141 0.473183492819,2.84041841825 l-0.000131437494323,2.64872113864 -0.522407740355,1.80491427581 l-0.913665890694,1.60375157992 -1.26980245113,1.41930351655 l-2.41531848907,1.72709286213 -3.17361096541,1.30081405242 l-3.58649055163,0.763993461927 -3.83283495903,-0.000128873931923 l-2.29278723399,-0.479416648547 -3.13222765923,-1.16730193297 l-1.66926602523,-0.971251726151 -1.31167968114,-1.17260843515 l-0.847244858742,-1.16636534532 -0.688871194919,-1.88284476598 l-3.98942423393e-05,-1.3573205471 m22.4899133046,-8.97845904032 l0.324181616306,-0.532008161147 0.903985997041,-0.898501674334 l1.04548702637,-0.817710012197 1.39696607987,-0.724910597006 l1.45171473424,-0.366120537122 1.43151988586,-1.77285968069e-05 l0.546220789353,0.297055691481 0.639215459426,0.971862574418 l0.229709843795,0.932741463184 1.10527925775e-06,1.35661184788 l-0.416404778759,0.76728473107 -0.693020621936,0.530724078417 l-0.71854899327,0.132222262522 -1.19003991286,-0.361224437753 l-0.64145565033,-1.39733016491 -0.164994858205,-1.54785106579 l0.34495567282,-0.917765796185 0.634196698666,-0.761790722609 l1.42641375462,-0.908206403255 1.35590086381,-0.488960246245 l1.54015342395,-0.000156195940993 0.728231618802,0.614843219519 l0.422788659732,0.765319019556 0.278793921073,1.33997112513 l-8.39332157436e-05,1.20045085748 -0.466565936804,0.757453143597 l-0.692035208146,0.348294104139 -0.647113025188,-0.122713707387 l-0.444038162629,-1.21996849775 -4.86630203037e-05,-1.75708870093 l0.454024126132,-0.765912334124 0.689313958089,-0.570407360792 m59.6062245656,9.46437393306 l-0.243869274855,-1.03847314914 0.355711231629,-0.777013152838 l0.420505305131,-0.630037138859 0.98920404911,-0.926538904508 l1.1794407169,-0.714067022006 3.88696789742,-0.764525781075 l7.86773204803,0.380792443951 2.17920621236,0.889056225618 l1.47898058097,1.04239026705 1.41244202852,1.72933379809 l0.766027172407,1.50137732426 0.378669897715,1.43238306046 l-4.10883088383e-05,2.59104768435 -0.655262370904,1.68593088786 l-1.11688146989,1.48875584205 -2.35541721185,1.93835377693 l-2.16481029987,1.08772744735 -3.26056261857,0.896783769131 l-2.57924894492,0.295239314437 -3.52047801018,-0.000155615331702 l-2.02774266402,-0.444342295329 -2.72872984409,-1.12990220388 l-1.41762415568,-1.10960423946 -0.921522080898,-1.26393457254 l-0.612250963847,-1.36248538891 -0.475562363863,-2.30275034904 l-5.82248238364e-06,-2.24261323611 0.419839918613,-1.27478251855 l0.661075959603,-1.06829871734 0.812988976638,-0.831923534473 l2.41241236528,-1.63084596395 m2.57482647896,3.83539319038 l-0.0566292926669,0.886411468188 0.244170626005,1.37634903193 l0.667028278112,0.897575120131 1.12298101187,0.672700504462 l1.01710329453,0.244668324788 0.573779245218,-0.234023382266 l0.786130378644,-1.03341350953 0.160940475762,-0.628525366386 l-3.88188527722e-05,-1.40527645747 -0.650216589371,-0.966498653094 l-0.938075780869,-0.554817219575 -0.999166866144,-0.170913065473 l-1.38016760349,7.60540691166e-05 -0.653635611137,0.599780976772 l-0.256412302454,0.771041462819 m1.79130872091,0.769827663898 l0.299419065317,0.616976072391 m0.642270644506,-0.578282227119 l0.153125251333,0.526401102543 m-4.49469645818,-5.66845258077 l-0.491762409608,-0.189887707432 -1.00582311551,-0.416341573 l-2.26610998313,-1.05064640443 -2.47700790564,-1.33419533571 l-2.54466315111,-1.72582368056 -1.69198513031,-1.30126059055 l-1.04654143254,-0.645259519418 -1.47811939319,-0.725426475207 l-1.94631397724,-0.655351976554 -2.03537642956,-1.95359689315e-05 l-1.38046373924,0.49062654376 -1.23885691166,0.910505155722 l-0.844325919946,1.12324595451 -0.967986186345,2.19012955825 l-0.428971598546,2.05676972866 -0.000121796135015,2.76164670785 l0.417760163546,1.60749097665 0.678315063318,1.50042970975 l1.52721017599,2.32908467452 1.49568796158,1.61425679922 l1.55431161324,1.21953487396 1.56925847133,0.845382511616 l1.64992382129,0.5758279562 2.65078186989,0.470262616873 l2.98107703527,-0.000103440615931 1.63273294767,-0.507251272599 l1.82123581568,-1.15705341101 1.15954637527,-1.1191401879 l0.717172274987,-1.12317363421 0.641499310732,-1.79373006026 l0.178168900311,-0.997054874897 -8.49403719864e-05,-1.50792708 m-13.1696669261,-3.85828932126 l-0.53633287549,-0.0656566396356 -0.816354403893,0.317396993438 l-0.676302959522,0.724720209837 -0.550886442264,1.35780711969 l-0.000122510682559,1.37736539046 0.288889060418,0.553088287512 l0.530990113815,0.462894787391 1.24338080486,3.11570541574e-05 l0.908853411674,-0.593388825655 0.686196585496,-0.831057627996 l0.402223989367,-0.901489754518 -5.63432634711e-05,-1.18025074402 l-0.517124334971,-0.741482377052 -0.740781029065,-0.424808015426 l-0.842758218447,-2.38449410972e-05 m-0.207987253865,1.68226778507 l-0.0856637954712,4.69267494433e-05 m10.6597097715,-0.272533893585 l-0.50008803606,-0.146464097003 -0.513596981764,0.513679484526 l-0.238666559259,0.562488138676 -0.000106956237384,0.8749016126 l0.553077359994,0.438618908326 0.96175690492,-2.47418271708e-05 l0.490549902121,-0.352610846361 0.315538669626,-0.548688620329 l-1.3186763681e-05,-0.924690663815 -0.354241083066,-0.409361571074 l-0.958480834961,-0.378664508462 m-8.69424661001,4.13027962049 l-0.550694018602,-0.0353788646559 -0.605416198572,0.447869549195 l-0.392564932505,0.944743355115 -0.000155172626061,1.14900499582 l0.514978716771,0.510595689217 1.17603798707,-4.09992480854e-05 l0.523848831654,-0.365320096413 0.403664310773,-0.594694664081 l0.275508736571,-1.15206430356 -3.53490365039e-05,-0.674041857322 l-0.350459143519,-0.352071300149 -0.931819975376,9.26677860965e-06 m-0.322157169382,2.37339556217 l-0.000268319393702,0.618973523378 0.118624977767,0.308545206984 l0.486276100079,0.0731715311607 0.328372890751,-0.438217669725 l-0.141577596466,-0.590632309516 -0.357327163219,-0.187254759173 m-0.373421907425,0.414554576079 l-0.000170601306309,0.21380794545 0.154969121019,0.0898753106594 l-0.192852715651,-0.0290820747614 -0.138597165545,0.0206875956307 m95.6833815201,-8.92406860979 l-0.0716958940029,-1.34467283885 0.392204970121,-0.923020442327 l0.534068743388,-0.797980179389 0.810131629308,-0.837316314379 l2.61822064718,-1.38086070617 4.57417408625,-0.761104275783 l3.99633089701,-0.000187551692458 3.88615687688,1.69554710388 l1.31524443626,1.25886440277 0.923198163509,1.30543400844 l0.740693906943,2.08572149277 0.227584838867,1.83640579383 l7.26355816975e-06,2.13729461034 -0.658702900012,1.73562427362 l-1.13411456347,1.3914351662 -1.59916440646,1.18593414625 l-1.80409669876,0.915714701017 -1.9266184171,0.604392389456 l-3.54031483332,0.546724696954 -3.79471460978,-0.000160548430965 l-2.26213097572,-0.513318876425 -1.83908263842,-0.912579596043 l-1.44389053186,-1.0914811492 -1.55898779631,-1.97370866934 l-0.903215706348,-1.77887499332 -0.486837178469,-1.6910280784 l-3.65017998168e-05,-2.22937246164 0.590917716424,-1.07394695282 l1.37657940388,-1.42166286707 1.02134237687,-0.512921363115 l1.8324671189,-0.4891363283 m2.42803235849,2.9880130291 l0.036017379413,0.644545952479 0.281470815341,0.921491980553 l0.50656264027,0.697969992956 0.891331533591,0.660099287828 l0.89922507604,0.291060532133 0.556403448184,-0.229078729947 l0.736221869787,-0.994323094686 0.400654897094,-1.06955875953 l9.65554136201e-06,-1.20627989372 -0.67327623566,-0.796689838171 l-1.00851496061,-0.376342063149 -1.70726319154,-0.080159449329 l-0.78398356835,0.388025715947 -0.482975145181,0.676955233018 m1.83118760586,1.42305950324 l0.381160949667,0.481701890628 m0.564128706853,-0.748817722003 l0.235119362672,0.47206133604 m-4.9163154761,-4.31861519814 l-0.49344042937,-0.123664798836 -0.435067762931,-0.153484977782 l-0.966708362103,-0.404370923837 -0.650968154271,-0.526280999184 l-1.13469004631,-1.25252276659 -0.2902495116,-0.806405246258 l-4.5962585015e-05,-0.989623169104 0.542352298896,-0.698497096697 l0.871827602386,-0.503417253494 1.00033740203,-0.294762526949 l1.8120320638,-0.00020099986917 1.395517687,0.378747805953 l1.39975100756,1.06580942869 0.701992015044,0.968948503335 l0.310065746307,0.884051422278 -0.00017442113555,1.39889140924 l-0.42288184166,0.885942280293 -0.721440215906,0.632365097602 l-0.871478716532,0.306568692128 -0.951831638813,-4.23319700834e-05 m9.47711070379,-1.51614924272 l-0.597008764744,-1.94062749545 0.00526254880242,-1.00014299154 l0.319227352738,-1.0105150938 0.625103364388,-0.843543907007 l0.821454624335,-0.578581442436 1.37933135033,-0.450826585293 l1.18617802858,-0.000123254685604 1.01286182801,0.344679752986 l0.521697451671,0.486768732468 0.566748082638,1.26956552267 l0.200798449417,1.2203720212 -0.000133498348684,1.59463812908 l-0.559804340204,1.27558380365 -0.957251191139,0.8833360672 l-1.07260584831,0.464167843262 -1.85145159562,0.26938247184 l-1.18378520012,-0.00012014045448 -1.60507758458,-0.400492151578 m-8.47331682841,-1.69409493605 l-0.032108478869,-9.81676627513e-05 m9.94831959407,-0.227201928695 l-0.00159373118853,-0.000188869489648 m-10.1385649045,1.72726253668 l-0.852157672246,-0.284778624773 -1.32631480694,-0.393903230627 l-3.41005166372,-0.715969949961 -3.01752646764,-0.00011660476351 l-2.22788612048,0.535358091195 -1.82963649432,0.850394467513 l-2.33078281085,1.60427480936 -1.33847216765,1.46213809649 l-1.33062372605,2.42329041163 -0.354388480385,1.22058977683 l-0.000209148759798,2.04858660698 0.553877651691,1.12681726615 l0.88173687458,1.0863913099 1.1936267217,0.982055366039 l1.44913127025,0.771750460068 2.87245114644,0.915021995703 l2.63986825943,0.469222714504 5.05453626315,1.25400212407e-05 l2.43492662907,-0.618350257476 2.00113773346,-0.856620669365 l2.41931180159,-1.59433255593 0.880867640177,-1.01155211528 l0.850522120794,-1.69293502967 0.34824796021,-1.53526892265 l-3.31644362935e-05,-1.38827353716 -0.455001642307,-1.09466503064 l-0.798496603966,-0.887238581975 -1.11696680387,-0.658371398846 l-2.07602143288,-0.585858722528 -2.27539161841,-0.000144700425153 l-0.824526846409,0.244768758615 -1.35553399722,0.843269228935 m-12.3603661855,6.38311584791 l-0.812672575315,0.359016408523 -1.05760842562,0.747272223234 l-1.08575165272,0.97545593977 -1.37698382139,1.60229563713 l-1.06333414714,1.7652797699 -0.811716616154,2.2149882714 l-0.174957526227,2.47951587041 0.440275917451,0.676806420088 l0.757660816113,0.444344878197 0.947699944178,0.215946485599 l1.02398584286,-0.0818925102552 1.04615380367,-0.424207150936 l0.946086446444,-0.716630667448 1.33206089338,-1.58579488595 l0.727280924718,-1.37456476688 0.534977962573,-1.90529386202 l-7.23155487018e-05,-1.89235985279 -0.403656214476,-1.18675291538 l-0.65117691954,-0.781079779069 m85.9444085149,-1.68306307562 l0.0378312232594,-1.68428560098 0.421212464571,-1.23014350732 l0.620323022207,-0.991256833076 0.904704729716,-1.01584881544 l1.35097404321,-1.01542194684 4.9111354351,-1.73711836338 l2.96378453573,-0.276868343353 4.61045384407,-0.000200722485412 l2.3150096337,0.637536247571 1.8301820755,0.879241128763 l1.37109955152,0.947418908278 1.05901986361,1.13318463167 l0.650993436575,1.20678643386 0.315301467975,1.40930722157 l-8.6495110736e-05,2.32770442963 -0.735391080379,1.83965782324 l-1.34927938382,1.661084493 -2.63752539953,1.89431428909 l-2.72958179315,1.12759649754 -4.16161616643,0.801048278809 l-3.97166530291,-0.00018011960492 -2.52680301666,-0.502569576104 l-2.15986907482,-0.781006018321 -2.44151274363,-1.4266321063 l-1.53235346079,-1.32089118163 -1.22782935699,-1.8718111515 l-0.303903917472,-1.52975102266 0.104578000804,-1.51707679033 l0.412336091201,-1.23184959094 0.688538253307,-1.05807224909 l0.880440076192,-0.835756262143 1.01209521294,-0.58475146691 l1.07836057742,-0.355317865809 m3.2137443622,3.4772614638 l0.141305600603,0.580604225397 0.401952241858,0.919660528501 l0.493107537429,0.821176171303 0.668937166532,0.775814851125 l0.995478729407,0.700137366851 1.36594076951,0.47639961044 l1.77942593892,-1.60294590993e-05 1.04094982147,-0.583444535732 l0.809736599525,-0.841953655084 0.551508963108,-0.955465336641 l0.260514294108,-0.941941936811 -3.37477316255e-05,-1.41332000494 l-0.65593684713,-1.01691365242 -1.11154645681,-0.714645932118 l-1.39912734429,-0.365064566334 -2.15560555458,-8.04880619398e-05 l-1.66993796825,0.727788259586 -0.621152321498,0.491237094005 l-0.779247929653,1.08541230361 -0.178499706089,1.24084909757 m3.01904678345,-0.123733282089 l0.0884513991574,-0.00721729593351 m2.43295053641,-0.129262444874 l-0.00186194355289,-7.48443380871e-05 m-7.98776626587,-4.91409659386 l-0.128452256322,-0.191095819076 -0.045242998749,-0.354670758049 l0.312595590949,-0.364108582338 0.535445064306,-0.000179943356973 l0.170337830981,0.610429644585 -0.508441925049,0.269335707029 l-0.258762985468,-0.433711061875 0.36071109275,-0.137259028852 m10.7770514488,0.0145257279898 l0.273454214136,-0.71842427055 0.496078977982,0.247287675738 l-0.530554751555,0.377473930518 -0.297513604164,-0.304085885485 l0.400174806515,-0.0609984931846 -0.431048919757,0.299876853824 l-0.118707939982,-0.300981824597 m-12.6929632823,3.4773393472 l-0.241401319702,-0.465737134218 -0.386808315913,-1.05445464452 l-0.916086037954,-2.54652043184 -0.485515892506,-2.34785954158 l-0.000144180436716,-2.23344186942 0.569120198488,-0.719415644805 l0.871786375841,-0.494204660257 1.86669150988,-0.428899178902 l2.10819602013,-0.000244585074446 1.77604099115,0.330591996511 l1.37514015039,0.614566306273 1.05585038662,0.800094654163 l1.24451567729,1.56448403994 0.6777874132,1.38515988986 l0.486148695151,2.01426664988 -0.000144599507621,1.68888787429 m3.2672615846,-2.59124179681 l0.0242309287811,-0.742304523786 0.435610065858,-1.0073813796 l0.842740833759,-1.08382254839 1.7526781559,-1.45756383737 l1.61713709434,-0.882617334525 1.35122249524,-0.41705429554 l1.39396746953,-7.45051632596e-05 0.648662745953,0.386414850752 l0.553416957458,0.719572653373 0.403200139602,0.995779931545 l-0.000102197227534,2.31826583544 -0.501081248124,1.66970471541 l-1.27361148596,2.15879480044 -1.11146440109,1.15493396918 l-1.77138984203,1.04749262333 m-13.4963766734,1.91853602727 l0.244273965557,-0.000148796437619 0.115436551472,-0.247098902861 l-0.254837075869,0.188620649278 -0.0955015110473,0.21764797469 l0.254089012742,-0.298172856371 0.0498857814819,0.0932110721866 l0.134205892682,0.0251569428171 0.0741322462757,-0.288363123933 l-0.136662138005,0.316379715999 0.0279021263123,-0.501403411229 l0.106819334129,0.562697251638 -0.0695466995239,-0.836981832981 l0.0511385500431,0.990148186684 0.120707601309,-1.23784730832 l-0.0439777070036,1.46462688843 0.189124246438,-1.44220143557 l0.0367238496741,1.58659527699 0.098832094421,-1.7603156964 l-0.0359915290028,1.55577083429 0.163500458002,-1.03041748206 l-0.00839462503791,1.13622734944 0.192716680467,-1.02317939202 l-0.0031132538182,0.948232809703 0.143008766075,-0.734736969074 l-0.0661379781862,0.969574451447 0.0404330405096,-1.09176754951 l0.0343718503912,1.10721200705 0.0920082504551,-0.9936495622 m-0.472457110882,2.66130248706 l-0.000293286696736,0.140063613653 m9.26457564036,-2.01155443986 l0.0321171618998,4.8647064735e-05 m69.5269279865,-6.49810394732 l0.111426872512,-2.04263408979 0.366459290187,-1.45560135444 l0.757141162952,-1.46569589774 1.10815574725,-1.48426085711 l1.54690027237,-1.36676857869 2.03629513582,-1.18230382601 l3.96147727966,-1.1974922816 3.83582075437,-0.421737184127 l4.30956959724,-0.000211681350872 2.43522385756,0.745014895995 l1.85305416584,0.954321126143 1.4339569211,1.18881195784 l1.05866471926,1.36596570412 0.578983426094,1.43160402775 l0.212490210931,1.5619122982 -9.0276159123e-05,1.83190027873 l-0.697392225266,1.84951543808 -1.46394968033,1.70398831367 l-3.23914269606,2.20515290896 -2.89693554242,1.09993199507 l-2.89739608765,0.639200409253 -2.83035695553,0.289066185554 l-4.37330921491,-0.000213610255742 -2.26434965928,-0.566476583481 l-1.93605264028,-0.86602350076 -1.52797361215,-1.04991048574 l-1.07953091462,-1.13514244556 -0.666002780199,-1.2805295984 l-0.279886002342,-1.37398282687 -0.000111066522853,-1.59684876601 l0.333559736609,-1.51108950377 0.647215545177,-1.29104008277 l0.871354043484,-1.06118480364 m5.93522628148,1.22457941373 l0.358941952387,0.335029810667 0.329845820864,0.791913419962 l-0.04225673154,0.488581905762 -0.661467363437,-0.316566154361 l-0.275245085359,-1.05300207933 0.424179832141,-0.215898876389 l0.771744797627,-0.000189437450899 0.430131902297,0.406342943509 l-0.000100694154147,0.45638397336 -0.534693996112,-0.0990895802776 l-0.303009649118,-0.611397475004 0.370567664504,-0.16926077505 m7.23227739334,-0.409628624717 l0.471180677414,-0.395270759861 0.607865651449,0.312606965502 l-0.556035538514,0.480126539866 -0.445023874442,-0.49606492122 l0.40585026145,-0.528444399436 0.260957653324,0.403055573503 l-0.336428383986,0.389644106229 -0.331296001871,-0.36665144066 l0.311558370789,-0.508640458186 0.170246884227,0.364612539609 l-0.557992905378,-0.0729284373422 -0.139442048967,-0.552858064572 m-6.84713681539,0.792537778616 l-0.000801024483129,-0.000126741397253 m7.8480219841,-1.4714260896 l0.00138745604393,-0.000203271823314 m-8.9362804095,3.28938404719 l0.197914540768,0.19546760867 0.437886069218,0.414964929223 l0.857792297999,0.375978474816 1.23085429271,-6.95939403765e-05 l0.555839836597,-0.38971585532 0.538009206454,-0.953153073788 l0.144091174006,-0.924587051074 -0.569102863471,-0.62971368432 l-1.05034212271,-0.228043074409 -0.992154379686,0.198167612155 l-0.787708411614,0.621893703938 -0.705422312021,1.22958203157 l-0.000160837322862,0.729111035665 0.301129271587,0.606177945932 l0.567684521278,0.430613060792 0.905772248904,5.63216174972e-05 l0.84674179554,-0.314067080617 0.424675444762,-0.483157734076 l-0.000148373207291,-0.759162207445 -0.479040443897,-0.344525823991 l-0.702713032564,0.138632133603 m-3.77827723821,-2.05379446348 l-0.00198797827276,-9.9439433446e-05 m8.32401037216,-0.987534920375 l0.000852551020216,-0.000210648504435 m-8.77342621485,4.13444399834 l-0.529356946548,-0.118985561033 -0.86248666048,-0.0341539519529 l-2.31886128585,0.198857821524 -3.40820709864,1.07469767332 l-1.60043418407,0.99659572045 -1.8465979894,1.78305149078 l-0.939121941725,1.57753666242 -0.542093813419,1.57347212235 l-0.00027939863988,1.93642894427 0.499787181616,1.68138325214 l0.907875200113,1.52741611004 1.31175100803,1.37554854155 l1.65426264207,1.10167255004 1.92346553008,0.754896650712 l2.29058603446,0.511002043883 2.58559207122,0.235169132551 l4.72556908925,-5.28377737889e-05 4.09622430801,-0.490083495776 l3.39076479276,-0.871786773205 2.83183852832,-1.11819028854 l2.31474419435,-1.37029240529 1.80776357651,-1.57372176647 l1.30094130834,-1.68052295844 0.775849173466,-1.66418373585 l0.353896568219,-1.63004557292 -0.0229333511864,-1.60300890605 l-0.37546535333,-1.52176419894 -0.704338202874,-1.30886127551 l-0.99369764328,-1.12263093392 -1.25046859185,-0.899320940177 l-1.42690579096,-0.6746601065 -1.58875634273,-0.432612846295 l-2.97267297904,-0.346404338876 -3.43097050985,-0.000166819069515 l-2.00535158316,0.434906184673 -1.74836357435,0.658559252818 l-1.39502455791,0.782728840907 m-10.2270738284,12.8646850586 l-0.593048781157,1.12472742796 -0.67806750536,2.20025241375 l-0.684759219488,2.14051306248 -0.102906438212,1.95420086384 l0.608241011699,0.361972848574 1.23485197624,-0.000122670207929 l1.15023781856,-0.355878348152 1.0059128205,-0.652646025022 l0.793619900942,-0.860833823681 1.2130488952,-2.64869829019 l0.57582800587,-2.50403265158 0.257556488117,-1.02803746859 m10.8591588338,0.450573364894 l-0.12547036012,4.01923259099 0.37840274473,2.29426443577 l0.646595160166,0.564905603727 0.826047112544,0.254534557462 l0.893418093522,-0.0344927640011 1.46798024575,-0.701885422071 l1.00771307945,-0.908909539382 0.710218846798,-1.07260117928 l0.410530418158,-1.14185820023 0.288444533944,-1.97661956151 l-6.45282852929e-05,-1.79033299287 -0.363612994552,-1.26610050599 l-0.59058924516,-0.871907671293 m59.476771944,-1.24049232346 l0.177889118592,-2.34654664993 0.235146035751,-1.32466077805 l0.725192974011,-1.56944046418 1.21883183718,-1.72164281209 l1.76270286242,-1.66265239318 2.20925331116,-1.43234600623 l4.25890922546,-1.67459011078 4.08415635427,-0.874763329824 l3.6116818587,-0.232530360421 3.06745608648,0.231334343553 l2.58367697398,0.666631360849 2.05959359805,0.983310143153 l1.60559952259,1.17661466201 1.16249978542,1.34995857875 l0.760227590799,1.52055174112 0.366149395704,1.61387135585 l-0.000133560024551,2.06294536591 -0.69809799393,1.92371944586 l-1.50734643141,1.95421457291 -1.82952880859,1.6753757 l-2.19604194164,1.46139959494 -2.52683957418,1.21352374554 l-2.78875192006,0.922105213006 -2.84226536751,0.544140686591 l-2.81850020091,0.239714408914 -4.06657059987,-0.000238451442177 l-2.60557174683,-0.580139557521 -2.31539845467,-0.90559343497 l-1.82968338331,-1.04089905818 -1.33164048195,-1.15835756063 l-0.833440025647,-1.23727202415 -0.424988468488,-1.34346485138 l-0.000107889864012,-1.54909114043 0.426576932271,-1.44312898318 l0.740949312846,-1.20741059383 m9.6404894193,-0.0448673497885 l1.1824854215,-0.762217243512 1.4565945665,-0.395393098394 l1.53342217207,-0.184953995049 1.43538534641,0.00907059603681 l2.03312953313,0.418930749098 1.52157276869,0.639998962482 l1.1342048645,0.810577670733 0.709465444088,0.864652693272 l0.36151394248,0.898951788743 -3.63968350333e-05,0.918306509654 l-0.646489808957,0.972593426704 -1.23723973831,0.752651194731 l-1.71782235305,0.509790182114 -3.02313228448,0.275637755791 l-1.24284267426,-0.0878820878764 -2.21947789192,-0.609114517768 l-1.20281557242,-0.805424998204 -0.83090086778,-0.93577961127 l-0.496381471554,-1.04505201181 -0.000128684538746,-1.13442371289 l0.372873221835,-1.04461987813 0.652067561944,-0.848967532317 l0.810324847698,-0.641486942768 m2.37950225671,2.93389956156 l-0.000725445667437,-0.000114852579524 m3.31346253554,0.219151278337 l-0.00134718837216,-6.80417724652e-05 m-1.67764226596,0.165931445857 l-0.00177408316328,-0.000135099835461 m-6.73891862233,-6.66895945867 l-0.251350998878,0.0428748937945 -5.97197019185e-05,0.320972576737 l0.515762865543,0.248123357693 0.562866379817,-0.19709336261 l-0.189655895034,-0.419988234838 -0.372583568096,0.126672262947 l-0.230972245336,0.433017065128 0.404056832194,0.0630928265552 l0.025971767803,-0.318871960044 -0.443165004253,0.0885887630284 m11.0875312487,-0.731949110826 l-0.531489948432,0.162832749387 -0.0284673677137,0.501108864943 l0.543896357218,0.0874788314104 0.239240850012,-0.483210931222 l-0.644480735064,-0.146251084904 -0.168998762965,0.669784049193 l0.527202685674,0.0127108876283 -0.242084016403,-0.344631522894 l-0.146632492542,0.385478610794 0.582170138756,-0.293651123842 l-0.534863819679,-0.0365878889958 -0.0311962142587,0.508968879779 m-13.858923912,2.5265310208 l-0.384538546205,-0.535821467638 -0.687662611405,-0.437895357609 l-0.927619338036,-0.415017505487 -1.1357965072,-0.000146186636509 l-0.978954235713,0.542898823818 -0.746246029933,0.994526942571 l-0.680193156004,1.77845954895 -0.000193492426964,1.50839567184 l0.693658192952,0.642028699319 0.955709020297,0.330316374699 l1.57948434353,-5.9735521063e-05 1.10899567604,-0.66042030851 l0.873087048531,-0.927488605181 0.539603084326,-1.02509687344 l0.193390535812,-0.98430544138 -0.143723239501,-0.828411132097 l-0.701515177886,-0.653964628776 -1.06911987066,-0.287262101968 l-1.16855849822,-1.45749936564e-05 -0.882485707601,0.438300669193 l-0.599873612324,0.83943049113 -0.000211167765277,0.775146484375 m18.9407793681,-2.82653947671 l-0.283817922076,-0.652009099722 0.00826031668112,-1.88620328903 l0.378256415327,-1.09449317058 0.668961803118,-1.00662638744 l0.906056563059,-0.805733154217 1.0601819555,-0.550031463305 l1.15755051374,-0.254649197062 1.19597444932,0.0441209537288 l1.1338592569,0.366753637791 0.945961674054,0.647804339727 l0.997531314691,1.40900512536 0.52014430364,1.36561095715 l0.194942218562,1.25326613585 -0.283234541615,1.17789934079 l-0.817864288886,0.926600893339 -1.99115832647,1.06394807498 l-1.73437019189,0.398417115211 -1.66928350925,-9.26244562531e-05 l-0.79097961386,-0.245410576463 -1.04880233606,-0.984015564124 l-0.317475448052,-0.662031273047 -0.0332604845365,-1.24119848013 l0.377616882324,-1.2091199557 0.67598849535,-0.977553625902 m-11.6464670499,5.12164950371 l-0.0157515720154,0.000242959795287 m9.722580115,-1.16030047337 l0.103821804126,-0.00818805225814 m-12.5694815318,4.9498462677 l0.763933410247,0.680819004774 m82.5469054449,9.52273949872 l0.187244713306,-2.52216974894 0.115294704835,-1.42299681902 l0.880491038164,-1.82925363382 1.35261058807,-1.88753028711 l1.85173610846,-1.72989249229 2.41548538208,-1.53637558222 l2.92987426122,-1.2544820706 3.26331218084,-0.834988951683 l3.21830272675,-0.345296015342 2.99837013086,0.106337480247 l2.61538942655,0.505992521842 2.33839392662,0.924568374952 l1.9000240167,1.21052424113 1.35255694389,1.36690845092 l0.860825975736,1.52881264687 0.422101914883,1.68639282386 l-0.000103147055294,1.78304831187 -0.462888032198,1.80928468704 l-0.856308142344,1.72591745853 -1.20401451985,1.62906875213 l-1.57747626305,1.49276008209 -1.97219133377,1.32963677247 l-2.31652438641,1.05910152197 -2.60988235474,0.716735919317 l-2.68991669019,0.364371389151 -4.5986199379,-0.00561563104081 l-2.77900159359,-0.632323225339 -2.32456584771,-0.899316271146 l-1.81497772535,-1.04534685612 -1.34030709664,-1.18808199962 l-0.914570490519,-1.3104497393 -0.51559334,-1.45652095477 l-0.113564704855,-1.47760470708 0.291046624382,-1.48217707872 m8.45672210058,-0.625444700321 l0.00749849326288,-0.00781670057525 0.194946415722,0.759897530079 l0.0840831610064,0.548264632622 0.381131370862,0.829109698534 l0.321387176712,0.695512890816 0.586696018775,0.620979468028 l0.726725310087,0.369727338354 1.40818208456,-8.98479356692e-06 l0.745245267948,-0.316132754087 0.694777866205,-0.609059880177 l0.541688005129,-0.802415907383 0.406292825937,-1.38293921947 l-3.05638999028e-05,-1.25325759252 -0.772177477678,-0.987964769204 l-1.1711871624,-0.475307007631 -1.53766036034,-7.22477610301e-05 l-1.13012860219,0.729684531689 -0.629745870829,0.895796616872 l-0.376265769204,1.42319311698 m2.09515094757,0.115426604946 l-0.00269524442653,-9.88751526165e-05 m1.88276906808,-0.203417713443 l-0.0013254780788,-5.3776614853e-05 m-7.29178110758,-4.17213797569 l-0.00121901840127,-9.22259096114e-05 m10.6528663635,-0.795792738597 l-9.26170954093e-05,-0.000225182254023 m-12.2308500608,2.21358855565 l-0.0250976501654,-0.000243910762947 -0.0234713731334,-0.00938493525609 l0.229773993293,-0.0281737123926 0.158531032503,-0.133299604058 l0.202100637058,-9.07451006545e-05 -0.116841221849,-0.138873035709 l-0.390461136897,-0.150307267904 -0.167540075878,-0.0844859083494 l0.23659174641,-0.175916776061 0.0527010547618,0.384418740869 l-0.155532819529,0.142913460732 -0.179244404038,-0.343312124411 l0.297679503759,0.156819783151 -0.212478215496,-0.231083283822 m13.6221726735,-1.55035903056 l-0.162182201942,-0.586095303297 0.520300318797,0.296513785919 l-0.522613376379,0.00331626351302 -0.180638618767,-0.357080996037 l0.528515179952,0.162732427319 -0.525506585836,0.0788286142051 l-0.173803816239,-0.303336828947 0.531472812096,0.111851170659 l-0.299869850278,0.13542689383 m-11.8110847473,4.76098497709 l-0.582051922878,-0.569878220558 -0.911163290342,-1.10906521479 l-1.98125501474,-2.41306225459 -1.54176920652,-1.89923961957 l-1.71153485775,-2.15209285418 -1.15952511628,-1.52531514565 l-0.911480089029,-1.30110661189 -0.747581720352,-1.17445727189 l-0.615909546614,-1.09244316816 -0.845413704713,-1.82916065057 l-0.849772195021,-2.48395065467 -0.000229003174657,-2.18924442927 l0.63183794419,-1.21815641721 1.02099070946,-1.09055986007 l1.29030654828,-0.96349577109 1.52452727159,-0.824967573086 l1.73668245474,-0.645153274139 1.89300914605,-0.451548645894 l2.00954536597,-0.247920081019 5.4236527284,0.172628797591 l2.82039165497,0.678998182217 2.42931723595,0.92782586813 l2.0516816775,1.11928413312 2.65985429287,1.98219656944 l1.73588931561,1.79102977117 1.24425609907,1.77344640096 l0.858039458593,1.84089779854 0.495844086011,1.80041174094 l-0.000125661281345,3.05613299211 -0.313019653161,1.15482509136 l-1.05130463839,2.11333533128 -1.34656290213,1.61903589964 l-1.40629867713,1.13837639491 -2.33448406061,1.13610456387 m-1.05315933625,-19.7197802862 l0.393871193131,-0.970314840476 1.10380599896,-1.13810320695 l1.35674705108,-0.983410278956 1.60529990991,-0.788958619038 l1.59311582645,-0.479778299729 1.4997835954,-0.180862136185 l1.28063847621,0.116351656616 1.07448716958,0.413931434353 l0.876508951187,0.675456374884 0.612867424885,0.890117386977 l0.357585698366,1.02746178706 -0.000105238783969,1.63330256939 l-0.7902871569,2.59510993958 -0.598386824131,1.04105263948 l-1.41120612621,1.5005928278 -1.36652767658,0.807085931301 l-0.78712383906,0.215934962034 m-22.904291153,-4.79236046473 l-0.59159313639,-0.732216785351 -1.247707208,-0.75989668568 l-3.67746750514,-1.24000151952 -1.95397933324,-0.258774484197 l-2.1344190836,-3.275091179e-06 -1.39022519191,0.420689980189 l-0.947803060214,0.821160972118 -0.68544353048,1.04745209217 l-0.400529901187,1.21042430401 -7.66537050367e-05,1.80079559485 l0.455340693394,1.56645983458 0.765993197759,1.3034894069 l0.974927842617,0.995851755142 1.17352475723,0.694119731585 l1.25751932462,0.345542381207 m95.2282832854,14.6726949758 l0.170823422571,-2.57170816263 0.0104708674674,-1.66180700064 l0.844562451045,-1.93554639816 1.28249297539,-1.95860862732 l1.8795444568,-1.9360156854 2.44253138701,-1.75119936466 l2.93580154578,-1.40447229147 3.25874348481,-0.94088802735 l3.34938128789,-0.479102929433 3.10648540656,-0.0317487089584 l2.75705337524,0.352486868699 2.45255370935,0.767053067684 l2.02273706595,1.10493014256 1.65200948715,1.40425523122 l1.19288096825,1.6095979015 0.718281418085,1.78596099218 l0.219821681579,1.81679030259 -0.000133619832923,2.0158747832 l-0.409549375375,1.90808296204 -0.779124250015,1.7903415362 l-1.19529436032,1.69231315454 -1.60942961772,1.57437632481 l-1.99715455373,1.36122246583 -2.3382071654,1.05043143034 l-2.68223325411,0.742711474498 -2.90682077408,0.404230728745 l-2.8858757019,0.11118080467 -2.74875561396,-0.219189847509 l-2.56663322449,-0.509062657754 -2.35813717047,-0.811265856028 l-1.94025874138,-1.01141124964 -1.5077662468,-1.21405094862 l-1.05353703101,-1.3804847002 -0.596759021282,-1.49818748236 l-0.171478328605,-1.60348713398 0.215943579872,-1.68376068274 l0.599066267411,-1.56390766303 m10.4457434018,0.598520040512 l-0.229103788733,-0.331333428621 0.698828349511,-0.811790625254 l1.30688488483,-0.499454090993 1.47408396006,-0.291867355506 l1.48502806822,-0.0705185780923 2.03835388025,0.293993676702 l1.64831906557,0.551860233148 1.36891146501,0.768036395311 l0.894699990749,0.859700739384 0.519659221172,0.923349956671 l0.158370944361,0.949307779471 -0.203531955679,0.936065812906 l-0.958834886551,0.864495436351 -1.65094425281,0.621615995963 l-3.12396446864,0.426261226336 -3.09850951036,-0.000181314741591 l-1.71275138855,-0.378276308378 -1.44583185514,-0.649901429812 l-0.80857872963,-0.84724843502 -0.470026483138,-0.994772911072 l-0.137494839728,-1.07236166795 0.190650261939,-1.08038206895 l0.513930767775,-0.936966240406 0.704249193271,-0.71814964215 m3.13096483548,2.7432101965 l-0.000791637673198,-0.000110038345156 m4.07659928004,0.349714110295 l-0.00131640932523,-6.15483380291e-05 m-3.40875546137,-0.11903822422 l-0.00234271244456,-9.77841834053e-05 m3.390305837,0.0624051938454 l-0.000243754814922,-0.000118409989227 m-10.1273107529,-8.63200505575 l-0.242560630043,-0.247912357251 0.231618061662,-0.228679900368 l0.813455780347,-0.114099706213 0.293317685525,0.458809733391 l-0.465731024742,0.558818032344 -0.605423202117,-0.301907211542 l0.411465639869,-0.567607134581 0.803161114454,-0.0872421947618 l-0.0267218519002,0.399035364389 -0.629814068476,-0.165763099988 l-0.137155825893,-0.560183624427 0.804969072342,0.0816381722689 m11.5512688955,0.693510770798 l0.0129450702419,-0.70034990708 0.927435954412,0.228444114327 l-0.809135437012,0.322291130821 -0.362313166261,-0.790801048279 l0.876003702482,-0.13000352929 -0.663218349218,0.663076788187 l-0.180465417604,-0.759406139453 0.775993218025,0.345026254654 l-0.734892239173,0.14513194561 m-13.9005263646,4.05811905861 l-0.322397897641,-0.62754313151 -0.875720183055,-0.876066684723 l-1.1761918664,-1.33727739255 -2.32497155666,-2.49773422877 l-2.17359383901,-2.14766144753 -1.89704795678,-1.74345831076 l-1.35734468699,-1.17682327827 -1.10629349947,-0.90288490057 l-0.974088907242,-0.729673802853 -0.936316847801,-0.606200645367 l-2.17904011408,-1.11475974321 -1.67914370696,-0.485778252284 l-1.65633916855,-0.230899254481 -1.57753139734,0.0327416416258 l-3.19102009137,1.157840391 -1.62884662549,1.17468863726 l-1.33572320143,1.36169075966 -1.09484155973,1.51548763116 l-0.818013250828,1.56011193991 -0.556931694349,1.64693802595 l-0.290836070975,1.77415132523 0.00784213344256,1.78635517756 l0.354041581353,1.79788529873 0.695180644592,1.77184283733 l1.05777293444,1.73454542955 1.40239953995,1.6452935338 l1.68493568897,1.43101751804 2.04001069069,1.26727163792 l2.2801031669,0.972300668557 2.45808879534,0.653549184402 l2.63047079245,0.325171823303 2.67866313457,0.00744835318377 l2.37076799075,-0.377115656932 2.16001013915,-0.715629508098 l1.87109212081,-0.996758739154 1.46754185359,-1.1704865098 l1.02519760529,-1.25848243634 m-22.1022685369,-6.32857561111 l-0.503199795882,-0.36777925988 -0.901349385579,-0.681973546743 l-1.60959929228,-1.64610783259 -0.459457735221,-1.08641674121 l-0.114697503547,-1.1368522048 0.235837822159,-1.06854975224 l0.547401259343,-0.97049276034 0.760637521744,-0.771780361732 l0.881505906582,-0.493160734574 1.41976426045,-0.265775372585 l0.609814673662,0.508775810401 -0.933334430059,0.987808406353 l-1.28240098556,-0.142067906757 -0.893172423045,-1.42578989267 l-0.33091271917,-1.72529915969 0.103429574519,-1.59376005332 l0.449519803127,-1.48496756951 1.12911035617,-1.8275342385 l1.16492718458,-1.25982453426 m2.18475937843,28.1392383575 l-0.499925712744,2.61187215646 m99.5764817801,-6.93265934637 l0.109036092957,-2.49036947886 -0.187900873522,-1.79935773214 l0.792691260576,-2.22721616427 1.19687517484,-2.1616601944 l1.76827053229,-2.14199920495 2.29077736537,-1.98866327604 l2.77173439662,-1.68710311254 3.08594286442,-1.20867580175 l3.15789103508,-0.754611641169 3.15919121106,-0.294547254841 l2.8954321146,0.141139626503 2.59637812773,0.565519084533 l2.26533055305,0.958140790462 1.90505723159,1.2667927146 l1.47025197744,1.49270753066 1.02139393489,1.68096502622 l0.559761424859,1.80236299833 0.152742676437,1.88022216161 l-0.234581405918,1.89559777578 -0.945005317529,1.98665459951 l-1.35209798813,1.81350231171 -1.78084770838,1.7089064916 l-2.13448385398,1.48008366426 -2.51126925151,1.26611769199 l-2.76597380638,0.931605994701 -2.92487541835,0.565283546845 l-3.04719527562,0.255992114544 -2.90396293004,-0.0620261269311 l-2.68863519033,-0.395310943325 -2.34594523907,-0.6818780303 l-1.9643642505,-0.903775791327 -1.52917563915,-1.11262867848 l-1.06157203515,-1.29133919875 -0.610790302356,-1.42591128747 l-0.138362273574,-1.49065216382 0.269004628062,-1.49062852065 m11.3722403844,-1.92478895187 l1.09784036875,-0.682941377163 1.56187256177,-0.500867217779 l1.74187878768,-0.352537284295 1.88378632069,-0.173167896767 l1.76605085532,0.038482779637 1.60339633624,0.254336794217 l1.38717462619,0.502620140711 1.0840032498,0.708303252856 l0.7421126465,0.875237981478 0.349171385169,0.95584243536 l-8.34381717141e-05,1.0611713926 -0.728868246078,1.02608382702 l-1.53734236956,0.881085793177 -3.15440913041,0.780495206515 l-2.32870479425,0.0739506197472 -2.13882446289,-0.382295176387 l-1.75434629122,-0.683619529009 -1.30792299906,-0.876335004965 l-0.886397957802,-0.970313747724 -0.467562576135,-1.04669183493 l-9.59591549569e-05,-0.85197865963 0.371544783314,-0.819406410058 l0.695482343435,-0.698026418686 m3.83553226789,2.48111963272 l-0.000357443956697,-0.000172122272488 m4.35187896093,-0.12171416233 l-0.00125706700298,-4.06752345346e-05 m-3.32075913747,0.0209501401211 l-0.0019637918255,-8.7209391495e-05 m3.28969955444,0.0107000550876 l-4.37911846044e-05,-7.36251058697e-05 m-11.7309816678,-7.79097716014 l-0.429073373477,-0.652420868476 -0.0198969896883,-0.745904793342 l0.75874860088,-2.06977347533 0.945073366165,-0.70040722688 l1.09846919775,-0.354566574097 1.24000539382,-0.000213116727537 l0.780411412319,0.466600656509 0.613815188408,0.781207780043 l0.337498635054,0.944706499577 -0.061648581177,1.48632138968 l-0.682643055916,0.971552530924 -1.03215664625,0.570021867752 l-1.14070147276,0.13081078728 -1.03214005629,-0.415082499385 l-0.719440728426,-0.704134702682 -0.37680203716,-0.889089206855 m13.1045842171,0.404820715388 l-0.230643078685,-1.94172004859 0.37995763123,-1.00144187609 l0.68329701821,-0.890193978945 0.939419170221,-0.671232839425 l1.49433543285,-0.371508424481 1.29628707965,0.0519832006345 l0.873503983021,0.523228645325 0.623342941205,0.820696602265 l0.325945466757,1.00687632958 -0.00268352179167,1.05557392041 l-0.677824765444,1.0145581762 -1.22399479151,0.647974510988 l-2.2064524889,0.423880815506 -1.26280178626,-0.000111810635038 l-1.56140287717,-0.530438125134 -0.71253195405,-0.802178879579 m-14.2334922155,2.46833880742 l-0.00957147839169,-0.000232258438094 m17.6640446981,-2.59061237176 l-0.00572268540661,-0.00186474237125 m-23.2383902868,5.8413139979 l-1.53135756652,-0.689154863358 -1.94603880246,-1.06529692809 l-2.13304897149,-0.895674029986 -2.03291912874,-0.702928801378 l-1.86763525009,-0.464947273334 -1.82192881902,-0.27777902782 l-1.73524657885,-0.0585813447833 -1.66093965371,0.205911484857 l-1.59188508987,0.52533864975 -1.531278193,0.805539935827 l-1.41558001439,1.05411976576 -1.22299849987,1.22837315003 l-0.959581633409,1.32286002239 -0.698444396257,1.41368081172 l-0.423966546853,1.44802629948 -0.118209421635,1.48486663898 l0.218988209963,1.49330198765 0.622441818317,1.5197100242 l1.01892193158,1.46647870541 1.44322862228,1.38399859269 l1.81312441826,1.21030300856 2.10893332958,0.913513203462 l2.47724155585,0.654361248016 2.72627969583,0.353196933866 l2.94154107571,0.058759295692 3.05360416571,-0.322872300943 l2.89747854074,-0.677204678456 2.69628842672,-1.00096772114 l2.24927822749,-1.20214015245 1.78731520971,-1.35156869888 l1.303901275,-1.43971979618 m-25.0567420324,-1.98180397352 l-0.816839337349,-0.33313177526 -1.01535419623,-0.611850221952 l-1.54463022947,-1.92508955797 -0.830310086409,-1.91423137983 l-0.340252940853,-1.77149355412 -0.000119257892948,-1.78241312504 l0.329878851771,-1.52087946733 0.576071292162,-1.20449493329 l0.744094997644,-0.899336139361 1.40301624934,-0.9097062548 l1.36520117521,-0.475020507971 2.50589609146,-0.0454483460635 l0.751004169385,0.67617620031 0.3312621514,0.89548766613 l-0.0360331653307,0.929297208786 -0.907500187556,1.56626472871 l-1.3308079044,0.999072988828 -1.38442466656,0.410522843401 l-1.92067960898,-0.157427315911 -1.31939788659,-0.797491172949 l-0.910417536894,-1.14268630743 -0.519103556871,-1.32974882921 l-0.180812564989,-1.5025378267 0.170622877777,-1.60577684641 l0.523594419161,-1.53294901053 1.36228084564,-2.15739647547 l1.46324694157,-1.60147776206 \" fill=\"none\" stroke=\"black\" stroke-width=\"1\"/></svg>"
          },
          "metadata": {
            "tags": []
          }
        }
      ]
    }
  ]
}