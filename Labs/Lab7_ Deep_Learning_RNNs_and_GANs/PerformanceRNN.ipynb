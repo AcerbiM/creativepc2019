{
 "cells": [
  {
   "cell_type": "markdown",
   "metadata": {},
   "source": [
    "# Environment Setup"
   ]
  },
  {
   "cell_type": "code",
   "execution_count": 1,
   "metadata": {},
   "outputs": [
    {
     "name": "stdout",
     "output_type": "stream",
     "text": [
      "/bin/sh: apt-get: command not found\n",
      "Collecting magenta\n",
      "\u001b[?25l  Downloading https://files.pythonhosted.org/packages/92/bf/7c7888791d57e1360081a96c53427be6b7c0104e53cc289aa7f95da82290/magenta-1.2.0-py2.py3-none-any.whl (1.5MB)\n",
      "\u001b[K     |████████████████████████████████| 1.5MB 8.9MB/s eta 0:00:01\n",
      "\u001b[?25hCollecting pyfluidsynth\n",
      "  Downloading https://files.pythonhosted.org/packages/b6/45/7f06ef269e14fb58b3a082beff9399662cc6b522692eb0be9786b23055e0/pyFluidSynth-1.2.5-py3-none-any.whl\n",
      "Requirement already satisfied, skipping upgrade: numpy>=1.14.6 in /Users/lucacomanducci/miniconda3/lib/python3.7/site-packages (from magenta) (1.17.4)\n",
      "Collecting pandas>=0.18.1\n",
      "\u001b[?25l  Downloading https://files.pythonhosted.org/packages/16/b5/bab3477466a4d9e705d40829ac65683155e7977acbc07f05b06fabded1be/pandas-0.25.3-cp37-cp37m-macosx_10_9_x86_64.whl (10.2MB)\n",
      "\u001b[K     |████████████████████████████████| 10.2MB 25.1MB/s eta 0:00:01\n",
      "\u001b[?25hRequirement already satisfied, skipping upgrade: wheel in /Users/lucacomanducci/miniconda3/lib/python3.7/site-packages (from magenta) (0.33.6)\n",
      "^C\n",
      "\u001b[31mERROR: Operation cancelled by user\u001b[0m\n",
      "/bin/sh: gsutil: command not found\n"
     ]
    }
   ],
   "source": [
    "!apt-get update -qq && apt-get install -qq libfluidsynth1 build-essential libasound2-dev libjack-dev\n",
    "!pip install -U magenta pyfluidsynth\n",
    "\n",
    "# Hack to allow python to pick up the newly-installed fluidsynth lib.\n",
    "import ctypes.util\n",
    "orig_ctypes_util_find_library = ctypes.util.find_library\n",
    "def proxy_find_library(lib):\n",
    "  if lib == 'fluidsynth':\n",
    "    return 'libfluidsynth.so.1'\n",
    "  else:\n",
    "    return orig_ctypes_util_find_library(lib)\n",
    "ctypes.util.find_library = proxy_find_library\n",
    "\n",
    "# Download Salamander piano SoundFont.\n",
    "# Samples by Alexander Holm: https://archive.org/details/SalamanderGrandPianoV3\n",
    "# Converted to sf2 by John Nebauer: https://sites.google.com/site/soundfonts4u\n",
    "!gsutil -m cp gs://download.magenta.tensorflow.org/soundfonts/Yamaha-C5-Salamander-JNv5.1.sf2 /tmp/"
   ]
  },
  {
   "cell_type": "code",
   "execution_count": null,
   "metadata": {},
   "outputs": [],
   "source": [
    "import os\n",
    "from magenta.models.performance_rnn import performance_sequence_generator\n",
    "# N.B. the following import gives an error, to correct it you will have to open sequence_generator_bundle.py and \n",
    "# change the following line: from magenta.protobuf import generator_pb2 to magenta.music.protobuf\n",
    " \n",
    "from magenta.models.shared import sequence_generator_bundle\n",
    "from magenta.music.protobuf import generator_pb2\n",
    "from magenta.music.protobuf import music_pb2\n",
    "\n",
    "import magenta.music as mm\n",
    "\n",
    "# Necessary until pyfluidsynth is updated (>1.2.5).\n",
    "import warnings\n",
    "warnings.filterwarnings(\"ignore\", category=DeprecationWarning)\n",
    "\n",
    "# Constants.\n",
    "BUNDLE_DIR = '/tmp/'\n",
    "MODEL_NAME = 'performance_with_dynamics'\n",
    "BUNDLE_NAME = MODEL_NAME + '.mag'"
   ]
  },
  {
   "cell_type": "code",
   "execution_count": null,
   "metadata": {},
   "outputs": [],
   "source": [
    "mm.notebook_utils.download_bundle(BUNDLE_NAME, BUNDLE_DIR)"
   ]
  },
  {
   "cell_type": "markdown",
   "metadata": {},
   "source": [
    "# Generate a sequence"
   ]
  },
  {
   "cell_type": "code",
   "execution_count": null,
   "metadata": {},
   "outputs": [],
   "source": [
    "bundle = sequence_generator_bundle.read_bundle_file(os.path.join(BUNDLE_DIR, BUNDLE_NAME))\n",
    "generator_map = performance_sequence_generator.get_generator_map()\n",
    "generator = generator_map[MODEL_NAME](checkpoint=None, bundle=bundle)\n",
    "generator.initialize()\n",
    "generator_options = generator_pb2.GeneratorOptions()\n",
    "generator_options.args['temperature'].float_value = 50.0  # Higher is more random; 1.0 is default. \n",
    "generate_section = generator_options.generate_sections.add(start_time=0, end_time=10)\n",
    "sequence = generator.generate(music_pb2.NoteSequence(), generator_options)\n",
    "\n",
    "# Play and view this masterpiece.\n",
    "mm.plot_sequence(sequence)\n",
    "mm.play_sequence(sequence, mm.midi_synth.fluidsynth,\n",
    "                 sf2_path='/tmp/Yamaha-C5-Salamander-JNv5.1.sf2')"
   ]
  }
 ],
 "metadata": {
  "kernelspec": {
   "display_name": "Python 3",
   "language": "python",
   "name": "python3"
  },
  "language_info": {
   "codemirror_mode": {
    "name": "ipython",
    "version": 3
   },
   "file_extension": ".py",
   "mimetype": "text/x-python",
   "name": "python",
   "nbconvert_exporter": "python",
   "pygments_lexer": "ipython3",
   "version": "3.7.3"
  },
  "pycharm": {
   "stem_cell": {
    "cell_type": "raw",
    "source": [],
    "metadata": {
     "collapsed": false
    }
   }
  }
 },
 "nbformat": 4,
 "nbformat_minor": 2
}