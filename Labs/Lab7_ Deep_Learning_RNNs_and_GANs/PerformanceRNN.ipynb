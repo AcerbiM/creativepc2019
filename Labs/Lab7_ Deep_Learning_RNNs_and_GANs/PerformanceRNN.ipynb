{
  "nbformat": 4,
  "nbformat_minor": 0,
  "metadata": {
    "kernelspec": {
      "display_name": "Python 3",
      "language": "python",
      "name": "python3"
    },
    "language_info": {
      "codemirror_mode": {
        "name": "ipython",
        "version": 3
      },
      "file_extension": ".py",
      "mimetype": "text/x-python",
      "name": "python",
      "nbconvert_exporter": "python",
      "pygments_lexer": "ipython3",
      "version": "3.7.3"
    },
    "colab": {
      "name": "PerformanceRNN.ipynb",
      "provenance": [],
      "collapsed_sections": []
    }
  },
  "cells": [
    {
      "cell_type": "markdown",
      "metadata": {
        "id": "IKxTsmgleBVe",
        "colab_type": "text"
      },
      "source": [
        "# Environment Setup"
      ]
    },
    {
      "cell_type": "code",
      "metadata": {
        "id": "GE40VDrYeBVg",
        "colab_type": "code",
        "colab": {}
      },
      "source": [
        "!apt-get update -qq && apt-get install -qq libfluidsynth1 build-essential libasound2-dev libjack-dev\n",
        "!pip install -U magenta pyfluidsynth\n",
        "\n",
        "import os\n",
        "# Hack to allow python to pick up the newly-installed fluidsynth lib.\n",
        "import ctypes.util\n",
        "orig_ctypes_util_find_library = ctypes.util.find_library\n",
        "def proxy_find_library(lib):\n",
        "  if lib == 'fluidsynth':\n",
        "    return 'libfluidsynth.so.1'\n",
        "  else:\n",
        "    return orig_ctypes_util_find_library(lib)\n",
        "ctypes.util.find_library = proxy_find_library\n",
        "\n",
        "# Download Salamander piano SoundFont.\n",
        "# Samples by Alexander Holm: https://archive.org/details/SalamanderGrandPianoV3\n",
        "# Converted to sf2 by John Nebauer: https://sites.google.com/site/soundfonts4u\n",
        "!gsutil -m cp gs://download.magenta.tensorflow.org/soundfonts/Yamaha-C5-Salamander-JNv5.1.sf2 /tmp/"
      ],
      "execution_count": 0,
      "outputs": []
    },
    {
      "cell_type": "code",
      "metadata": {
        "id": "bLCwCUcdeBVk",
        "colab_type": "code",
        "colab": {}
      },
      "source": [
        "import os\n",
        "from magenta.models.performance_rnn import performance_sequence_generator\n",
        "from magenta.models.shared import sequence_generator_bundle\n",
        "from magenta.music.protobuf import generator_pb2\n",
        "from magenta.music.protobuf import music_pb2\n",
        "\n",
        "import magenta.music as mm\n",
        "\n",
        "# Necessary until pyfluidsynth is updated (>1.2.5).\n",
        "import warnings\n",
        "warnings.filterwarnings(\"ignore\", category=DeprecationWarning)\n",
        "\n",
        "# Constants.\n",
        "BUNDLE_DIR = '/tmp/'\n",
        "MODEL_NAME = 'performance_with_dynamics'\n",
        "BUNDLE_NAME = MODEL_NAME + '.mag'"
      ],
      "execution_count": 0,
      "outputs": []
    },
    {
      "cell_type": "code",
      "metadata": {
        "id": "mrmWP7EleBVm",
        "colab_type": "code",
        "colab": {}
      },
      "source": [
        "# Downloads a Magenta bundle to target directory.\n",
        "# ....\n",
        "#os.listdir('/tmp/')"
      ],
      "execution_count": 0,
      "outputs": []
    },
    {
      "cell_type": "markdown",
      "metadata": {
        "id": "eliU8JQneBVo",
        "colab_type": "text"
      },
      "source": [
        "# Generate a sequence"
      ]
    },
    {
      "cell_type": "code",
      "metadata": {
        "id": "RSzTjIgZeBVp",
        "colab_type": "code",
        "colab": {}
      },
      "source": [
        "bundle = sequence_generator_bundle.read_bundle_file(os.path.join(BUNDLE_DIR, BUNDLE_NAME))\n",
        "generator_map = performance_sequence_generator.get_generator_map() # Returns a map from the generator ID to a SequenceGenerator class creator.\n",
        "generator = generator_map[MODEL_NAME](checkpoint=None, bundle=bundle)\n",
        "generator.initialize()\n",
        "generator_options = \n",
        "\n",
        "#...\n",
        "\n",
        "# Play and view this masterpiece.\n",
        "\n",
        "#...."
      ],
      "execution_count": 0,
      "outputs": []
    }
  ]
}