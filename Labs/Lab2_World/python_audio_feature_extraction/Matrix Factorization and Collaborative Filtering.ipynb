{
 "cells": [
  {
   "cell_type": "code",
   "execution_count": null,
   "metadata": {},
   "outputs": [],
   "source": [
    "try:\n",
    "    import requests\n",
    "except:\n",
    "    print(\"If you read this message, it means you need to install the package requests by using pip3 install requests --user\")\n",
    "import numpy as np\n",
    "import json\n",
    "import pandas as pd\n",
    "import matplotlib.pyplot as plt\n",
    "from IPython.display import Audio as play_wave\n",
    "from IPython.display import display\n",
    "import getpass\n",
    "from sklearn.decomposition import PCA\n",
    "markers=\",ov^8sp*hDPX\"\n",
    "\n",
    "csv_data=\"../data/CFdata.csv\""
   ]
  },
  {
   "cell_type": "code",
   "execution_count": null,
   "metadata": {},
   "outputs": [],
   "source": [
    "\n",
    "token= getpass.getpass(\"Please copy-paste your token from here https://developer.spotify.com/console/get-audio-features-several-tracks/ \\n\")\n",
    "headers={\"Authorization\": \"Bearer %s\"%token}"
   ]
  },
  {
   "cell_type": "markdown",
   "metadata": {},
   "source": [
    "# Data preparation\n",
    "## Import CSV downloaded from google drive with Pandas\n",
    "Pandas is a wonderful library that allows us to simply import and work with structured data.\n",
    "For example, saving the Google Spreadsheet as a csv, we can then import it with a single command"
   ]
  },
  {
   "cell_type": "code",
   "execution_count": null,
   "metadata": {},
   "outputs": [],
   "source": [
    "df=pd.read_csv(csv_data, delimiter=\",\")\n",
    "display(df)"
   ]
  },
  {
   "cell_type": "markdown",
   "metadata": {},
   "source": [
    "## Separate people's names from tracks and rates\n",
    "Now, let's put people's name in a list, the tracks' names and artists in a datafrane and let's export the rates in a matrix"
   ]
  },
  {
   "cell_type": "code",
   "execution_count": null,
   "metadata": {},
   "outputs": [],
   "source": [
    "people=df.columns[3:].tolist()\n",
    "tracks=df.iloc[:,:2]\n",
    "rates=df.iloc[:,3:].values.astype(np.float32)\n",
    "print(people)\n",
    "print(rates)\n",
    "display(tracks)\n"
   ]
  },
  {
   "cell_type": "markdown",
   "metadata": {},
   "source": [
    "# Get the ids of the tracks on Spotify and import their features\n",
    "In order to have a content-based description of the tracks, we can use Spotify's APIs to get audio features.\n",
    "First, we use the search apis to look for Spotify ids for each track"
   ]
  },
  {
   "cell_type": "code",
   "execution_count": null,
   "metadata": {},
   "outputs": [],
   "source": [
    "ids=[]\n",
    "url=\"https://api.spotify.com/v1/search\"\n",
    "\n",
    "for i, track in tracks.iterrows():\n",
    "    params={\"q\": \"%s %s\"%(track.Artist, track.Songs), \"type\": \"track\"}\n",
    "    req=requests.get(url=url, params=params,headers=headers)\n",
    "    assert req.status_code==200, req.content\n",
    "    answer=req.json()\n",
    "    items=answer[\"tracks\"][\"items\"]\n",
    "    first_result=items[0]\n",
    "    ids.append(first_result[\"id\"])\n",
    "   \n",
    "print(ids)"
   ]
  },
  {
   "cell_type": "markdown",
   "metadata": {},
   "source": [
    "Then, we use audio-features with the set of ids to download the features and put them in another dataframe.\n",
    "We then consider only those columns that are real features, as seen below"
   ]
  },
  {
   "cell_type": "code",
   "execution_count": null,
   "metadata": {},
   "outputs": [],
   "source": [
    "url=\"https://api.spotify.com/v1/audio-features\"\n",
    "params={\"ids\":\",\".join(ids)}\n",
    "req=requests.get(url=url, params=params, headers=headers)\n",
    "audio_features=req.json()[\"audio_features\"]\n",
    "df_features=pd.DataFrame(audio_features)\n"
   ]
  },
  {
   "cell_type": "code",
   "execution_count": null,
   "metadata": {},
   "outputs": [],
   "source": [
    "columns_fts=['acousticness', 'danceability', 'energy',  'instrumentalness', 'liveness', 'loudness',  \n",
    "                    'tempo', 'valence']\n",
    "features=df_features.loc[:, columns_fts].values"
   ]
  },
  {
   "cell_type": "markdown",
   "metadata": {},
   "source": [
    "# Let's summarize"
   ]
  },
  {
   "cell_type": "code",
   "execution_count": null,
   "metadata": {},
   "outputs": [],
   "source": [
    "print(\"We have %d people who rated %d songs\"%(len(people),tracks.shape[0]))\n",
    "print(\"Indeed, the shape of our rating matrix is %s\"%(str(rates.shape)))\n",
    "print(\"For each track we extracted %d features from Spotify leading to a matrix shaped %s\"%(len(columns_fts),str(features.shape)))"
   ]
  },
  {
   "cell_type": "markdown",
   "metadata": {},
   "source": [
    "# Principal Component Analysis (PCA)\n",
    "## Content-based PCA\n",
    "Now what can we do about it? First, we can use Principal Component Analysis techniques to reduce the feature-space of songs from 8 dimensions to 2 dimensions, drawn as those who best fits the data in features.\n",
    "\n",
    "Before doing anything, let's choose a song and guess: name two songs in the list that are similar in your opinion"
   ]
  },
  {
   "cell_type": "code",
   "execution_count": null,
   "metadata": {},
   "outputs": [],
   "source": [
    "pca_ft=PCA(n_components=2, whiten=True)\n",
    "features_2=pca_ft.fit_transform(features)"
   ]
  },
  {
   "cell_type": "code",
   "execution_count": null,
   "metadata": {},
   "outputs": [],
   "source": [
    "plt.figure(figsize=(8,8))\n",
    "for i, track in tracks.iterrows():\n",
    "    plt.scatter(features[i,0], features[i,1], s=100, alpha=0.7, marker=markers[i%len(markers)], label=track.Songs)\n",
    "plt.legend()\n",
    "range_x=features[:,0].max()-features[:,0].min()\n",
    "plt.xlim([features[:,0].min()-range_x/10, features[:,0].max()+1.5*range_x])\n",
    "plt.show()"
   ]
  },
  {
   "cell_type": "markdown",
   "metadata": {},
   "source": [
    "How the different features contribute to each component?"
   ]
  },
  {
   "cell_type": "code",
   "execution_count": null,
   "metadata": {},
   "outputs": [],
   "source": [
    "plt.figure(figsize=(16,2))\n",
    "for component in pca_ft.components_:\n",
    "    plt.plot(component)\n",
    "plt.xticks(np.arange(len(columns_fts)), columns_fts)\n",
    "plt.show()"
   ]
  },
  {
   "cell_type": "markdown",
   "metadata": {},
   "source": [
    "## Context-based PCA\n",
    "Actually, we have another way to describe songs: we can benefits from people rates.\n",
    "Let's apply PCA to the rates, and let's summarize songs into 2 dimensions\n",
    "\n",
    "Can you first guess what will appear?"
   ]
  },
  {
   "cell_type": "code",
   "execution_count": null,
   "metadata": {},
   "outputs": [],
   "source": [
    "pca_trackpeople=PCA(n_components=2, whiten=True)\n",
    "tracks_2=pca_trackpeople.fit_transform(rates)"
   ]
  },
  {
   "cell_type": "code",
   "execution_count": null,
   "metadata": {},
   "outputs": [],
   "source": [
    "plt.figure(figsize=(8,8))\n",
    "for i, track in tracks.iterrows():\n",
    "    plt.scatter(tracks_2[i,0], tracks_2[i,1], s=100, marker=markers[i%len(markers)], alpha=0.7, label=track.Songs)\n",
    "plt.legend()\n",
    "range_x=tracks_2[:,0].max()-tracks_2[:,0].min()\n",
    "plt.xlim([tracks_2[:,0].min()-range_x/10, tracks_2[:,0].max()+1.5*range_x])\n",
    "plt.show()"
   ]
  },
  {
   "cell_type": "markdown",
   "metadata": {},
   "source": [
    "How the different PEOPLE contribute to each component?"
   ]
  },
  {
   "cell_type": "code",
   "execution_count": null,
   "metadata": {},
   "outputs": [],
   "source": [
    "plt.figure(figsize=(16,2))\n",
    "for component in pca_trackpeople.components_:\n",
    "    plt.plot(component)\n",
    "plt.xticks(np.arange(len(people)), people)\n",
    "plt.show()"
   ]
  },
  {
   "cell_type": "markdown",
   "metadata": {},
   "source": [
    "# YOUR TURN\n",
    "**But we can also invert the process. How much listening habits describe people? Can we draw people in a 2D world?**"
   ]
  },
  {
   "cell_type": "code",
   "execution_count": null,
   "metadata": {},
   "outputs": [],
   "source": []
  }
 ],
 "metadata": {
  "kernelspec": {
   "display_name": "Python 3",
   "language": "python",
   "name": "python3"
  },
  "language_info": {
   "codemirror_mode": {
    "name": "ipython",
    "version": 3
   },
   "file_extension": ".py",
   "mimetype": "text/x-python",
   "name": "python",
   "nbconvert_exporter": "python",
   "pygments_lexer": "ipython3",
   "version": "3.6.6"
  }
 },
 "nbformat": 4,
 "nbformat_minor": 2
}
