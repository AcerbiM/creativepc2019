{
 "cells": [
  {
   "cell_type": "code",
   "execution_count": 1,
   "metadata": {},
   "outputs": [],
   "source": [
    "\n",
    "try:\n",
    "    import requests\n",
    "except:\n",
    "    print(\"If you read this message, it means you need to install the package requests by using pip3 install requests --user\")\n",
    "import numpy as np\n",
    "import json\n",
    "import matplotlib.pyplot as plt\n",
    "from IPython.display import Audio as play_wave\n",
    "import getpass\n"
   ]
  },
  {
   "cell_type": "markdown",
   "metadata": {},
   "source": [
    "# Get a token from Spotify\n",
    "Nowadays Spotify web APIs only work with an authorization, which means, to have an available token. You can get a simple token by visiting the page [here](https://developer.spotify.com/console/get-audio-features-several-tracks/).\n",
    "Click on \"Get Token\", login to Spotify, copy-paste the resulting string in the cell below and execute it."
   ]
  },
  {
   "cell_type": "code",
   "execution_count": 3,
   "metadata": {},
   "outputs": [
    {
     "name": "stdout",
     "output_type": "stream",
     "text": [
      "Please copy-paste your token here\n",
      "········\n"
     ]
    }
   ],
   "source": [
    "#token=\"your token\"\n",
    "token= getpass.getpass(\"Please copy-paste your token here\\n\")\n",
    "headers={\"Authorization\": \"Bearer %s\"%token}"
   ]
  },
  {
   "cell_type": "markdown",
   "metadata": {},
   "source": [
    "# Search with spotify\n",
    "Now, let's first look the Spotify's API regarding the simple search. The documentation page is [here](https://developer.spotify.com/console/get-search-item/). We see we need to specify a parameter named \"q\" with the query string, and one named \"type\" specify either \"track\" or \"artist\".\n",
    "So, let's start with the best song ever, i.e., \"I love it\" by Icona Pop.\n"
   ]
  },
  {
   "cell_type": "code",
   "execution_count": 4,
   "metadata": {},
   "outputs": [
    {
     "name": "stdout",
     "output_type": "stream",
     "text": [
      "First result\n",
      "Author: Icona Pop\n",
      "Name: I Love It (feat. Charli XCX)\n",
      "Preview url: https://p.scdn.co/mp3-preview/35149f91f3f5689e5ea40adb1e518b852aee5f79?cid=774b29d4f13844c495f206cafdad9c86\n",
      "Id on spotify: 2U8NXPTXZWG2O0ye2sYRiH\n"
     ]
    }
   ],
   "source": [
    "params={\"q\": \"I love it Icona Pop\", \"type\": \"track\"}\n",
    "url=\"https://api.spotify.com/v1/search\"\n",
    "req=requests.get(url=url, params=params,headers=headers)\n",
    "assert req.status_code==200, req.content\n",
    "answer=req.json()\n",
    "items=answer[\"tracks\"][\"items\"]\n",
    "first_result=items[0]\n",
    "print(\"First result\")\n",
    "print(\"Author: %s\"%first_result[\"artists\"][0][\"name\"])\n",
    "print(\"Name: %s\"%first_result[\"name\"])\n",
    "print(\"Preview url: %s\"%first_result[\"preview_url\"])\n",
    "print(\"Id on spotify: %s\"%first_result[\"id\"])\n"
   ]
  },
  {
   "cell_type": "markdown",
   "metadata": {},
   "source": [
    "As you can see, Spotify returns A LOT of information, including a freely-downloadable 30-second preview url (be careful, Spotify knows who you are), and the ID. The ID is extremly important to get further information, especially the audio features! "
   ]
  },
  {
   "cell_type": "markdown",
   "metadata": {},
   "source": [
    "# Audio Features\n",
    "One of the sexiest Spotify's APIs is the possibility to download automatically computed high-level audio features.\n",
    "\n",
    "While we don't know how they were computed, we know what they mean and we can trust spotify on their quality. The APIs are documented [here](https://developer.spotify.com/console/get-audio-features-several-tracks/).\n",
    "\n",
    "Let's now get some information on Icona Pop, since we know the id_  "
   ]
  },
  {
   "cell_type": "code",
   "execution_count": 71,
   "metadata": {},
   "outputs": [],
   "source": [
    "modes=[\"minor\", \"major\"]\n",
    "key_tonal=[\"C\",\"C#\", \"D\",\"D#\",\"E\",\"F\",\"F#\",\"G\",\"G#\",\"A\",\"A#\",\"B\"]"
   ]
  },
  {
   "cell_type": "markdown",
   "metadata": {},
   "source": [
    "Before analyzing it with Spotify, let's try to make an educated guess, with respect to the preview URL. \n",
    "\n",
    "So, how much are these values?\n",
    "\n",
    "Use the description [here](https://developer.spotify.com/documentation/web-api/reference/object-model/#audio-features-object)\n",
    "- tempo (BPM)\n",
    "- key and mode (any listener with perfect pitch?)\n",
    "- danceability (how suitable a track is for dancing?)\n",
    "- energy  (perceptual measure of intensity and activity)\n",
    "- speechiness (presence of spoken words in a track)\n",
    "- acousticness (whether the track iacoustic)\n",
    "- liveness ( presence of an audience in the recording)\n",
    "- instrumentalness (whether a track contains no vocals)\n",
    "- valence (the musical positiveness conveyed by a track)"
   ]
  },
  {
   "cell_type": "code",
   "execution_count": null,
   "metadata": {},
   "outputs": [],
   "source": [
    "url=\"https://api.spotify.com/v1/audio-features\"\n",
    "params={\"ids\":\"2U8NXPTXZWG2O0ye2sYRiH\"}\n",
    "req=requests.get(url=url, params=params, headers=headers)\n",
    "audio_features=req.json()[\"audio_features\"][0]\n",
    "print(\"The song has a duration of %.3f seconds, with %d BPM, and it is in %s %s\"\n",
    "      %(audio_features[\"duration_ms\"]/1000, audio_features[\"tempo\"], \n",
    "          key_tonal[audio_features[\"key\"]], modes[audio_features[\"mode\"]]))\n",
    "for feature in [\"danceability\", \"energy\", \"speechiness\", \n",
    "                \"acousticness\",\"liveness\",\"instrumentalness\",\"valence\"]:\n",
    "    print(\"The %s of the song is %.1f %%\"%(feature, 100*audio_features[feature]))\n",
    "\n"
   ]
  },
  {
   "cell_type": "markdown",
   "metadata": {},
   "source": [
    "# Audio Analysis\n",
    "We can get the audio analysis, which is a more complete analysis that includes even single beats and chords.\n",
    "\n",
    "Audio Analysis is documented [here](https://developer.spotify.com/console/get-audio-analysis-track/)\n",
    "\n",
    "For example, let's track the beat instants during the song\n"
   ]
  },
  {
   "cell_type": "code",
   "execution_count": 81,
   "metadata": {},
   "outputs": [],
   "source": [
    "audio_analysis_url=audio_features[\"analysis_url\"]\n",
    "req=requests.get(url=audio_analysis_url, headers=headers)\n",
    "#audio_features=req.json()[\"audio_features\"][0]\n",
    "beats=req.json()[\"beats\"]"
   ]
  },
  {
   "cell_type": "code",
   "execution_count": 87,
   "metadata": {},
   "outputs": [
    {
     "data": {
      "image/png": "[encoded data removed]",
      "text/plain": [
       "<Figure size 1152x432 with 1 Axes>"
      ]
     },
     "metadata": {
      "needs_background": "light"
     },
     "output_type": "display_data"
    }
   ],
   "source": [
    "t=np.arange(0,audio_features[\"duration_ms\"]/1000,0.01)\n",
    "beat_array=np.zeros(t.shape)\n",
    "for b in beats:\n",
    "    beat_array[np.argmin(np.abs(t-b[\"start\"]))]=1\n",
    "plt.figure(figsize=(16,6))\n",
    "plt.plot(t, beat_array)\n",
    "plt.xlim([0,10])\n",
    "plt.show()\n"
   ]
  }
 ],
 "metadata": {
  "kernelspec": {
   "display_name": "Python 3",
   "language": "python",
   "name": "python3"
  },
  "language_info": {
   "codemirror_mode": {
    "name": "ipython",
    "version": 3
   },
   "file_extension": ".py",
   "mimetype": "text/x-python",
   "name": "python",
   "nbconvert_exporter": "python",
   "pygments_lexer": "ipython3",
   "version": "3.6.6"
  }
 },
 "nbformat": 4,
 "nbformat_minor": 2
}
